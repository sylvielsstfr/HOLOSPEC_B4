{
 "cells": [
  {
   "cell_type": "markdown",
   "metadata": {},
   "source": [
    "# Make an Excel Ray file for Beam4\n",
    "\n",
    "\n",
    "- Geometry : Auxiliary Telescope Geometry of Optical for CTIO 0.9 m "
   ]
  },
  {
   "cell_type": "markdown",
   "metadata": {},
   "source": [
    "- author : Sylvie Dagoret-Campagne\n",
    "- affiliation : LAL/IN2P3/CNRS\n",
    "- date : February 28th 2017\n",
    "- update : March 15th 2017\n",
    "- update : May 2020\n",
    "\n",
    "Simple 2D optical geometry for the optical setup of CTIO 0.9m telescope with Ronchi Grating.\n",
    "This is a tool to adjust the CCD position wrt Filter wheel.\n",
    "Here 4 wavelength are generated.\n",
    "The source incident angle must be provided in terms of angles $(\\alpha_x,\\alpha_y)$.\n",
    "\n",
    "\n",
    "This is a python notebook (not a sagemath notebook)\n",
    "- command:\n",
    "** ipython notebook **"
   ]
  },
  {
   "cell_type": "code",
   "execution_count": 1,
   "metadata": {},
   "outputs": [],
   "source": [
    "%matplotlib inline\n",
    "import matplotlib.pyplot as plt\n",
    "import numpy as np\n",
    "import os\n",
    "import matplotlib as mpl\n",
    "import pandas as pd\n",
    "import itertools"
   ]
  },
  {
   "cell_type": "code",
   "execution_count": 2,
   "metadata": {},
   "outputs": [],
   "source": [
    "# to enlarge the sizes\n",
    "params = {'legend.fontsize': 'x-large',\n",
    "          'figure.figsize': (8, 8),\n",
    "         'axes.labelsize': 'x-large',\n",
    "         'axes.titlesize':'x-large',\n",
    "         'xtick.labelsize':'x-large',\n",
    "         'ytick.labelsize':'x-large'}\n",
    "plt.rcParams.update(params)\n"
   ]
  },
  {
   "cell_type": "markdown",
   "metadata": {},
   "source": [
    "## Output filename and desired wavelength"
   ]
  },
  {
   "cell_type": "code",
   "execution_count": 3,
   "metadata": {},
   "outputs": [],
   "source": [
    "root_filename=\"Beam4_Rayfile_\""
   ]
  },
  {
   "cell_type": "code",
   "execution_count": 4,
   "metadata": {},
   "outputs": [],
   "source": [
    "# number of rays\n",
    "NBEAM_X=11\n",
    "NBEAM_Y=11\n",
    "NBEAM=NBEAM_X*NBEAM_Y\n",
    "NWL=4"
   ]
  },
  {
   "cell_type": "code",
   "execution_count": 5,
   "metadata": {},
   "outputs": [],
   "source": [
    "Wavelength_B=0.0004\n",
    "Wavelength_G=0.0006\n",
    "Wavelength_R=0.0008\n",
    "Wavelength_I=0.001"
   ]
  },
  {
   "cell_type": "code",
   "execution_count": 6,
   "metadata": {},
   "outputs": [],
   "source": [
    "theta_x=0  # angle in arcmin\n",
    "#theta_x=0.045*60.  # target offset in arcmin\n",
    "theta_y=0  # angle in arcmin "
   ]
  },
  {
   "cell_type": "code",
   "execution_count": 7,
   "metadata": {},
   "outputs": [],
   "source": [
    "theta_x_num=int(theta_x*10)\n",
    "theta_y_num=int(theta_y*10)"
   ]
  },
  {
   "cell_type": "code",
   "execution_count": 8,
   "metadata": {},
   "outputs": [],
   "source": [
    "if theta_x_num>0:\n",
    "    theta_nstr='{:0>2}'.format(theta_x_num)\n",
    "    theta_x_str=\"p\"+theta_nstr\n",
    "else:\n",
    "    theta_nstr='{:0>2}'.format(-theta_x_num)\n",
    "    theta_x_str=\"m\"+theta_nstr"
   ]
  },
  {
   "cell_type": "code",
   "execution_count": 9,
   "metadata": {},
   "outputs": [],
   "source": [
    "if theta_y_num>0:\n",
    "    theta_nstr='{:0>2}'.format(theta_y_num)\n",
    "    theta_y_str=\"p\"+theta_nstr\n",
    "else:\n",
    "    theta_nstr='{:0>2}'.format(-theta_y_num)\n",
    "    theta_y_str=\"m\"+theta_nstr"
   ]
  },
  {
   "cell_type": "code",
   "execution_count": 10,
   "metadata": {},
   "outputs": [],
   "source": [
    "Beam4_Rayfile_EXCEL=\"Beam4_Rayfile_{:d}_allwl_{}_{}.xlsx\".format(NBEAM*NWL,theta_x_str,theta_y_str)\n",
    "Beam4_Rayfile_RAY=\"Beam4_Rayfile_{:d}_allwl_{}_{}.RAY\".format(NBEAM*NWL,theta_x_str,theta_y_str)"
   ]
  },
  {
   "cell_type": "code",
   "execution_count": 11,
   "metadata": {},
   "outputs": [
    {
     "data": {
      "text/plain": [
       "'Beam4_Rayfile_484_allwl_m00_m00.RAY'"
      ]
     },
     "execution_count": 11,
     "metadata": {},
     "output_type": "execute_result"
    }
   ],
   "source": [
    "Beam4_Rayfile_RAY"
   ]
  },
  {
   "cell_type": "markdown",
   "metadata": {},
   "source": [
    "## Constants for conversions"
   ]
  },
  {
   "cell_type": "code",
   "execution_count": 12,
   "metadata": {},
   "outputs": [],
   "source": [
    "m_to_mm=1000.\n",
    "mm_to_m=1e-3\n",
    "inch_to_mm=25.4\n",
    "mm_to_inch=1./inch_to_mm\n",
    "micr_to_m=1e-6\n",
    "micr_to_mm=1e-3\n",
    "m_to_micr=1./micr_to_m\n",
    "m_to_cm=100.\n",
    "m_to_nm=1e9\n",
    "nm_to_m=1./m_to_nm"
   ]
  },
  {
   "cell_type": "code",
   "execution_count": 13,
   "metadata": {},
   "outputs": [],
   "source": [
    "arcdeg_to_arcmin=60.\n",
    "arcmin_to_arcdeg=1./arcdeg_to_arcmin\n",
    "arcmin_to_arcsec=60.\n",
    "arcdeg_to_arcsec=arcdeg_to_arcmin*arcmin_to_arcsec\n",
    "arcsec_to_arcdeg=1./arcdeg_to_arcsec"
   ]
  },
  {
   "cell_type": "code",
   "execution_count": 14,
   "metadata": {},
   "outputs": [],
   "source": [
    "deg_to_rad=np.pi/180."
   ]
  },
  {
   "cell_type": "code",
   "execution_count": 15,
   "metadata": {},
   "outputs": [],
   "source": [
    "rad_to_deg=1./deg_to_rad\n",
    "rad_to_arcsec=rad_to_deg*arcdeg_to_arcsec\n",
    "rad_to_arcmin=rad_to_deg*arcdeg_to_arcmin\n",
    "arcmin_to_rad=1./rad_to_arcmin"
   ]
  },
  {
   "cell_type": "markdown",
   "metadata": {},
   "source": [
    "## Configuration parameters at the telescope\n",
    "--------------------------------------------------------"
   ]
  },
  {
   "cell_type": "markdown",
   "metadata": {},
   "source": [
    "#### Telescope"
   ]
  },
  {
   "cell_type": "code",
   "execution_count": 16,
   "metadata": {},
   "outputs": [],
   "source": [
    "#Tel_Focal_Length=12.6 # m : Focal length of the telescope\n",
    "#Tel_Diameter=0.9 # m : Diameter of the telescope    \n",
    "\n",
    "Tel_Focal_Length=21.6 # m : Focal length of the telescope\n",
    "Tel_Diameter=1.2 # m : Diameter of the telesco"
   ]
  },
  {
   "cell_type": "code",
   "execution_count": 17,
   "metadata": {},
   "outputs": [],
   "source": [
    "Tel_Fnum=Tel_Focal_Length/Tel_Diameter"
   ]
  },
  {
   "cell_type": "code",
   "execution_count": 18,
   "metadata": {},
   "outputs": [
    {
     "name": "stdout",
     "output_type": "stream",
     "text": [
      "Aperture/D =  18.000000000000004 \n"
     ]
    }
   ],
   "source": [
    "print(\"Aperture/D =  {} \".format(Tel_Fnum))"
   ]
  },
  {
   "cell_type": "code",
   "execution_count": 19,
   "metadata": {},
   "outputs": [],
   "source": [
    "alpha=Tel_Diameter/2./Tel_Focal_Length"
   ]
  },
  {
   "cell_type": "code",
   "execution_count": 20,
   "metadata": {},
   "outputs": [
    {
     "name": "stdout",
     "output_type": "stream",
     "text": [
      "Beam half angle alpha= 1.5915494309189533 degree\n"
     ]
    }
   ],
   "source": [
    "print(\"Beam half angle alpha= {} degree\".format(alpha*rad_to_deg))"
   ]
  },
  {
   "cell_type": "markdown",
   "metadata": {},
   "source": [
    "#### Filter"
   ]
  },
  {
   "cell_type": "code",
   "execution_count": 21,
   "metadata": {},
   "outputs": [],
   "source": [
    "#Filt_D=0.05769 # m distance of the filter position wrt CCD plane\n",
    "#Filt_size=3*inch_to_mm\n",
    "\n",
    "Filt_D=0.265 # m distance of the rotator plane wrt CCD plane\n",
    "Filt_size=3*inch_to_mm"
   ]
  },
  {
   "cell_type": "code",
   "execution_count": 22,
   "metadata": {},
   "outputs": [
    {
     "data": {
      "text/plain": [
       "76.19999999999999"
      ]
     },
     "execution_count": 22,
     "metadata": {},
     "output_type": "execute_result"
    }
   ],
   "source": [
    "Filt_size"
   ]
  },
  {
   "cell_type": "markdown",
   "metadata": {},
   "source": [
    "#### Hologram"
   ]
  },
  {
   "cell_type": "code",
   "execution_count": 23,
   "metadata": {},
   "outputs": [],
   "source": [
    "Holo_D=-0.200 # m distance to the CCD plane"
   ]
  },
  {
   "cell_type": "markdown",
   "metadata": {},
   "source": [
    "#### CCD Detector"
   ]
  },
  {
   "cell_type": "code",
   "execution_count": 24,
   "metadata": {},
   "outputs": [],
   "source": [
    "#Det_xpic=24.0 # microns per pixel\n",
    "#Det_NbPix=2048 # number of pixels per CCD side\n",
    "#Det_size=Det_xpic*Det_NbPix*1e-3 # CCD size in mm, 5 cm or 2 inches\n",
    "\n",
    "Det_xpic=10.0 # microns per pixel\n",
    "Det_NbPix=4096 # number of pixels per CCD side\n",
    "Det_size=Det_xpic*Det_NbPix*micr_to_mm # CCD size in mm, 5 cm or 2 inches"
   ]
  },
  {
   "cell_type": "code",
   "execution_count": 25,
   "metadata": {},
   "outputs": [
    {
     "name": "stdout",
     "output_type": "stream",
     "text": [
      "Detecteur size = 40.96 mm\n"
     ]
    }
   ],
   "source": [
    "print('Detecteur size = {} mm'.format(Det_size))"
   ]
  },
  {
   "cell_type": "code",
   "execution_count": 26,
   "metadata": {},
   "outputs": [],
   "source": [
    "Det_pix_angl=Det_xpic*micr_to_m/Tel_Focal_Length   # in radian"
   ]
  },
  {
   "cell_type": "code",
   "execution_count": 27,
   "metadata": {},
   "outputs": [
    {
     "name": "stdout",
     "output_type": "stream",
     "text": [
      "pixel viewing angle in arcsec =  0.0954929658551372\n"
     ]
    }
   ],
   "source": [
    "print(\"pixel viewing angle in arcsec = \", Det_pix_angl*rad_to_deg*arcdeg_to_arcsec)"
   ]
  },
  {
   "cell_type": "code",
   "execution_count": 28,
   "metadata": {},
   "outputs": [],
   "source": [
    "fov =Det_pix_angl*Det_NbPix*rad_to_arcmin"
   ]
  },
  {
   "cell_type": "code",
   "execution_count": 29,
   "metadata": {},
   "outputs": [
    {
     "name": "stdout",
     "output_type": "stream",
     "text": [
      "Full FOV = 6.518986469044032 arcmin\n"
     ]
    }
   ],
   "source": [
    "print('Full FOV = {} arcmin'.format(fov))"
   ]
  },
  {
   "cell_type": "code",
   "execution_count": 30,
   "metadata": {},
   "outputs": [],
   "source": [
    "theta_fov_max=30.\n",
    "theta_fov_min=-30."
   ]
  },
  {
   "cell_type": "markdown",
   "metadata": {},
   "source": [
    "## Location of the source in the field of view\n",
    "\n",
    "The Field of view of the delescope is 13.6 arcmin\n",
    "\n",
    "\n",
    "- ($\\theta_x, \\theta_y$) in arcmin to be specified\n",
    "- ($\\alpha_x, \\alpha_y$) in radian calculated "
   ]
  },
  {
   "cell_type": "code",
   "execution_count": 31,
   "metadata": {},
   "outputs": [],
   "source": [
    "#theta_max=30\n",
    "#theta_max=-30"
   ]
  },
  {
   "cell_type": "code",
   "execution_count": 32,
   "metadata": {},
   "outputs": [],
   "source": [
    "#alpha_x=theta_x*arcmin_ro_rad\n",
    "#alpha_y=theta_y*arcmin_ro_rad"
   ]
  },
  {
   "cell_type": "code",
   "execution_count": null,
   "metadata": {},
   "outputs": [],
   "source": []
  },
  {
   "cell_type": "markdown",
   "metadata": {},
   "source": [
    "### Off axis angle in radian"
   ]
  },
  {
   "cell_type": "code",
   "execution_count": 33,
   "metadata": {},
   "outputs": [],
   "source": [
    "theta_x=theta_x*arcmin_to_rad\n",
    "theta_y=theta_y*arcmin_to_rad"
   ]
  },
  {
   "cell_type": "code",
   "execution_count": 34,
   "metadata": {},
   "outputs": [
    {
     "name": "stdout",
     "output_type": "stream",
     "text": [
      "theta_x = 0.0 rad \n",
      "theta_y = 0.0 rad \n"
     ]
    }
   ],
   "source": [
    "print('theta_x = {} rad '.format(theta_x))\n",
    "print('theta_y = {} rad '.format(theta_y))"
   ]
  },
  {
   "cell_type": "markdown",
   "metadata": {},
   "source": [
    "### Angles of upper (1) and lower (2) rays"
   ]
  },
  {
   "cell_type": "code",
   "execution_count": 35,
   "metadata": {},
   "outputs": [],
   "source": [
    "#tan_beta1_x=np.tan(alpha)+np.tan(theta_x)\n",
    "#tan_beta2_x=np.tan(alpha)-np.tan(theta_x)\n",
    "tan_beta1_x=np.tan(alpha+theta_x)\n",
    "tan_beta2_x=np.tan(alpha-theta_x)"
   ]
  },
  {
   "cell_type": "code",
   "execution_count": 36,
   "metadata": {},
   "outputs": [
    {
     "name": "stdout",
     "output_type": "stream",
     "text": [
      "beta1_x = 0.02778492447372542 rad \n",
      "beta2_x = 0.02778492447372542 rad \n"
     ]
    }
   ],
   "source": [
    "print('beta1_x = {} rad '.format(tan_beta1_x))\n",
    "print('beta2_x = {} rad '.format(tan_beta2_x))"
   ]
  },
  {
   "cell_type": "code",
   "execution_count": 37,
   "metadata": {},
   "outputs": [],
   "source": [
    "#tan_beta1_y=np.tan(alpha)+np.tan(theta_y)\n",
    "#tan_beta2_y=np.tan(alpha)-np.tan(theta_y)\n",
    "tan_beta1_y=np.tan(alpha+theta_y)\n",
    "tan_beta2_y=np.tan(alpha-theta_y)"
   ]
  },
  {
   "cell_type": "code",
   "execution_count": 38,
   "metadata": {},
   "outputs": [
    {
     "name": "stdout",
     "output_type": "stream",
     "text": [
      "beta1_y = 0.02778492447372542 rad \n",
      "beta2_y = 0.02778492447372542 rad \n"
     ]
    }
   ],
   "source": [
    "print('beta1_y = {} rad '.format(tan_beta1_y))\n",
    "print('beta2_y = {} rad '.format(tan_beta2_y))"
   ]
  },
  {
   "cell_type": "code",
   "execution_count": 39,
   "metadata": {},
   "outputs": [],
   "source": [
    "beta1_x=np.arctan(tan_beta1_x)\n",
    "beta2_x=np.arctan(tan_beta2_x)\n",
    "beta1_y=np.arctan(tan_beta1_y)\n",
    "beta2_y=np.arctan(tan_beta2_y)"
   ]
  },
  {
   "cell_type": "markdown",
   "metadata": {},
   "source": [
    "## Where to start the tracking of rays\n",
    "\n",
    "- Units in mm\n",
    "- The origin is where the optical effective conveging system start at O(0,0,0)\n",
    "- (X0,Y0,Z0) : coordinates of Beam rays starting points"
   ]
  },
  {
   "cell_type": "code",
   "execution_count": 40,
   "metadata": {},
   "outputs": [],
   "source": [
    "#D0=Filt_D*m_to_mm  # distance between plane where the trcking beam start"
   ]
  },
  {
   "cell_type": "code",
   "execution_count": 41,
   "metadata": {},
   "outputs": [],
   "source": [
    "Z00=-Filt_D*m_to_mm  # distance between plane where the trcking beam start. Origin in Z at FP"
   ]
  },
  {
   "cell_type": "code",
   "execution_count": 42,
   "metadata": {},
   "outputs": [
    {
     "data": {
      "text/plain": [
       "-265.0"
      ]
     },
     "execution_count": 42,
     "metadata": {},
     "output_type": "execute_result"
    }
   ],
   "source": [
    "Z00"
   ]
  },
  {
   "cell_type": "markdown",
   "metadata": {},
   "source": [
    "### (X,Y) coordinate of the focal point of the inclined beam in the focal plane\n",
    "\n",
    "- notice $(X0P,Y0P)$ will be used as the origin of the new coordinate system"
   ]
  },
  {
   "cell_type": "code",
   "execution_count": 43,
   "metadata": {},
   "outputs": [],
   "source": [
    "X0P=-Tel_Focal_Length*m_to_mm*np.tan(theta_x)\n",
    "Y0P=-Tel_Focal_Length*m_to_mm*np.tan(theta_y)"
   ]
  },
  {
   "cell_type": "code",
   "execution_count": 44,
   "metadata": {},
   "outputs": [
    {
     "name": "stdout",
     "output_type": "stream",
     "text": [
      "Coordinate of central ray in the Focal plane (-0.00,-0) in mm\n"
     ]
    }
   ],
   "source": [
    "print(\"Coordinate of central ray in the Focal plane ({:2.2f},{:2.0f}) in mm\".format(X0P,Y0P))"
   ]
  },
  {
   "cell_type": "markdown",
   "metadata": {},
   "source": [
    "### (X,Y) coordinate of central ray where the beam tracking start\n",
    "\n",
    "- notice $(X0P,Y0P)$ will be used as the origin of the new coordinate system"
   ]
  },
  {
   "cell_type": "code",
   "execution_count": 45,
   "metadata": {},
   "outputs": [],
   "source": [
    "X00=X0P-Z00*np.sin(theta_x)  # central beam\n",
    "Y00=Y0P-Z00*np.sin(theta_y)  # central beam"
   ]
  },
  {
   "cell_type": "code",
   "execution_count": 46,
   "metadata": {},
   "outputs": [
    {
     "name": "stdout",
     "output_type": "stream",
     "text": [
      "Coordinate of central ray where tracking start (0.00, 0) in mm\n"
     ]
    }
   ],
   "source": [
    "print(\"Coordinate of central ray where tracking start ({:2.2f},{:2.0f}) in mm\".format(X00,Y00))"
   ]
  },
  {
   "cell_type": "markdown",
   "metadata": {},
   "source": [
    "### X-up, X-down position where the beam start"
   ]
  },
  {
   "cell_type": "code",
   "execution_count": 47,
   "metadata": {},
   "outputs": [],
   "source": [
    "X01=X0P-Z00*np.sin(beta1_x)\n",
    "X02=X0P+Z00*np.sin(beta2_x)"
   ]
  },
  {
   "cell_type": "code",
   "execution_count": 48,
   "metadata": {},
   "outputs": [
    {
     "name": "stdout",
     "output_type": "stream",
     "text": [
      "X01= 7.36016450268482 mm , X00 = 0.0 mm , X02= -7.36016450268482 mm\n"
     ]
    }
   ],
   "source": [
    "print(\"X01= {} mm , X00 = {} mm , X02= {} mm\".format( X01, X00, X02))"
   ]
  },
  {
   "cell_type": "code",
   "execution_count": 49,
   "metadata": {},
   "outputs": [],
   "source": [
    "Y01=Y0P-Z00*np.sin(beta1_y)\n",
    "Y02=Y0P+Z00*np.sin(beta2_y)"
   ]
  },
  {
   "cell_type": "code",
   "execution_count": 50,
   "metadata": {},
   "outputs": [
    {
     "name": "stdout",
     "output_type": "stream",
     "text": [
      "Y01= 7.36016450268482 mm , Y00 = 0.0 mm , Y02= -7.36016450268482 mm\n"
     ]
    }
   ],
   "source": [
    "print(\"Y01= {} mm , Y00 = {} mm , Y02= {} mm\".format( Y01, Y00, Y02))"
   ]
  },
  {
   "cell_type": "code",
   "execution_count": 51,
   "metadata": {},
   "outputs": [],
   "source": [
    "XMIN=X02\n",
    "XMAX=X01"
   ]
  },
  {
   "cell_type": "code",
   "execution_count": 52,
   "metadata": {},
   "outputs": [],
   "source": [
    "YMIN=Y02\n",
    "YMAX=Y01"
   ]
  },
  {
   "cell_type": "code",
   "execution_count": 53,
   "metadata": {},
   "outputs": [],
   "source": [
    "#Z0=Tel_Focal_Length*m_to_mm"
   ]
  },
  {
   "cell_type": "code",
   "execution_count": 54,
   "metadata": {},
   "outputs": [],
   "source": [
    "#Z0"
   ]
  },
  {
   "cell_type": "code",
   "execution_count": 55,
   "metadata": {},
   "outputs": [],
   "source": [
    "#Z1=Z0-2.*D0  # please set where you want to start the beam"
   ]
  },
  {
   "cell_type": "code",
   "execution_count": 56,
   "metadata": {},
   "outputs": [],
   "source": [
    "#Z1"
   ]
  },
  {
   "cell_type": "code",
   "execution_count": 57,
   "metadata": {},
   "outputs": [],
   "source": [
    "#XMIN=-Tel_Diameter*m_to_mm/(2.*np.sqrt(2.))\n",
    "#XMAX=Tel_Diameter*m_to_mm/(2.*np.sqrt(2.))"
   ]
  },
  {
   "cell_type": "code",
   "execution_count": 58,
   "metadata": {},
   "outputs": [],
   "source": [
    "#YMIN=-Tel_Diameter*m_to_mm/(2.*np.sqrt(2.))\n",
    "#YMAX=Tel_Diameter*m_to_mm/(2.*np.sqrt(2.))"
   ]
  },
  {
   "cell_type": "markdown",
   "metadata": {},
   "source": [
    "# Populate the starting tracking surface uniformily with a square beam rays"
   ]
  },
  {
   "cell_type": "code",
   "execution_count": 59,
   "metadata": {},
   "outputs": [],
   "source": [
    "X = np.linspace(XMIN, XMAX, NBEAM_X)\n",
    "Y = np.linspace(YMIN, YMAX, NBEAM_Y)\n",
    "XX, YY = np.meshgrid(X, Y)"
   ]
  },
  {
   "cell_type": "markdown",
   "metadata": {},
   "source": [
    "## coordinates of rays where tracking start"
   ]
  },
  {
   "cell_type": "code",
   "execution_count": 60,
   "metadata": {},
   "outputs": [],
   "source": [
    "XX0=XX\n",
    "YY0=YY"
   ]
  },
  {
   "cell_type": "markdown",
   "metadata": {},
   "source": [
    "## Check the position of rays at start tracking surface"
   ]
  },
  {
   "cell_type": "code",
   "execution_count": 61,
   "metadata": {},
   "outputs": [],
   "source": [
    "pts = itertools.product(X, Y)"
   ]
  },
  {
   "cell_type": "code",
   "execution_count": 62,
   "metadata": {},
   "outputs": [
    {
     "data": {
      "text/plain": [
       "Text(0.5, 1.0, 'Impact points where the tracking start')"
      ]
     },
     "execution_count": 62,
     "metadata": {},
     "output_type": "execute_result"
    },
    {
     "data": {
      "image/png": "[encoded data removed]",
      "text/plain": [
       "<Figure size 576x576 with 1 Axes>"
      ]
     },
     "metadata": {
      "needs_background": "light"
     },
     "output_type": "display_data"
    }
   ],
   "source": [
    "plt.grid()\n",
    "plt.scatter(*zip(*pts), marker='o', s=30, color='red')\n",
    "plt.xlabel(\"X mm\")\n",
    "plt.ylabel(\"Y mm \")\n",
    "plt.title(\"Impact points where the tracking start\")"
   ]
  },
  {
   "cell_type": "code",
   "execution_count": 63,
   "metadata": {},
   "outputs": [
    {
     "data": {
      "text/plain": [
       "Text(0.5, 1.0, 'Impact points where the tracking start')"
      ]
     },
     "execution_count": 63,
     "metadata": {},
     "output_type": "execute_result"
    },
    {
     "data": {
      "image/png": "[encoded data removed]",
      "text/plain": [
       "<Figure size 576x576 with 1 Axes>"
      ]
     },
     "metadata": {
      "needs_background": "light"
     },
     "output_type": "display_data"
    }
   ],
   "source": [
    "plt.scatter(XX,YY, marker='o', s=30, color='red')\n",
    "#plt.ylim(YMIN,YMAX)\n",
    "#plt.xlim(XMIN,XMAX)\n",
    "plt.grid()\n",
    "plt.xlabel(\"X mm\")\n",
    "plt.ylabel(\"Y mm \")\n",
    "plt.title(\"Impact points where the tracking start\")"
   ]
  },
  {
   "cell_type": "markdown",
   "metadata": {},
   "source": [
    "## Check the position of rays at start tracking surface"
   ]
  },
  {
   "cell_type": "code",
   "execution_count": 64,
   "metadata": {},
   "outputs": [],
   "source": [
    "#def GetCosinusDirector(X,Y,thealpha_x,thealpha_y,f):\n",
    "#    \"\"\"\n",
    "#    The size of X,Y is the number of Rays\n",
    "#    \"\"\"\n",
    "      \n",
    "#    Norm=np.sqrt( np.power(X+f*np.tan(thealpha_x),2) + np.power(Y+f*np.tan(thealpha_y),2)+ f**2)\n",
    "#    UX=-(X+f*np.tan(thealpha_x))/Norm\n",
    "#    UY=-(Y+f*np.tan(thealpha_y))/Norm\n",
    "#    UZ=f/Norm\n",
    "#    return UX,UY,UZ    \n",
    "    "
   ]
  },
  {
   "cell_type": "code",
   "execution_count": 65,
   "metadata": {},
   "outputs": [],
   "source": [
    "def GetCosinusDirector(X,Y,Z,X0,Y0):\n",
    "    \"\"\"   \n",
    "    Compute the cosinus director of each beam\n",
    "    \n",
    "    input :\n",
    "     X,Y,Z : the coordinate of the beam rays point (where the tracking start)\n",
    "             The size of X,Y,Z is the number of Rays\n",
    "             \n",
    "     X0,Y0 : the center of the beam (where the tracking start)\n",
    "     \n",
    "     output :\n",
    "     UX,UY,UZ : cosinus director of beam rays\n",
    "     \n",
    "    \"\"\"\n",
    "    \n",
    "    DeltaX=X0-X\n",
    "    DeltaY=Y0-Y\n",
    "    DeltaZ=-Z\n",
    "    \n",
    "    \n",
    "    Norm=np.sqrt( np.power(DeltaX,2) + np.power(DeltaY,2)+ DeltaZ**2)\n",
    "    UX=DeltaX/Norm\n",
    "    UY=DeltaY/Norm\n",
    "    UZ=DeltaZ/Norm\n",
    "    return UX,UY,UZ    "
   ]
  },
  {
   "cell_type": "markdown",
   "metadata": {},
   "source": [
    "## Check the beam is converging"
   ]
  },
  {
   "cell_type": "code",
   "execution_count": 66,
   "metadata": {},
   "outputs": [],
   "source": [
    "# Z00 coordinate where the tracking start\n",
    "# (X0P,Y0P) coordinate of the Focal point in Focal plane\n",
    "# (XX0,YY0,Z00) are the coordinate of rays at tracking start plane , in telescope reference coordinate system\n",
    "UX,UY,UZ=GetCosinusDirector(XX0,YY0,Z00,X0P,Y0P)"
   ]
  },
  {
   "cell_type": "code",
   "execution_count": 67,
   "metadata": {},
   "outputs": [
    {
     "data": {
      "text/plain": [
       "Text(0.5, 1.0, 'Vector field')"
      ]
     },
     "execution_count": 67,
     "metadata": {},
     "output_type": "execute_result"
    },
    {
     "data": {
      "image/png": "[encoded data removed]",
      "text/plain": [
       "<Figure size 576x576 with 1 Axes>"
      ]
     },
     "metadata": {
      "needs_background": "light"
     },
     "output_type": "display_data"
    }
   ],
   "source": [
    "plt.grid()\n",
    "q = plt.quiver(XX,YY,UX,UY,angles='xy',scale=0.5,color='r')\n",
    "plt.scatter(XX,YY, marker='o', s=10, color='black')\n",
    "plt.xlabel(\"X (mm)\")\n",
    "plt.ylabel(\"Y (mm)\")\n",
    "plt.title(\"Vector field\")"
   ]
  },
  {
   "cell_type": "markdown",
   "metadata": {},
   "source": [
    "## Check beam at hologram position"
   ]
  },
  {
   "cell_type": "code",
   "execution_count": 68,
   "metadata": {},
   "outputs": [],
   "source": [
    "def GetPointPosition(X,Y,DeltaZ,UX,UY,UZ):\n",
    "    k=DeltaZ/UZ\n",
    "    theX0=X+k*UX\n",
    "    theY0=Y+k*UY\n",
    "    return theX0,theY0"
   ]
  },
  {
   "cell_type": "code",
   "execution_count": 69,
   "metadata": {},
   "outputs": [],
   "source": [
    "Z1=-Holo_D*m_to_mm  # distance between p"
   ]
  },
  {
   "cell_type": "code",
   "execution_count": 70,
   "metadata": {},
   "outputs": [],
   "source": [
    "DeltaZ=Z1-Z00"
   ]
  },
  {
   "cell_type": "code",
   "execution_count": 71,
   "metadata": {},
   "outputs": [],
   "source": [
    "(X1,Y1)=GetPointPosition(XX0,YY0,DeltaZ,UX,UY,UZ)"
   ]
  },
  {
   "cell_type": "code",
   "execution_count": 72,
   "metadata": {},
   "outputs": [
    {
     "data": {
      "text/plain": [
       "Text(0.5, 1.0, 'Beam Impact point at the Hologram')"
      ]
     },
     "execution_count": 72,
     "metadata": {},
     "output_type": "execute_result"
    },
    {
     "data": {
      "image/png": "[encoded data removed]",
      "text/plain": [
       "<Figure size 576x576 with 1 Axes>"
      ]
     },
     "metadata": {
      "needs_background": "light"
     },
     "output_type": "display_data"
    }
   ],
   "source": [
    "plt.scatter(X1,Y1, marker='o', s=20, color='red')\n",
    "plt.grid()\n",
    "#plt.ylim(YMIN,YMAX)\n",
    "#plt.xlim(XMIN,XMAX)\n",
    "\n",
    "#plt.xlim(-Filt_size/2, Filt_size/2)\n",
    "#plt.ylim(-Filt_size/2, Filt_size/2)\n",
    "\n",
    "plt.xlabel(\"X\")\n",
    "plt.ylabel(\"Y\")\n",
    "plt.title(\"Beam Impact point at the Hologram\")"
   ]
  },
  {
   "cell_type": "markdown",
   "metadata": {},
   "source": [
    "## Check convergence"
   ]
  },
  {
   "cell_type": "code",
   "execution_count": 73,
   "metadata": {},
   "outputs": [],
   "source": [
    "Xout=XX0.flatten()\n",
    "Yout=YY0.flatten()"
   ]
  },
  {
   "cell_type": "code",
   "execution_count": 74,
   "metadata": {},
   "outputs": [],
   "source": [
    "Uout=UX.flatten()\n",
    "Vout=UY.flatten()\n",
    "Wout=UZ.flatten()"
   ]
  },
  {
   "cell_type": "code",
   "execution_count": 75,
   "metadata": {},
   "outputs": [],
   "source": [
    "Zout=np.zeros(NBEAM)+Z00"
   ]
  },
  {
   "cell_type": "markdown",
   "metadata": {},
   "source": [
    "### Beam in X-Z plane"
   ]
  },
  {
   "cell_type": "code",
   "execution_count": 76,
   "metadata": {},
   "outputs": [
    {
     "data": {
      "text/plain": [
       "Text(0.5, 1.0, 'Converging Beam X vs Z')"
      ]
     },
     "execution_count": 76,
     "metadata": {},
     "output_type": "execute_result"
    },
    {
     "data": {
      "image/png": "[encoded data removed]",
      "text/plain": [
       "<Figure size 1440x432 with 1 Axes>"
      ]
     },
     "metadata": {
      "needs_background": "light"
     },
     "output_type": "display_data"
    }
   ],
   "source": [
    "plt.figure(figsize=(20,6))\n",
    "for idx in np.arange(NBEAM):\n",
    "    Xfinal=Xout[idx]-Zout[idx]*Uout[idx]/Wout[idx]\n",
    "    plt.plot([Zout[idx],0],[Xout[idx],Xfinal])\n",
    "plt.grid()\n",
    "plt.ylabel(\"X\")\n",
    "plt.xlabel(\"Z\")\n",
    "plt.title(\"Converging Beam X vs Z\")"
   ]
  },
  {
   "cell_type": "markdown",
   "metadata": {},
   "source": [
    "### Beam in Y-Z plane"
   ]
  },
  {
   "cell_type": "code",
   "execution_count": 77,
   "metadata": {},
   "outputs": [
    {
     "data": {
      "text/plain": [
       "Text(0.5, 1.0, 'Converging Beam Y vs Z')"
      ]
     },
     "execution_count": 77,
     "metadata": {},
     "output_type": "execute_result"
    },
    {
     "data": {
      "image/png": "[encoded data removed]",
      "text/plain": [
       "<Figure size 1440x432 with 1 Axes>"
      ]
     },
     "metadata": {
      "needs_background": "light"
     },
     "output_type": "display_data"
    }
   ],
   "source": [
    "plt.figure(figsize=(20,6))\n",
    "for idx in np.arange(NBEAM):\n",
    "    Yfinal=Yout[idx]-Zout[idx]*Vout[idx]/Wout[idx]\n",
    "    plt.plot([Zout[idx],0],[Yout[idx],Yfinal])\n",
    "plt.grid()\n",
    "plt.ylabel(\"Y\")\n",
    "plt.xlabel(\"Z\")\n",
    "plt.title(\"Converging Beam Y vs Z\")"
   ]
  },
  {
   "cell_type": "markdown",
   "metadata": {},
   "source": [
    "## Create Dataframe"
   ]
  },
  {
   "cell_type": "code",
   "execution_count": 78,
   "metadata": {},
   "outputs": [],
   "source": [
    "df = pd.DataFrame()"
   ]
  },
  {
   "cell_type": "code",
   "execution_count": 79,
   "metadata": {},
   "outputs": [],
   "source": [
    "Zout=np.zeros(NBEAM)"
   ]
  },
  {
   "cell_type": "code",
   "execution_count": 80,
   "metadata": {},
   "outputs": [],
   "source": [
    "allXout=np.concatenate((Xout,Xout,Xout,Xout))\n",
    "allYout=np.concatenate((Yout,Yout,Yout,Yout))\n",
    "allZout=np.concatenate((Zout,Zout,Zout,Zout))"
   ]
  },
  {
   "cell_type": "code",
   "execution_count": 81,
   "metadata": {},
   "outputs": [],
   "source": [
    "allUout=np.concatenate((Uout,Uout,Uout,Uout))\n",
    "allVout=np.concatenate((Vout,Vout,Vout,Vout))\n",
    "allWout=np.concatenate((Wout,Wout,Wout,Wout))"
   ]
  },
  {
   "cell_type": "code",
   "execution_count": 82,
   "metadata": {},
   "outputs": [],
   "source": [
    "wave_b=Wavelength_B*np.ones(NBEAM)\n",
    "color_b = np.chararray(NBEAM)\n",
    "color_b[:]='b'"
   ]
  },
  {
   "cell_type": "code",
   "execution_count": 83,
   "metadata": {},
   "outputs": [],
   "source": [
    "wave_g=Wavelength_G*np.ones(NBEAM)\n",
    "color_g = np.chararray(NBEAM)\n",
    "color_g[:]='g'"
   ]
  },
  {
   "cell_type": "code",
   "execution_count": 84,
   "metadata": {},
   "outputs": [],
   "source": [
    "wave_r=Wavelength_R*np.ones(NBEAM)\n",
    "color_r = np.chararray(NBEAM)\n",
    "color_r[:]='r'"
   ]
  },
  {
   "cell_type": "code",
   "execution_count": 85,
   "metadata": {},
   "outputs": [],
   "source": [
    "wave_i=Wavelength_I*np.ones(NBEAM)\n",
    "color_i = np.chararray(NBEAM)\n",
    "color_i[:]='k'"
   ]
  },
  {
   "cell_type": "code",
   "execution_count": 86,
   "metadata": {},
   "outputs": [],
   "source": [
    "Wave=np.concatenate((wave_b,wave_g,wave_r,wave_i))"
   ]
  },
  {
   "cell_type": "code",
   "execution_count": 87,
   "metadata": {},
   "outputs": [],
   "source": [
    "allcolor=np.concatenate((color_b,color_g,color_r,color_i))"
   ]
  },
  {
   "cell_type": "code",
   "execution_count": 88,
   "metadata": {},
   "outputs": [],
   "source": [
    "df[\"X0\"]=allXout\n",
    "df[\"Y0\"]=allYout\n",
    "df[\"Z0\"]=allZout\n",
    "df[\"U0\"]=allUout\n",
    "df[\"V0\"]=allVout\n",
    "df[\"W0\"]=allWout\n",
    "df[\"wave\"]=Wave\n",
    "df[\"col\"]=allcolor\n",
    "df[\"X1\"]= np.zeros(NWL*NBEAM) \n",
    "df[\"Y1\"]= np.zeros(NWL*NBEAM) \n",
    "df[\"Z1\"]= np.zeros(NWL*NBEAM) \n",
    "df[\"X2\"]= np.zeros(NWL*NBEAM) \n",
    "df[\"Y2\"]= np.zeros(NWL*NBEAM) \n",
    "df[\"Z2\"]= np.zeros(NWL*NBEAM) \n",
    "df[\"X3\"]= np.zeros(NWL*NBEAM) \n",
    "df[\"Y3\"]= np.zeros(NWL*NBEAM) \n",
    "df[\"Z3\"]= np.zeros(NWL*NBEAM)\n",
    "df[\"Xgoal\"]= np.zeros(NWL*NBEAM)   # required for AutoAdjust\n",
    "df[\"Ygoal\"]= np.zeros(NWL*NBEAM) \n",
    "df[\"Xfinal\"]= np.zeros(NWL*NBEAM) \n",
    "df[\"Yfinal\"]= np.zeros(NWL*NBEAM) \n",
    "df[\"Zfinal\"]= -np.ones(NWL*NBEAM)*Z00"
   ]
  },
  {
   "cell_type": "code",
   "execution_count": 89,
   "metadata": {},
   "outputs": [
    {
     "data": {
      "text/html": [
       "<div>\n",
       "<style scoped>\n",
       "    .dataframe tbody tr th:only-of-type {\n",
       "        vertical-align: middle;\n",
       "    }\n",
       "\n",
       "    .dataframe tbody tr th {\n",
       "        vertical-align: top;\n",
       "    }\n",
       "\n",
       "    .dataframe thead th {\n",
       "        text-align: right;\n",
       "    }\n",
       "</style>\n",
       "<table border=\"1\" class=\"dataframe\">\n",
       "  <thead>\n",
       "    <tr style=\"text-align: right;\">\n",
       "      <th></th>\n",
       "      <th>X0</th>\n",
       "      <th>Y0</th>\n",
       "      <th>Z0</th>\n",
       "      <th>U0</th>\n",
       "      <th>V0</th>\n",
       "      <th>W0</th>\n",
       "      <th>wave</th>\n",
       "      <th>col</th>\n",
       "      <th>X1</th>\n",
       "      <th>Y1</th>\n",
       "      <th>...</th>\n",
       "      <th>Y2</th>\n",
       "      <th>Z2</th>\n",
       "      <th>X3</th>\n",
       "      <th>Y3</th>\n",
       "      <th>Z3</th>\n",
       "      <th>Xgoal</th>\n",
       "      <th>Ygoal</th>\n",
       "      <th>Xfinal</th>\n",
       "      <th>Yfinal</th>\n",
       "      <th>Zfinal</th>\n",
       "    </tr>\n",
       "  </thead>\n",
       "  <tbody>\n",
       "    <tr>\n",
       "      <th>0</th>\n",
       "      <td>-7.360165</td>\n",
       "      <td>-7.360165</td>\n",
       "      <td>0.0</td>\n",
       "      <td>0.027753</td>\n",
       "      <td>0.027753</td>\n",
       "      <td>0.999229</td>\n",
       "      <td>0.0004</td>\n",
       "      <td>b'b'</td>\n",
       "      <td>0.0</td>\n",
       "      <td>0.0</td>\n",
       "      <td>...</td>\n",
       "      <td>0.0</td>\n",
       "      <td>0.0</td>\n",
       "      <td>0.0</td>\n",
       "      <td>0.0</td>\n",
       "      <td>0.0</td>\n",
       "      <td>0.0</td>\n",
       "      <td>0.0</td>\n",
       "      <td>0.0</td>\n",
       "      <td>0.0</td>\n",
       "      <td>265.0</td>\n",
       "    </tr>\n",
       "    <tr>\n",
       "      <th>1</th>\n",
       "      <td>-5.888132</td>\n",
       "      <td>-7.360165</td>\n",
       "      <td>0.0</td>\n",
       "      <td>0.022205</td>\n",
       "      <td>0.027757</td>\n",
       "      <td>0.999368</td>\n",
       "      <td>0.0004</td>\n",
       "      <td>b'b'</td>\n",
       "      <td>0.0</td>\n",
       "      <td>0.0</td>\n",
       "      <td>...</td>\n",
       "      <td>0.0</td>\n",
       "      <td>0.0</td>\n",
       "      <td>0.0</td>\n",
       "      <td>0.0</td>\n",
       "      <td>0.0</td>\n",
       "      <td>0.0</td>\n",
       "      <td>0.0</td>\n",
       "      <td>0.0</td>\n",
       "      <td>0.0</td>\n",
       "      <td>265.0</td>\n",
       "    </tr>\n",
       "    <tr>\n",
       "      <th>2</th>\n",
       "      <td>-4.416099</td>\n",
       "      <td>-7.360165</td>\n",
       "      <td>0.0</td>\n",
       "      <td>0.016656</td>\n",
       "      <td>0.027760</td>\n",
       "      <td>0.999476</td>\n",
       "      <td>0.0004</td>\n",
       "      <td>b'b'</td>\n",
       "      <td>0.0</td>\n",
       "      <td>0.0</td>\n",
       "      <td>...</td>\n",
       "      <td>0.0</td>\n",
       "      <td>0.0</td>\n",
       "      <td>0.0</td>\n",
       "      <td>0.0</td>\n",
       "      <td>0.0</td>\n",
       "      <td>0.0</td>\n",
       "      <td>0.0</td>\n",
       "      <td>0.0</td>\n",
       "      <td>0.0</td>\n",
       "      <td>265.0</td>\n",
       "    </tr>\n",
       "    <tr>\n",
       "      <th>3</th>\n",
       "      <td>-2.944066</td>\n",
       "      <td>-7.360165</td>\n",
       "      <td>0.0</td>\n",
       "      <td>0.011105</td>\n",
       "      <td>0.027762</td>\n",
       "      <td>0.999553</td>\n",
       "      <td>0.0004</td>\n",
       "      <td>b'b'</td>\n",
       "      <td>0.0</td>\n",
       "      <td>0.0</td>\n",
       "      <td>...</td>\n",
       "      <td>0.0</td>\n",
       "      <td>0.0</td>\n",
       "      <td>0.0</td>\n",
       "      <td>0.0</td>\n",
       "      <td>0.0</td>\n",
       "      <td>0.0</td>\n",
       "      <td>0.0</td>\n",
       "      <td>0.0</td>\n",
       "      <td>0.0</td>\n",
       "      <td>265.0</td>\n",
       "    </tr>\n",
       "    <tr>\n",
       "      <th>4</th>\n",
       "      <td>-1.472033</td>\n",
       "      <td>-7.360165</td>\n",
       "      <td>0.0</td>\n",
       "      <td>0.005553</td>\n",
       "      <td>0.027763</td>\n",
       "      <td>0.999599</td>\n",
       "      <td>0.0004</td>\n",
       "      <td>b'b'</td>\n",
       "      <td>0.0</td>\n",
       "      <td>0.0</td>\n",
       "      <td>...</td>\n",
       "      <td>0.0</td>\n",
       "      <td>0.0</td>\n",
       "      <td>0.0</td>\n",
       "      <td>0.0</td>\n",
       "      <td>0.0</td>\n",
       "      <td>0.0</td>\n",
       "      <td>0.0</td>\n",
       "      <td>0.0</td>\n",
       "      <td>0.0</td>\n",
       "      <td>265.0</td>\n",
       "    </tr>\n",
       "    <tr>\n",
       "      <th>...</th>\n",
       "      <td>...</td>\n",
       "      <td>...</td>\n",
       "      <td>...</td>\n",
       "      <td>...</td>\n",
       "      <td>...</td>\n",
       "      <td>...</td>\n",
       "      <td>...</td>\n",
       "      <td>...</td>\n",
       "      <td>...</td>\n",
       "      <td>...</td>\n",
       "      <td>...</td>\n",
       "      <td>...</td>\n",
       "      <td>...</td>\n",
       "      <td>...</td>\n",
       "      <td>...</td>\n",
       "      <td>...</td>\n",
       "      <td>...</td>\n",
       "      <td>...</td>\n",
       "      <td>...</td>\n",
       "      <td>...</td>\n",
       "      <td>...</td>\n",
       "    </tr>\n",
       "    <tr>\n",
       "      <th>479</th>\n",
       "      <td>1.472033</td>\n",
       "      <td>7.360165</td>\n",
       "      <td>0.0</td>\n",
       "      <td>-0.005553</td>\n",
       "      <td>-0.027763</td>\n",
       "      <td>0.999599</td>\n",
       "      <td>0.0010</td>\n",
       "      <td>b'k'</td>\n",
       "      <td>0.0</td>\n",
       "      <td>0.0</td>\n",
       "      <td>...</td>\n",
       "      <td>0.0</td>\n",
       "      <td>0.0</td>\n",
       "      <td>0.0</td>\n",
       "      <td>0.0</td>\n",
       "      <td>0.0</td>\n",
       "      <td>0.0</td>\n",
       "      <td>0.0</td>\n",
       "      <td>0.0</td>\n",
       "      <td>0.0</td>\n",
       "      <td>265.0</td>\n",
       "    </tr>\n",
       "    <tr>\n",
       "      <th>480</th>\n",
       "      <td>2.944066</td>\n",
       "      <td>7.360165</td>\n",
       "      <td>0.0</td>\n",
       "      <td>-0.011105</td>\n",
       "      <td>-0.027762</td>\n",
       "      <td>0.999553</td>\n",
       "      <td>0.0010</td>\n",
       "      <td>b'k'</td>\n",
       "      <td>0.0</td>\n",
       "      <td>0.0</td>\n",
       "      <td>...</td>\n",
       "      <td>0.0</td>\n",
       "      <td>0.0</td>\n",
       "      <td>0.0</td>\n",
       "      <td>0.0</td>\n",
       "      <td>0.0</td>\n",
       "      <td>0.0</td>\n",
       "      <td>0.0</td>\n",
       "      <td>0.0</td>\n",
       "      <td>0.0</td>\n",
       "      <td>265.0</td>\n",
       "    </tr>\n",
       "    <tr>\n",
       "      <th>481</th>\n",
       "      <td>4.416099</td>\n",
       "      <td>7.360165</td>\n",
       "      <td>0.0</td>\n",
       "      <td>-0.016656</td>\n",
       "      <td>-0.027760</td>\n",
       "      <td>0.999476</td>\n",
       "      <td>0.0010</td>\n",
       "      <td>b'k'</td>\n",
       "      <td>0.0</td>\n",
       "      <td>0.0</td>\n",
       "      <td>...</td>\n",
       "      <td>0.0</td>\n",
       "      <td>0.0</td>\n",
       "      <td>0.0</td>\n",
       "      <td>0.0</td>\n",
       "      <td>0.0</td>\n",
       "      <td>0.0</td>\n",
       "      <td>0.0</td>\n",
       "      <td>0.0</td>\n",
       "      <td>0.0</td>\n",
       "      <td>265.0</td>\n",
       "    </tr>\n",
       "    <tr>\n",
       "      <th>482</th>\n",
       "      <td>5.888132</td>\n",
       "      <td>7.360165</td>\n",
       "      <td>0.0</td>\n",
       "      <td>-0.022205</td>\n",
       "      <td>-0.027757</td>\n",
       "      <td>0.999368</td>\n",
       "      <td>0.0010</td>\n",
       "      <td>b'k'</td>\n",
       "      <td>0.0</td>\n",
       "      <td>0.0</td>\n",
       "      <td>...</td>\n",
       "      <td>0.0</td>\n",
       "      <td>0.0</td>\n",
       "      <td>0.0</td>\n",
       "      <td>0.0</td>\n",
       "      <td>0.0</td>\n",
       "      <td>0.0</td>\n",
       "      <td>0.0</td>\n",
       "      <td>0.0</td>\n",
       "      <td>0.0</td>\n",
       "      <td>265.0</td>\n",
       "    </tr>\n",
       "    <tr>\n",
       "      <th>483</th>\n",
       "      <td>7.360165</td>\n",
       "      <td>7.360165</td>\n",
       "      <td>0.0</td>\n",
       "      <td>-0.027753</td>\n",
       "      <td>-0.027753</td>\n",
       "      <td>0.999229</td>\n",
       "      <td>0.0010</td>\n",
       "      <td>b'k'</td>\n",
       "      <td>0.0</td>\n",
       "      <td>0.0</td>\n",
       "      <td>...</td>\n",
       "      <td>0.0</td>\n",
       "      <td>0.0</td>\n",
       "      <td>0.0</td>\n",
       "      <td>0.0</td>\n",
       "      <td>0.0</td>\n",
       "      <td>0.0</td>\n",
       "      <td>0.0</td>\n",
       "      <td>0.0</td>\n",
       "      <td>0.0</td>\n",
       "      <td>265.0</td>\n",
       "    </tr>\n",
       "  </tbody>\n",
       "</table>\n",
       "<p>484 rows × 22 columns</p>\n",
       "</div>"
      ],
      "text/plain": [
       "           X0        Y0   Z0        U0        V0        W0    wave   col   X1  \\\n",
       "0   -7.360165 -7.360165  0.0  0.027753  0.027753  0.999229  0.0004  b'b'  0.0   \n",
       "1   -5.888132 -7.360165  0.0  0.022205  0.027757  0.999368  0.0004  b'b'  0.0   \n",
       "2   -4.416099 -7.360165  0.0  0.016656  0.027760  0.999476  0.0004  b'b'  0.0   \n",
       "3   -2.944066 -7.360165  0.0  0.011105  0.027762  0.999553  0.0004  b'b'  0.0   \n",
       "4   -1.472033 -7.360165  0.0  0.005553  0.027763  0.999599  0.0004  b'b'  0.0   \n",
       "..        ...       ...  ...       ...       ...       ...     ...   ...  ...   \n",
       "479  1.472033  7.360165  0.0 -0.005553 -0.027763  0.999599  0.0010  b'k'  0.0   \n",
       "480  2.944066  7.360165  0.0 -0.011105 -0.027762  0.999553  0.0010  b'k'  0.0   \n",
       "481  4.416099  7.360165  0.0 -0.016656 -0.027760  0.999476  0.0010  b'k'  0.0   \n",
       "482  5.888132  7.360165  0.0 -0.022205 -0.027757  0.999368  0.0010  b'k'  0.0   \n",
       "483  7.360165  7.360165  0.0 -0.027753 -0.027753  0.999229  0.0010  b'k'  0.0   \n",
       "\n",
       "      Y1  ...   Y2   Z2   X3   Y3   Z3  Xgoal  Ygoal  Xfinal  Yfinal  Zfinal  \n",
       "0    0.0  ...  0.0  0.0  0.0  0.0  0.0    0.0    0.0     0.0     0.0   265.0  \n",
       "1    0.0  ...  0.0  0.0  0.0  0.0  0.0    0.0    0.0     0.0     0.0   265.0  \n",
       "2    0.0  ...  0.0  0.0  0.0  0.0  0.0    0.0    0.0     0.0     0.0   265.0  \n",
       "3    0.0  ...  0.0  0.0  0.0  0.0  0.0    0.0    0.0     0.0     0.0   265.0  \n",
       "4    0.0  ...  0.0  0.0  0.0  0.0  0.0    0.0    0.0     0.0     0.0   265.0  \n",
       "..   ...  ...  ...  ...  ...  ...  ...    ...    ...     ...     ...     ...  \n",
       "479  0.0  ...  0.0  0.0  0.0  0.0  0.0    0.0    0.0     0.0     0.0   265.0  \n",
       "480  0.0  ...  0.0  0.0  0.0  0.0  0.0    0.0    0.0     0.0     0.0   265.0  \n",
       "481  0.0  ...  0.0  0.0  0.0  0.0  0.0    0.0    0.0     0.0     0.0   265.0  \n",
       "482  0.0  ...  0.0  0.0  0.0  0.0  0.0    0.0    0.0     0.0     0.0   265.0  \n",
       "483  0.0  ...  0.0  0.0  0.0  0.0  0.0    0.0    0.0     0.0     0.0   265.0  \n",
       "\n",
       "[484 rows x 22 columns]"
      ]
     },
     "execution_count": 89,
     "metadata": {},
     "output_type": "execute_result"
    }
   ],
   "source": [
    "df"
   ]
  },
  {
   "cell_type": "code",
   "execution_count": 90,
   "metadata": {},
   "outputs": [
    {
     "name": "stdout",
     "output_type": "stream",
     "text": [
      "484 rays Beam4_Rayfile_484_allwl_m00_m00.RAY\n"
     ]
    }
   ],
   "source": [
    "header = \"{} rays {}\".format(NWL*NBEAM,Beam4_Rayfile_RAY)\n",
    "print(header)"
   ]
  },
  {
   "cell_type": "code",
   "execution_count": 91,
   "metadata": {},
   "outputs": [],
   "source": [
    "# Need to format well output for BeamFour  (May 2020)\n",
    "writer = pd.ExcelWriter(Beam4_Rayfile_EXCEL,engine='xlsxwriter')\n",
    "df.to_excel(writer, index=False,sheet_name=\"Sheet1\",float_format=\"%2.7f\",header=True)\n",
    "writer.save()"
   ]
  },
  {
   "cell_type": "code",
   "execution_count": null,
   "metadata": {},
   "outputs": [],
   "source": []
  },
  {
   "cell_type": "code",
   "execution_count": null,
   "metadata": {},
   "outputs": [],
   "source": []
  },
  {
   "cell_type": "code",
   "execution_count": null,
   "metadata": {},
   "outputs": [],
   "source": []
  }
 ],
 "metadata": {
  "anaconda-cloud": {},
  "kernelspec": {
   "display_name": "Python 3",
   "language": "python",
   "name": "python3"
  },
  "language_info": {
   "codemirror_mode": {
    "name": "ipython",
    "version": 3
   },
   "file_extension": ".py",
   "mimetype": "text/x-python",
   "name": "python",
   "nbconvert_exporter": "python",
   "pygments_lexer": "ipython3",
   "version": "3.7.6"
  },
  "toc": {
   "nav_menu": {},
   "number_sections": true,
   "sideBar": true,
   "skip_h1_title": false,
   "toc_cell": false,
   "toc_position": {},
   "toc_section_display": "block",
   "toc_window_display": false
  }
 },
 "nbformat": 4,
 "nbformat_minor": 1
}
