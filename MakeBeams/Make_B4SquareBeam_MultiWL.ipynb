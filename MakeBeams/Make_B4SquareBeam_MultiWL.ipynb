{
 "cells": [
  {
   "cell_type": "markdown",
   "metadata": {},
   "source": [
    "# Make an Excel Ray file for Beam4\n",
    "\n",
    "\n",
    "- Geometry : Auxiliary Telescope Geometry of Optical for CTIO 0.9 m "
   ]
  },
  {
   "cell_type": "markdown",
   "metadata": {},
   "source": [
    "- author : Sylvie Dagoret-Campagne\n",
    "- affiliation : LAL/IN2P3/CNRS\n",
    "- date : February 28th 2017\n",
    "- update : March 15th 2017\n",
    "\n",
    "Simple 2D optical geometry for the optical setup of CTIO 0.9m telescope with Ronchi Grating.\n",
    "This is a tool to adjust the CCD position wrt Filter wheel.\n",
    "Here 4 wavelength are generated.\n",
    "The source incident angle must be provided in terms of angles $(\\alpha_x,\\alpha_y)$.\n",
    "\n",
    "\n",
    "This is a python notebook (not a sagemath notebook)\n",
    "- command:\n",
    "** ipython notebook **"
   ]
  },
  {
   "cell_type": "code",
   "execution_count": 61,
   "metadata": {},
   "outputs": [],
   "source": [
    "%matplotlib inline\n",
    "import matplotlib.pyplot as plt\n",
    "import numpy as np\n",
    "import os\n",
    "import matplotlib as mpl\n",
    "import pandas as pd\n",
    "import itertools"
   ]
  },
  {
   "cell_type": "code",
   "execution_count": 62,
   "metadata": {},
   "outputs": [],
   "source": [
    "# to enlarge the sizes\n",
    "params = {'legend.fontsize': 'x-large',\n",
    "          'figure.figsize': (8, 8),\n",
    "         'axes.labelsize': 'x-large',\n",
    "         'axes.titlesize':'x-large',\n",
    "         'xtick.labelsize':'x-large',\n",
    "         'ytick.labelsize':'x-large'}\n",
    "plt.rcParams.update(params)\n"
   ]
  },
  {
   "cell_type": "markdown",
   "metadata": {},
   "source": [
    "## Output filename and desired wavelength"
   ]
  },
  {
   "cell_type": "code",
   "execution_count": 63,
   "metadata": {},
   "outputs": [],
   "source": [
    "root_filename=\"Beam4_Rayfile_\""
   ]
  },
  {
   "cell_type": "code",
   "execution_count": 64,
   "metadata": {},
   "outputs": [],
   "source": [
    "# number of rays\n",
    "NBEAM_X=11\n",
    "NBEAM_Y=11\n",
    "NBEAM=NBEAM_X*NBEAM_Y\n",
    "NWL=4"
   ]
  },
  {
   "cell_type": "code",
   "execution_count": 65,
   "metadata": {},
   "outputs": [],
   "source": [
    "Wavelength_B=0.0004\n",
    "Wavelength_G=0.0006\n",
    "Wavelength_R=0.0008\n",
    "Wavelength_I=0.001"
   ]
  },
  {
   "cell_type": "code",
   "execution_count": 66,
   "metadata": {},
   "outputs": [],
   "source": [
    "theta_x=10.0  # angle in arcmin\n",
    "theta_y=.0  # angle in arcmin "
   ]
  },
  {
   "cell_type": "code",
   "execution_count": 67,
   "metadata": {},
   "outputs": [],
   "source": [
    "theta_x_num=int(theta_x*10)\n",
    "theta_y_num=int(theta_y*10)"
   ]
  },
  {
   "cell_type": "code",
   "execution_count": 68,
   "metadata": {},
   "outputs": [],
   "source": [
    "if theta_x_num>0:\n",
    "    theta_nstr='{:0>2}'.format(theta_x_num)\n",
    "    theta_x_str=\"p\"+theta_nstr\n",
    "else:\n",
    "    theta_nstr='{:0>2}'.format(-theta_x_num)\n",
    "    theta_x_str=\"m\"+theta_nstr"
   ]
  },
  {
   "cell_type": "code",
   "execution_count": 69,
   "metadata": {},
   "outputs": [],
   "source": [
    "if theta_y_num>0:\n",
    "    theta_nstr='{:0>2}'.format(theta_y_num)\n",
    "    theta_y_str=\"p\"+theta_nstr\n",
    "else:\n",
    "    theta_nstr='{:0>2}'.format(-theta_y_num)\n",
    "    theta_y_str=\"m\"+theta_nstr"
   ]
  },
  {
   "cell_type": "code",
   "execution_count": 70,
   "metadata": {},
   "outputs": [],
   "source": [
    "Beam4_Rayfile=\"Beam4_Rayfile_{:d}_allwl_{}_{}.xlsx\".format(NBEAM*NWL,theta_x_str,theta_y_str)"
   ]
  },
  {
   "cell_type": "code",
   "execution_count": 71,
   "metadata": {},
   "outputs": [
    {
     "data": {
      "text/plain": [
       "'Beam4_Rayfile_484_allwl_p100_m00.xlsx'"
      ]
     },
     "execution_count": 71,
     "metadata": {},
     "output_type": "execute_result"
    }
   ],
   "source": [
    "Beam4_Rayfile"
   ]
  },
  {
   "cell_type": "markdown",
   "metadata": {},
   "source": [
    "## Constants for conversions"
   ]
  },
  {
   "cell_type": "code",
   "execution_count": 72,
   "metadata": {},
   "outputs": [],
   "source": [
    "m_to_mm=1000.\n",
    "mm_to_m=1e-3\n",
    "inch_to_mm=25.4\n",
    "mm_to_inch=1./inch_to_mm\n",
    "micr_to_m=1e-6\n",
    "m_to_micr=1./micr_to_m\n",
    "m_to_cm=100.\n",
    "m_to_nm=1e9\n",
    "nm_to_m=1./m_to_nm"
   ]
  },
  {
   "cell_type": "code",
   "execution_count": 73,
   "metadata": {},
   "outputs": [],
   "source": [
    "arcdeg_to_arcmin=60.\n",
    "arcmin_to_arcdeg=1./arcdeg_to_arcmin\n",
    "arcmin_to_arcsec=60.\n",
    "arcdeg_to_arcsec=arcdeg_to_arcmin*arcmin_to_arcsec\n",
    "arcsec_to_arcdeg=1./arcdeg_to_arcsec"
   ]
  },
  {
   "cell_type": "code",
   "execution_count": 74,
   "metadata": {},
   "outputs": [],
   "source": [
    "deg_to_rad=np.pi/180."
   ]
  },
  {
   "cell_type": "code",
   "execution_count": 75,
   "metadata": {},
   "outputs": [],
   "source": [
    "rad_to_deg=1./deg_to_rad\n",
    "rad_to_arcsec=rad_to_deg*arcdeg_to_arcsec\n",
    "rad_to_arcmin=rad_to_deg*arcdeg_to_arcmin\n",
    "arcmin_ro_rad=1./rad_to_arcmin"
   ]
  },
  {
   "cell_type": "markdown",
   "metadata": {},
   "source": [
    "## Configuration parameters at the telescope\n",
    "--------------------------------------------------------"
   ]
  },
  {
   "cell_type": "markdown",
   "metadata": {},
   "source": [
    "#### Telescope"
   ]
  },
  {
   "cell_type": "code",
   "execution_count": 76,
   "metadata": {},
   "outputs": [],
   "source": [
    "Tel_Focal_Length=12.6 # m : Focal length of the telescope\n",
    "Tel_Diameter=0.9 # m : Diameter of the telescope    "
   ]
  },
  {
   "cell_type": "code",
   "execution_count": 77,
   "metadata": {},
   "outputs": [],
   "source": [
    "Tel_Fnum=Tel_Focal_Length/Tel_Diameter"
   ]
  },
  {
   "cell_type": "markdown",
   "metadata": {},
   "source": [
    "#### Filter"
   ]
  },
  {
   "cell_type": "code",
   "execution_count": 78,
   "metadata": {},
   "outputs": [],
   "source": [
    "Filt_D=0.05769 # m distance of the filter position wrt CCD plane\n",
    "Filt_size=3*inch_to_mm"
   ]
  },
  {
   "cell_type": "code",
   "execution_count": 79,
   "metadata": {},
   "outputs": [
    {
     "data": {
      "text/plain": [
       "76.19999999999999"
      ]
     },
     "execution_count": 79,
     "metadata": {},
     "output_type": "execute_result"
    }
   ],
   "source": [
    "Filt_size"
   ]
  },
  {
   "cell_type": "markdown",
   "metadata": {},
   "source": [
    "#### CCD Detector"
   ]
  },
  {
   "cell_type": "code",
   "execution_count": 80,
   "metadata": {},
   "outputs": [],
   "source": [
    "Det_xpic=24.0 # microns per pixel\n",
    "Det_NbPix=2048 # number of pixels per CCD side\n",
    "Det_size=Det_xpic*Det_NbPix*1e-3 # CCD size in mm, 5 cm or 2 inches"
   ]
  },
  {
   "cell_type": "code",
   "execution_count": 81,
   "metadata": {},
   "outputs": [
    {
     "data": {
      "text/plain": [
       "49.152"
      ]
     },
     "execution_count": 81,
     "metadata": {},
     "output_type": "execute_result"
    }
   ],
   "source": [
    "Det_size"
   ]
  },
  {
   "cell_type": "code",
   "execution_count": 82,
   "metadata": {},
   "outputs": [],
   "source": [
    "Det_pix_angl=Det_xpic*micr_to_m/Tel_Focal_Length   # in radian"
   ]
  },
  {
   "cell_type": "code",
   "execution_count": 83,
   "metadata": {},
   "outputs": [
    {
     "name": "stdout",
     "output_type": "stream",
     "text": [
      "pixel viewing angle in arcsec =  0.392885345233\n"
     ]
    }
   ],
   "source": [
    "print \"pixel viewing angle in arcsec = \", Det_pix_angl*rad_to_deg*arcdeg_to_arcsec"
   ]
  },
  {
   "cell_type": "markdown",
   "metadata": {},
   "source": [
    "## Location of the source in the field of view\n",
    "\n",
    "The Field of view of the delescope is 13.6 arcmin\n",
    "\n",
    "\n",
    "- ($\\theta_x, \\theta_y$) in arcmin to be specified\n",
    "- ($\\alpha_x, \\alpha_y$) in radian calculated "
   ]
  },
  {
   "cell_type": "code",
   "execution_count": 84,
   "metadata": {},
   "outputs": [],
   "source": [
    "theta_max=13.6/2.\n",
    "theta_max=-13.6/2."
   ]
  },
  {
   "cell_type": "code",
   "execution_count": 85,
   "metadata": {},
   "outputs": [],
   "source": [
    "alpha_x=theta_x*arcmin_ro_rad\n",
    "alpha_y=theta_y*arcmin_ro_rad"
   ]
  },
  {
   "cell_type": "markdown",
   "metadata": {},
   "source": [
    "## Where to start the tracking of rays\n",
    "\n",
    "- Units in mm\n",
    "- The origin is where the optical effective conveging system start at O(0,0,0)\n",
    "- (X0,Y0,Z0) : coordinates of Beam rays starting points"
   ]
  },
  {
   "cell_type": "code",
   "execution_count": 86,
   "metadata": {},
   "outputs": [],
   "source": [
    "D0=Filt_D*m_to_mm  # distance between plane where the trcking beam start"
   ]
  },
  {
   "cell_type": "code",
   "execution_count": 87,
   "metadata": {},
   "outputs": [],
   "source": [
    "Z0=Tel_Focal_Length*m_to_mm"
   ]
  },
  {
   "cell_type": "code",
   "execution_count": 88,
   "metadata": {},
   "outputs": [],
   "source": [
    "Z1=Z0-2.*D0  # please set where you want to start the beam"
   ]
  },
  {
   "cell_type": "code",
   "execution_count": 89,
   "metadata": {},
   "outputs": [],
   "source": [
    "XMIN=-Tel_Diameter*m_to_mm/(2.*np.sqrt(2.))\n",
    "XMAX=Tel_Diameter*m_to_mm/(2.*np.sqrt(2.))"
   ]
  },
  {
   "cell_type": "code",
   "execution_count": 90,
   "metadata": {},
   "outputs": [],
   "source": [
    "YMIN=-Tel_Diameter*m_to_mm/(2.*np.sqrt(2.))\n",
    "YMAX=Tel_Diameter*m_to_mm/(2.*np.sqrt(2.))"
   ]
  },
  {
   "cell_type": "markdown",
   "metadata": {},
   "source": [
    "# Number of points"
   ]
  },
  {
   "cell_type": "code",
   "execution_count": null,
   "metadata": {},
   "outputs": [],
   "source": []
  },
  {
   "cell_type": "code",
   "execution_count": null,
   "metadata": {},
   "outputs": [],
   "source": []
  },
  {
   "cell_type": "code",
   "execution_count": 91,
   "metadata": {},
   "outputs": [],
   "source": [
    "X = np.linspace(XMIN, XMAX, NBEAM_X)\n",
    "Y = np.linspace(YMIN, YMAX, NBEAM_Y)\n",
    "XX, YY = np.meshgrid(X, Y)"
   ]
  },
  {
   "cell_type": "code",
   "execution_count": 92,
   "metadata": {},
   "outputs": [],
   "source": [
    "pts = itertools.product(X, Y)"
   ]
  },
  {
   "cell_type": "code",
   "execution_count": 93,
   "metadata": {},
   "outputs": [
    {
     "data": {
      "text/plain": [
       "<matplotlib.collections.PathCollection at 0x10e38d9d0>"
      ]
     },
     "execution_count": 93,
     "metadata": {},
     "output_type": "execute_result"
    },
    {
     "data": {
      "image/png": "[encoded data removed]",
      "text/plain": [
       "<Figure size 576x576 with 1 Axes>"
      ]
     },
     "metadata": {},
     "output_type": "display_data"
    }
   ],
   "source": [
    "plt.grid()\n",
    "plt.scatter(*zip(*pts), marker='o', s=30, color='red')"
   ]
  },
  {
   "cell_type": "code",
   "execution_count": 94,
   "metadata": {},
   "outputs": [
    {
     "data": {
      "text/plain": [
       "Text(0.5,1,'Impact points at telescope aperture')"
      ]
     },
     "execution_count": 94,
     "metadata": {},
     "output_type": "execute_result"
    },
    {
     "data": {
      "image/png": "[encoded data removed]",
      "text/plain": [
       "<Figure size 576x576 with 1 Axes>"
      ]
     },
     "metadata": {},
     "output_type": "display_data"
    }
   ],
   "source": [
    "plt.scatter(XX,YY, marker='o', s=30, color='red')\n",
    "#plt.ylim(YMIN,YMAX)\n",
    "#plt.xlim(XMIN,XMAX)\n",
    "plt.grid()\n",
    "plt.xlabel(\"X (mm)\")\n",
    "plt.ylabel(\"Y (mm)\")\n",
    "plt.title(\"Impact points at telescope aperture\")"
   ]
  },
  {
   "cell_type": "code",
   "execution_count": 95,
   "metadata": {},
   "outputs": [],
   "source": [
    "def GetCosinusDirector(X,Y,thealpha_x,thealpha_y,f):\n",
    "    \"\"\"\n",
    "    The size of X,Y is the number of Rays\n",
    "    \"\"\"\n",
    "    \n",
    "    \n",
    "    Norm=np.sqrt( np.power(X+f*np.tan(thealpha_x),2) + np.power(Y+f*np.tan(thealpha_y),2)+ f**2)\n",
    "    UX=-(X+f*np.tan(thealpha_x))/Norm\n",
    "    UY=-(Y+f*np.tan(thealpha_y))/Norm\n",
    "    UZ=f/Norm\n",
    "    return UX,UY,UZ    \n",
    "    "
   ]
  },
  {
   "cell_type": "code",
   "execution_count": 96,
   "metadata": {},
   "outputs": [],
   "source": [
    "UX,UY,UZ=GetCosinusDirector(XX,YY,alpha_x,alpha_y,Z0)"
   ]
  },
  {
   "cell_type": "code",
   "execution_count": 97,
   "metadata": {},
   "outputs": [
    {
     "data": {
      "text/plain": [
       "Text(0.5,1,'Vector field')"
      ]
     },
     "execution_count": 97,
     "metadata": {},
     "output_type": "execute_result"
    },
    {
     "data": {
      "image/png": "[encoded data removed]",
      "text/plain": [
       "<Figure size 576x576 with 1 Axes>"
      ]
     },
     "metadata": {},
     "output_type": "display_data"
    }
   ],
   "source": [
    "\n",
    "plt.grid()\n",
    "q = plt.quiver(XX,YY,UX,UY,angles='xy',scale=0.5,color='r')\n",
    "plt.scatter(XX,YY, marker='o', s=10, color='black')\n",
    "plt.xlabel(\"X (mm)\")\n",
    "plt.ylabel(\"Y (mm)\")\n",
    "plt.title(\"Vector field\")"
   ]
  },
  {
   "cell_type": "code",
   "execution_count": 98,
   "metadata": {},
   "outputs": [],
   "source": [
    "def GetStartingPoint(X,Y,thealpha_x,the_alpha_y,f,Z0):\n",
    "    theX0=(1-Z0/f)*X-Z0*np.tan(alpha_x)\n",
    "    theY0=(1-Z0/f)*Y-Z0*np.tan(alpha_y)\n",
    "    return theX0,theY0\n",
    "    "
   ]
  },
  {
   "cell_type": "code",
   "execution_count": 99,
   "metadata": {},
   "outputs": [],
   "source": [
    "(X0,Y0)=GetStartingPoint(XX,YY,alpha_x,alpha_y,Z0,Z1)"
   ]
  },
  {
   "cell_type": "code",
   "execution_count": 100,
   "metadata": {},
   "outputs": [
    {
     "data": {
      "text/plain": [
       "Text(0.5,1,'Impact point at selected entrance of Ray tracer')"
      ]
     },
     "execution_count": 100,
     "metadata": {},
     "output_type": "execute_result"
    },
    {
     "data": {
      "image/png": "[encoded data removed]",
      "text/plain": [
       "<Figure size 576x576 with 1 Axes>"
      ]
     },
     "metadata": {},
     "output_type": "display_data"
    }
   ],
   "source": [
    "plt.scatter(X0,Y0, marker='o', s=20, color='red')\n",
    "plt.grid()\n",
    "#plt.ylim(YMIN,YMAX)\n",
    "#plt.xlim(XMIN,XMAX)\n",
    "\n",
    "#plt.xlim(-Filt_size/2, Filt_size/2)\n",
    "#plt.ylim(-Filt_size/2, Filt_size/2)\n",
    "\n",
    "plt.xlabel(\"X (mm)\")\n",
    "plt.ylabel(\"Y (mm)\")\n",
    "plt.title(\"Impact point at selected entrance of Ray tracer\")"
   ]
  },
  {
   "cell_type": "markdown",
   "metadata": {},
   "source": [
    "## Create Dataframe"
   ]
  },
  {
   "cell_type": "code",
   "execution_count": 101,
   "metadata": {},
   "outputs": [],
   "source": [
    "df = pd.DataFrame()"
   ]
  },
  {
   "cell_type": "code",
   "execution_count": 102,
   "metadata": {},
   "outputs": [],
   "source": [
    "Xout=X0.flatten()\n",
    "Yout=Y0.flatten()"
   ]
  },
  {
   "cell_type": "code",
   "execution_count": 103,
   "metadata": {},
   "outputs": [],
   "source": [
    "Uout=UX.flatten()\n",
    "Vout=UY.flatten()\n",
    "Wout=UZ.flatten()"
   ]
  },
  {
   "cell_type": "code",
   "execution_count": 104,
   "metadata": {},
   "outputs": [],
   "source": [
    "Zout=np.zeros(NBEAM)"
   ]
  },
  {
   "cell_type": "code",
   "execution_count": 105,
   "metadata": {},
   "outputs": [],
   "source": [
    "allXout=np.concatenate((Xout,Xout,Xout,Xout))\n",
    "allYout=np.concatenate((Yout,Yout,Yout,Yout))\n",
    "allZout=np.concatenate((Zout,Zout,Zout,Zout))"
   ]
  },
  {
   "cell_type": "code",
   "execution_count": 106,
   "metadata": {},
   "outputs": [],
   "source": [
    "allUout=np.concatenate((Uout,Uout,Uout,Uout))\n",
    "allVout=np.concatenate((Vout,Vout,Vout,Vout))\n",
    "allWout=np.concatenate((Wout,Wout,Wout,Wout))"
   ]
  },
  {
   "cell_type": "code",
   "execution_count": 107,
   "metadata": {},
   "outputs": [],
   "source": [
    "wave_b=Wavelength_B*np.ones(NBEAM)\n",
    "color_b = np.chararray(NBEAM)\n",
    "color_b[:]='b'"
   ]
  },
  {
   "cell_type": "code",
   "execution_count": 108,
   "metadata": {},
   "outputs": [],
   "source": [
    "wave_g=Wavelength_G*np.ones(NBEAM)\n",
    "color_g = np.chararray(NBEAM)\n",
    "color_g[:]='g'"
   ]
  },
  {
   "cell_type": "code",
   "execution_count": 109,
   "metadata": {},
   "outputs": [],
   "source": [
    "wave_r=Wavelength_R*np.ones(NBEAM)\n",
    "color_r = np.chararray(NBEAM)\n",
    "color_r[:]='r'"
   ]
  },
  {
   "cell_type": "code",
   "execution_count": 110,
   "metadata": {},
   "outputs": [],
   "source": [
    "wave_i=Wavelength_I*np.ones(NBEAM)\n",
    "color_i = np.chararray(NBEAM)\n",
    "color_i[:]='k'"
   ]
  },
  {
   "cell_type": "code",
   "execution_count": 111,
   "metadata": {},
   "outputs": [],
   "source": [
    "Wave=np.concatenate((wave_b,wave_g,wave_r,wave_i))"
   ]
  },
  {
   "cell_type": "code",
   "execution_count": null,
   "metadata": {},
   "outputs": [],
   "source": []
  },
  {
   "cell_type": "code",
   "execution_count": 112,
   "metadata": {},
   "outputs": [],
   "source": [
    "allcolor=np.concatenate((color_b,color_g,color_r,color_i))"
   ]
  },
  {
   "cell_type": "code",
   "execution_count": 113,
   "metadata": {},
   "outputs": [
    {
     "data": {
      "text/plain": [
       "(484,)"
      ]
     },
     "execution_count": 113,
     "metadata": {},
     "output_type": "execute_result"
    }
   ],
   "source": [
    "allcolor.shape"
   ]
  },
  {
   "cell_type": "code",
   "execution_count": 114,
   "metadata": {},
   "outputs": [],
   "source": [
    "df[\"X0\"]=allXout\n",
    "df[\"Y0\"]=allYout\n",
    "df[\"Z0\"]=allZout\n",
    "df[\"U0\"]=allUout\n",
    "df[\"V0\"]=allVout\n",
    "df[\"W0\"]=allWout\n",
    "df[\"wave\"]=Wave\n",
    "df[\"col\"]=allcolor"
   ]
  },
  {
   "cell_type": "code",
   "execution_count": 115,
   "metadata": {},
   "outputs": [
    {
     "data": {
      "text/html": [
       "<div>\n",
       "<style scoped>\n",
       "    .dataframe tbody tr th:only-of-type {\n",
       "        vertical-align: middle;\n",
       "    }\n",
       "\n",
       "    .dataframe tbody tr th {\n",
       "        vertical-align: top;\n",
       "    }\n",
       "\n",
       "    .dataframe thead th {\n",
       "        text-align: right;\n",
       "    }\n",
       "</style>\n",
       "<table border=\"1\" class=\"dataframe\">\n",
       "  <thead>\n",
       "    <tr style=\"text-align: right;\">\n",
       "      <th></th>\n",
       "      <th>X0</th>\n",
       "      <th>Y0</th>\n",
       "      <th>Z0</th>\n",
       "      <th>U0</th>\n",
       "      <th>V0</th>\n",
       "      <th>W0</th>\n",
       "      <th>wave</th>\n",
       "      <th>col</th>\n",
       "    </tr>\n",
       "  </thead>\n",
       "  <tbody>\n",
       "    <tr>\n",
       "      <th>0</th>\n",
       "      <td>-39.230175</td>\n",
       "      <td>-2.913785</td>\n",
       "      <td>0.0</td>\n",
       "      <td>0.022332</td>\n",
       "      <td>0.025239</td>\n",
       "      <td>0.999432</td>\n",
       "      <td>0.0004</td>\n",
       "      <td>b</td>\n",
       "    </tr>\n",
       "    <tr>\n",
       "      <th>1</th>\n",
       "      <td>-38.647418</td>\n",
       "      <td>-2.913785</td>\n",
       "      <td>0.0</td>\n",
       "      <td>0.017286</td>\n",
       "      <td>0.025242</td>\n",
       "      <td>0.999532</td>\n",
       "      <td>0.0004</td>\n",
       "      <td>b</td>\n",
       "    </tr>\n",
       "    <tr>\n",
       "      <th>2</th>\n",
       "      <td>-38.064661</td>\n",
       "      <td>-2.913785</td>\n",
       "      <td>0.0</td>\n",
       "      <td>0.012239</td>\n",
       "      <td>0.025244</td>\n",
       "      <td>0.999606</td>\n",
       "      <td>0.0004</td>\n",
       "      <td>b</td>\n",
       "    </tr>\n",
       "    <tr>\n",
       "      <th>3</th>\n",
       "      <td>-37.481904</td>\n",
       "      <td>-2.913785</td>\n",
       "      <td>0.0</td>\n",
       "      <td>0.007190</td>\n",
       "      <td>0.025245</td>\n",
       "      <td>0.999655</td>\n",
       "      <td>0.0004</td>\n",
       "      <td>b</td>\n",
       "    </tr>\n",
       "    <tr>\n",
       "      <th>4</th>\n",
       "      <td>-36.899147</td>\n",
       "      <td>-2.913785</td>\n",
       "      <td>0.0</td>\n",
       "      <td>0.002141</td>\n",
       "      <td>0.025246</td>\n",
       "      <td>0.999679</td>\n",
       "      <td>0.0004</td>\n",
       "      <td>b</td>\n",
       "    </tr>\n",
       "    <tr>\n",
       "      <th>5</th>\n",
       "      <td>-36.316390</td>\n",
       "      <td>-2.913785</td>\n",
       "      <td>0.0</td>\n",
       "      <td>-0.002908</td>\n",
       "      <td>0.025246</td>\n",
       "      <td>0.999677</td>\n",
       "      <td>0.0004</td>\n",
       "      <td>b</td>\n",
       "    </tr>\n",
       "    <tr>\n",
       "      <th>6</th>\n",
       "      <td>-35.733633</td>\n",
       "      <td>-2.913785</td>\n",
       "      <td>0.0</td>\n",
       "      <td>-0.007957</td>\n",
       "      <td>0.025245</td>\n",
       "      <td>0.999650</td>\n",
       "      <td>0.0004</td>\n",
       "      <td>b</td>\n",
       "    </tr>\n",
       "    <tr>\n",
       "      <th>7</th>\n",
       "      <td>-35.150876</td>\n",
       "      <td>-2.913785</td>\n",
       "      <td>0.0</td>\n",
       "      <td>-0.013005</td>\n",
       "      <td>0.025244</td>\n",
       "      <td>0.999597</td>\n",
       "      <td>0.0004</td>\n",
       "      <td>b</td>\n",
       "    </tr>\n",
       "    <tr>\n",
       "      <th>8</th>\n",
       "      <td>-34.568119</td>\n",
       "      <td>-2.913785</td>\n",
       "      <td>0.0</td>\n",
       "      <td>-0.018052</td>\n",
       "      <td>0.025242</td>\n",
       "      <td>0.999518</td>\n",
       "      <td>0.0004</td>\n",
       "      <td>b</td>\n",
       "    </tr>\n",
       "    <tr>\n",
       "      <th>9</th>\n",
       "      <td>-33.985362</td>\n",
       "      <td>-2.913785</td>\n",
       "      <td>0.0</td>\n",
       "      <td>-0.023098</td>\n",
       "      <td>0.025239</td>\n",
       "      <td>0.999415</td>\n",
       "      <td>0.0004</td>\n",
       "      <td>b</td>\n",
       "    </tr>\n",
       "    <tr>\n",
       "      <th>10</th>\n",
       "      <td>-33.402605</td>\n",
       "      <td>-2.913785</td>\n",
       "      <td>0.0</td>\n",
       "      <td>-0.028143</td>\n",
       "      <td>0.025236</td>\n",
       "      <td>0.999285</td>\n",
       "      <td>0.0004</td>\n",
       "      <td>b</td>\n",
       "    </tr>\n",
       "    <tr>\n",
       "      <th>11</th>\n",
       "      <td>-39.230175</td>\n",
       "      <td>-2.331028</td>\n",
       "      <td>0.0</td>\n",
       "      <td>0.022335</td>\n",
       "      <td>0.020194</td>\n",
       "      <td>0.999547</td>\n",
       "      <td>0.0004</td>\n",
       "      <td>b</td>\n",
       "    </tr>\n",
       "    <tr>\n",
       "      <th>12</th>\n",
       "      <td>-38.647418</td>\n",
       "      <td>-2.331028</td>\n",
       "      <td>0.0</td>\n",
       "      <td>0.017288</td>\n",
       "      <td>0.020196</td>\n",
       "      <td>0.999647</td>\n",
       "      <td>0.0004</td>\n",
       "      <td>b</td>\n",
       "    </tr>\n",
       "    <tr>\n",
       "      <th>13</th>\n",
       "      <td>-38.064661</td>\n",
       "      <td>-2.331028</td>\n",
       "      <td>0.0</td>\n",
       "      <td>0.012240</td>\n",
       "      <td>0.020197</td>\n",
       "      <td>0.999721</td>\n",
       "      <td>0.0004</td>\n",
       "      <td>b</td>\n",
       "    </tr>\n",
       "    <tr>\n",
       "      <th>14</th>\n",
       "      <td>-37.481904</td>\n",
       "      <td>-2.331028</td>\n",
       "      <td>0.0</td>\n",
       "      <td>0.007191</td>\n",
       "      <td>0.020198</td>\n",
       "      <td>0.999770</td>\n",
       "      <td>0.0004</td>\n",
       "      <td>b</td>\n",
       "    </tr>\n",
       "    <tr>\n",
       "      <th>15</th>\n",
       "      <td>-36.899147</td>\n",
       "      <td>-2.331028</td>\n",
       "      <td>0.0</td>\n",
       "      <td>0.002141</td>\n",
       "      <td>0.020199</td>\n",
       "      <td>0.999794</td>\n",
       "      <td>0.0004</td>\n",
       "      <td>b</td>\n",
       "    </tr>\n",
       "    <tr>\n",
       "      <th>16</th>\n",
       "      <td>-36.316390</td>\n",
       "      <td>-2.331028</td>\n",
       "      <td>0.0</td>\n",
       "      <td>-0.002908</td>\n",
       "      <td>0.020199</td>\n",
       "      <td>0.999792</td>\n",
       "      <td>0.0004</td>\n",
       "      <td>b</td>\n",
       "    </tr>\n",
       "    <tr>\n",
       "      <th>17</th>\n",
       "      <td>-35.733633</td>\n",
       "      <td>-2.331028</td>\n",
       "      <td>0.0</td>\n",
       "      <td>-0.007958</td>\n",
       "      <td>0.020198</td>\n",
       "      <td>0.999764</td>\n",
       "      <td>0.0004</td>\n",
       "      <td>b</td>\n",
       "    </tr>\n",
       "    <tr>\n",
       "      <th>18</th>\n",
       "      <td>-35.150876</td>\n",
       "      <td>-2.331028</td>\n",
       "      <td>0.0</td>\n",
       "      <td>-0.013007</td>\n",
       "      <td>0.020197</td>\n",
       "      <td>0.999711</td>\n",
       "      <td>0.0004</td>\n",
       "      <td>b</td>\n",
       "    </tr>\n",
       "    <tr>\n",
       "      <th>19</th>\n",
       "      <td>-34.568119</td>\n",
       "      <td>-2.331028</td>\n",
       "      <td>0.0</td>\n",
       "      <td>-0.018055</td>\n",
       "      <td>0.020196</td>\n",
       "      <td>0.999633</td>\n",
       "      <td>0.0004</td>\n",
       "      <td>b</td>\n",
       "    </tr>\n",
       "    <tr>\n",
       "      <th>20</th>\n",
       "      <td>-33.985362</td>\n",
       "      <td>-2.331028</td>\n",
       "      <td>0.0</td>\n",
       "      <td>-0.023101</td>\n",
       "      <td>0.020194</td>\n",
       "      <td>0.999529</td>\n",
       "      <td>0.0004</td>\n",
       "      <td>b</td>\n",
       "    </tr>\n",
       "    <tr>\n",
       "      <th>21</th>\n",
       "      <td>-33.402605</td>\n",
       "      <td>-2.331028</td>\n",
       "      <td>0.0</td>\n",
       "      <td>-0.028146</td>\n",
       "      <td>0.020191</td>\n",
       "      <td>0.999400</td>\n",
       "      <td>0.0004</td>\n",
       "      <td>b</td>\n",
       "    </tr>\n",
       "    <tr>\n",
       "      <th>22</th>\n",
       "      <td>-39.230175</td>\n",
       "      <td>-1.748271</td>\n",
       "      <td>0.0</td>\n",
       "      <td>0.022337</td>\n",
       "      <td>0.015147</td>\n",
       "      <td>0.999636</td>\n",
       "      <td>0.0004</td>\n",
       "      <td>b</td>\n",
       "    </tr>\n",
       "    <tr>\n",
       "      <th>23</th>\n",
       "      <td>-38.647418</td>\n",
       "      <td>-1.748271</td>\n",
       "      <td>0.0</td>\n",
       "      <td>0.017290</td>\n",
       "      <td>0.015148</td>\n",
       "      <td>0.999736</td>\n",
       "      <td>0.0004</td>\n",
       "      <td>b</td>\n",
       "    </tr>\n",
       "    <tr>\n",
       "      <th>24</th>\n",
       "      <td>-38.064661</td>\n",
       "      <td>-1.748271</td>\n",
       "      <td>0.0</td>\n",
       "      <td>0.012241</td>\n",
       "      <td>0.015149</td>\n",
       "      <td>0.999810</td>\n",
       "      <td>0.0004</td>\n",
       "      <td>b</td>\n",
       "    </tr>\n",
       "    <tr>\n",
       "      <th>25</th>\n",
       "      <td>-37.481904</td>\n",
       "      <td>-1.748271</td>\n",
       "      <td>0.0</td>\n",
       "      <td>0.007192</td>\n",
       "      <td>0.015150</td>\n",
       "      <td>0.999859</td>\n",
       "      <td>0.0004</td>\n",
       "      <td>b</td>\n",
       "    </tr>\n",
       "    <tr>\n",
       "      <th>26</th>\n",
       "      <td>-36.899147</td>\n",
       "      <td>-1.748271</td>\n",
       "      <td>0.0</td>\n",
       "      <td>0.002142</td>\n",
       "      <td>0.015151</td>\n",
       "      <td>0.999883</td>\n",
       "      <td>0.0004</td>\n",
       "      <td>b</td>\n",
       "    </tr>\n",
       "    <tr>\n",
       "      <th>27</th>\n",
       "      <td>-36.316390</td>\n",
       "      <td>-1.748271</td>\n",
       "      <td>0.0</td>\n",
       "      <td>-0.002909</td>\n",
       "      <td>0.015150</td>\n",
       "      <td>0.999881</td>\n",
       "      <td>0.0004</td>\n",
       "      <td>b</td>\n",
       "    </tr>\n",
       "    <tr>\n",
       "      <th>28</th>\n",
       "      <td>-35.733633</td>\n",
       "      <td>-1.748271</td>\n",
       "      <td>0.0</td>\n",
       "      <td>-0.007958</td>\n",
       "      <td>0.015150</td>\n",
       "      <td>0.999854</td>\n",
       "      <td>0.0004</td>\n",
       "      <td>b</td>\n",
       "    </tr>\n",
       "    <tr>\n",
       "      <th>29</th>\n",
       "      <td>-35.150876</td>\n",
       "      <td>-1.748271</td>\n",
       "      <td>0.0</td>\n",
       "      <td>-0.013008</td>\n",
       "      <td>0.015149</td>\n",
       "      <td>0.999801</td>\n",
       "      <td>0.0004</td>\n",
       "      <td>b</td>\n",
       "    </tr>\n",
       "    <tr>\n",
       "      <th>...</th>\n",
       "      <td>...</td>\n",
       "      <td>...</td>\n",
       "      <td>...</td>\n",
       "      <td>...</td>\n",
       "      <td>...</td>\n",
       "      <td>...</td>\n",
       "      <td>...</td>\n",
       "      <td>...</td>\n",
       "    </tr>\n",
       "    <tr>\n",
       "      <th>454</th>\n",
       "      <td>-37.481904</td>\n",
       "      <td>1.748271</td>\n",
       "      <td>0.0</td>\n",
       "      <td>0.007192</td>\n",
       "      <td>-0.015150</td>\n",
       "      <td>0.999859</td>\n",
       "      <td>0.0010</td>\n",
       "      <td>k</td>\n",
       "    </tr>\n",
       "    <tr>\n",
       "      <th>455</th>\n",
       "      <td>-36.899147</td>\n",
       "      <td>1.748271</td>\n",
       "      <td>0.0</td>\n",
       "      <td>0.002142</td>\n",
       "      <td>-0.015151</td>\n",
       "      <td>0.999883</td>\n",
       "      <td>0.0010</td>\n",
       "      <td>k</td>\n",
       "    </tr>\n",
       "    <tr>\n",
       "      <th>456</th>\n",
       "      <td>-36.316390</td>\n",
       "      <td>1.748271</td>\n",
       "      <td>0.0</td>\n",
       "      <td>-0.002909</td>\n",
       "      <td>-0.015150</td>\n",
       "      <td>0.999881</td>\n",
       "      <td>0.0010</td>\n",
       "      <td>k</td>\n",
       "    </tr>\n",
       "    <tr>\n",
       "      <th>457</th>\n",
       "      <td>-35.733633</td>\n",
       "      <td>1.748271</td>\n",
       "      <td>0.0</td>\n",
       "      <td>-0.007958</td>\n",
       "      <td>-0.015150</td>\n",
       "      <td>0.999854</td>\n",
       "      <td>0.0010</td>\n",
       "      <td>k</td>\n",
       "    </tr>\n",
       "    <tr>\n",
       "      <th>458</th>\n",
       "      <td>-35.150876</td>\n",
       "      <td>1.748271</td>\n",
       "      <td>0.0</td>\n",
       "      <td>-0.013008</td>\n",
       "      <td>-0.015149</td>\n",
       "      <td>0.999801</td>\n",
       "      <td>0.0010</td>\n",
       "      <td>k</td>\n",
       "    </tr>\n",
       "    <tr>\n",
       "      <th>459</th>\n",
       "      <td>-34.568119</td>\n",
       "      <td>1.748271</td>\n",
       "      <td>0.0</td>\n",
       "      <td>-0.018056</td>\n",
       "      <td>-0.015148</td>\n",
       "      <td>0.999722</td>\n",
       "      <td>0.0010</td>\n",
       "      <td>k</td>\n",
       "    </tr>\n",
       "    <tr>\n",
       "      <th>460</th>\n",
       "      <td>-33.985362</td>\n",
       "      <td>1.748271</td>\n",
       "      <td>0.0</td>\n",
       "      <td>-0.023103</td>\n",
       "      <td>-0.015147</td>\n",
       "      <td>0.999618</td>\n",
       "      <td>0.0010</td>\n",
       "      <td>k</td>\n",
       "    </tr>\n",
       "    <tr>\n",
       "      <th>461</th>\n",
       "      <td>-33.402605</td>\n",
       "      <td>1.748271</td>\n",
       "      <td>0.0</td>\n",
       "      <td>-0.028148</td>\n",
       "      <td>-0.015145</td>\n",
       "      <td>0.999489</td>\n",
       "      <td>0.0010</td>\n",
       "      <td>k</td>\n",
       "    </tr>\n",
       "    <tr>\n",
       "      <th>462</th>\n",
       "      <td>-39.230175</td>\n",
       "      <td>2.331028</td>\n",
       "      <td>0.0</td>\n",
       "      <td>0.022335</td>\n",
       "      <td>-0.020194</td>\n",
       "      <td>0.999547</td>\n",
       "      <td>0.0010</td>\n",
       "      <td>k</td>\n",
       "    </tr>\n",
       "    <tr>\n",
       "      <th>463</th>\n",
       "      <td>-38.647418</td>\n",
       "      <td>2.331028</td>\n",
       "      <td>0.0</td>\n",
       "      <td>0.017288</td>\n",
       "      <td>-0.020196</td>\n",
       "      <td>0.999647</td>\n",
       "      <td>0.0010</td>\n",
       "      <td>k</td>\n",
       "    </tr>\n",
       "    <tr>\n",
       "      <th>464</th>\n",
       "      <td>-38.064661</td>\n",
       "      <td>2.331028</td>\n",
       "      <td>0.0</td>\n",
       "      <td>0.012240</td>\n",
       "      <td>-0.020197</td>\n",
       "      <td>0.999721</td>\n",
       "      <td>0.0010</td>\n",
       "      <td>k</td>\n",
       "    </tr>\n",
       "    <tr>\n",
       "      <th>465</th>\n",
       "      <td>-37.481904</td>\n",
       "      <td>2.331028</td>\n",
       "      <td>0.0</td>\n",
       "      <td>0.007191</td>\n",
       "      <td>-0.020198</td>\n",
       "      <td>0.999770</td>\n",
       "      <td>0.0010</td>\n",
       "      <td>k</td>\n",
       "    </tr>\n",
       "    <tr>\n",
       "      <th>466</th>\n",
       "      <td>-36.899147</td>\n",
       "      <td>2.331028</td>\n",
       "      <td>0.0</td>\n",
       "      <td>0.002141</td>\n",
       "      <td>-0.020199</td>\n",
       "      <td>0.999794</td>\n",
       "      <td>0.0010</td>\n",
       "      <td>k</td>\n",
       "    </tr>\n",
       "    <tr>\n",
       "      <th>467</th>\n",
       "      <td>-36.316390</td>\n",
       "      <td>2.331028</td>\n",
       "      <td>0.0</td>\n",
       "      <td>-0.002908</td>\n",
       "      <td>-0.020199</td>\n",
       "      <td>0.999792</td>\n",
       "      <td>0.0010</td>\n",
       "      <td>k</td>\n",
       "    </tr>\n",
       "    <tr>\n",
       "      <th>468</th>\n",
       "      <td>-35.733633</td>\n",
       "      <td>2.331028</td>\n",
       "      <td>0.0</td>\n",
       "      <td>-0.007958</td>\n",
       "      <td>-0.020198</td>\n",
       "      <td>0.999764</td>\n",
       "      <td>0.0010</td>\n",
       "      <td>k</td>\n",
       "    </tr>\n",
       "    <tr>\n",
       "      <th>469</th>\n",
       "      <td>-35.150876</td>\n",
       "      <td>2.331028</td>\n",
       "      <td>0.0</td>\n",
       "      <td>-0.013007</td>\n",
       "      <td>-0.020197</td>\n",
       "      <td>0.999711</td>\n",
       "      <td>0.0010</td>\n",
       "      <td>k</td>\n",
       "    </tr>\n",
       "    <tr>\n",
       "      <th>470</th>\n",
       "      <td>-34.568119</td>\n",
       "      <td>2.331028</td>\n",
       "      <td>0.0</td>\n",
       "      <td>-0.018055</td>\n",
       "      <td>-0.020196</td>\n",
       "      <td>0.999633</td>\n",
       "      <td>0.0010</td>\n",
       "      <td>k</td>\n",
       "    </tr>\n",
       "    <tr>\n",
       "      <th>471</th>\n",
       "      <td>-33.985362</td>\n",
       "      <td>2.331028</td>\n",
       "      <td>0.0</td>\n",
       "      <td>-0.023101</td>\n",
       "      <td>-0.020194</td>\n",
       "      <td>0.999529</td>\n",
       "      <td>0.0010</td>\n",
       "      <td>k</td>\n",
       "    </tr>\n",
       "    <tr>\n",
       "      <th>472</th>\n",
       "      <td>-33.402605</td>\n",
       "      <td>2.331028</td>\n",
       "      <td>0.0</td>\n",
       "      <td>-0.028146</td>\n",
       "      <td>-0.020191</td>\n",
       "      <td>0.999400</td>\n",
       "      <td>0.0010</td>\n",
       "      <td>k</td>\n",
       "    </tr>\n",
       "    <tr>\n",
       "      <th>473</th>\n",
       "      <td>-39.230175</td>\n",
       "      <td>2.913785</td>\n",
       "      <td>0.0</td>\n",
       "      <td>0.022332</td>\n",
       "      <td>-0.025239</td>\n",
       "      <td>0.999432</td>\n",
       "      <td>0.0010</td>\n",
       "      <td>k</td>\n",
       "    </tr>\n",
       "    <tr>\n",
       "      <th>474</th>\n",
       "      <td>-38.647418</td>\n",
       "      <td>2.913785</td>\n",
       "      <td>0.0</td>\n",
       "      <td>0.017286</td>\n",
       "      <td>-0.025242</td>\n",
       "      <td>0.999532</td>\n",
       "      <td>0.0010</td>\n",
       "      <td>k</td>\n",
       "    </tr>\n",
       "    <tr>\n",
       "      <th>475</th>\n",
       "      <td>-38.064661</td>\n",
       "      <td>2.913785</td>\n",
       "      <td>0.0</td>\n",
       "      <td>0.012239</td>\n",
       "      <td>-0.025244</td>\n",
       "      <td>0.999606</td>\n",
       "      <td>0.0010</td>\n",
       "      <td>k</td>\n",
       "    </tr>\n",
       "    <tr>\n",
       "      <th>476</th>\n",
       "      <td>-37.481904</td>\n",
       "      <td>2.913785</td>\n",
       "      <td>0.0</td>\n",
       "      <td>0.007190</td>\n",
       "      <td>-0.025245</td>\n",
       "      <td>0.999655</td>\n",
       "      <td>0.0010</td>\n",
       "      <td>k</td>\n",
       "    </tr>\n",
       "    <tr>\n",
       "      <th>477</th>\n",
       "      <td>-36.899147</td>\n",
       "      <td>2.913785</td>\n",
       "      <td>0.0</td>\n",
       "      <td>0.002141</td>\n",
       "      <td>-0.025246</td>\n",
       "      <td>0.999679</td>\n",
       "      <td>0.0010</td>\n",
       "      <td>k</td>\n",
       "    </tr>\n",
       "    <tr>\n",
       "      <th>478</th>\n",
       "      <td>-36.316390</td>\n",
       "      <td>2.913785</td>\n",
       "      <td>0.0</td>\n",
       "      <td>-0.002908</td>\n",
       "      <td>-0.025246</td>\n",
       "      <td>0.999677</td>\n",
       "      <td>0.0010</td>\n",
       "      <td>k</td>\n",
       "    </tr>\n",
       "    <tr>\n",
       "      <th>479</th>\n",
       "      <td>-35.733633</td>\n",
       "      <td>2.913785</td>\n",
       "      <td>0.0</td>\n",
       "      <td>-0.007957</td>\n",
       "      <td>-0.025245</td>\n",
       "      <td>0.999650</td>\n",
       "      <td>0.0010</td>\n",
       "      <td>k</td>\n",
       "    </tr>\n",
       "    <tr>\n",
       "      <th>480</th>\n",
       "      <td>-35.150876</td>\n",
       "      <td>2.913785</td>\n",
       "      <td>0.0</td>\n",
       "      <td>-0.013005</td>\n",
       "      <td>-0.025244</td>\n",
       "      <td>0.999597</td>\n",
       "      <td>0.0010</td>\n",
       "      <td>k</td>\n",
       "    </tr>\n",
       "    <tr>\n",
       "      <th>481</th>\n",
       "      <td>-34.568119</td>\n",
       "      <td>2.913785</td>\n",
       "      <td>0.0</td>\n",
       "      <td>-0.018052</td>\n",
       "      <td>-0.025242</td>\n",
       "      <td>0.999518</td>\n",
       "      <td>0.0010</td>\n",
       "      <td>k</td>\n",
       "    </tr>\n",
       "    <tr>\n",
       "      <th>482</th>\n",
       "      <td>-33.985362</td>\n",
       "      <td>2.913785</td>\n",
       "      <td>0.0</td>\n",
       "      <td>-0.023098</td>\n",
       "      <td>-0.025239</td>\n",
       "      <td>0.999415</td>\n",
       "      <td>0.0010</td>\n",
       "      <td>k</td>\n",
       "    </tr>\n",
       "    <tr>\n",
       "      <th>483</th>\n",
       "      <td>-33.402605</td>\n",
       "      <td>2.913785</td>\n",
       "      <td>0.0</td>\n",
       "      <td>-0.028143</td>\n",
       "      <td>-0.025236</td>\n",
       "      <td>0.999285</td>\n",
       "      <td>0.0010</td>\n",
       "      <td>k</td>\n",
       "    </tr>\n",
       "  </tbody>\n",
       "</table>\n",
       "<p>484 rows × 8 columns</p>\n",
       "</div>"
      ],
      "text/plain": [
       "            X0        Y0   Z0        U0        V0        W0    wave col\n",
       "0   -39.230175 -2.913785  0.0  0.022332  0.025239  0.999432  0.0004   b\n",
       "1   -38.647418 -2.913785  0.0  0.017286  0.025242  0.999532  0.0004   b\n",
       "2   -38.064661 -2.913785  0.0  0.012239  0.025244  0.999606  0.0004   b\n",
       "3   -37.481904 -2.913785  0.0  0.007190  0.025245  0.999655  0.0004   b\n",
       "4   -36.899147 -2.913785  0.0  0.002141  0.025246  0.999679  0.0004   b\n",
       "5   -36.316390 -2.913785  0.0 -0.002908  0.025246  0.999677  0.0004   b\n",
       "6   -35.733633 -2.913785  0.0 -0.007957  0.025245  0.999650  0.0004   b\n",
       "7   -35.150876 -2.913785  0.0 -0.013005  0.025244  0.999597  0.0004   b\n",
       "8   -34.568119 -2.913785  0.0 -0.018052  0.025242  0.999518  0.0004   b\n",
       "9   -33.985362 -2.913785  0.0 -0.023098  0.025239  0.999415  0.0004   b\n",
       "10  -33.402605 -2.913785  0.0 -0.028143  0.025236  0.999285  0.0004   b\n",
       "11  -39.230175 -2.331028  0.0  0.022335  0.020194  0.999547  0.0004   b\n",
       "12  -38.647418 -2.331028  0.0  0.017288  0.020196  0.999647  0.0004   b\n",
       "13  -38.064661 -2.331028  0.0  0.012240  0.020197  0.999721  0.0004   b\n",
       "14  -37.481904 -2.331028  0.0  0.007191  0.020198  0.999770  0.0004   b\n",
       "15  -36.899147 -2.331028  0.0  0.002141  0.020199  0.999794  0.0004   b\n",
       "16  -36.316390 -2.331028  0.0 -0.002908  0.020199  0.999792  0.0004   b\n",
       "17  -35.733633 -2.331028  0.0 -0.007958  0.020198  0.999764  0.0004   b\n",
       "18  -35.150876 -2.331028  0.0 -0.013007  0.020197  0.999711  0.0004   b\n",
       "19  -34.568119 -2.331028  0.0 -0.018055  0.020196  0.999633  0.0004   b\n",
       "20  -33.985362 -2.331028  0.0 -0.023101  0.020194  0.999529  0.0004   b\n",
       "21  -33.402605 -2.331028  0.0 -0.028146  0.020191  0.999400  0.0004   b\n",
       "22  -39.230175 -1.748271  0.0  0.022337  0.015147  0.999636  0.0004   b\n",
       "23  -38.647418 -1.748271  0.0  0.017290  0.015148  0.999736  0.0004   b\n",
       "24  -38.064661 -1.748271  0.0  0.012241  0.015149  0.999810  0.0004   b\n",
       "25  -37.481904 -1.748271  0.0  0.007192  0.015150  0.999859  0.0004   b\n",
       "26  -36.899147 -1.748271  0.0  0.002142  0.015151  0.999883  0.0004   b\n",
       "27  -36.316390 -1.748271  0.0 -0.002909  0.015150  0.999881  0.0004   b\n",
       "28  -35.733633 -1.748271  0.0 -0.007958  0.015150  0.999854  0.0004   b\n",
       "29  -35.150876 -1.748271  0.0 -0.013008  0.015149  0.999801  0.0004   b\n",
       "..         ...       ...  ...       ...       ...       ...     ...  ..\n",
       "454 -37.481904  1.748271  0.0  0.007192 -0.015150  0.999859  0.0010   k\n",
       "455 -36.899147  1.748271  0.0  0.002142 -0.015151  0.999883  0.0010   k\n",
       "456 -36.316390  1.748271  0.0 -0.002909 -0.015150  0.999881  0.0010   k\n",
       "457 -35.733633  1.748271  0.0 -0.007958 -0.015150  0.999854  0.0010   k\n",
       "458 -35.150876  1.748271  0.0 -0.013008 -0.015149  0.999801  0.0010   k\n",
       "459 -34.568119  1.748271  0.0 -0.018056 -0.015148  0.999722  0.0010   k\n",
       "460 -33.985362  1.748271  0.0 -0.023103 -0.015147  0.999618  0.0010   k\n",
       "461 -33.402605  1.748271  0.0 -0.028148 -0.015145  0.999489  0.0010   k\n",
       "462 -39.230175  2.331028  0.0  0.022335 -0.020194  0.999547  0.0010   k\n",
       "463 -38.647418  2.331028  0.0  0.017288 -0.020196  0.999647  0.0010   k\n",
       "464 -38.064661  2.331028  0.0  0.012240 -0.020197  0.999721  0.0010   k\n",
       "465 -37.481904  2.331028  0.0  0.007191 -0.020198  0.999770  0.0010   k\n",
       "466 -36.899147  2.331028  0.0  0.002141 -0.020199  0.999794  0.0010   k\n",
       "467 -36.316390  2.331028  0.0 -0.002908 -0.020199  0.999792  0.0010   k\n",
       "468 -35.733633  2.331028  0.0 -0.007958 -0.020198  0.999764  0.0010   k\n",
       "469 -35.150876  2.331028  0.0 -0.013007 -0.020197  0.999711  0.0010   k\n",
       "470 -34.568119  2.331028  0.0 -0.018055 -0.020196  0.999633  0.0010   k\n",
       "471 -33.985362  2.331028  0.0 -0.023101 -0.020194  0.999529  0.0010   k\n",
       "472 -33.402605  2.331028  0.0 -0.028146 -0.020191  0.999400  0.0010   k\n",
       "473 -39.230175  2.913785  0.0  0.022332 -0.025239  0.999432  0.0010   k\n",
       "474 -38.647418  2.913785  0.0  0.017286 -0.025242  0.999532  0.0010   k\n",
       "475 -38.064661  2.913785  0.0  0.012239 -0.025244  0.999606  0.0010   k\n",
       "476 -37.481904  2.913785  0.0  0.007190 -0.025245  0.999655  0.0010   k\n",
       "477 -36.899147  2.913785  0.0  0.002141 -0.025246  0.999679  0.0010   k\n",
       "478 -36.316390  2.913785  0.0 -0.002908 -0.025246  0.999677  0.0010   k\n",
       "479 -35.733633  2.913785  0.0 -0.007957 -0.025245  0.999650  0.0010   k\n",
       "480 -35.150876  2.913785  0.0 -0.013005 -0.025244  0.999597  0.0010   k\n",
       "481 -34.568119  2.913785  0.0 -0.018052 -0.025242  0.999518  0.0010   k\n",
       "482 -33.985362  2.913785  0.0 -0.023098 -0.025239  0.999415  0.0010   k\n",
       "483 -33.402605  2.913785  0.0 -0.028143 -0.025236  0.999285  0.0010   k\n",
       "\n",
       "[484 rows x 8 columns]"
      ]
     },
     "execution_count": 115,
     "metadata": {},
     "output_type": "execute_result"
    }
   ],
   "source": [
    "df"
   ]
  },
  {
   "cell_type": "code",
   "execution_count": 116,
   "metadata": {},
   "outputs": [
    {
     "name": "stdout",
     "output_type": "stream",
     "text": [
      "Beam4_Rayfile_484_allwl_p100_m00.xlsx\n"
     ]
    }
   ],
   "source": [
    "print Beam4_Rayfile"
   ]
  },
  {
   "cell_type": "code",
   "execution_count": 117,
   "metadata": {},
   "outputs": [],
   "source": [
    "df.to_excel(Beam4_Rayfile)"
   ]
  },
  {
   "cell_type": "code",
   "execution_count": 118,
   "metadata": {},
   "outputs": [
    {
     "data": {
      "text/plain": [
       "76.19999999999999"
      ]
     },
     "execution_count": 118,
     "metadata": {},
     "output_type": "execute_result"
    }
   ],
   "source": [
    "Filt_size"
   ]
  },
  {
   "cell_type": "code",
   "execution_count": 119,
   "metadata": {},
   "outputs": [
    {
     "data": {
      "text/plain": [
       "115.38"
      ]
     },
     "execution_count": 119,
     "metadata": {},
     "output_type": "execute_result"
    }
   ],
   "source": [
    "2*Filt_D*m_to_mm"
   ]
  },
  {
   "cell_type": "code",
   "execution_count": null,
   "metadata": {},
   "outputs": [],
   "source": []
  }
 ],
 "metadata": {
  "anaconda-cloud": {},
  "kernelspec": {
   "display_name": "Python 2",
   "language": "python",
   "name": "python2"
  },
  "language_info": {
   "codemirror_mode": {
    "name": "ipython",
    "version": 2
   },
   "file_extension": ".py",
   "mimetype": "text/x-python",
   "name": "python",
   "nbconvert_exporter": "python",
   "pygments_lexer": "ipython2",
   "version": "2.7.14"
  },
  "toc": {
   "nav_menu": {},
   "number_sections": true,
   "sideBar": true,
   "skip_h1_title": false,
   "toc_cell": false,
   "toc_position": {},
   "toc_section_display": "block",
   "toc_window_display": false
  }
 },
 "nbformat": 4,
 "nbformat_minor": 1
}
