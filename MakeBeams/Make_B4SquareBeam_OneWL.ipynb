{
 "cells": [
  {
   "cell_type": "markdown",
   "metadata": {},
   "source": [
    "# Make an Excel Ray file for Beam4\n",
    "\n",
    "\n",
    "- Geometry : Auxiliary Telescope Geometry (AuxTel)"
   ]
  },
  {
   "cell_type": "markdown",
   "metadata": {},
   "source": [
    "- author : Sylvie Dagoret-Campagne\n",
    "- affiliation : LAL/IN2P3/CNRS\n",
    "- date : January 14th 2017\n",
    "- update : Jun  6 th 2018\n",
    "\n",
    "\n",
    "Simple 2D optical geometry for the optical setup of CTIO 0.9m telescope with Ronchi Grating.\n",
    "This is a tool to adjust the CCD position wrt Filter wheel to obtained a\n",
    "\n",
    "\n",
    "This is a python notebook (not a sagemath notebook)\n",
    "- command:\n",
    "** ipython notebook **"
   ]
  },
  {
   "cell_type": "code",
   "execution_count": 312,
   "metadata": {},
   "outputs": [],
   "source": [
    "%matplotlib inline\n",
    "import matplotlib.pyplot as plt\n",
    "import numpy as np\n",
    "import os\n",
    "import matplotlib as mpl\n",
    "import pandas as pd\n",
    "import itertools"
   ]
  },
  {
   "cell_type": "code",
   "execution_count": 313,
   "metadata": {},
   "outputs": [],
   "source": [
    "# to enlarge the sizes\n",
    "params = {'legend.fontsize': 'x-large',\n",
    "          'figure.figsize': (8, 8),\n",
    "         'axes.labelsize': 'x-large',\n",
    "         'axes.titlesize':'x-large',\n",
    "         'xtick.labelsize':'x-large',\n",
    "         'ytick.labelsize':'x-large'}\n",
    "plt.rcParams.update(params)"
   ]
  },
  {
   "cell_type": "markdown",
   "metadata": {},
   "source": [
    "## Output filename and desired wavelength"
   ]
  },
  {
   "cell_type": "code",
   "execution_count": 314,
   "metadata": {},
   "outputs": [],
   "source": [
    "root_filename=\"Beam4_Rayfile_\""
   ]
  },
  {
   "cell_type": "code",
   "execution_count": 315,
   "metadata": {},
   "outputs": [],
   "source": [
    "# number of rays\n",
    "NBEAM_X=11\n",
    "NBEAM_Y=11\n",
    "NBEAM=NBEAM_X*NBEAM_Y"
   ]
  },
  {
   "cell_type": "code",
   "execution_count": 316,
   "metadata": {},
   "outputs": [],
   "source": [
    "Wavelength=0.4\n",
    "WL=int(1000.*Wavelength)"
   ]
  },
  {
   "cell_type": "code",
   "execution_count": 317,
   "metadata": {},
   "outputs": [],
   "source": [
    "theta_x=0.045*60.  # targent offset\n",
    "theta_y=0 # angle in arcmin "
   ]
  },
  {
   "cell_type": "code",
   "execution_count": 318,
   "metadata": {},
   "outputs": [],
   "source": [
    "theta_x_num=int(theta_x*10)\n",
    "theta_y_num=int(theta_y*10)"
   ]
  },
  {
   "cell_type": "code",
   "execution_count": 319,
   "metadata": {},
   "outputs": [],
   "source": [
    "Beam4_Rayfile=\"Beam4_Rayfile_{:d}_{:d}nm_{:d}_{:d}.xlsx\".format(NBEAM,WL,theta_x_num,theta_y_num)"
   ]
  },
  {
   "cell_type": "code",
   "execution_count": 320,
   "metadata": {},
   "outputs": [
    {
     "data": {
      "text/plain": [
       "'Beam4_Rayfile_121_400nm_26_0.xlsx'"
      ]
     },
     "execution_count": 320,
     "metadata": {},
     "output_type": "execute_result"
    }
   ],
   "source": [
    "Beam4_Rayfile"
   ]
  },
  {
   "cell_type": "markdown",
   "metadata": {},
   "source": [
    "## Constants for conversions"
   ]
  },
  {
   "cell_type": "code",
   "execution_count": 321,
   "metadata": {},
   "outputs": [],
   "source": [
    "m_to_mm=1000.\n",
    "mm_to_m=1e-3\n",
    "inch_to_mm=25.4\n",
    "mm_to_inch=1./inch_to_mm\n",
    "micr_to_m=1e-6\n",
    "micr_to_mm=1e-3\n",
    "m_to_micr=1./micr_to_m\n",
    "m_to_cm=100.\n",
    "m_to_nm=1e9\n",
    "nm_to_m=1./m_to_nm"
   ]
  },
  {
   "cell_type": "code",
   "execution_count": 322,
   "metadata": {},
   "outputs": [],
   "source": [
    "arcdeg_to_arcmin=60.\n",
    "arcmin_to_arcdeg=1./arcdeg_to_arcmin\n",
    "arcmin_to_arcsec=60.\n",
    "arcsec_to_arcmin=1./arcmin_to_arcsec\n",
    "arcdeg_to_arcsec=arcdeg_to_arcmin*arcmin_to_arcsec\n",
    "arcsec_to_arcdeg=1./arcdeg_to_arcsec"
   ]
  },
  {
   "cell_type": "code",
   "execution_count": 323,
   "metadata": {},
   "outputs": [],
   "source": [
    "deg_to_rad=np.pi/180.\n",
    "rad_to_deg=1./deg_to_rad\n",
    "rad_to_arcsec=rad_to_deg*arcdeg_to_arcsec\n",
    "rad_to_arcmin=rad_to_deg*arcdeg_to_arcmin\n",
    "arcmin_to_rad=1./rad_to_arcmin\n",
    "arcsec_to_rad=1./rad_to_arcsec"
   ]
  },
  {
   "cell_type": "markdown",
   "metadata": {},
   "source": [
    "## Configuration parameters at the telescope\n",
    "--------------------------------------------------------"
   ]
  },
  {
   "cell_type": "markdown",
   "metadata": {},
   "source": [
    "#### Telescope"
   ]
  },
  {
   "cell_type": "code",
   "execution_count": 324,
   "metadata": {},
   "outputs": [],
   "source": [
    "Tel_Focal_Length=21.6 # m : Focal length of the telescope\n",
    "Tel_Diameter=1.2 # m : Diameter of the telescope    "
   ]
  },
  {
   "cell_type": "code",
   "execution_count": 325,
   "metadata": {},
   "outputs": [],
   "source": [
    "Tel_Fnum=Tel_Focal_Length/Tel_Diameter"
   ]
  },
  {
   "cell_type": "code",
   "execution_count": 326,
   "metadata": {},
   "outputs": [
    {
     "name": "stdout",
     "output_type": "stream",
     "text": [
      "Aperture/D =  18.0 \n"
     ]
    }
   ],
   "source": [
    "print \"Aperture/D =  {} \".format(Tel_Fnum)"
   ]
  },
  {
   "cell_type": "code",
   "execution_count": 327,
   "metadata": {},
   "outputs": [],
   "source": [
    "alpha=Tel_Diameter/2./Tel_Focal_Length"
   ]
  },
  {
   "cell_type": "code",
   "execution_count": 328,
   "metadata": {},
   "outputs": [
    {
     "name": "stdout",
     "output_type": "stream",
     "text": [
      "Beam half angle alpha= 1.59154943092 degree\n"
     ]
    }
   ],
   "source": [
    "print \"Beam half angle alpha= {} degree\".format(alpha*rad_to_deg)"
   ]
  },
  {
   "cell_type": "markdown",
   "metadata": {},
   "source": [
    "#### Filter"
   ]
  },
  {
   "cell_type": "code",
   "execution_count": 329,
   "metadata": {},
   "outputs": [],
   "source": [
    "Filt_D=0.265 # m distance of the rotator plane wrt CCD plane\n",
    "Filt_size=3*inch_to_mm"
   ]
  },
  {
   "cell_type": "code",
   "execution_count": 330,
   "metadata": {},
   "outputs": [
    {
     "data": {
      "text/plain": [
       "76.19999999999999"
      ]
     },
     "execution_count": 330,
     "metadata": {},
     "output_type": "execute_result"
    }
   ],
   "source": [
    "Filt_size"
   ]
  },
  {
   "cell_type": "markdown",
   "metadata": {},
   "source": [
    "#### Hologram"
   ]
  },
  {
   "cell_type": "code",
   "execution_count": 331,
   "metadata": {},
   "outputs": [],
   "source": [
    "Holo_D=-0.190 # m distance to the CCD plane"
   ]
  },
  {
   "cell_type": "markdown",
   "metadata": {},
   "source": [
    "#### CCD Detector"
   ]
  },
  {
   "cell_type": "code",
   "execution_count": 332,
   "metadata": {},
   "outputs": [],
   "source": [
    "Det_xpic=10.0 # microns per pixel\n",
    "Det_NbPix=4096 # number of pixels per CCD side\n",
    "Det_size=Det_xpic*Det_NbPix*micr_to_mm # CCD size in mm, 5 cm or 2 inches"
   ]
  },
  {
   "cell_type": "code",
   "execution_count": 333,
   "metadata": {},
   "outputs": [
    {
     "name": "stdout",
     "output_type": "stream",
     "text": [
      "Detecteur size = 40.96 mm\n"
     ]
    }
   ],
   "source": [
    "print 'Detecteur size = {} mm'.format(Det_size)"
   ]
  },
  {
   "cell_type": "code",
   "execution_count": 334,
   "metadata": {},
   "outputs": [],
   "source": [
    "Det_pix_angl=Det_xpic*micr_to_m/Tel_Focal_Length   # in radian"
   ]
  },
  {
   "cell_type": "code",
   "execution_count": 335,
   "metadata": {},
   "outputs": [
    {
     "data": {
      "text/plain": [
       "0.0954929658551372"
      ]
     },
     "execution_count": 335,
     "metadata": {},
     "output_type": "execute_result"
    }
   ],
   "source": [
    "Det_pix_angl*rad_to_arcsec"
   ]
  },
  {
   "cell_type": "code",
   "execution_count": 336,
   "metadata": {},
   "outputs": [
    {
     "name": "stdout",
     "output_type": "stream",
     "text": [
      "pixel viewing angle = 0.0954929658551 arcsec \n"
     ]
    }
   ],
   "source": [
    "print \"pixel viewing angle = {} arcsec \".format(Det_pix_angl*rad_to_arcsec)"
   ]
  },
  {
   "cell_type": "code",
   "execution_count": 337,
   "metadata": {},
   "outputs": [],
   "source": [
    "fov =Det_pix_angl*Det_NbPix*rad_to_arcmin"
   ]
  },
  {
   "cell_type": "code",
   "execution_count": 338,
   "metadata": {},
   "outputs": [
    {
     "name": "stdout",
     "output_type": "stream",
     "text": [
      "Full FOV = 6.51898646904 arcmin\n"
     ]
    }
   ],
   "source": [
    "print 'Full FOV = {} arcmin'.format(fov)"
   ]
  },
  {
   "cell_type": "markdown",
   "metadata": {},
   "source": [
    "## Location of the source in the field of view\n",
    "\n",
    "The Field of view of the telescope is +/- 30 arcmin\n",
    "\n",
    "\n",
    "- ($\\theta_x, \\theta_y$) in arcmin to be specified\n",
    "- ($\\alpha_x, \\alpha_y$) in radian calculated "
   ]
  },
  {
   "cell_type": "code",
   "execution_count": 382,
   "metadata": {},
   "outputs": [],
   "source": [
    "theta_fov_max=30.\n",
    "theta_fov_min=-30."
   ]
  },
  {
   "cell_type": "markdown",
   "metadata": {
    "collapsed": true
   },
   "source": [
    "### Off axis angle in radian"
   ]
  },
  {
   "cell_type": "code",
   "execution_count": 340,
   "metadata": {},
   "outputs": [],
   "source": [
    "theta_x=theta_x*arcmin_to_rad\n",
    "theta_y=theta_y*arcmin_to_rad"
   ]
  },
  {
   "cell_type": "code",
   "execution_count": 341,
   "metadata": {},
   "outputs": [
    {
     "name": "stdout",
     "output_type": "stream",
     "text": [
      "theta_x = 0.000785398163397 rad \n",
      "theta_y = 0.0 rad \n"
     ]
    }
   ],
   "source": [
    "print 'theta_x = {} rad '.format(theta_x)\n",
    "print 'theta_y = {} rad '.format(theta_y)"
   ]
  },
  {
   "cell_type": "markdown",
   "metadata": {},
   "source": [
    "### Angles of upper (1) and lower (2) rays"
   ]
  },
  {
   "cell_type": "code",
   "execution_count": 342,
   "metadata": {},
   "outputs": [],
   "source": [
    "tan_beta1_x=np.tan(alpha)+np.tan(theta_x)\n",
    "tan_beta2_x=np.tan(alpha)-np.tan(theta_x)"
   ]
  },
  {
   "cell_type": "code",
   "execution_count": 343,
   "metadata": {},
   "outputs": [
    {
     "name": "stdout",
     "output_type": "stream",
     "text": [
      "beta1_x = 0.0285703227986 rad \n",
      "beta2_x = 0.0269995261488 rad \n"
     ]
    }
   ],
   "source": [
    "print 'beta1_x = {} rad '.format(tan_beta1_x)\n",
    "print 'beta2_x = {} rad '.format(tan_beta2_x)"
   ]
  },
  {
   "cell_type": "code",
   "execution_count": 344,
   "metadata": {},
   "outputs": [],
   "source": [
    "tan_beta1_y=np.tan(alpha)+np.tan(theta_y)\n",
    "tan_beta2_y=np.tan(alpha)-np.tan(theta_y)"
   ]
  },
  {
   "cell_type": "code",
   "execution_count": 345,
   "metadata": {},
   "outputs": [],
   "source": [
    "beta1_x=np.arctan(tan_beta1_x)\n",
    "beta2_x=np.arctan(tan_beta2_x)\n",
    "beta1_y=np.arctan(tan_beta1_y)\n",
    "beta2_y=np.arctan(tan_beta2_y)"
   ]
  },
  {
   "cell_type": "markdown",
   "metadata": {},
   "source": [
    "## Where to start the tracking of rays\n",
    "\n",
    "- Units in mm\n",
    "- The origin is where the optical effective converging system start at O(0,0,0)\n",
    "- (X0,Y0,Z0) : coordinates of Beam rays starting points"
   ]
  },
  {
   "cell_type": "markdown",
   "metadata": {},
   "source": [
    "### Z coordinate where the beam start\n",
    "\n",
    "- the Z origin is that of Focal Point"
   ]
  },
  {
   "cell_type": "code",
   "execution_count": 347,
   "metadata": {},
   "outputs": [],
   "source": [
    "Z00=-Filt_D*m_to_mm  # distance between plane where the trcking beam start. Origin in Z at FP"
   ]
  },
  {
   "cell_type": "markdown",
   "metadata": {},
   "source": [
    "### (X,Y) coordinate of Focal point at Z origin"
   ]
  },
  {
   "cell_type": "code",
   "execution_count": 383,
   "metadata": {},
   "outputs": [],
   "source": [
    "X0P=-Tel_Focal_Length*m_to_mm*np.tan(theta_x)\n",
    "Y0P=-Tel_Focal_Length*m_to_mm*np.tan(theta_y)"
   ]
  },
  {
   "cell_type": "markdown",
   "metadata": {},
   "source": [
    "### (X,Y) coordinate of central ray where the beam tracking start"
   ]
  },
  {
   "cell_type": "code",
   "execution_count": 349,
   "metadata": {},
   "outputs": [],
   "source": [
    "X00=X0P-Z00*np.sin(theta_x)  # central beam\n",
    "Y00=Y0P-Z00*np.sin(theta_y)  # central beam"
   ]
  },
  {
   "cell_type": "markdown",
   "metadata": {},
   "source": [
    "### X-up, X-down position where the beam start"
   ]
  },
  {
   "cell_type": "code",
   "execution_count": 350,
   "metadata": {},
   "outputs": [],
   "source": [
    "X01=X0P-Z00*np.sin(beta1_x)\n",
    "X02=X0P+Z00*np.sin(beta2_x)"
   ]
  },
  {
   "cell_type": "code",
   "execution_count": 351,
   "metadata": {},
   "outputs": [
    {
     "name": "stdout",
     "output_type": "stream",
     "text": [
      "X01= -9.39655640575 mm , X00 = -16.7564733257 mm , X02= -24.1168718118 mm\n"
     ]
    }
   ],
   "source": [
    "print \"X01= {} mm , X00 = {} mm , X02= {} mm\".format( X01, X00, X02)"
   ]
  },
  {
   "cell_type": "code",
   "execution_count": null,
   "metadata": {},
   "outputs": [],
   "source": []
  },
  {
   "cell_type": "code",
   "execution_count": 352,
   "metadata": {},
   "outputs": [],
   "source": [
    "Y01=Y0P-Z00*np.sin(beta1_y)\n",
    "Y02=Y0P+Z00*np.sin(beta2_y)"
   ]
  },
  {
   "cell_type": "code",
   "execution_count": 353,
   "metadata": {},
   "outputs": [
    {
     "name": "stdout",
     "output_type": "stream",
     "text": [
      "Y01= 7.36016450268 mm , Y00 = 0.0 mm , Y02= -7.36016450268 mm\n"
     ]
    }
   ],
   "source": [
    "print \"Y01= {} mm , Y00 = {} mm , Y02= {} mm\".format( Y01, Y00, Y02)"
   ]
  },
  {
   "cell_type": "code",
   "execution_count": 354,
   "metadata": {},
   "outputs": [],
   "source": [
    "XMIN=X02\n",
    "XMAX=X01"
   ]
  },
  {
   "cell_type": "code",
   "execution_count": 355,
   "metadata": {},
   "outputs": [],
   "source": [
    "YMIN=Y02\n",
    "YMAX=Y01"
   ]
  },
  {
   "cell_type": "markdown",
   "metadata": {},
   "source": [
    "# Number of points"
   ]
  },
  {
   "cell_type": "code",
   "execution_count": 356,
   "metadata": {},
   "outputs": [],
   "source": [
    "X = np.linspace(XMIN, XMAX, NBEAM_X)\n",
    "Y = np.linspace(YMIN, YMAX, NBEAM_Y)\n",
    "XX, YY = np.meshgrid(X, Y)"
   ]
  },
  {
   "cell_type": "code",
   "execution_count": 357,
   "metadata": {},
   "outputs": [],
   "source": [
    "pts = itertools.product(X, Y)"
   ]
  },
  {
   "cell_type": "code",
   "execution_count": 358,
   "metadata": {},
   "outputs": [
    {
     "data": {
      "text/plain": [
       "Text(0,0.5,'Y')"
      ]
     },
     "execution_count": 358,
     "metadata": {},
     "output_type": "execute_result"
    },
    {
     "data": {
      "image/png": "[encoded data removed]",
      "text/plain": [
       "<Figure size 576x576 with 1 Axes>"
      ]
     },
     "metadata": {},
     "output_type": "display_data"
    }
   ],
   "source": [
    "plt.grid()\n",
    "plt.scatter(*zip(*pts), marker='o', s=30, color='red')\n",
    "plt.xlabel(\"X\")\n",
    "plt.ylabel(\"Y\")"
   ]
  },
  {
   "cell_type": "code",
   "execution_count": 359,
   "metadata": {},
   "outputs": [
    {
     "data": {
      "text/plain": [
       "Text(0.5,1,'Impact points at telescope aperture')"
      ]
     },
     "execution_count": 359,
     "metadata": {},
     "output_type": "execute_result"
    },
    {
     "data": {
      "image/png": "[encoded data removed]",
      "text/plain": [
       "<Figure size 576x576 with 1 Axes>"
      ]
     },
     "metadata": {},
     "output_type": "display_data"
    }
   ],
   "source": [
    "plt.scatter(XX,YY, marker='o', s=30, color='red')\n",
    "#plt.ylim(YMIN,YMAX)\n",
    "#plt.xlim(XMIN,XMAX)\n",
    "plt.grid()\n",
    "plt.xlabel(\"X\")\n",
    "plt.ylabel(\"Y\")\n",
    "plt.title(\"Impact points at telescope aperture\")"
   ]
  },
  {
   "cell_type": "code",
   "execution_count": 362,
   "metadata": {},
   "outputs": [],
   "source": [
    "def GetCosinusDirector(X,Y,Z,X0,Y0):\n",
    "    \"\"\"\n",
    "    The size of X,Y is the number of Rays\n",
    "    \"\"\"\n",
    "    \n",
    "    DeltaX=X0-X\n",
    "    DeltaY=Y0-Y\n",
    "    DeltaZ=-Z\n",
    "    \n",
    "    \n",
    "    Norm=np.sqrt( np.power(DeltaX,2) + np.power(DeltaY,2)+ DeltaZ**2)\n",
    "    UX=DeltaX/Norm\n",
    "    UY=DeltaY/Norm\n",
    "    UZ=DeltaZ/Norm\n",
    "    return UX,UY,UZ    "
   ]
  },
  {
   "cell_type": "code",
   "execution_count": 363,
   "metadata": {},
   "outputs": [],
   "source": [
    "UX,UY,UZ=GetCosinusDirector(XX,YY,Z00,X0P,Y0P)"
   ]
  },
  {
   "cell_type": "code",
   "execution_count": 364,
   "metadata": {},
   "outputs": [
    {
     "data": {
      "text/plain": [
       "Text(0.5,1,'Vector field')"
      ]
     },
     "execution_count": 364,
     "metadata": {},
     "output_type": "execute_result"
    },
    {
     "data": {
      "image/png": "[encoded data removed]",
      "text/plain": [
       "<Figure size 576x576 with 1 Axes>"
      ]
     },
     "metadata": {},
     "output_type": "display_data"
    }
   ],
   "source": [
    "plt.grid()\n",
    "q = plt.quiver(XX,YY,UX,UY,angles='xy',scale=0.5,color='r')\n",
    "plt.scatter(XX,YY, marker='o', s=10, color='black')\n",
    "plt.xlabel(\"X\")\n",
    "plt.ylabel(\"Y\")\n",
    "plt.title(\"Vector field\")"
   ]
  },
  {
   "cell_type": "code",
   "execution_count": 365,
   "metadata": {},
   "outputs": [],
   "source": [
    "def GetStartingPoint(X,Y,thealpha_x,the_alpha_y,f,Z0):\n",
    "    theX0=(1-Z0/f)*X-Z0*np.tan(alpha_x)\n",
    "    theY0=(1-Z0/f)*Y-Z0*np.tan(alpha_y)\n",
    "    return theX0,theY0\n",
    "    "
   ]
  },
  {
   "cell_type": "code",
   "execution_count": 366,
   "metadata": {},
   "outputs": [],
   "source": [
    "#(X0,Y0)=GetStartingPoint(XX,YY,alpha_x,alpha_y,Z0,Z1)"
   ]
  },
  {
   "cell_type": "code",
   "execution_count": 367,
   "metadata": {},
   "outputs": [],
   "source": [
    "def GetPointPosition(X,Y,DeltaZ,UX,UY,UZ):\n",
    "    k=DeltaZ/UZ\n",
    "    theX0=X+k*UX\n",
    "    theY0=Y+k*UY\n",
    "    return theX0,theY0"
   ]
  },
  {
   "cell_type": "code",
   "execution_count": 368,
   "metadata": {},
   "outputs": [],
   "source": [
    "Z1=-Holo_D*m_to_mm  # distance between p"
   ]
  },
  {
   "cell_type": "code",
   "execution_count": 369,
   "metadata": {},
   "outputs": [],
   "source": [
    "DeltaZ=Z1-Z00"
   ]
  },
  {
   "cell_type": "code",
   "execution_count": 370,
   "metadata": {},
   "outputs": [],
   "source": [
    "(X1,Y1)=GetPointPosition(XX,YY,DeltaZ,UX,UY,UZ)"
   ]
  },
  {
   "cell_type": "code",
   "execution_count": 371,
   "metadata": {},
   "outputs": [
    {
     "data": {
      "text/plain": [
       "Text(0.5,1,'Beam Impact point at the Hologram')"
      ]
     },
     "execution_count": 371,
     "metadata": {},
     "output_type": "execute_result"
    },
    {
     "data": {
      "image/png": "[encoded data removed]",
      "text/plain": [
       "<Figure size 576x576 with 1 Axes>"
      ]
     },
     "metadata": {},
     "output_type": "display_data"
    }
   ],
   "source": [
    "plt.scatter(X1,Y1, marker='o', s=20, color='red')\n",
    "plt.grid()\n",
    "#plt.ylim(YMIN,YMAX)\n",
    "#plt.xlim(XMIN,XMAX)\n",
    "\n",
    "#plt.xlim(-Filt_size/2, Filt_size/2)\n",
    "#plt.ylim(-Filt_size/2, Filt_size/2)\n",
    "\n",
    "plt.xlabel(\"X\")\n",
    "plt.ylabel(\"Y\")\n",
    "plt.title(\"Beam Impact point at the Hologram\")"
   ]
  },
  {
   "cell_type": "markdown",
   "metadata": {},
   "source": [
    "## Create Dataframe"
   ]
  },
  {
   "cell_type": "code",
   "execution_count": 372,
   "metadata": {},
   "outputs": [],
   "source": [
    "df = pd.DataFrame()"
   ]
  },
  {
   "cell_type": "code",
   "execution_count": 373,
   "metadata": {},
   "outputs": [],
   "source": [
    "Xout=X0.flatten()\n",
    "Yout=Y0.flatten()"
   ]
  },
  {
   "cell_type": "code",
   "execution_count": 374,
   "metadata": {},
   "outputs": [],
   "source": [
    "Uout=UX.flatten()\n",
    "Vout=UY.flatten()\n",
    "Wout=UZ.flatten()"
   ]
  },
  {
   "cell_type": "code",
   "execution_count": 375,
   "metadata": {},
   "outputs": [],
   "source": [
    "Zout=np.zeros(NBEAM)"
   ]
  },
  {
   "cell_type": "code",
   "execution_count": 376,
   "metadata": {},
   "outputs": [],
   "source": [
    "Wave=Wavelength*np.ones(NBEAM)"
   ]
  },
  {
   "cell_type": "code",
   "execution_count": 377,
   "metadata": {},
   "outputs": [],
   "source": [
    "df[\"X0\"]=Xout\n",
    "df[\"Y0\"]=Yout\n",
    "df[\"Z0\"]=Zout\n",
    "df[\"U0\"]=Uout\n",
    "df[\"V0\"]=Vout\n",
    "df[\"W0\"]=Wout\n",
    "df[\"wave\"]=Wave"
   ]
  },
  {
   "cell_type": "code",
   "execution_count": 378,
   "metadata": {},
   "outputs": [
    {
     "data": {
      "text/html": [
       "<div>\n",
       "<style scoped>\n",
       "    .dataframe tbody tr th:only-of-type {\n",
       "        vertical-align: middle;\n",
       "    }\n",
       "\n",
       "    .dataframe tbody tr th {\n",
       "        vertical-align: top;\n",
       "    }\n",
       "\n",
       "    .dataframe thead th {\n",
       "        text-align: right;\n",
       "    }\n",
       "</style>\n",
       "<table border=\"1\" class=\"dataframe\">\n",
       "  <thead>\n",
       "    <tr style=\"text-align: right;\">\n",
       "      <th></th>\n",
       "      <th>X0</th>\n",
       "      <th>Y0</th>\n",
       "      <th>Z0</th>\n",
       "      <th>U0</th>\n",
       "      <th>V0</th>\n",
       "      <th>W0</th>\n",
       "      <th>wave</th>\n",
       "    </tr>\n",
       "  </thead>\n",
       "  <tbody>\n",
       "    <tr>\n",
       "      <th>0</th>\n",
       "      <td>-11.836563</td>\n",
       "      <td>5.277099</td>\n",
       "      <td>0.0</td>\n",
       "      <td>0.026969</td>\n",
       "      <td>0.027753</td>\n",
       "      <td>0.999251</td>\n",
       "      <td>0.4</td>\n",
       "    </tr>\n",
       "    <tr>\n",
       "      <th>1</th>\n",
       "      <td>-12.891981</td>\n",
       "      <td>5.277099</td>\n",
       "      <td>0.0</td>\n",
       "      <td>0.021422</td>\n",
       "      <td>0.027757</td>\n",
       "      <td>0.999385</td>\n",
       "      <td>0.4</td>\n",
       "    </tr>\n",
       "    <tr>\n",
       "      <th>2</th>\n",
       "      <td>-13.947400</td>\n",
       "      <td>5.277099</td>\n",
       "      <td>0.0</td>\n",
       "      <td>0.015872</td>\n",
       "      <td>0.027760</td>\n",
       "      <td>0.999489</td>\n",
       "      <td>0.4</td>\n",
       "    </tr>\n",
       "    <tr>\n",
       "      <th>3</th>\n",
       "      <td>-15.002819</td>\n",
       "      <td>5.277099</td>\n",
       "      <td>0.0</td>\n",
       "      <td>0.010321</td>\n",
       "      <td>0.027762</td>\n",
       "      <td>0.999561</td>\n",
       "      <td>0.4</td>\n",
       "    </tr>\n",
       "    <tr>\n",
       "      <th>4</th>\n",
       "      <td>-16.058238</td>\n",
       "      <td>5.277099</td>\n",
       "      <td>0.0</td>\n",
       "      <td>0.004768</td>\n",
       "      <td>0.027763</td>\n",
       "      <td>0.999603</td>\n",
       "      <td>0.4</td>\n",
       "    </tr>\n",
       "    <tr>\n",
       "      <th>5</th>\n",
       "      <td>-17.113657</td>\n",
       "      <td>5.277099</td>\n",
       "      <td>0.0</td>\n",
       "      <td>-0.000784</td>\n",
       "      <td>0.027763</td>\n",
       "      <td>0.999614</td>\n",
       "      <td>0.4</td>\n",
       "    </tr>\n",
       "    <tr>\n",
       "      <th>6</th>\n",
       "      <td>-18.169076</td>\n",
       "      <td>5.277099</td>\n",
       "      <td>0.0</td>\n",
       "      <td>-0.006337</td>\n",
       "      <td>0.027763</td>\n",
       "      <td>0.999594</td>\n",
       "      <td>0.4</td>\n",
       "    </tr>\n",
       "    <tr>\n",
       "      <th>7</th>\n",
       "      <td>-19.224494</td>\n",
       "      <td>5.277099</td>\n",
       "      <td>0.0</td>\n",
       "      <td>-0.011889</td>\n",
       "      <td>0.027762</td>\n",
       "      <td>0.999544</td>\n",
       "      <td>0.4</td>\n",
       "    </tr>\n",
       "    <tr>\n",
       "      <th>8</th>\n",
       "      <td>-20.279913</td>\n",
       "      <td>5.277099</td>\n",
       "      <td>0.0</td>\n",
       "      <td>-0.017440</td>\n",
       "      <td>0.027759</td>\n",
       "      <td>0.999462</td>\n",
       "      <td>0.4</td>\n",
       "    </tr>\n",
       "    <tr>\n",
       "      <th>9</th>\n",
       "      <td>-21.335332</td>\n",
       "      <td>5.277099</td>\n",
       "      <td>0.0</td>\n",
       "      <td>-0.022989</td>\n",
       "      <td>0.027756</td>\n",
       "      <td>0.999350</td>\n",
       "      <td>0.4</td>\n",
       "    </tr>\n",
       "    <tr>\n",
       "      <th>10</th>\n",
       "      <td>-22.390751</td>\n",
       "      <td>5.277099</td>\n",
       "      <td>0.0</td>\n",
       "      <td>-0.028536</td>\n",
       "      <td>0.027752</td>\n",
       "      <td>0.999207</td>\n",
       "      <td>0.4</td>\n",
       "    </tr>\n",
       "    <tr>\n",
       "      <th>11</th>\n",
       "      <td>-11.836563</td>\n",
       "      <td>4.221679</td>\n",
       "      <td>0.0</td>\n",
       "      <td>0.026973</td>\n",
       "      <td>0.022206</td>\n",
       "      <td>0.999389</td>\n",
       "      <td>0.4</td>\n",
       "    </tr>\n",
       "    <tr>\n",
       "      <th>12</th>\n",
       "      <td>-12.891981</td>\n",
       "      <td>4.221679</td>\n",
       "      <td>0.0</td>\n",
       "      <td>0.021425</td>\n",
       "      <td>0.022209</td>\n",
       "      <td>0.999524</td>\n",
       "      <td>0.4</td>\n",
       "    </tr>\n",
       "    <tr>\n",
       "      <th>13</th>\n",
       "      <td>-13.947400</td>\n",
       "      <td>4.221679</td>\n",
       "      <td>0.0</td>\n",
       "      <td>0.015874</td>\n",
       "      <td>0.022211</td>\n",
       "      <td>0.999627</td>\n",
       "      <td>0.4</td>\n",
       "    </tr>\n",
       "    <tr>\n",
       "      <th>14</th>\n",
       "      <td>-15.002819</td>\n",
       "      <td>4.221679</td>\n",
       "      <td>0.0</td>\n",
       "      <td>0.010322</td>\n",
       "      <td>0.022213</td>\n",
       "      <td>0.999700</td>\n",
       "      <td>0.4</td>\n",
       "    </tr>\n",
       "    <tr>\n",
       "      <th>15</th>\n",
       "      <td>-16.058238</td>\n",
       "      <td>4.221679</td>\n",
       "      <td>0.0</td>\n",
       "      <td>0.004769</td>\n",
       "      <td>0.022214</td>\n",
       "      <td>0.999742</td>\n",
       "      <td>0.4</td>\n",
       "    </tr>\n",
       "    <tr>\n",
       "      <th>16</th>\n",
       "      <td>-17.113657</td>\n",
       "      <td>4.221679</td>\n",
       "      <td>0.0</td>\n",
       "      <td>-0.000784</td>\n",
       "      <td>0.022214</td>\n",
       "      <td>0.999753</td>\n",
       "      <td>0.4</td>\n",
       "    </tr>\n",
       "    <tr>\n",
       "      <th>17</th>\n",
       "      <td>-18.169076</td>\n",
       "      <td>4.221679</td>\n",
       "      <td>0.0</td>\n",
       "      <td>-0.006338</td>\n",
       "      <td>0.022213</td>\n",
       "      <td>0.999733</td>\n",
       "      <td>0.4</td>\n",
       "    </tr>\n",
       "    <tr>\n",
       "      <th>18</th>\n",
       "      <td>-19.224494</td>\n",
       "      <td>4.221679</td>\n",
       "      <td>0.0</td>\n",
       "      <td>-0.011890</td>\n",
       "      <td>0.022212</td>\n",
       "      <td>0.999683</td>\n",
       "      <td>0.4</td>\n",
       "    </tr>\n",
       "    <tr>\n",
       "      <th>19</th>\n",
       "      <td>-20.279913</td>\n",
       "      <td>4.221679</td>\n",
       "      <td>0.0</td>\n",
       "      <td>-0.017442</td>\n",
       "      <td>0.022211</td>\n",
       "      <td>0.999601</td>\n",
       "      <td>0.4</td>\n",
       "    </tr>\n",
       "    <tr>\n",
       "      <th>20</th>\n",
       "      <td>-21.335332</td>\n",
       "      <td>4.221679</td>\n",
       "      <td>0.0</td>\n",
       "      <td>-0.022992</td>\n",
       "      <td>0.022208</td>\n",
       "      <td>0.999489</td>\n",
       "      <td>0.4</td>\n",
       "    </tr>\n",
       "    <tr>\n",
       "      <th>21</th>\n",
       "      <td>-22.390751</td>\n",
       "      <td>4.221679</td>\n",
       "      <td>0.0</td>\n",
       "      <td>-0.028540</td>\n",
       "      <td>0.022205</td>\n",
       "      <td>0.999346</td>\n",
       "      <td>0.4</td>\n",
       "    </tr>\n",
       "    <tr>\n",
       "      <th>22</th>\n",
       "      <td>-11.836563</td>\n",
       "      <td>3.166259</td>\n",
       "      <td>0.0</td>\n",
       "      <td>0.026976</td>\n",
       "      <td>0.016656</td>\n",
       "      <td>0.999497</td>\n",
       "      <td>0.4</td>\n",
       "    </tr>\n",
       "    <tr>\n",
       "      <th>23</th>\n",
       "      <td>-12.891981</td>\n",
       "      <td>3.166259</td>\n",
       "      <td>0.0</td>\n",
       "      <td>0.021427</td>\n",
       "      <td>0.016658</td>\n",
       "      <td>0.999632</td>\n",
       "      <td>0.4</td>\n",
       "    </tr>\n",
       "    <tr>\n",
       "      <th>24</th>\n",
       "      <td>-13.947400</td>\n",
       "      <td>3.166259</td>\n",
       "      <td>0.0</td>\n",
       "      <td>0.015876</td>\n",
       "      <td>0.016660</td>\n",
       "      <td>0.999735</td>\n",
       "      <td>0.4</td>\n",
       "    </tr>\n",
       "    <tr>\n",
       "      <th>25</th>\n",
       "      <td>-15.002819</td>\n",
       "      <td>3.166259</td>\n",
       "      <td>0.0</td>\n",
       "      <td>0.010323</td>\n",
       "      <td>0.016661</td>\n",
       "      <td>0.999808</td>\n",
       "      <td>0.4</td>\n",
       "    </tr>\n",
       "    <tr>\n",
       "      <th>26</th>\n",
       "      <td>-16.058238</td>\n",
       "      <td>3.166259</td>\n",
       "      <td>0.0</td>\n",
       "      <td>0.004770</td>\n",
       "      <td>0.016662</td>\n",
       "      <td>0.999850</td>\n",
       "      <td>0.4</td>\n",
       "    </tr>\n",
       "    <tr>\n",
       "      <th>27</th>\n",
       "      <td>-17.113657</td>\n",
       "      <td>3.166259</td>\n",
       "      <td>0.0</td>\n",
       "      <td>-0.000784</td>\n",
       "      <td>0.016662</td>\n",
       "      <td>0.999861</td>\n",
       "      <td>0.4</td>\n",
       "    </tr>\n",
       "    <tr>\n",
       "      <th>28</th>\n",
       "      <td>-18.169076</td>\n",
       "      <td>3.166259</td>\n",
       "      <td>0.0</td>\n",
       "      <td>-0.006338</td>\n",
       "      <td>0.016662</td>\n",
       "      <td>0.999841</td>\n",
       "      <td>0.4</td>\n",
       "    </tr>\n",
       "    <tr>\n",
       "      <th>29</th>\n",
       "      <td>-19.224494</td>\n",
       "      <td>3.166259</td>\n",
       "      <td>0.0</td>\n",
       "      <td>-0.011892</td>\n",
       "      <td>0.016661</td>\n",
       "      <td>0.999790</td>\n",
       "      <td>0.4</td>\n",
       "    </tr>\n",
       "    <tr>\n",
       "      <th>...</th>\n",
       "      <td>...</td>\n",
       "      <td>...</td>\n",
       "      <td>...</td>\n",
       "      <td>...</td>\n",
       "      <td>...</td>\n",
       "      <td>...</td>\n",
       "      <td>...</td>\n",
       "    </tr>\n",
       "    <tr>\n",
       "      <th>91</th>\n",
       "      <td>-15.002819</td>\n",
       "      <td>-3.166259</td>\n",
       "      <td>0.0</td>\n",
       "      <td>0.010323</td>\n",
       "      <td>-0.016661</td>\n",
       "      <td>0.999808</td>\n",
       "      <td>0.4</td>\n",
       "    </tr>\n",
       "    <tr>\n",
       "      <th>92</th>\n",
       "      <td>-16.058238</td>\n",
       "      <td>-3.166259</td>\n",
       "      <td>0.0</td>\n",
       "      <td>0.004770</td>\n",
       "      <td>-0.016662</td>\n",
       "      <td>0.999850</td>\n",
       "      <td>0.4</td>\n",
       "    </tr>\n",
       "    <tr>\n",
       "      <th>93</th>\n",
       "      <td>-17.113657</td>\n",
       "      <td>-3.166259</td>\n",
       "      <td>0.0</td>\n",
       "      <td>-0.000784</td>\n",
       "      <td>-0.016662</td>\n",
       "      <td>0.999861</td>\n",
       "      <td>0.4</td>\n",
       "    </tr>\n",
       "    <tr>\n",
       "      <th>94</th>\n",
       "      <td>-18.169076</td>\n",
       "      <td>-3.166259</td>\n",
       "      <td>0.0</td>\n",
       "      <td>-0.006338</td>\n",
       "      <td>-0.016662</td>\n",
       "      <td>0.999841</td>\n",
       "      <td>0.4</td>\n",
       "    </tr>\n",
       "    <tr>\n",
       "      <th>95</th>\n",
       "      <td>-19.224494</td>\n",
       "      <td>-3.166259</td>\n",
       "      <td>0.0</td>\n",
       "      <td>-0.011892</td>\n",
       "      <td>-0.016661</td>\n",
       "      <td>0.999790</td>\n",
       "      <td>0.4</td>\n",
       "    </tr>\n",
       "    <tr>\n",
       "      <th>96</th>\n",
       "      <td>-20.279913</td>\n",
       "      <td>-3.166259</td>\n",
       "      <td>0.0</td>\n",
       "      <td>-0.017444</td>\n",
       "      <td>-0.016660</td>\n",
       "      <td>0.999709</td>\n",
       "      <td>0.4</td>\n",
       "    </tr>\n",
       "    <tr>\n",
       "      <th>97</th>\n",
       "      <td>-21.335332</td>\n",
       "      <td>-3.166259</td>\n",
       "      <td>0.0</td>\n",
       "      <td>-0.022995</td>\n",
       "      <td>-0.016658</td>\n",
       "      <td>0.999597</td>\n",
       "      <td>0.4</td>\n",
       "    </tr>\n",
       "    <tr>\n",
       "      <th>98</th>\n",
       "      <td>-22.390751</td>\n",
       "      <td>-3.166259</td>\n",
       "      <td>0.0</td>\n",
       "      <td>-0.028543</td>\n",
       "      <td>-0.016655</td>\n",
       "      <td>0.999454</td>\n",
       "      <td>0.4</td>\n",
       "    </tr>\n",
       "    <tr>\n",
       "      <th>99</th>\n",
       "      <td>-11.836563</td>\n",
       "      <td>-4.221679</td>\n",
       "      <td>0.0</td>\n",
       "      <td>0.026973</td>\n",
       "      <td>-0.022206</td>\n",
       "      <td>0.999389</td>\n",
       "      <td>0.4</td>\n",
       "    </tr>\n",
       "    <tr>\n",
       "      <th>100</th>\n",
       "      <td>-12.891981</td>\n",
       "      <td>-4.221679</td>\n",
       "      <td>0.0</td>\n",
       "      <td>0.021425</td>\n",
       "      <td>-0.022209</td>\n",
       "      <td>0.999524</td>\n",
       "      <td>0.4</td>\n",
       "    </tr>\n",
       "    <tr>\n",
       "      <th>101</th>\n",
       "      <td>-13.947400</td>\n",
       "      <td>-4.221679</td>\n",
       "      <td>0.0</td>\n",
       "      <td>0.015874</td>\n",
       "      <td>-0.022211</td>\n",
       "      <td>0.999627</td>\n",
       "      <td>0.4</td>\n",
       "    </tr>\n",
       "    <tr>\n",
       "      <th>102</th>\n",
       "      <td>-15.002819</td>\n",
       "      <td>-4.221679</td>\n",
       "      <td>0.0</td>\n",
       "      <td>0.010322</td>\n",
       "      <td>-0.022213</td>\n",
       "      <td>0.999700</td>\n",
       "      <td>0.4</td>\n",
       "    </tr>\n",
       "    <tr>\n",
       "      <th>103</th>\n",
       "      <td>-16.058238</td>\n",
       "      <td>-4.221679</td>\n",
       "      <td>0.0</td>\n",
       "      <td>0.004769</td>\n",
       "      <td>-0.022214</td>\n",
       "      <td>0.999742</td>\n",
       "      <td>0.4</td>\n",
       "    </tr>\n",
       "    <tr>\n",
       "      <th>104</th>\n",
       "      <td>-17.113657</td>\n",
       "      <td>-4.221679</td>\n",
       "      <td>0.0</td>\n",
       "      <td>-0.000784</td>\n",
       "      <td>-0.022214</td>\n",
       "      <td>0.999753</td>\n",
       "      <td>0.4</td>\n",
       "    </tr>\n",
       "    <tr>\n",
       "      <th>105</th>\n",
       "      <td>-18.169076</td>\n",
       "      <td>-4.221679</td>\n",
       "      <td>0.0</td>\n",
       "      <td>-0.006338</td>\n",
       "      <td>-0.022213</td>\n",
       "      <td>0.999733</td>\n",
       "      <td>0.4</td>\n",
       "    </tr>\n",
       "    <tr>\n",
       "      <th>106</th>\n",
       "      <td>-19.224494</td>\n",
       "      <td>-4.221679</td>\n",
       "      <td>0.0</td>\n",
       "      <td>-0.011890</td>\n",
       "      <td>-0.022212</td>\n",
       "      <td>0.999683</td>\n",
       "      <td>0.4</td>\n",
       "    </tr>\n",
       "    <tr>\n",
       "      <th>107</th>\n",
       "      <td>-20.279913</td>\n",
       "      <td>-4.221679</td>\n",
       "      <td>0.0</td>\n",
       "      <td>-0.017442</td>\n",
       "      <td>-0.022211</td>\n",
       "      <td>0.999601</td>\n",
       "      <td>0.4</td>\n",
       "    </tr>\n",
       "    <tr>\n",
       "      <th>108</th>\n",
       "      <td>-21.335332</td>\n",
       "      <td>-4.221679</td>\n",
       "      <td>0.0</td>\n",
       "      <td>-0.022992</td>\n",
       "      <td>-0.022208</td>\n",
       "      <td>0.999489</td>\n",
       "      <td>0.4</td>\n",
       "    </tr>\n",
       "    <tr>\n",
       "      <th>109</th>\n",
       "      <td>-22.390751</td>\n",
       "      <td>-4.221679</td>\n",
       "      <td>0.0</td>\n",
       "      <td>-0.028540</td>\n",
       "      <td>-0.022205</td>\n",
       "      <td>0.999346</td>\n",
       "      <td>0.4</td>\n",
       "    </tr>\n",
       "    <tr>\n",
       "      <th>110</th>\n",
       "      <td>-11.836563</td>\n",
       "      <td>-5.277099</td>\n",
       "      <td>0.0</td>\n",
       "      <td>0.026969</td>\n",
       "      <td>-0.027753</td>\n",
       "      <td>0.999251</td>\n",
       "      <td>0.4</td>\n",
       "    </tr>\n",
       "    <tr>\n",
       "      <th>111</th>\n",
       "      <td>-12.891981</td>\n",
       "      <td>-5.277099</td>\n",
       "      <td>0.0</td>\n",
       "      <td>0.021422</td>\n",
       "      <td>-0.027757</td>\n",
       "      <td>0.999385</td>\n",
       "      <td>0.4</td>\n",
       "    </tr>\n",
       "    <tr>\n",
       "      <th>112</th>\n",
       "      <td>-13.947400</td>\n",
       "      <td>-5.277099</td>\n",
       "      <td>0.0</td>\n",
       "      <td>0.015872</td>\n",
       "      <td>-0.027760</td>\n",
       "      <td>0.999489</td>\n",
       "      <td>0.4</td>\n",
       "    </tr>\n",
       "    <tr>\n",
       "      <th>113</th>\n",
       "      <td>-15.002819</td>\n",
       "      <td>-5.277099</td>\n",
       "      <td>0.0</td>\n",
       "      <td>0.010321</td>\n",
       "      <td>-0.027762</td>\n",
       "      <td>0.999561</td>\n",
       "      <td>0.4</td>\n",
       "    </tr>\n",
       "    <tr>\n",
       "      <th>114</th>\n",
       "      <td>-16.058238</td>\n",
       "      <td>-5.277099</td>\n",
       "      <td>0.0</td>\n",
       "      <td>0.004768</td>\n",
       "      <td>-0.027763</td>\n",
       "      <td>0.999603</td>\n",
       "      <td>0.4</td>\n",
       "    </tr>\n",
       "    <tr>\n",
       "      <th>115</th>\n",
       "      <td>-17.113657</td>\n",
       "      <td>-5.277099</td>\n",
       "      <td>0.0</td>\n",
       "      <td>-0.000784</td>\n",
       "      <td>-0.027763</td>\n",
       "      <td>0.999614</td>\n",
       "      <td>0.4</td>\n",
       "    </tr>\n",
       "    <tr>\n",
       "      <th>116</th>\n",
       "      <td>-18.169076</td>\n",
       "      <td>-5.277099</td>\n",
       "      <td>0.0</td>\n",
       "      <td>-0.006337</td>\n",
       "      <td>-0.027763</td>\n",
       "      <td>0.999594</td>\n",
       "      <td>0.4</td>\n",
       "    </tr>\n",
       "    <tr>\n",
       "      <th>117</th>\n",
       "      <td>-19.224494</td>\n",
       "      <td>-5.277099</td>\n",
       "      <td>0.0</td>\n",
       "      <td>-0.011889</td>\n",
       "      <td>-0.027762</td>\n",
       "      <td>0.999544</td>\n",
       "      <td>0.4</td>\n",
       "    </tr>\n",
       "    <tr>\n",
       "      <th>118</th>\n",
       "      <td>-20.279913</td>\n",
       "      <td>-5.277099</td>\n",
       "      <td>0.0</td>\n",
       "      <td>-0.017440</td>\n",
       "      <td>-0.027759</td>\n",
       "      <td>0.999462</td>\n",
       "      <td>0.4</td>\n",
       "    </tr>\n",
       "    <tr>\n",
       "      <th>119</th>\n",
       "      <td>-21.335332</td>\n",
       "      <td>-5.277099</td>\n",
       "      <td>0.0</td>\n",
       "      <td>-0.022989</td>\n",
       "      <td>-0.027756</td>\n",
       "      <td>0.999350</td>\n",
       "      <td>0.4</td>\n",
       "    </tr>\n",
       "    <tr>\n",
       "      <th>120</th>\n",
       "      <td>-22.390751</td>\n",
       "      <td>-5.277099</td>\n",
       "      <td>0.0</td>\n",
       "      <td>-0.028536</td>\n",
       "      <td>-0.027752</td>\n",
       "      <td>0.999207</td>\n",
       "      <td>0.4</td>\n",
       "    </tr>\n",
       "  </tbody>\n",
       "</table>\n",
       "<p>121 rows × 7 columns</p>\n",
       "</div>"
      ],
      "text/plain": [
       "            X0        Y0   Z0        U0        V0        W0  wave\n",
       "0   -11.836563  5.277099  0.0  0.026969  0.027753  0.999251   0.4\n",
       "1   -12.891981  5.277099  0.0  0.021422  0.027757  0.999385   0.4\n",
       "2   -13.947400  5.277099  0.0  0.015872  0.027760  0.999489   0.4\n",
       "3   -15.002819  5.277099  0.0  0.010321  0.027762  0.999561   0.4\n",
       "4   -16.058238  5.277099  0.0  0.004768  0.027763  0.999603   0.4\n",
       "5   -17.113657  5.277099  0.0 -0.000784  0.027763  0.999614   0.4\n",
       "6   -18.169076  5.277099  0.0 -0.006337  0.027763  0.999594   0.4\n",
       "7   -19.224494  5.277099  0.0 -0.011889  0.027762  0.999544   0.4\n",
       "8   -20.279913  5.277099  0.0 -0.017440  0.027759  0.999462   0.4\n",
       "9   -21.335332  5.277099  0.0 -0.022989  0.027756  0.999350   0.4\n",
       "10  -22.390751  5.277099  0.0 -0.028536  0.027752  0.999207   0.4\n",
       "11  -11.836563  4.221679  0.0  0.026973  0.022206  0.999389   0.4\n",
       "12  -12.891981  4.221679  0.0  0.021425  0.022209  0.999524   0.4\n",
       "13  -13.947400  4.221679  0.0  0.015874  0.022211  0.999627   0.4\n",
       "14  -15.002819  4.221679  0.0  0.010322  0.022213  0.999700   0.4\n",
       "15  -16.058238  4.221679  0.0  0.004769  0.022214  0.999742   0.4\n",
       "16  -17.113657  4.221679  0.0 -0.000784  0.022214  0.999753   0.4\n",
       "17  -18.169076  4.221679  0.0 -0.006338  0.022213  0.999733   0.4\n",
       "18  -19.224494  4.221679  0.0 -0.011890  0.022212  0.999683   0.4\n",
       "19  -20.279913  4.221679  0.0 -0.017442  0.022211  0.999601   0.4\n",
       "20  -21.335332  4.221679  0.0 -0.022992  0.022208  0.999489   0.4\n",
       "21  -22.390751  4.221679  0.0 -0.028540  0.022205  0.999346   0.4\n",
       "22  -11.836563  3.166259  0.0  0.026976  0.016656  0.999497   0.4\n",
       "23  -12.891981  3.166259  0.0  0.021427  0.016658  0.999632   0.4\n",
       "24  -13.947400  3.166259  0.0  0.015876  0.016660  0.999735   0.4\n",
       "25  -15.002819  3.166259  0.0  0.010323  0.016661  0.999808   0.4\n",
       "26  -16.058238  3.166259  0.0  0.004770  0.016662  0.999850   0.4\n",
       "27  -17.113657  3.166259  0.0 -0.000784  0.016662  0.999861   0.4\n",
       "28  -18.169076  3.166259  0.0 -0.006338  0.016662  0.999841   0.4\n",
       "29  -19.224494  3.166259  0.0 -0.011892  0.016661  0.999790   0.4\n",
       "..         ...       ...  ...       ...       ...       ...   ...\n",
       "91  -15.002819 -3.166259  0.0  0.010323 -0.016661  0.999808   0.4\n",
       "92  -16.058238 -3.166259  0.0  0.004770 -0.016662  0.999850   0.4\n",
       "93  -17.113657 -3.166259  0.0 -0.000784 -0.016662  0.999861   0.4\n",
       "94  -18.169076 -3.166259  0.0 -0.006338 -0.016662  0.999841   0.4\n",
       "95  -19.224494 -3.166259  0.0 -0.011892 -0.016661  0.999790   0.4\n",
       "96  -20.279913 -3.166259  0.0 -0.017444 -0.016660  0.999709   0.4\n",
       "97  -21.335332 -3.166259  0.0 -0.022995 -0.016658  0.999597   0.4\n",
       "98  -22.390751 -3.166259  0.0 -0.028543 -0.016655  0.999454   0.4\n",
       "99  -11.836563 -4.221679  0.0  0.026973 -0.022206  0.999389   0.4\n",
       "100 -12.891981 -4.221679  0.0  0.021425 -0.022209  0.999524   0.4\n",
       "101 -13.947400 -4.221679  0.0  0.015874 -0.022211  0.999627   0.4\n",
       "102 -15.002819 -4.221679  0.0  0.010322 -0.022213  0.999700   0.4\n",
       "103 -16.058238 -4.221679  0.0  0.004769 -0.022214  0.999742   0.4\n",
       "104 -17.113657 -4.221679  0.0 -0.000784 -0.022214  0.999753   0.4\n",
       "105 -18.169076 -4.221679  0.0 -0.006338 -0.022213  0.999733   0.4\n",
       "106 -19.224494 -4.221679  0.0 -0.011890 -0.022212  0.999683   0.4\n",
       "107 -20.279913 -4.221679  0.0 -0.017442 -0.022211  0.999601   0.4\n",
       "108 -21.335332 -4.221679  0.0 -0.022992 -0.022208  0.999489   0.4\n",
       "109 -22.390751 -4.221679  0.0 -0.028540 -0.022205  0.999346   0.4\n",
       "110 -11.836563 -5.277099  0.0  0.026969 -0.027753  0.999251   0.4\n",
       "111 -12.891981 -5.277099  0.0  0.021422 -0.027757  0.999385   0.4\n",
       "112 -13.947400 -5.277099  0.0  0.015872 -0.027760  0.999489   0.4\n",
       "113 -15.002819 -5.277099  0.0  0.010321 -0.027762  0.999561   0.4\n",
       "114 -16.058238 -5.277099  0.0  0.004768 -0.027763  0.999603   0.4\n",
       "115 -17.113657 -5.277099  0.0 -0.000784 -0.027763  0.999614   0.4\n",
       "116 -18.169076 -5.277099  0.0 -0.006337 -0.027763  0.999594   0.4\n",
       "117 -19.224494 -5.277099  0.0 -0.011889 -0.027762  0.999544   0.4\n",
       "118 -20.279913 -5.277099  0.0 -0.017440 -0.027759  0.999462   0.4\n",
       "119 -21.335332 -5.277099  0.0 -0.022989 -0.027756  0.999350   0.4\n",
       "120 -22.390751 -5.277099  0.0 -0.028536 -0.027752  0.999207   0.4\n",
       "\n",
       "[121 rows x 7 columns]"
      ]
     },
     "execution_count": 378,
     "metadata": {},
     "output_type": "execute_result"
    }
   ],
   "source": [
    "df"
   ]
  },
  {
   "cell_type": "code",
   "execution_count": 379,
   "metadata": {},
   "outputs": [],
   "source": [
    "df.to_excel(Beam4_Rayfile)"
   ]
  },
  {
   "cell_type": "code",
   "execution_count": null,
   "metadata": {},
   "outputs": [],
   "source": []
  }
 ],
 "metadata": {
  "anaconda-cloud": {},
  "kernelspec": {
   "display_name": "Python 2",
   "language": "python",
   "name": "python2"
  },
  "language_info": {
   "codemirror_mode": {
    "name": "ipython",
    "version": 2
   },
   "file_extension": ".py",
   "mimetype": "text/x-python",
   "name": "python",
   "nbconvert_exporter": "python",
   "pygments_lexer": "ipython2",
   "version": "2.7.14"
  },
  "toc": {
   "nav_menu": {},
   "number_sections": true,
   "sideBar": true,
   "skip_h1_title": false,
   "toc_cell": false,
   "toc_position": {},
   "toc_section_display": "block",
   "toc_window_display": false
  }
 },
 "nbformat": 4,
 "nbformat_minor": 1
}
