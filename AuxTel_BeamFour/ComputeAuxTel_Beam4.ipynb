{
 "cells": [
  {
   "cell_type": "markdown",
   "metadata": {},
   "source": [
    "# Compute Auxtel Parameters for BeamFour"
   ]
  },
  {
   "cell_type": "code",
   "execution_count": 1,
   "metadata": {},
   "outputs": [],
   "source": [
    "import matplotlib.pyplot as plt\n",
    "%matplotlib inline\n",
    "import numpy as np"
   ]
  },
  {
   "cell_type": "markdown",
   "metadata": {},
   "source": [
    "# Definitions"
   ]
  },
  {
   "cell_type": "code",
   "execution_count": 2,
   "metadata": {},
   "outputs": [],
   "source": [
    "meters_to_mm=1000."
   ]
  },
  {
   "cell_type": "code",
   "execution_count": 3,
   "metadata": {},
   "outputs": [],
   "source": [
    "mm_to_meters=1./meters_to_mm"
   ]
  },
  {
   "cell_type": "code",
   "execution_count": 4,
   "metadata": {},
   "outputs": [],
   "source": [
    "deg_to_rad=np.pi/180."
   ]
  },
  {
   "cell_type": "code",
   "execution_count": 5,
   "metadata": {},
   "outputs": [],
   "source": [
    "rad_to_deg=1./deg_to_rad"
   ]
  },
  {
   "cell_type": "markdown",
   "metadata": {},
   "source": [
    "# Auxtel parameters"
   ]
  },
  {
   "cell_type": "markdown",
   "metadata": {},
   "source": [
    "length units are un mm as well wavelength"
   ]
  },
  {
   "cell_type": "markdown",
   "metadata": {},
   "source": [
    "## Telescope parameters"
   ]
  },
  {
   "cell_type": "code",
   "execution_count": 6,
   "metadata": {},
   "outputs": [],
   "source": [
    "F=21.6*meters_to_mm   # Focal Length\n",
    "D=1.2*meters_to_mm   # Diameter"
   ]
  },
  {
   "cell_type": "code",
   "execution_count": 7,
   "metadata": {},
   "outputs": [],
   "source": [
    "alpha=np.arctan(D/2./F)"
   ]
  },
  {
   "cell_type": "code",
   "execution_count": 8,
   "metadata": {},
   "outputs": [
    {
     "name": "stdout",
     "output_type": "stream",
     "text": [
      "Beam aperture : 1.591 deg \n"
     ]
    }
   ],
   "source": [
    "print 'Beam aperture : {:4.3f} deg '.format(alpha*rad_to_deg)"
   ]
  },
  {
   "cell_type": "code",
   "execution_count": 9,
   "metadata": {},
   "outputs": [],
   "source": [
    "theta=0.045*deg_to_rad  # Off axis pointing\n",
    "#theta=0.0*deg_to_rad  # Of"
   ]
  },
  {
   "cell_type": "code",
   "execution_count": 10,
   "metadata": {},
   "outputs": [
    {
     "name": "stdout",
     "output_type": "stream",
     "text": [
      "Beam Off-axis pointing  : 0.045 deg \n"
     ]
    }
   ],
   "source": [
    "print 'Beam Off-axis pointing  : {:4.3f} deg '.format(theta*rad_to_deg)"
   ]
  },
  {
   "cell_type": "markdown",
   "metadata": {},
   "source": [
    "## Rotator"
   ]
  },
  {
   "cell_type": "code",
   "execution_count": 11,
   "metadata": {},
   "outputs": [],
   "source": [
    "DR=265"
   ]
  },
  {
   "cell_type": "markdown",
   "metadata": {},
   "source": [
    "## Holograms"
   ]
  },
  {
   "cell_type": "code",
   "execution_count": 12,
   "metadata": {},
   "outputs": [],
   "source": [
    "DH=190.05  # distance in mm of Hologram to CCD"
   ]
  },
  {
   "cell_type": "markdown",
   "metadata": {},
   "source": [
    "## Detectors"
   ]
  },
  {
   "cell_type": "code",
   "execution_count": 13,
   "metadata": {},
   "outputs": [],
   "source": [
    "DD=265      # distance of CCD to rotator plane"
   ]
  },
  {
   "cell_type": "markdown",
   "metadata": {},
   "source": [
    "# Compute"
   ]
  },
  {
   "cell_type": "code",
   "execution_count": 14,
   "metadata": {},
   "outputs": [],
   "source": [
    "def ShowB4Entry(X=0,Y=0,Z=0,UX=0,UY=0,UZ=1):\n",
    "    print(\"X0 \\t:\\t ZO\\t:\\t UX0\\t:\\t UZO \") \n",
    "    print(\"{:7.5f} \\t:\\t {:7.5f}\\t:\\t {:7.5f}\\t:\\t {:7.5f} \").format(X,Z,UX,UZ) "
   ]
  },
  {
   "cell_type": "code",
   "execution_count": 15,
   "metadata": {},
   "outputs": [],
   "source": [
    "def PrintExcelEntry(X=0,Y=0,Z=0,UX=0,UY=0,UZ=1):\n",
    "    print(\"X0 \\t:\\t ZO\\t:\\t UX0\\t:\\t UZO \") \n",
    "    print(\"{:4.3f} \\t:\\t {:4.3f}\\t:\\t {:4.3f}\\t:\\t {:4.3f} \").format(X,Z,UX,UZ) "
   ]
  },
  {
   "cell_type": "code",
   "execution_count": 16,
   "metadata": {},
   "outputs": [],
   "source": [
    "tan_beta1=np.tan(alpha)+np.tan(theta)\n",
    "tan_beta2=np.tan(alpha)-np.tan(theta)\n",
    "sin_beta1=np.sqrt(tan_beta1**2/(1+tan_beta1**2))\n",
    "cos_beta1=np.sqrt(1./(1+tan_beta1**2))\n",
    "sin_beta2=np.sqrt(tan_beta2**2/(1+tan_beta2**2))\n",
    "cos_beta2=np.sqrt(1./(1+tan_beta2**2))"
   ]
  },
  {
   "cell_type": "code",
   "execution_count": 17,
   "metadata": {},
   "outputs": [],
   "source": [
    "sin_theta=np.sin(theta)\n",
    "cos_theta=np.cos(theta)\n",
    "tan_theta=np.tan(theta)"
   ]
  },
  {
   "cell_type": "code",
   "execution_count": 18,
   "metadata": {},
   "outputs": [],
   "source": [
    "UX1=-sin_beta1\n",
    "UZ1=cos_beta1\n",
    "UX2=sin_beta2\n",
    "UZ2=cos_beta2\n",
    "UX0=-sin_theta\n",
    "UZ0=cos_theta"
   ]
  },
  {
   "cell_type": "markdown",
   "metadata": {},
   "source": [
    "## Rays Starting point"
   ]
  },
  {
   "cell_type": "markdown",
   "metadata": {},
   "source": [
    "### Central beam"
   ]
  },
  {
   "cell_type": "code",
   "execution_count": 19,
   "metadata": {},
   "outputs": [],
   "source": [
    "Z0_0=-DR\n",
    "X0_0=-F*tan_theta+DR*sin_theta"
   ]
  },
  {
   "cell_type": "code",
   "execution_count": 20,
   "metadata": {},
   "outputs": [
    {
     "name": "stdout",
     "output_type": "stream",
     "text": [
      "X0 \t:\t ZO\t:\t UX0\t:\t UZO \n",
      "-16.75647 \t:\t -265.00000\t:\t -0.00079\t:\t 1.00000 \n"
     ]
    }
   ],
   "source": [
    "ShowB4Entry(X=X0_0,Z=Z0_0,UX=UX0,UZ=UZ0)"
   ]
  },
  {
   "cell_type": "markdown",
   "metadata": {},
   "source": [
    "### Up beam"
   ]
  },
  {
   "cell_type": "code",
   "execution_count": 21,
   "metadata": {},
   "outputs": [],
   "source": [
    "Z0_1=-DR\n",
    "X0_1=-F*tan_theta+DR*sin_beta1"
   ]
  },
  {
   "cell_type": "code",
   "execution_count": 22,
   "metadata": {},
   "outputs": [
    {
     "name": "stdout",
     "output_type": "stream",
     "text": [
      "X0 \t:\t ZO\t:\t UX0\t:\t UZO \n",
      "-9.39845 \t:\t -265.00000\t:\t -0.02855\t:\t 0.99959 \n"
     ]
    }
   ],
   "source": [
    "ShowB4Entry(X=X0_1,Z=Z0_1,UX=UX1,UZ=UZ1)"
   ]
  },
  {
   "cell_type": "markdown",
   "metadata": {},
   "source": [
    "### Down beam"
   ]
  },
  {
   "cell_type": "code",
   "execution_count": 23,
   "metadata": {},
   "outputs": [],
   "source": [
    "Z0_2=-DR\n",
    "X0_2=-F*tan_theta-DR*sin_beta2"
   ]
  },
  {
   "cell_type": "code",
   "execution_count": 24,
   "metadata": {},
   "outputs": [
    {
     "name": "stdout",
     "output_type": "stream",
     "text": [
      "X0 \t:\t ZO\t:\t UX0\t:\t UZO \n",
      "-24.11498 \t:\t -265.00000\t:\t 0.02698\t:\t 0.99964 \n"
     ]
    }
   ],
   "source": [
    "ShowB4Entry(X=X0_2,Z=Z0_2,UX=UX2,UZ=UZ2)"
   ]
  },
  {
   "cell_type": "code",
   "execution_count": null,
   "metadata": {},
   "outputs": [],
   "source": []
  }
 ],
 "metadata": {
  "kernelspec": {
   "display_name": "Python 2",
   "language": "python",
   "name": "python2"
  },
  "language_info": {
   "codemirror_mode": {
    "name": "ipython",
    "version": 2
   },
   "file_extension": ".py",
   "mimetype": "text/x-python",
   "name": "python",
   "nbconvert_exporter": "python",
   "pygments_lexer": "ipython2",
   "version": "2.7.14"
  },
  "toc": {
   "nav_menu": {},
   "number_sections": true,
   "sideBar": true,
   "skip_h1_title": false,
   "toc_cell": false,
   "toc_position": {},
   "toc_section_display": "block",
   "toc_window_display": false
  }
 },
 "nbformat": 4,
 "nbformat_minor": 2
}
