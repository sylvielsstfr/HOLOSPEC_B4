{
 "cells": [
  {
   "cell_type": "markdown",
   "metadata": {},
   "source": [
    "# Draw Beams for Hologram Tilt and Shift\n",
    "\n",
    "- AuxTel\n",
    "\n",
    "- author : Sylvie Dagoret-Campagne\n",
    "- affiliation : IJCLab/IN2P3/CNRS\n",
    "\n",
    "- creation date : May 18th 2020\n",
    "- update : May 27th 2020\n",
    "- update March 19th 2021 with Tilt sources plane\n"
   ]
  },
  {
   "cell_type": "code",
   "execution_count": 102,
   "metadata": {},
   "outputs": [],
   "source": [
    "%matplotlib inline\n",
    "import matplotlib.pyplot as plt\n",
    "import numpy as np\n",
    "import os\n",
    "import matplotlib as mpl\n",
    "import pandas as pd\n",
    "import itertools\n",
    "import matplotlib.gridspec as gridspec\n",
    "from matplotlib.patches import Circle,Ellipse\n",
    "import matplotlib.colors as colors\n",
    "import matplotlib.cm as cmx"
   ]
  },
  {
   "cell_type": "code",
   "execution_count": 156,
   "metadata": {},
   "outputs": [],
   "source": [
    "# to enlarge the sizes\n",
    "params = {\n",
    "         'legend.fontsize': 'small',\n",
    "         'figure.figsize': (13, 13),\n",
    "         'axes.labelsize': 'x-large',\n",
    "         'axes.titlesize':'x-large',\n",
    "         'xtick.labelsize':'x-large',\n",
    "         'ytick.labelsize':'x-large',\n",
    "         'font.size': 14}\n",
    "plt.rcParams.update(params)"
   ]
  },
  {
   "cell_type": "code",
   "execution_count": 104,
   "metadata": {},
   "outputs": [],
   "source": [
    "from scipy.interpolate import interp1d"
   ]
  },
  {
   "cell_type": "markdown",
   "metadata": {},
   "source": [
    "## Constants for conversions"
   ]
  },
  {
   "cell_type": "code",
   "execution_count": 105,
   "metadata": {},
   "outputs": [],
   "source": [
    "m_to_mm=1000.\n",
    "mm_to_m=1e-3\n",
    "inch_to_mm=25.4\n",
    "mm_to_inch=1./inch_to_mm\n",
    "micr_to_m=1e-6\n",
    "micr_to_mm=1e-3\n",
    "m_to_micr=1./micr_to_m\n",
    "m_to_cm=100.\n",
    "m_to_nm=1e9\n",
    "nm_to_m=1./m_to_nm"
   ]
  },
  {
   "cell_type": "code",
   "execution_count": 106,
   "metadata": {},
   "outputs": [],
   "source": [
    "arcdeg_to_arcmin=60.\n",
    "arcmin_to_arcdeg=1./arcdeg_to_arcmin\n",
    "arcmin_to_arcsec=60.\n",
    "arcdeg_to_arcsec=arcdeg_to_arcmin*arcmin_to_arcsec\n",
    "arcsec_to_arcdeg=1./arcdeg_to_arcsec"
   ]
  },
  {
   "cell_type": "code",
   "execution_count": 107,
   "metadata": {},
   "outputs": [],
   "source": [
    "deg_to_rad=np.pi/180."
   ]
  },
  {
   "cell_type": "code",
   "execution_count": 108,
   "metadata": {},
   "outputs": [],
   "source": [
    "rad_to_deg=1./deg_to_rad\n",
    "rad_to_arcsec=rad_to_deg*arcdeg_to_arcsec\n",
    "rad_to_arcmin=rad_to_deg*arcdeg_to_arcmin\n",
    "arcmin_to_rad=1./rad_to_arcmin"
   ]
  },
  {
   "cell_type": "markdown",
   "metadata": {},
   "source": [
    "## Configuration parameters at the telescope"
   ]
  },
  {
   "cell_type": "markdown",
   "metadata": {},
   "source": [
    "#### telescope"
   ]
  },
  {
   "cell_type": "code",
   "execution_count": 109,
   "metadata": {},
   "outputs": [],
   "source": [
    "Tel_Focal_Length=21.6 # m : Focal length of the telescope\n",
    "Tel_Diameter=1.2 # m : Diameter of the telescope    \n",
    "Tel_Fnum=Tel_Focal_Length/Tel_Diameter"
   ]
  },
  {
   "cell_type": "markdown",
   "metadata": {},
   "source": [
    "#### filter"
   ]
  },
  {
   "cell_type": "code",
   "execution_count": 110,
   "metadata": {},
   "outputs": [],
   "source": [
    "Filt_D=0.265 # m distance of the filter position wrt CCD plane\n",
    "Filt_size=3*inch_to_mm"
   ]
  },
  {
   "cell_type": "markdown",
   "metadata": {},
   "source": [
    "#### CCD detector"
   ]
  },
  {
   "cell_type": "code",
   "execution_count": 111,
   "metadata": {},
   "outputs": [],
   "source": [
    "Det_xpic=10.0 # microns per pixel\n",
    "#Det_NbPix=2048 # number of pixels per CCD side\n",
    "Det_NbPix=4096 # number of pixels per CCD side For 400 only\n",
    "Det_size=Det_xpic*Det_NbPix*micr_to_mm # CCD size in mm, 5 cm or 2 inch"
   ]
  },
  {
   "cell_type": "markdown",
   "metadata": {},
   "source": [
    "## Input file"
   ]
  },
  {
   "cell_type": "code",
   "execution_count": 112,
   "metadata": {},
   "outputs": [],
   "source": [
    "# number of rays\n",
    "NBEAM_X=11\n",
    "NBEAM_Y=11\n",
    "NBEAM=NBEAM_X*NBEAM_Y\n",
    "NWL=4\n",
    "NBTOT=NBEAM*NWL"
   ]
  },
  {
   "cell_type": "code",
   "execution_count": 113,
   "metadata": {},
   "outputs": [],
   "source": [
    "theta_x=0.  # angle in arcmin\n",
    "theta_y=0.  # angle in arcmin "
   ]
  },
  {
   "cell_type": "code",
   "execution_count": 114,
   "metadata": {},
   "outputs": [],
   "source": [
    "theta_x_num=int(theta_x*10)\n",
    "theta_y_num=int(theta_y*10)"
   ]
  },
  {
   "cell_type": "code",
   "execution_count": 115,
   "metadata": {},
   "outputs": [],
   "source": [
    "if theta_x_num>0:\n",
    "    theta_nstr='{:0>2}'.format(theta_x_num)\n",
    "    theta_x_str=\"p\"+theta_nstr\n",
    "else:\n",
    "    theta_nstr='{:0>2}'.format(-theta_x_num)\n",
    "    theta_x_str=\"m\"+theta_nstr"
   ]
  },
  {
   "cell_type": "code",
   "execution_count": 116,
   "metadata": {},
   "outputs": [],
   "source": [
    "if theta_y_num>0:\n",
    "    theta_nstr='{:0>2}'.format(theta_y_num)\n",
    "    theta_y_str=\"p\"+theta_nstr\n",
    "else:\n",
    "    theta_nstr='{:0>2}'.format(-theta_y_num)\n",
    "    theta_y_str=\"m\"+theta_nstr"
   ]
  },
  {
   "cell_type": "code",
   "execution_count": 117,
   "metadata": {},
   "outputs": [],
   "source": [
    "Beam4_Rayfile=\"Beam4_Rayfile_{:d}_allwl_{}_{}\".format(NBTOT,theta_x_str,theta_y_str)"
   ]
  },
  {
   "cell_type": "code",
   "execution_count": 118,
   "metadata": {},
   "outputs": [
    {
     "data": {
      "text/plain": [
       "'Beam4_Rayfile_484_allwl_m00_m00'"
      ]
     },
     "execution_count": 118,
     "metadata": {},
     "output_type": "execute_result"
    }
   ],
   "source": [
    "Beam4_Rayfile"
   ]
  },
  {
   "cell_type": "markdown",
   "metadata": {},
   "source": [
    "# Read input files"
   ]
  },
  {
   "cell_type": "code",
   "execution_count": 119,
   "metadata": {},
   "outputs": [],
   "source": [
    "def GetBeamParam(df):\n",
    "    X0C=df[\"X0\"].mean()\n",
    "    Y0C=df[\"Y0\"].mean()\n",
    "    RXMAX=np.max(np.abs(df[\"X0\"].values-X0C))\n",
    "    RYMAX=np.max(np.abs(df[\"Y0\"].values-Y0C))   \n",
    "    RMAX=np.max(np.array([RXMAX,RYMAX]))\n",
    "    return X0C,Y0C,RMAX"
   ]
  },
  {
   "cell_type": "code",
   "execution_count": 120,
   "metadata": {},
   "outputs": [],
   "source": [
    "def Select_Beam(row):\n",
    "    return (row[\"X0\"]-X0C)**2+(row[\"Y0\"]-Y0C)**2 <= RMAX**2"
   ]
  },
  {
   "cell_type": "markdown",
   "metadata": {},
   "source": [
    "## Input files"
   ]
  },
  {
   "cell_type": "code",
   "execution_count": 142,
   "metadata": {},
   "outputs": [],
   "source": [
    "rayfile_hoe=\"HOE_\"+Beam4_Rayfile+\"_RAY_OUT.xlsx\"\n",
    "rayfile_R150=\"R150_\"+Beam4_Rayfile+\"_RAY_OUT.xlsx\"\n",
    "all_reffilenames = [rayfile_hoe,rayfile_R150]"
   ]
  },
  {
   "cell_type": "code",
   "execution_count": 121,
   "metadata": {},
   "outputs": [],
   "source": [
    "all_filenames=[]\n",
    "for idx in np.arange(10):\n",
    "    filename=\"HOETILTshift{}mm_Beam4_Rayfile_484_allwl_m00_m00_OUT_RAY.xlsx\".format(idx)\n",
    "    all_filenames.append(filename)\n",
    "NF=len(all_filenames)    "
   ]
  },
  {
   "cell_type": "code",
   "execution_count": 122,
   "metadata": {},
   "outputs": [],
   "source": [
    "jet = plt.get_cmap('jet')\n",
    "cNorm = colors.Normalize(vmin=0, vmax=NF)\n",
    "scalarMap = cmx.ScalarMappable(norm=cNorm, cmap=jet)\n",
    "all_colors = scalarMap.to_rgba(np.arange(NF), alpha=1)"
   ]
  },
  {
   "cell_type": "code",
   "execution_count": 123,
   "metadata": {},
   "outputs": [],
   "source": [
    "def stripSquareBeam(df,disperser_name,plot_flag=True):\n",
    "    \"\"\"\n",
    "    stripSquareBeam(df,disperser_name,plot_flag=True)\n",
    "    \n",
    "    Cut the square beam into a found circle\n",
    "    \n",
    "    \n",
    "    \"\"\"   \n",
    "    \n",
    "    df_filter=df.copy()\n",
    "    df_filter=df_filter.loc[df_filter.apply(Select_Beam, axis=1)]\n",
    "    df_filter=df_filter.reset_index()   # reset index\n",
    "    df=df_filter.copy()\n",
    "    \n",
    "    X0=np.array(df_filter[\"X0\"].values,dtype='float64')\n",
    "    Y0=np.array(df_filter[\"Y0\"].values,dtype='float64')\n",
    "    V0=np.array(df_filter[\"V0\"].values,dtype='float64')\n",
    "    U0=np.array(df_filter[\"U0\"].values,dtype='float64')\n",
    "    \n",
    "    if plot_flag:\n",
    "        f, ((ax1, ax2)) = plt.subplots(1, 2,figsize=(18,9),sharex=True,sharey=True)\n",
    "        df_filter.plot.scatter(x=\"X0\", y=\"Y0\",c=\"DarkBlue\",marker=\"o\",ax=ax1)\n",
    "        ax1.set_aspect(\"equal\")\n",
    "        ax1.grid()\n",
    "\n",
    "        q = ax2.quiver(X0,Y0, U0,V0,color=\"red\")\n",
    "        ax2.set_aspect(\"equal\")\n",
    "        ax2.set_xlabel(\"X0 (mm)\")\n",
    "        ax2.grid()\n",
    "\n",
    "        title = disperser_name + \" :Filtered circular beam\"\n",
    "        plt.suptitle(title)\n",
    "        \n",
    "    return df\n",
    "    "
   ]
  },
  {
   "cell_type": "markdown",
   "metadata": {},
   "source": [
    "## Read rays files"
   ]
  },
  {
   "cell_type": "markdown",
   "metadata": {},
   "source": [
    "### Ronchi and disperser HOE not tilt"
   ]
  },
  {
   "cell_type": "code",
   "execution_count": 145,
   "metadata": {},
   "outputs": [],
   "source": [
    "all_dfref = []\n",
    "for ifile in np.arange(2):\n",
    "    filename = all_reffilenames[ifile]\n",
    "    inputf = pd.ExcelFile(filename)\n",
    "    df=inputf.parse(index_row=0,header=1)\n",
    "    df=df.drop(0)\n",
    "    df=df.reset_index()\n",
    "    df.columns = [\"index\",\"X0\",\"Y0\",\"Z0\",\"U0\",\"V0\",\"W0\",\"wave\",\"col\",\"X1\",\"Y1\",\"Z1\",\"X2\",\"Y2\",\"Z2\",\"X3\",\"Y3\",\"Z3\",\"Xgoal\",\"Ygoal\",\"Xfinal\",\"Yfinal\",\"Zfinal\",\"Notes\",\"Unnamed\"]\n",
    "    X0C,Y0C,RMAX=GetBeamParam(df)\n",
    "    dispname=\"REF{}\".format(ifile)\n",
    "    df=stripSquareBeam(df,dispname,plot_flag=False)\n",
    "    all_dfref.append(df)"
   ]
  },
  {
   "cell_type": "markdown",
   "metadata": {},
   "source": [
    "### Tilt and shift"
   ]
  },
  {
   "cell_type": "code",
   "execution_count": 124,
   "metadata": {
    "scrolled": false
   },
   "outputs": [],
   "source": [
    "all_df = []\n",
    "for ifile in np.arange(NF):\n",
    "    filename=all_filenames[ifile]\n",
    "    inputf = pd.ExcelFile(filename)\n",
    "    df=inputf.parse(index_row=0,header=1)\n",
    "    df=df.drop(0)\n",
    "    df=df.reset_index()\n",
    "    df.columns = [\"index\",\"X0\",\"Y0\",\"Z0\",\"U0\",\"V0\",\"W0\",\"wave\",\"col\",\"X1\",\"Y1\",\"Z1\",\"X2\",\"Y2\",\"Z2\",\"X3\",\"Y3\",\"Z3\",\"Xgoal\",\"Ygoal\",\"Xfinal\",\"Yfinal\",\"Zfinal\",\"Notes\",\"Unnamed\"]\n",
    "    X0C,Y0C,RMAX=GetBeamParam(df)\n",
    "    hoename=\"HOE{}\".format(ifile)\n",
    "    df=stripSquareBeam(df,hoename,plot_flag=False)\n",
    "    all_df.append(df)"
   ]
  },
  {
   "cell_type": "markdown",
   "metadata": {},
   "source": [
    "# Draw beam\n",
    "\n",
    "Now we want to draw the profile of the beam"
   ]
  },
  {
   "cell_type": "code",
   "execution_count": 125,
   "metadata": {},
   "outputs": [],
   "source": [
    "ColorDict = {0.0004:\"b\",0.0006:\"g\",0.0008:\"r\",0.001:\"k\"}  # map wl --> color character\n",
    "WLIndexDict = {0:0.0004,1:0.0006,2:0.0008,3:0.001}        # map index --> wl in mm\n",
    "ColorNum = [\"b\",\"g\",\"r\",\"k\"]\n",
    "WLARRAY = np.array([0.0004,0.0006,0.0008,0.001])"
   ]
  },
  {
   "cell_type": "markdown",
   "metadata": {},
   "source": [
    "## Definition of the functions to be used"
   ]
  },
  {
   "cell_type": "code",
   "execution_count": 126,
   "metadata": {},
   "outputs": [],
   "source": [
    "def GetRayConvergence(x0,y0,u0,v0,y1,u1,v1,y2,u2,v2,wl,a,m=1,XMIN=0,XMAX=100,YMIN=0,YMAX=100):\n",
    "    \"\"\"\n",
    "    Compute convergence of upper, lower and central ray in 2D plane (X,Y)\n",
    "    input:\n",
    "      (x0,y0) : coordinate of central ray usually (0,0)\n",
    "      (u0,v0) : vector director coordinate of central ray (usually  (1,0) )\n",
    "      (u1,v1) : vector director coordinate of upper ray (usually  u1>0 v1<0)\n",
    "      (u2,v2) : vector director coordinate of lower ray (usually  u2>0 v2<0)\n",
    "      (x0,y1) : upper ray coordinate at disperser   y1>0\n",
    "      (x0,y2) : lower ray coordinate at disperser  usually y2=-y1 <0\n",
    "      a : grating spacing in mm\n",
    "      wl : wavelength in mm\n",
    "      m : order\n",
    "      all units are in mm\n",
    "    \n",
    "    \"\"\"\n",
    "    #assert u0**2+v0**2==1\n",
    "    #assert u1**2+v1**2==1\n",
    "    #assert u2**2+v2**2==1\n",
    "    \n",
    "    # angles with respect to horizontal line\n",
    "    theta0=np.arcsin(v0+m*wl/a)\n",
    "    theta1=np.arcsin(v1+m*wl/a)\n",
    "    theta2=np.arcsin(v2+m*wl/a)\n",
    "    \n",
    "    XX=np.linspace(XMIN,XMAX,50)\n",
    "    \n",
    "    YY0=y0+np.tan(theta0)*(XX-x0)\n",
    "    YY1=y1+np.tan(theta1)*(XX-x0)\n",
    "    YY2=y2+np.tan(theta2)*(XX-x0)\n",
    "    \n",
    "    return XX,YY0,YY1,YY2\n",
    "    "
   ]
  },
  {
   "cell_type": "code",
   "execution_count": 127,
   "metadata": {},
   "outputs": [],
   "source": [
    "def GetRayConvergenceIntersectionSimple(x0,y0,u0,v0,y1,u1,v1,y2,u2,v2,wl,a,m=1):\n",
    "    \"\"\"\n",
    "    Compute convergence intersection of upper, lower and central ray in 2D plane (X,Y)\n",
    "    input:\n",
    "      (x0,y0) : coordinate of central ray usually (0,0)\n",
    "      (u0,v0) : vector director coordinate of central ray (usually  (1,0) )\n",
    "      (u1,v1) : vector director coordinate of upper ray (usually  u1>0 v1<0)\n",
    "      (u2,v2) : vector director coordinate of lower ray (usually  u2>0 v2<0)\n",
    "      (x0,y1) : upper ray coordinate at disperser   y1>0\n",
    "      (x0,y2) : lower ray coordinate at disperser  usually y2=-y1 <0\n",
    "      a : grating spacing in mm\n",
    "      wl : wavelength in mm\n",
    "      m : order\n",
    "      all units are in mm\n",
    "    \n",
    "    \"\"\"\n",
    "    #assert u0**2+v0**2==1\n",
    "    #assert u1**2+v1**2==1\n",
    "    #assert u2**2+v2**2==1\n",
    "    \n",
    "    # angles with respect to horizontal line\n",
    "    theta0=np.arcsin(v0+m*wl/a)\n",
    "    theta1=np.arcsin(v1+m*wl/a)\n",
    "    theta2=np.arcsin(v2+m*wl/a)\n",
    "    \n",
    "\n",
    "    dx=(y1-y2)/(np.tan(theta2)-np.tan(theta1))\n",
    "    x=x0+dx\n",
    "    y=y0+np.tan(theta0)*dx\n",
    "    \n",
    "    \n",
    "    return x,y\n",
    "    "
   ]
  },
  {
   "cell_type": "code",
   "execution_count": 128,
   "metadata": {},
   "outputs": [],
   "source": [
    "def GetRayConvergenceIntersectionPoints(x0,y0,u0,v0,y1,u1,v1,y2,u2,v2,a,m=1,WLMIN=0.,WLMAX=1200.,NBPOINTS=1200):\n",
    "    \"\"\"\n",
    "    Give the convergence points\n",
    "    \n",
    "    \"\"\"\n",
    "    \n",
    "    \n",
    "    all_wl=np.linspace(WLMIN,WLMAX,NBPOINTS)*1e-6\n",
    "    \n",
    "    X,Y=GetRayConvergenceIntersectionSimple(x0,y0,u0,v0,y1,u1,v1,y2,u2,v2,all_wl,a,m)\n",
    "       \n",
    "    return X,Y"
   ]
  },
  {
   "cell_type": "code",
   "execution_count": 129,
   "metadata": {},
   "outputs": [],
   "source": [
    "def GetRayConvergenceIntersectionPoints2(x0,y0,u0,v0,y1,u1,v1,y2,u2,v2,a,m=1,WLMIN=0.,WLMAX=1000.,NBPOINTS=1000):\n",
    "    \"\"\"\n",
    "    Give the predicted convergence curve predicted for a grating.\n",
    "    It is not the true ray convergence (example bad for hologram)\n",
    "    \n",
    "    \"\"\"\n",
    "    all_wl=np.linspace(WLMIN,WLMAX,NBPOINTS)*1e-6\n",
    "    \n",
    "    X,Y=GetRayConvergenceIntersectionSimple(x0,y0,u0,v0,y1,u1,v1,y2,u2,v2,all_wl,a,m)\n",
    "       \n",
    "    return X,Y,all_wl"
   ]
  },
  {
   "cell_type": "code",
   "execution_count": 130,
   "metadata": {},
   "outputs": [],
   "source": [
    "def GetRayConvergenceIntersectionPointsCanonic(x0,y0,u0,v0,y1,u1,v1,y2,u2,v2,a,m=1):\n",
    "    \"\"\"\n",
    "    Give the convergence points at 0.4, 0.6, 0.8, 1.0\n",
    "    \n",
    "    \"\"\"\n",
    "      \n",
    "    all_wl=np.array([400.,600.,800.,1000.])*1e-6\n",
    "    \n",
    "    X,Y=GetRayConvergenceIntersectionSimple(x0,y0,u0,v0,y1,u1,v1,y2,u2,v2,all_wl,a,m)\n",
    "       \n",
    "    return X,Y"
   ]
  },
  {
   "cell_type": "code",
   "execution_count": 131,
   "metadata": {},
   "outputs": [],
   "source": [
    "def GetCentralRay(df):\n",
    "    \"\"\"\n",
    "    \"\"\"\n",
    "    central_ray=df.loc[(df[\"U0\"]==0) & (df[\"X0\"]==0) & (df[\"Y0\"]==0)]\n",
    "    return central_ray"
   ]
  },
  {
   "cell_type": "code",
   "execution_count": 132,
   "metadata": {},
   "outputs": [],
   "source": [
    "def GetUpperRay(df):\n",
    "    \"\"\"\n",
    "    \"\"\"\n",
    "    upper_ray=df.loc[(df[\"X0\"]==df[\"X0\"].max()) & (df[\"Y0\"]==0)]\n",
    "    return upper_ray"
   ]
  },
  {
   "cell_type": "code",
   "execution_count": 133,
   "metadata": {},
   "outputs": [],
   "source": [
    "def GetLowerRay(df):\n",
    "    \"\"\"\n",
    "    \"\"\"\n",
    "    lower_ray=df.loc[(df[\"X0\"]==df[\"X0\"].min()) & (df[\"Y0\"]==0)]\n",
    "    return lower_ray"
   ]
  },
  {
   "cell_type": "code",
   "execution_count": 134,
   "metadata": {},
   "outputs": [],
   "source": [
    "def GetScatteredBeamConvergence(df):\n",
    "    \"\"\"\n",
    "    Get the convergence for each wavelength calculated from scattered rays\n",
    "    \n",
    "    input\n",
    "       df : Beam Dataframe\n",
    "    output :\n",
    "       arrays of (X,Y) convergence position for each wavelength \n",
    "    \"\"\"\n",
    "    \n",
    "    # extract the three main rays of the beam\n",
    "    central_ray=GetCentralRay(df)\n",
    "    upper_ray=GetUpperRay(df)\n",
    "    lower_ray=GetLowerRay(df)\n",
    "    \n",
    "    # extract coordinates of scattered beams\n",
    "    xc_1=central_ray[\"Z2\"].values\n",
    "    yc_1=central_ray[\"X2\"].values\n",
    "    \n",
    "    xc_2=central_ray[\"Z3\"].values\n",
    "    yc_2=central_ray[\"X3\"].values\n",
    "    \n",
    "    \n",
    "   \n",
    "    xup_1=upper_ray[\"Z2\"].values\n",
    "    yup_1=upper_ray[\"X2\"].values\n",
    "    \n",
    "    xup_2=upper_ray[\"Z3\"].values\n",
    "    yup_2=upper_ray[\"X3\"].values\n",
    "    \n",
    "    aup=(yup_2-yup_1)/(xup_2-xup_1)  # slope of upper ray \n",
    "    \n",
    "    \n",
    "    xlo_1=lower_ray[\"Z2\"].values\n",
    "    ylo_1=lower_ray[\"X2\"].values\n",
    "    \n",
    "    xlo_2=lower_ray[\"Z3\"].values\n",
    "    ylo_2=lower_ray[\"X3\"].values\n",
    "    \n",
    "    alo=(ylo_2-ylo_1)/(xlo_2-xlo_1)  # slope of upper ray \n",
    "    \n",
    "    # compute intersection of scattered upper and lower ray\n",
    "    \n",
    "    da=aup-alo   # difference of slopes\n",
    "    \n",
    "    x_I= -(yup_1-ylo_1)/da + (aup*xup_1 -alo*xlo_1)/da\n",
    "    y_I=aup*(x_I-xup_1)+yup_1\n",
    "    \n",
    "    return x_I,y_I"
   ]
  },
  {
   "cell_type": "markdown",
   "metadata": {},
   "source": [
    "# Analysis"
   ]
  },
  {
   "cell_type": "code",
   "execution_count": 146,
   "metadata": {},
   "outputs": [],
   "source": [
    "all_XI_ref=[]\n",
    "all_YI_ref=[]\n",
    "Zshift=0\n",
    "all_Focusfunc_ref = []\n",
    "for df in all_dfref :\n",
    "    Zshift=0\n",
    "    for index, row in df.iterrows():\n",
    "        wl=row[\"wave\"]\n",
    "        #col=ColorDict[wl]\n",
    "        X0=row[\"X0\"];Y0=row[\"Y0\"];Z0=row[\"Z0\"]-row[\"Z3\"]\n",
    "        X1=row[\"X1\"];Y1=row[\"Y1\"];Z1=row[\"Z1\"]-row[\"Z3\"]\n",
    "        X2=row[\"X2\"];Y2=row[\"Y2\"];Z2=row[\"Z2\"]-row[\"Z3\"]\n",
    "        X3=row[\"X3\"];Y3=row[\"Y3\"];Z3=row[\"Z3\"]-row[\"Z3\"]\n",
    "        Zshift=row[\"Z3\"]\n",
    "    \n",
    "    XI,YI=GetScatteredBeamConvergence(df)\n",
    "    XIshift=np.array(XI)-Zshift\n",
    "    all_XI_ref.append(XIshift)  \n",
    "    all_YI_ref.append(YI)\n",
    "    \n",
    "    Xspline=WLARRAY*1e6\n",
    "    Yspline=XIshift\n",
    "    focusfunc = interp1d(Xspline,Yspline, kind='cubic')\n",
    "    all_Focusfunc_ref.append(focusfunc)"
   ]
  },
  {
   "cell_type": "code",
   "execution_count": 136,
   "metadata": {},
   "outputs": [],
   "source": [
    "all_XI=[]\n",
    "all_YI=[]\n",
    "Zshift=0\n",
    "all_Focusfunc = []\n",
    "for df in all_df :\n",
    "    Zshift=0\n",
    "    for index, row in df.iterrows():\n",
    "        wl=row[\"wave\"]\n",
    "        #col=ColorDict[wl]\n",
    "        X0=row[\"X0\"];Y0=row[\"Y0\"];Z0=row[\"Z0\"]-row[\"Z3\"]\n",
    "        X1=row[\"X1\"];Y1=row[\"Y1\"];Z1=row[\"Z1\"]-row[\"Z3\"]\n",
    "        X2=row[\"X2\"];Y2=row[\"Y2\"];Z2=row[\"Z2\"]-row[\"Z3\"]\n",
    "        X3=row[\"X3\"];Y3=row[\"Y3\"];Z3=row[\"Z3\"]-row[\"Z3\"]\n",
    "        Zshift=row[\"Z3\"]\n",
    "    \n",
    "    XI,YI=GetScatteredBeamConvergence(df)\n",
    "    XIshift=np.array(XI)-Zshift\n",
    "    all_XI.append(XIshift)  \n",
    "    all_YI.append(YI)\n",
    "    \n",
    "    Xspline=WLARRAY*1e6\n",
    "    Yspline=XIshift\n",
    "    focusfunc = interp1d(Xspline,Yspline, kind='cubic')\n",
    "    all_Focusfunc.append(focusfunc)"
   ]
  },
  {
   "cell_type": "code",
   "execution_count": 137,
   "metadata": {},
   "outputs": [],
   "source": [
    "Xspline=WLARRAY*1e6\n",
    "Xfoc=np.linspace(Xspline[0],Xspline[-1],100)"
   ]
  },
  {
   "cell_type": "code",
   "execution_count": 160,
   "metadata": {},
   "outputs": [
    {
     "data": {
      "image/png": "[encoded data removed]",
      "text/plain": [
       "<Figure size 1152x576 with 1 Axes>"
      ]
     },
     "metadata": {
      "needs_background": "light"
     },
     "output_type": "display_data"
    }
   ],
   "source": [
    "plt.figure(figsize=(16,8))\n",
    "\n",
    "plt.plot(WLARRAY*1e6,all_XI_ref[0],\"o\",color='k',lw=3)\n",
    "plt.plot(Xfoc,all_Focusfunc_ref[0](Xfoc),'-',color='k',lw=3,label='HOE good')\n",
    "plt.plot(WLARRAY*1e6,all_XI_ref[1],\"o\",color='grey',lw=3)\n",
    "plt.plot(Xfoc,all_Focusfunc_ref[1](Xfoc),'-',color='grey',lw=3,label='R150')\n",
    "\n",
    "for idx in np.arange(NF):\n",
    "    plt.plot(WLARRAY*1e6,all_XI[idx],\"o\",color=all_colors[idx])\n",
    "    label=\"HOE (sources tilt), beam shift={} mm\".format(idx)\n",
    "    plt.plot(Xfoc,all_Focusfunc[idx](Xfoc),'-',color=all_colors[idx],label=label)\n",
    "    \n",
    "plt.legend()\n",
    "plt.xlabel(\"$\\\\lambda$ (nm)\")\n",
    "plt.ylabel(\"Focus shift (mm)\")\n",
    "plt.title(\"Focus shift versus wavelength\")\n",
    "plt.tight_layout()\n",
    "plt.savefig(\"FocusShiftAuxTel_2021.pdf\")"
   ]
  },
  {
   "cell_type": "code",
   "execution_count": null,
   "metadata": {},
   "outputs": [],
   "source": []
  },
  {
   "cell_type": "code",
   "execution_count": null,
   "metadata": {},
   "outputs": [],
   "source": []
  },
  {
   "cell_type": "code",
   "execution_count": 139,
   "metadata": {},
   "outputs": [
    {
     "data": {
      "text/plain": [
       "[array([0.25650299685418076, -0.49329745407027303, -1.831464521252542,\n",
       "        -3.7585360355163857], dtype=object),\n",
       " array([0.4423978341956172, -0.21309887321427823, -1.4576915167509696,\n",
       "        -3.2919747902149084], dtype=object),\n",
       " array([0.6282775299812897, 0.06699111888957532, -1.0828548344432534,\n",
       "        -2.823878158537241], dtype=object),\n",
       " array([0.8135965330594104, 0.34751021081353883, -0.7076654175969566,\n",
       "        -2.354240118428663], dtype=object),\n",
       " array([0.9990780913035451, 0.6277340467430577, -0.3319479327818158,\n",
       "        -1.8834078869079462], dtype=object),\n",
       " array([1.1839934624106832, 0.9076567959687623, 0.044115424880772025,\n",
       "        -1.4113804780339478], dtype=object),\n",
       " array([1.3685210554313016, 1.1878191390129018, 0.42052048667233066,\n",
       "        -0.9386919226799364], dtype=object),\n",
       " array([1.5524749352011895, 1.4671236571878694, 0.7965371700634591,\n",
       "        -0.4651698008310632], dtype=object),\n",
       " array([1.7360341797356114, 1.7461094598552904, 1.172699460752142,\n",
       "        0.008821520493313528], dtype=object),\n",
       " array([1.918828668949459, 2.0247706254341438, 1.54863530857574,\n",
       "        0.4834534135581521], dtype=object)]"
      ]
     },
     "execution_count": 139,
     "metadata": {},
     "output_type": "execute_result"
    }
   ],
   "source": [
    "all_XI"
   ]
  },
  {
   "cell_type": "code",
   "execution_count": 140,
   "metadata": {},
   "outputs": [
    {
     "ename": "SyntaxError",
     "evalue": "invalid syntax (<ipython-input-140-0039b9705ac8>, line 1)",
     "output_type": "error",
     "traceback": [
      "\u001b[0;36m  File \u001b[0;32m\"<ipython-input-140-0039b9705ac8>\"\u001b[0;36m, line \u001b[0;32m1\u001b[0m\n\u001b[0;31m    alert False\u001b[0m\n\u001b[0m          ^\u001b[0m\n\u001b[0;31mSyntaxError\u001b[0m\u001b[0;31m:\u001b[0m invalid syntax\n"
     ]
    }
   ],
   "source": [
    "alert False"
   ]
  },
  {
   "cell_type": "code",
   "execution_count": null,
   "metadata": {},
   "outputs": [],
   "source": [
    "# gridspec inside gridspec\n",
    "fig = plt.figure(figsize=(16,14))\n",
    "gs0 = gridspec.GridSpec(2, 1, figure=fig)\n",
    "\n",
    "################\n",
    "# Top figure\n",
    "################\n",
    "\n",
    "ax1 = fig.add_subplot(gs0[0])\n",
    "\n",
    "## get the focalisation \n",
    "a      = 1./150.   # the grating\n",
    "idx_wl = 3    # choose one of the wavelength\n",
    "thewl  = WLIndexDict[idx_wl] \n",
    "\n",
    "df=all_df[0]\n",
    "\n",
    "# main rays\n",
    "central_ray_wl=GetCentralRay(df).iloc[idx_wl]\n",
    "upper_ray_wl=GetUpperRay(df).iloc[idx_wl]\n",
    "lower_ray_wl=GetLowerRay(df).iloc[idx_wl]\n",
    "x0=0\n",
    "y0=central_ray_wl[\"X0\"]\n",
    "u0=central_ray_wl[\"W0\"]\n",
    "v0=central_ray_wl[\"U0\"]\n",
    "\n",
    "y1=upper_ray_wl[\"X2\"]\n",
    "u1=upper_ray_wl[\"W0\"]\n",
    "v1=upper_ray_wl[\"U0\"]\n",
    "\n",
    "y2=lower_ray_wl[\"X2\"]\n",
    "u2=lower_ray_wl[\"W0\"]\n",
    "v2=lower_ray_wl[\"U0\"]\n",
    "XXXR150,YYYR150=GetRayConvergenceIntersectionPoints(x0,y0,u0,v0,y1,u1,v1,y2,u2,v2,a,m=1,WLMIN=0.,WLMAX=1500.,NBPOINTS=500)\n",
    "XXXR150=XXXR150+central_ray_wl[\"Z2\"]-central_ray_wl[\"Z3\"]\n",
    "\n",
    "for index, row in df_R150.iterrows():\n",
    "    wl=row[\"wave\"]\n",
    "    col=ColorDict[wl]\n",
    "    X0=row[\"X0\"];Y0=row[\"Y0\"];Z0=row[\"Z0\"]-row[\"Z3\"]\n",
    "    X1=row[\"X1\"];Y1=row[\"Y1\"];Z1=row[\"Z1\"]-row[\"Z3\"]\n",
    "    X2=row[\"X2\"];Y2=row[\"Y2\"];Z2=row[\"Z2\"]-row[\"Z3\"]\n",
    "    X3=row[\"X3\"];Y3=row[\"Y3\"];Z3=row[\"Z3\"]-row[\"Z3\"]\n",
    "    if Y0==0:\n",
    "        ax1.plot([Z0,Z1],[X0,X1],\"-\",color=col)\n",
    "        ax1.plot([Z1,Z2],[X1,X2],\"-\",color=col)\n",
    "        ax1.plot([Z2,Z3],[X2,X3],\"-\",color=col)\n",
    "        \n",
    "#ellipse = mpl.patches.Ellipse(xy=(X0C_R400, Y0C_R400), width=2*R0C_R400, height=2*R0C_R400,angle=1,color=\"grey\",fill=False)        \n",
    "#fig.gca().add_artist(ellipse)\n",
    "ax1.plot(XXXR150,YYYR150,\"--\",color=\"grey\",lw=2) # plot trajectory curve\n",
    "\n",
    "ax1.grid()\n",
    "ax1.set_xlim(-220,0)\n",
    "ax1.set_ylim(-10,40)\n",
    "ax1.set_aspect('equal')\n",
    "ax1.set_xlabel(\"Z (mm)\")\n",
    "ax1.set_ylabel(\"X (mm)\")\n",
    "ax1.set_title(\"Dispersion of beam (Ronchi 150)\",fontweight=\"bold\",fontsize=24)\n",
    "ax1.tick_params(axis='both', which='major', labelsize=20)\n",
    "#ax1.tick_params(axis='both', which='minor', labelsize=8)\n",
    "\n",
    "###################\n",
    "# Bottom figures\n",
    "#################\n",
    "\n",
    "gs01 = gs0[1].subgridspec(1, 2)\n",
    "ax2=fig.add_subplot(gs01[0,0])\n",
    "ax3=fig.add_subplot(gs01[0,1])\n",
    "\n",
    "\n",
    "#################################\n",
    "# Bottom left figure with RON150\n",
    "#################################\n",
    "\n",
    "\n",
    "#shifts_R150=[-1.1,-2.4,-4.3,-6.7]\n",
    "\n",
    "## get the focalisation points\n",
    "a      = 1./150.   # the grating\n",
    "idx_wl = 3    # choose one of the wavelength\n",
    "thewl  = WLIndexDict[idx_wl] \n",
    "\n",
    "# main rays\n",
    "central_ray_wl=GetCentralRay(df_R150).iloc[idx_wl]\n",
    "upper_ray_wl=GetUpperRay(df_R150).iloc[idx_wl]\n",
    "lower_ray_wl=GetLowerRay(df_R150).iloc[idx_wl]\n",
    "\n",
    "x0=0\n",
    "y0=central_ray_wl[\"X0\"]\n",
    "u0=central_ray_wl[\"W0\"]\n",
    "v0=central_ray_wl[\"U0\"]\n",
    "\n",
    "y1=upper_ray_wl[\"X2\"]\n",
    "u1=upper_ray_wl[\"W0\"]\n",
    "v1=upper_ray_wl[\"U0\"]\n",
    "\n",
    "y2=lower_ray_wl[\"X2\"]\n",
    "u2=lower_ray_wl[\"W0\"]\n",
    "v2=lower_ray_wl[\"U0\"]\n",
    "XXXR150,YYYR150=GetRayConvergenceIntersectionPoints(x0,y0,u0,v0,y1,u1,v1,y2,u2,v2,a,m=1,WLMIN=0.,WLMAX=1500.,NBPOINTS=500)\n",
    "XXXR150=XXXR150+central_ray_wl[\"Z2\"]-central_ray_wl[\"Z3\"]\n",
    "    \n",
    "Zshift=0    \n",
    "for index, row in df_R150.iterrows():\n",
    "    wl=row[\"wave\"]\n",
    "    col=ColorDict[wl]\n",
    "    X0=row[\"X0\"];Y0=row[\"Y0\"];Z0=row[\"Z0\"]-row[\"Z3\"]\n",
    "    X1=row[\"X1\"];Y1=row[\"Y1\"];Z1=row[\"Z1\"]-row[\"Z3\"]\n",
    "    X2=row[\"X2\"];Y2=row[\"Y2\"];Z2=row[\"Z2\"]-row[\"Z3\"]\n",
    "    X3=row[\"X3\"];Y3=row[\"Y3\"];Z3=row[\"Z3\"]-row[\"Z3\"]\n",
    "    Zshift=row[\"Z3\"]\n",
    "    if Y0==0:\n",
    "        ax2.plot([Z2,Z3],[X2,X3],\"-\",color=col)\n",
    "            \n",
    "    #ellipse = mpl.patches.Ellipse(xy=(X0C_R350, Y0C_R350), width=2*R0C_R350, height=2*R0C_R350,angle=1,color=\"grey\",fill=False)        \n",
    "    #fig.gca().add_artist(ellipse)\n",
    "    #ax3.add_artist(ellipse)\n",
    "    \n",
    "ax2.plot(XXXR150,YYYR150,\"--\",color=\"grey\",lw=2) # plot trajectory curve\n",
    "\n",
    "# vertical lines marking defocus\n",
    "#for shift in shifts_R150:\n",
    "#    ax2.axvline(x=shift,color=\"orange\",lw=1)\n",
    "XI,YI=GetScatteredBeamConvergence(df_R150)\n",
    "XI=XI-Zshift\n",
    "for idx in np.arange(len(XI)):\n",
    "        ax2.scatter([XI[idx]],[YI[idx]],marker=\"+\",color=ColorNum[idx],s=1500,lw=1)\n",
    "    \n",
    "ax2.grid()\n",
    "ax2.set_xlim(-20,0)\n",
    "ax2.set_ylim(10,35)\n",
    "ax2.set_xlabel(\"Z (mm)\")\n",
    "ax2.set_ylabel(\"X (mm)\")\n",
    "ax2.set_aspect('equal')\n",
    "ax2.set_title(\"Ronchi 150\",fontweight=\"bold\",fontsize=22)\n",
    "ax2.tick_params(axis='both', which='major', labelsize=20)\n",
    "#ax1.tick_params(axis='both', which='minor', labelsize=8)\n",
    "\n",
    "\n",
    "###########################\n",
    "# Bottom right figure : HOE\n",
    "#############################  \n",
    "    \n",
    "#shifts_HOE=[0.7,0.2,-1.0,-2.7]\n",
    "     \n",
    "Zshift=0\n",
    "for index, row in df_hoe.iterrows():\n",
    "    wl=row[\"wave\"]\n",
    "    col=ColorDict[wl]\n",
    "    X0=row[\"X0\"];Y0=row[\"Y0\"];Z0=row[\"Z0\"]-row[\"Z3\"]\n",
    "    X1=row[\"X1\"];Y1=row[\"Y1\"];Z1=row[\"Z1\"]-row[\"Z3\"]\n",
    "    X2=row[\"X2\"];Y2=row[\"Y2\"];Z2=row[\"Z2\"]-row[\"Z3\"]\n",
    "    X3=row[\"X3\"];Y3=row[\"Y3\"];Z3=row[\"Z3\"]-row[\"Z3\"]\n",
    "    Zshift=row[\"Z3\"]\n",
    "    if Y0==0:\n",
    "        ax3.plot([Z2,Z3],[X2,X3],\"-\",color=col)\n",
    "            \n",
    "            \n",
    "    #ellipse = mpl.patches.Ellipse(xy=(X0C_R400, Y0C_R400), width=2*R0C_R400, height=2*R0C_R400,angle=1,color=\"grey\",fill=False)        \n",
    "    #ax4.add_artist(ellipse)\n",
    "\n",
    "#ax3.plot(XXXR150,YYYR150,\"--\",color=\"grey\",lw=2) # plot trajectory curve\n",
    "\n",
    "    \n",
    "# vertical lines marking defocus\n",
    "#for shift in shifts_HOE:\n",
    "#    ax3.axvline(x=shift,color=\"orange\",lw=1)\n",
    "XI,YI=GetScatteredBeamConvergence(df_hoe)\n",
    "XI=XI-Zshift\n",
    "for idx in np.arange(len(XI)):\n",
    "        ax3.scatter([XI[idx]],[YI[idx]],marker=\"+\",color=ColorNum[idx],s=1500,lw=1)\n",
    "\n",
    "\n",
    "ax3.grid()\n",
    "ax3.set_xlim(-20,0)\n",
    "ax3.set_ylim(10,35)\n",
    "ax3.set_xlabel(\"Z (mm)\")\n",
    "ax3.set_ylabel(\"X (mm)\")\n",
    "ax3.set_aspect('equal')\n",
    "ax3.set_title(\"Hologram\",fontweight=\"bold\",fontsize=22)\n",
    "ax3.tick_params(axis='both', which='major', labelsize=20)\n",
    "    #ax1.tick_params(axis='both', which='minor', labelsize=8)\n",
    "\n",
    "plt.tight_layout()\n",
    "plt.subplots_adjust(wspace=0.1,hspace=0.05)\n",
    "plt.savefig(\"Beam4BeamDispersionAuxTel.pdf\")\n",
    "\n"
   ]
  },
  {
   "cell_type": "markdown",
   "metadata": {},
   "source": [
    "### 2021 plot with titled hologram"
   ]
  },
  {
   "cell_type": "code",
   "execution_count": null,
   "metadata": {},
   "outputs": [],
   "source": [
    "# gridspec inside gridspec\n",
    "fig = plt.figure(figsize=(16,10))\n",
    "\n",
    "gs0 = gridspec.GridSpec(2, 1, figure=fig)\n",
    "\n",
    "################\n",
    "# Top figure\n",
    "################\n",
    "\n",
    "ax1 = fig.add_subplot(gs0[0])\n",
    "\n",
    "## get the focalisation \n",
    "a      = 1./150.   # the grating\n",
    "idx_wl = 3    # choose one of the wavelength\n",
    "thewl  = WLIndexDict[idx_wl] \n",
    "\n",
    "# main rays\n",
    "central_ray_wl=GetCentralRay(df_hoe).iloc[idx_wl]\n",
    "upper_ray_wl=GetUpperRay(df_hoe).iloc[idx_wl]\n",
    "lower_ray_wl=GetLowerRay(df_hoe).iloc[idx_wl]\n",
    "x0=0\n",
    "y0=central_ray_wl[\"X0\"]\n",
    "u0=central_ray_wl[\"W0\"]\n",
    "v0=central_ray_wl[\"U0\"]\n",
    "\n",
    "y1=upper_ray_wl[\"X2\"]\n",
    "u1=upper_ray_wl[\"W0\"]\n",
    "v1=upper_ray_wl[\"U0\"]\n",
    "\n",
    "y2=lower_ray_wl[\"X2\"]\n",
    "u2=lower_ray_wl[\"W0\"]\n",
    "v2=lower_ray_wl[\"U0\"]\n",
    "XXXHOE,YYYHOE=GetRayConvergenceIntersectionPoints(x0,y0,u0,v0,y1,u1,v1,y2,u2,v2,a,m=1,WLMIN=0.,WLMAX=1500.,NBPOINTS=500)\n",
    "XXXHOE=XXXHOE+central_ray_wl[\"Z2\"]-central_ray_wl[\"Z3\"]\n",
    "\n",
    "for index, row in df_hoe.iterrows():\n",
    "    wl=row[\"wave\"]\n",
    "    col=ColorDict[wl]\n",
    "    X0=row[\"X0\"];Y0=row[\"Y0\"];Z0=row[\"Z0\"]-row[\"Z3\"]\n",
    "    X1=row[\"X1\"];Y1=row[\"Y1\"];Z1=row[\"Z1\"]-row[\"Z3\"]\n",
    "    X2=row[\"X2\"];Y2=row[\"Y2\"];Z2=row[\"Z2\"]-row[\"Z3\"]\n",
    "    X3=row[\"X3\"];Y3=row[\"Y3\"];Z3=row[\"Z3\"]-row[\"Z3\"]\n",
    "    if Y0==0:\n",
    "        ax1.plot([Z0,Z1],[X0,X1],\"-\",color=col)\n",
    "        ax1.plot([Z1,Z2],[X1,X2],\"-\",color=col)\n",
    "        ax1.plot([Z2,Z3],[X2,X3],\"-\",color=col)\n",
    "        \n",
    "\n",
    "XI,YI=GetScatteredBeamConvergence(df_hoe)\n",
    "XI=XI-Zshift\n",
    "for idx in np.arange(len(XI)):\n",
    "        ax1.scatter([XI[idx]],[YI[idx]],marker=\"+\",color=ColorNum[idx],s=1500,lw=1)\n",
    "\n",
    "ax1.grid()\n",
    "ax1.set_xlim(-220,0)\n",
    "ax1.set_ylim(-10,40)\n",
    "ax1.set_aspect('equal')\n",
    "ax1.set_xlabel(\"Z (mm)\")\n",
    "ax1.set_ylabel(\"X (mm)\")\n",
    "ax1.set_title(\"Dispersion of beam for HOE\",fontweight=\"bold\",fontsize=24)\n",
    "ax1.tick_params(axis='both', which='major', labelsize=10)\n",
    "\n",
    "\n",
    "###################\n",
    "# Bottom figures\n",
    "#################\n",
    "\n",
    "gs01 = gs0[1].subgridspec(1, 4)\n",
    "ax2=fig.add_subplot(gs01[0,0])\n",
    "ax3=fig.add_subplot(gs01[0,1])\n",
    "ax4=fig.add_subplot(gs01[0,2])\n",
    "ax5=fig.add_subplot(gs01[0,3])\n",
    "\n",
    "#################################\n",
    "# Bottom left figure with HOE\n",
    "#################################\n",
    "\n",
    "idx_wl = 3    # choose one of the wavelength\n",
    "thewl  = WLIndexDict[idx_wl] \n",
    "\n",
    "# main rays\n",
    "central_ray_wl=GetCentralRay(df_hoe).iloc[idx_wl]\n",
    "upper_ray_wl=GetUpperRay(df_hoe).iloc[idx_wl]\n",
    "lower_ray_wl=GetLowerRay(df_hoe).iloc[idx_wl]\n",
    "\n",
    "x0=0\n",
    "y0=central_ray_wl[\"X0\"]\n",
    "u0=central_ray_wl[\"W0\"]\n",
    "v0=central_ray_wl[\"U0\"]\n",
    "\n",
    "y1=upper_ray_wl[\"X2\"]\n",
    "u1=upper_ray_wl[\"W0\"]\n",
    "v1=upper_ray_wl[\"U0\"]\n",
    "\n",
    "y2=lower_ray_wl[\"X2\"]\n",
    "u2=lower_ray_wl[\"W0\"]\n",
    "v2=lower_ray_wl[\"U0\"]\n",
    "XXXHOE,YYYHOE=GetRayConvergenceIntersectionPoints(x0,y0,u0,v0,y1,u1,v1,y2,u2,v2,a,m=1,WLMIN=0.,WLMAX=1500.,NBPOINTS=500)\n",
    "XXXHOE=XXXHOE+central_ray_wl[\"Z2\"]-central_ray_wl[\"Z3\"]\n",
    "    \n",
    "Zshift=0    \n",
    "for index, row in df_hoe.iterrows():\n",
    "    wl=row[\"wave\"]\n",
    "    col=ColorDict[wl]\n",
    "    X0=row[\"X0\"];Y0=row[\"Y0\"];Z0=row[\"Z0\"]-row[\"Z3\"]\n",
    "    X1=row[\"X1\"];Y1=row[\"Y1\"];Z1=row[\"Z1\"]-row[\"Z3\"]\n",
    "    X2=row[\"X2\"];Y2=row[\"Y2\"];Z2=row[\"Z2\"]-row[\"Z3\"]\n",
    "    X3=row[\"X3\"];Y3=row[\"Y3\"];Z3=row[\"Z3\"]-row[\"Z3\"]\n",
    "    Zshift=row[\"Z3\"]\n",
    "    if Y0==0:\n",
    "        ax2.plot([Z2,Z3],[X2,X3],\"-\",color=col)\n",
    "            \n",
    "XI,YI=GetScatteredBeamConvergence(df_hoe)\n",
    "XI=XI-Zshift\n",
    "for idx in np.arange(len(XI)):\n",
    "        ax2.scatter([XI[idx]],[YI[idx]],marker=\"+\",color=ColorNum[idx],s=1500,lw=1)\n",
    "\n",
    "              \n",
    "ax2.grid()\n",
    "ax2.set_xlim(-20,0)\n",
    "ax2.set_ylim(10,35)\n",
    "ax2.set_xlabel(\"Z (mm)\")\n",
    "ax2.set_ylabel(\"X (mm)\")\n",
    "ax2.set_aspect('equal')\n",
    "ax2.set_title(\"HOE\",fontweight=\"bold\",fontsize=10)\n",
    "ax2.tick_params(axis='both', which='major', labelsize=10)\n",
    "\n",
    "\n",
    "Xspline=WLARRAY*1e6\n",
    "Yspline=XI\n",
    "focusHOE = interp1d(Xspline,Yspline, kind='cubic')\n",
    "XI_HOE=XI\n",
    "\n",
    "###########################\n",
    "# Bottom figure : HOE TILT\n",
    "#############################  \n",
    "    \n",
    "Zshift=0\n",
    "for index, row in df_hoetilt.iterrows():\n",
    "    wl=row[\"wave\"]\n",
    "    col=ColorDict[wl]\n",
    "    X0=row[\"X0\"];Y0=row[\"Y0\"];Z0=row[\"Z0\"]-row[\"Z3\"]\n",
    "    X1=row[\"X1\"];Y1=row[\"Y1\"];Z1=row[\"Z1\"]-row[\"Z3\"]\n",
    "    X2=row[\"X2\"];Y2=row[\"Y2\"];Z2=row[\"Z2\"]-row[\"Z3\"]\n",
    "    X3=row[\"X3\"];Y3=row[\"Y3\"];Z3=row[\"Z3\"]-row[\"Z3\"]\n",
    "    Zshift=row[\"Z3\"]\n",
    "    if Y0==0:\n",
    "        ax3.plot([Z2,Z3],[X2,X3],\"-\",color=col)\n",
    "            \n",
    "            \n",
    "XI,YI=GetScatteredBeamConvergence(df_hoetilt)\n",
    "XI=XI-Zshift\n",
    "for idx in np.arange(len(XI)):\n",
    "        ax3.scatter([XI[idx]],[YI[idx]],marker=\"+\",color=ColorNum[idx],s=1500,lw=1)\n",
    "\n",
    "ax3.grid()\n",
    "ax3.set_xlim(-20,0)\n",
    "ax3.set_ylim(10,35)\n",
    "ax3.set_xlabel(\"Z (mm)\")\n",
    "ax3.set_ylabel(\"X (mm)\")\n",
    "ax3.set_aspect('equal')\n",
    "ax3.set_title(\"HOE with tilted sources\",fontweight=\"bold\",fontsize=10)\n",
    "ax3.tick_params(axis='both', which='major', labelsize=10)\n",
    "   \n",
    "Xspline=WLARRAY*1e6\n",
    "Yspline=XI\n",
    "focusHOETILT = interp1d(Xspline,Yspline, kind='cubic')\n",
    "XI_HOETILT=XI    \n",
    "    \n",
    "   \n",
    "###########################\n",
    "# Bottom figure : HOE TILT Sim2\n",
    "#############################  \n",
    "    \n",
    "Zshift=0\n",
    "for index, row in df_hoetiltsim2.iterrows():\n",
    "    wl=row[\"wave\"]\n",
    "    col=ColorDict[wl]\n",
    "    X0=row[\"X0\"];Y0=row[\"Y0\"];Z0=row[\"Z0\"]-row[\"Z3\"]\n",
    "    X1=row[\"X1\"];Y1=row[\"Y1\"];Z1=row[\"Z1\"]-row[\"Z3\"]\n",
    "    X2=row[\"X2\"];Y2=row[\"Y2\"];Z2=row[\"Z2\"]-row[\"Z3\"]\n",
    "    X3=row[\"X3\"];Y3=row[\"Y3\"];Z3=row[\"Z3\"]-row[\"Z3\"]\n",
    "    Zshift=row[\"Z3\"]\n",
    "    if Y0==0:\n",
    "        ax4.plot([Z2,Z3],[X2,X3],\"-\",color=col)\n",
    "            \n",
    "            \n",
    "XI,YI=GetScatteredBeamConvergence(df_hoetiltsim2)\n",
    "XI=XI-Zshift\n",
    "for idx in np.arange(len(XI)):\n",
    "        ax4.scatter([XI[idx]],[YI[idx]],marker=\"+\",color=ColorNum[idx],s=1500,lw=1)\n",
    "\n",
    "ax4.grid()\n",
    "ax4.set_xlim(-20,0)\n",
    "ax4.set_ylim(10,35)\n",
    "ax4.set_xlabel(\"Z (mm)\")\n",
    "ax4.set_ylabel(\"X (mm)\")\n",
    "ax4.set_aspect('equal')\n",
    "ax4.set_title(\"HOE with tilted sources sim2\",fontweight=\"bold\",fontsize=10)\n",
    "ax4.tick_params(axis='both', which='major', labelsize=10)\n",
    "   \n",
    "Xspline=WLARRAY*1e6\n",
    "Yspline=XI\n",
    "focusHOETILTSIM2 = interp1d(Xspline,Yspline, kind='cubic')\n",
    "XI_HOETILT2=XI    \n",
    "    \n",
    "\n",
    "###########################\n",
    "# Bottom figure : HOE TILT Sim3\n",
    "#############################  \n",
    "    \n",
    "Zshift=0\n",
    "for index, row in df_hoetiltsim3.iterrows():\n",
    "    wl=row[\"wave\"]\n",
    "    col=ColorDict[wl]\n",
    "    X0=row[\"X0\"];Y0=row[\"Y0\"];Z0=row[\"Z0\"]-row[\"Z3\"]\n",
    "    X1=row[\"X1\"];Y1=row[\"Y1\"];Z1=row[\"Z1\"]-row[\"Z3\"]\n",
    "    X2=row[\"X2\"];Y2=row[\"Y2\"];Z2=row[\"Z2\"]-row[\"Z3\"]\n",
    "    X3=row[\"X3\"];Y3=row[\"Y3\"];Z3=row[\"Z3\"]-row[\"Z3\"]\n",
    "    Zshift=row[\"Z3\"]\n",
    "    if Y0==0:\n",
    "        ax5.plot([Z2,Z3],[X2,X3],\"-\",color=col)\n",
    "            \n",
    "            \n",
    "XI,YI=GetScatteredBeamConvergence(df_hoetiltsim3)\n",
    "XI=XI-Zshift\n",
    "for idx in np.arange(len(XI)):\n",
    "        ax5.scatter([XI[idx]],[YI[idx]],marker=\"+\",color=ColorNum[idx],s=1500,lw=1)\n",
    "\n",
    "ax5.grid()\n",
    "ax5.set_xlim(-20,0)\n",
    "ax5.set_ylim(10,35)\n",
    "ax5.set_xlabel(\"Z (mm)\")\n",
    "ax5.set_ylabel(\"X (mm)\")\n",
    "ax5.set_aspect('equal')\n",
    "ax5.set_title(\"HOE with tilted sources sim3\",fontweight=\"bold\",fontsize=10)\n",
    "ax5.tick_params(axis='both', which='major', labelsize=10)\n",
    "   \n",
    "Xspline=WLARRAY*1e6\n",
    "Yspline=XI\n",
    "focusHOETILTSIM3 = interp1d(Xspline,Yspline, kind='cubic')\n",
    "XI_HOETILT3=XI      \n",
    "    \n",
    "\n",
    "\n",
    "\n",
    "plt.tight_layout()\n",
    "plt.subplots_adjust(wspace=0.1,hspace=0.05)\n",
    "plt.savefig(\"Beam4BeamDispersionAuxTel_2021.pdf\")\n",
    "\n",
    "\n"
   ]
  },
  {
   "cell_type": "markdown",
   "metadata": {},
   "source": [
    "# Draw defocus vs wavelength"
   ]
  },
  {
   "cell_type": "code",
   "execution_count": null,
   "metadata": {},
   "outputs": [],
   "source": [
    "def find_nearest_idx(array, value):\n",
    "    array = np.asarray(array)\n",
    "    idx = (np.abs(array - value)).argmin()\n",
    "    return idx"
   ]
  },
  {
   "cell_type": "code",
   "execution_count": null,
   "metadata": {},
   "outputs": [],
   "source": [
    "## get the focalisation \n",
    "a      = 1./150.   # the grating\n",
    "idx_wl = 3    # choose one of the wavelength\n",
    "thewl  = WLIndexDict[idx_wl] \n",
    "\n",
    "# main rays\n",
    "central_ray_wl=GetCentralRay(df_R150).iloc[idx_wl]\n",
    "upper_ray_wl=GetUpperRay(df_R150).iloc[idx_wl]\n",
    "lower_ray_wl=GetLowerRay(df_R150).iloc[idx_wl]\n",
    "x0=0\n",
    "y0=central_ray_wl[\"X0\"]\n",
    "u0=central_ray_wl[\"W0\"]\n",
    "v0=central_ray_wl[\"U0\"]\n",
    "\n",
    "y1=upper_ray_wl[\"X2\"]\n",
    "u1=upper_ray_wl[\"W0\"]\n",
    "v1=upper_ray_wl[\"U0\"]\n",
    "\n",
    "y2=lower_ray_wl[\"X2\"]\n",
    "u2=lower_ray_wl[\"W0\"]\n",
    "v2=lower_ray_wl[\"U0\"]\n",
    "\n",
    "\n",
    "XXXR150,YYYR150,WLR150=GetRayConvergenceIntersectionPoints2(x0,y0,u0,v0,y1,u1,v1,y2,u2,v2,a,m=1,WLMIN=0.,WLMAX=1100.,NBPOINTS=1100)\n",
    "XXXR150=XXXR150+central_ray_wl[\"Z2\"]-central_ray_wl[\"Z3\"]\n"
   ]
  },
  {
   "cell_type": "code",
   "execution_count": null,
   "metadata": {},
   "outputs": [],
   "source": [
    "Xspline=WLARRAY*1e6"
   ]
  },
  {
   "cell_type": "code",
   "execution_count": null,
   "metadata": {},
   "outputs": [],
   "source": [
    "Xfoc=np.linspace(Xspline[0],Xspline[-1],100)"
   ]
  },
  {
   "cell_type": "code",
   "execution_count": null,
   "metadata": {},
   "outputs": [],
   "source": [
    "Yfoc=focusHOE(Xfoc)"
   ]
  },
  {
   "cell_type": "code",
   "execution_count": null,
   "metadata": {},
   "outputs": [],
   "source": [
    "Yfoc1=focusHOETILT(Xfoc)"
   ]
  },
  {
   "cell_type": "code",
   "execution_count": null,
   "metadata": {},
   "outputs": [],
   "source": [
    "plt.figure(figsize=(16,8))\n",
    "plt.plot(WLR150*1e6,XXXR150,\"b\",label=\"Ronchi 150\")\n",
    "plt.plot(WLARRAY*1e6,XI_HOE,\"or\")\n",
    "plt.plot(WLARRAY*1e6,XI_HOETILT,\"og\")\n",
    "plt.plot(WLARRAY*1e6,XI_HOETILT2,\"o\",color=\"orange\")\n",
    "plt.plot(WLARRAY*1e6,XI_HOETILT3,\"o\",color=\"cyan\")\n",
    "plt.plot(Xfoc,Yfoc,\"r--\",label=\"Hologram\")\n",
    "plt.plot(Xfoc,Yfoc1,\"g--\",label=\"Hologram with tilt sources\")\n",
    "plt.grid()\n",
    "plt.legend()\n",
    "plt.xlabel(\"$\\\\lambda$ (nm)\")\n",
    "plt.ylabel(\"Focus shift (mm)\")\n",
    "plt.title(\"Focus shift versus wavelength\")\n",
    "plt.tight_layout()\n",
    "plt.savefig(\"FocusShiftAuxTel_2021.pdf\")"
   ]
  },
  {
   "cell_type": "code",
   "execution_count": null,
   "metadata": {},
   "outputs": [],
   "source": [
    "idx_R150=find_nearest_idx(WLR150*1e6,750)"
   ]
  },
  {
   "cell_type": "code",
   "execution_count": null,
   "metadata": {},
   "outputs": [],
   "source": [
    "XXXR150[idx_R150]"
   ]
  },
  {
   "cell_type": "code",
   "execution_count": null,
   "metadata": {},
   "outputs": [],
   "source": [
    "idx_R150=find_nearest_idx(WLR150*1e6,1000)"
   ]
  },
  {
   "cell_type": "code",
   "execution_count": null,
   "metadata": {},
   "outputs": [],
   "source": [
    "XXXR150[idx_R150]"
   ]
  },
  {
   "cell_type": "code",
   "execution_count": null,
   "metadata": {},
   "outputs": [],
   "source": [
    "idx_HOE=find_nearest_idx(Xfoc,750)"
   ]
  },
  {
   "cell_type": "code",
   "execution_count": null,
   "metadata": {},
   "outputs": [],
   "source": [
    "idx_HOE"
   ]
  },
  {
   "cell_type": "code",
   "execution_count": null,
   "metadata": {},
   "outputs": [],
   "source": [
    "Yfoc[idx_HOE]"
   ]
  },
  {
   "cell_type": "code",
   "execution_count": null,
   "metadata": {},
   "outputs": [],
   "source": [
    "idx_HOE=find_nearest_idx(Xfoc,1000)"
   ]
  },
  {
   "cell_type": "code",
   "execution_count": null,
   "metadata": {},
   "outputs": [],
   "source": [
    "Yfoc[idx_HOE]"
   ]
  },
  {
   "cell_type": "code",
   "execution_count": null,
   "metadata": {},
   "outputs": [],
   "source": []
  }
 ],
 "metadata": {
  "anaconda-cloud": {},
  "kernelspec": {
   "display_name": "Python 3",
   "language": "python",
   "name": "python3"
  },
  "language_info": {
   "codemirror_mode": {
    "name": "ipython",
    "version": 3
   },
   "file_extension": ".py",
   "mimetype": "text/x-python",
   "name": "python",
   "nbconvert_exporter": "python",
   "pygments_lexer": "ipython3",
   "version": "3.8.5"
  },
  "toc": {
   "base_numbering": 1,
   "nav_menu": {},
   "number_sections": true,
   "sideBar": true,
   "skip_h1_title": false,
   "title_cell": "Table of Contents",
   "title_sidebar": "Contents",
   "toc_cell": false,
   "toc_position": {},
   "toc_section_display": "block",
   "toc_window_display": false
  }
 },
 "nbformat": 4,
 "nbformat_minor": 2
}
