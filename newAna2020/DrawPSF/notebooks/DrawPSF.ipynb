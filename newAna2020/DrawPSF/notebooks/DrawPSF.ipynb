{
 "cells": [
  {
   "cell_type": "markdown",
   "metadata": {},
   "source": [
    "# DrawPSF for paper for AuxTel\n",
    "\n",
    "\n",
    "- author : Sylvie Dagoret-Campagne\n",
    "- affiliation : IJCLab/IN2P3/CNRS\n",
    "\n",
    "- creation date : May 18th 2020\n",
    "- update : June 2nd 2020\n"
   ]
  },
  {
   "cell_type": "code",
   "execution_count": 270,
   "metadata": {},
   "outputs": [],
   "source": [
    "%matplotlib inline\n",
    "import matplotlib.pyplot as plt\n",
    "import numpy as np\n",
    "import os\n",
    "import matplotlib as mpl\n",
    "import pandas as pd\n",
    "import itertools\n",
    "import matplotlib.gridspec as gridspec\n",
    "from matplotlib.patches import Circle,Ellipse\n",
    "\n",
    "import matplotlib.colors as colors\n",
    "import matplotlib.cm as cmx"
   ]
  },
  {
   "cell_type": "code",
   "execution_count": 271,
   "metadata": {},
   "outputs": [],
   "source": [
    "# to enlarge the sizes\n",
    "params = {'legend.fontsize': 'x-large',\n",
    "          'figure.figsize': (13, 13),\n",
    "         'axes.labelsize': 'x-large',\n",
    "         'axes.titlesize':'x-large',\n",
    "         'xtick.labelsize':'x-large',\n",
    "         'ytick.labelsize':'x-large',\n",
    "         'font.size': 14}\n",
    "plt.rcParams.update(params)"
   ]
  },
  {
   "cell_type": "code",
   "execution_count": 272,
   "metadata": {},
   "outputs": [],
   "source": [
    "from astropy.modeling import models, fitting\n",
    "from astropy.modeling.models import custom_model"
   ]
  },
  {
   "cell_type": "code",
   "execution_count": 273,
   "metadata": {},
   "outputs": [],
   "source": [
    "from datetime import datetime,date"
   ]
  },
  {
   "cell_type": "code",
   "execution_count": 274,
   "metadata": {},
   "outputs": [],
   "source": [
    "today = date.today()\n",
    "string_date=today.strftime(\"%Y-%m-%d\")"
   ]
  },
  {
   "cell_type": "markdown",
   "metadata": {},
   "source": [
    "## Constants for conversions"
   ]
  },
  {
   "cell_type": "code",
   "execution_count": 275,
   "metadata": {},
   "outputs": [],
   "source": [
    "m_to_mm=1000.\n",
    "mm_to_m=1e-3\n",
    "inch_to_mm=25.4\n",
    "mm_to_inch=1./inch_to_mm\n",
    "micr_to_m=1e-6\n",
    "micr_to_mm=1e-3\n",
    "m_to_micr=1./micr_to_m\n",
    "m_to_cm=100.\n",
    "m_to_nm=1e9\n",
    "nm_to_m=1./m_to_nm"
   ]
  },
  {
   "cell_type": "code",
   "execution_count": 276,
   "metadata": {},
   "outputs": [],
   "source": [
    "arcdeg_to_arcmin=60.\n",
    "arcmin_to_arcdeg=1./arcdeg_to_arcmin\n",
    "arcmin_to_arcsec=60.\n",
    "arcdeg_to_arcsec=arcdeg_to_arcmin*arcmin_to_arcsec\n",
    "arcsec_to_arcdeg=1./arcdeg_to_arcsec"
   ]
  },
  {
   "cell_type": "code",
   "execution_count": 277,
   "metadata": {},
   "outputs": [],
   "source": [
    "deg_to_rad=np.pi/180."
   ]
  },
  {
   "cell_type": "code",
   "execution_count": 278,
   "metadata": {},
   "outputs": [],
   "source": [
    "rad_to_deg=1./deg_to_rad\n",
    "rad_to_arcsec=rad_to_deg*arcdeg_to_arcsec\n",
    "rad_to_arcmin=rad_to_deg*arcdeg_to_arcmin\n",
    "arcmin_to_rad=1./rad_to_arcmin"
   ]
  },
  {
   "cell_type": "markdown",
   "metadata": {},
   "source": [
    "## Configuration parameters at the telescope"
   ]
  },
  {
   "cell_type": "markdown",
   "metadata": {},
   "source": [
    "#### telescope"
   ]
  },
  {
   "cell_type": "code",
   "execution_count": 279,
   "metadata": {},
   "outputs": [],
   "source": [
    "Tel_Focal_Length=21.6 # m : Focal length of the telescope\n",
    "Tel_Diameter=1.2 # m : Diameter of the telescope    \n",
    "Tel_Fnum=Tel_Focal_Length/Tel_Diameter\n",
    "pltscale=206265/(Tel_Focal_Length*m_to_mm)  # arcsec per mm"
   ]
  },
  {
   "cell_type": "markdown",
   "metadata": {},
   "source": [
    "#### filter"
   ]
  },
  {
   "cell_type": "code",
   "execution_count": 280,
   "metadata": {},
   "outputs": [],
   "source": [
    "Filt_D=0.265 # m distance of the filter position wrt CCD plane\n",
    "Filt_size=3*inch_to_mm"
   ]
  },
  {
   "cell_type": "markdown",
   "metadata": {},
   "source": [
    "#### CCD detector"
   ]
  },
  {
   "cell_type": "code",
   "execution_count": 281,
   "metadata": {},
   "outputs": [],
   "source": [
    "Det_xpic=10.0 # microns per pixel\n",
    "#Det_NbPix=2048 # number of pixels per CCD side\n",
    "Det_NbPix=4096 # number of pixels per CCD side For 400 only\n",
    "Det_size=2*Det_xpic*Det_NbPix*micr_to_mm # CCD size in mm, 5 cm or 2 inch"
   ]
  },
  {
   "cell_type": "markdown",
   "metadata": {},
   "source": [
    "## Input file"
   ]
  },
  {
   "cell_type": "code",
   "execution_count": 282,
   "metadata": {},
   "outputs": [],
   "source": [
    "# number of rays\n",
    "NBEAM_X=11\n",
    "NBEAM_Y=11\n",
    "NBEAM=NBEAM_X*NBEAM_Y\n",
    "NWL=4\n",
    "NBTOT=NBEAM*NWL"
   ]
  },
  {
   "cell_type": "code",
   "execution_count": 283,
   "metadata": {},
   "outputs": [],
   "source": [
    "theta_x=0.  # angle in arcmin\n",
    "theta_y=0.  # angle in arcmin "
   ]
  },
  {
   "cell_type": "code",
   "execution_count": 284,
   "metadata": {},
   "outputs": [],
   "source": [
    "theta_x_num=int(theta_x*10)\n",
    "theta_y_num=int(theta_y*10)"
   ]
  },
  {
   "cell_type": "code",
   "execution_count": 285,
   "metadata": {},
   "outputs": [],
   "source": [
    "if theta_x_num>0:\n",
    "    theta_nstr='{:0>2}'.format(theta_x_num)\n",
    "    theta_x_str=\"p\"+theta_nstr\n",
    "else:\n",
    "    theta_nstr='{:0>2}'.format(-theta_x_num)\n",
    "    theta_x_str=\"m\"+theta_nstr"
   ]
  },
  {
   "cell_type": "code",
   "execution_count": 286,
   "metadata": {},
   "outputs": [],
   "source": [
    "if theta_y_num>0:\n",
    "    theta_nstr='{:0>2}'.format(theta_y_num)\n",
    "    theta_y_str=\"p\"+theta_nstr\n",
    "else:\n",
    "    theta_nstr='{:0>2}'.format(-theta_y_num)\n",
    "    theta_y_str=\"m\"+theta_nstr"
   ]
  },
  {
   "cell_type": "code",
   "execution_count": 287,
   "metadata": {},
   "outputs": [],
   "source": [
    "Beam4_Rayfile=\"Beam4_Rayfile_{:d}_allwl_{}_{}\".format(NBTOT,theta_x_str,theta_y_str)"
   ]
  },
  {
   "cell_type": "code",
   "execution_count": 288,
   "metadata": {},
   "outputs": [
    {
     "data": {
      "text/plain": [
       "'Beam4_Rayfile_484_allwl_m00_m00'"
      ]
     },
     "execution_count": 288,
     "metadata": {},
     "output_type": "execute_result"
    }
   ],
   "source": [
    "Beam4_Rayfile"
   ]
  },
  {
   "cell_type": "code",
   "execution_count": 289,
   "metadata": {},
   "outputs": [],
   "source": [
    "order=\"OP1\"\n",
    "order_str=\"+1\""
   ]
  },
  {
   "cell_type": "markdown",
   "metadata": {},
   "source": [
    "# Read input files"
   ]
  },
  {
   "cell_type": "code",
   "execution_count": 290,
   "metadata": {},
   "outputs": [],
   "source": [
    "FLAG_R350=True # show RON350 instead of R200"
   ]
  },
  {
   "cell_type": "code",
   "execution_count": 291,
   "metadata": {},
   "outputs": [],
   "source": [
    "rayfile_hoe=\"HOE_\"+Beam4_Rayfile+\"_RAY_OUT.xlsx\"\n",
    "rayfile_R150=\"R150_\"+Beam4_Rayfile+\"_RAY_OUT.xlsx\""
   ]
  },
  {
   "cell_type": "code",
   "execution_count": 292,
   "metadata": {},
   "outputs": [],
   "source": [
    "def GetBeamParam(df):\n",
    "    X0C=df[\"X0\"].mean()\n",
    "    Y0C=df[\"Y0\"].mean()\n",
    "    RXMAX=np.max(np.abs(df[\"X0\"].values-X0C))\n",
    "    RYMAX=np.max(np.abs(df[\"Y0\"].values-Y0C))   \n",
    "    RMAX=np.max(np.array([RXMAX,RYMAX]))\n",
    "    return X0C,Y0C,RMAX"
   ]
  },
  {
   "cell_type": "code",
   "execution_count": 293,
   "metadata": {},
   "outputs": [],
   "source": [
    "def Select_Beam(row):\n",
    "    return (row[\"X0\"]-X0C)**2+(row[\"Y0\"]-Y0C)**2 <= RMAX**2"
   ]
  },
  {
   "cell_type": "markdown",
   "metadata": {},
   "source": [
    "## Hologram"
   ]
  },
  {
   "cell_type": "code",
   "execution_count": 294,
   "metadata": {},
   "outputs": [],
   "source": [
    "input_hoe = pd.ExcelFile(rayfile_hoe)\n",
    "df_hoe = input_hoe.parse(index_row=0,header=1)\n",
    "#df_hoe=df_hoe.iloc[0:NBTOT]\n",
    "df_hoe=df_hoe.drop(0)"
   ]
  },
  {
   "cell_type": "code",
   "execution_count": 295,
   "metadata": {},
   "outputs": [],
   "source": [
    "# rename columns otherwise they are not recognize and swap X,Y\n",
    "df_hoe.columns = [\"X0\",\"Y0\",\"Z0\",\"U0\",\"V0\",\"W0\",\"wave\",\"col\",\"X1\",\"Y1\",\"Z1\",\"X2\",\"Y2\",\"Z2\",\"X3\",\"Y3\",\"Z3\",\"Xgoal\",\"Ygoal\",\"Xfinal\",\"Yfinal\",\"Zfinal\",\"Notes\",\"Unnamed\"]"
   ]
  },
  {
   "cell_type": "code",
   "execution_count": 296,
   "metadata": {},
   "outputs": [
    {
     "data": {
      "text/html": [
       "<div>\n",
       "<style scoped>\n",
       "    .dataframe tbody tr th:only-of-type {\n",
       "        vertical-align: middle;\n",
       "    }\n",
       "\n",
       "    .dataframe tbody tr th {\n",
       "        vertical-align: top;\n",
       "    }\n",
       "\n",
       "    .dataframe thead th {\n",
       "        text-align: right;\n",
       "    }\n",
       "</style>\n",
       "<table border=\"1\" class=\"dataframe\">\n",
       "  <thead>\n",
       "    <tr style=\"text-align: right;\">\n",
       "      <th></th>\n",
       "      <th>X0</th>\n",
       "      <th>Y0</th>\n",
       "      <th>Z0</th>\n",
       "      <th>U0</th>\n",
       "      <th>V0</th>\n",
       "      <th>W0</th>\n",
       "      <th>wave</th>\n",
       "      <th>col</th>\n",
       "      <th>X1</th>\n",
       "      <th>Y1</th>\n",
       "      <th>...</th>\n",
       "      <th>X3</th>\n",
       "      <th>Y3</th>\n",
       "      <th>Z3</th>\n",
       "      <th>Xgoal</th>\n",
       "      <th>Ygoal</th>\n",
       "      <th>Xfinal</th>\n",
       "      <th>Yfinal</th>\n",
       "      <th>Zfinal</th>\n",
       "      <th>Notes</th>\n",
       "      <th>Unnamed</th>\n",
       "    </tr>\n",
       "  </thead>\n",
       "  <tbody>\n",
       "    <tr>\n",
       "      <th>1</th>\n",
       "      <td>-7.36016</td>\n",
       "      <td>-7.36016</td>\n",
       "      <td>0</td>\n",
       "      <td>0.0277528</td>\n",
       "      <td>0.0277528</td>\n",
       "      <td>0.999229</td>\n",
       "      <td>0.0004</td>\n",
       "      <td>b</td>\n",
       "      <td>-5.55484</td>\n",
       "      <td>-5.55484</td>\n",
       "      <td>...</td>\n",
       "      <td>12.4006</td>\n",
       "      <td>-0.00625</td>\n",
       "      <td>265</td>\n",
       "      <td>0</td>\n",
       "      <td>0</td>\n",
       "      <td>12.4006</td>\n",
       "      <td>-0.00625</td>\n",
       "      <td>265</td>\n",
       "      <td>OK</td>\n",
       "      <td>3.0</td>\n",
       "    </tr>\n",
       "    <tr>\n",
       "      <th>2</th>\n",
       "      <td>-5.88813</td>\n",
       "      <td>-7.36016</td>\n",
       "      <td>0</td>\n",
       "      <td>0.0222053</td>\n",
       "      <td>0.0277567</td>\n",
       "      <td>0.999368</td>\n",
       "      <td>0.0004</td>\n",
       "      <td>b</td>\n",
       "      <td>-4.44387</td>\n",
       "      <td>-5.55484</td>\n",
       "      <td>...</td>\n",
       "      <td>12.4043</td>\n",
       "      <td>-0.00626</td>\n",
       "      <td>265</td>\n",
       "      <td>0</td>\n",
       "      <td>0</td>\n",
       "      <td>12.4043</td>\n",
       "      <td>-0.00626</td>\n",
       "      <td>265</td>\n",
       "      <td>OK</td>\n",
       "      <td>3.0</td>\n",
       "    </tr>\n",
       "    <tr>\n",
       "      <th>3</th>\n",
       "      <td>-4.4161</td>\n",
       "      <td>-7.36016</td>\n",
       "      <td>0</td>\n",
       "      <td>0.0166558</td>\n",
       "      <td>0.0277596</td>\n",
       "      <td>0.999476</td>\n",
       "      <td>0.0004</td>\n",
       "      <td>b</td>\n",
       "      <td>-3.3329</td>\n",
       "      <td>-5.55484</td>\n",
       "      <td>...</td>\n",
       "      <td>12.408</td>\n",
       "      <td>-0.00631</td>\n",
       "      <td>265</td>\n",
       "      <td>0</td>\n",
       "      <td>0</td>\n",
       "      <td>12.408</td>\n",
       "      <td>-0.00631</td>\n",
       "      <td>265</td>\n",
       "      <td>OK</td>\n",
       "      <td>3.0</td>\n",
       "    </tr>\n",
       "    <tr>\n",
       "      <th>4</th>\n",
       "      <td>-2.94407</td>\n",
       "      <td>-7.36016</td>\n",
       "      <td>0</td>\n",
       "      <td>0.0111047</td>\n",
       "      <td>0.0277618</td>\n",
       "      <td>0.999553</td>\n",
       "      <td>0.0004</td>\n",
       "      <td>b</td>\n",
       "      <td>-2.22194</td>\n",
       "      <td>-5.55484</td>\n",
       "      <td>...</td>\n",
       "      <td>12.4118</td>\n",
       "      <td>-0.00632</td>\n",
       "      <td>265</td>\n",
       "      <td>0</td>\n",
       "      <td>0</td>\n",
       "      <td>12.4118</td>\n",
       "      <td>-0.00632</td>\n",
       "      <td>265</td>\n",
       "      <td>OK</td>\n",
       "      <td>3.0</td>\n",
       "    </tr>\n",
       "    <tr>\n",
       "      <th>5</th>\n",
       "      <td>-1.47203</td>\n",
       "      <td>-7.36016</td>\n",
       "      <td>0</td>\n",
       "      <td>0.0055526</td>\n",
       "      <td>0.0277631</td>\n",
       "      <td>0.999599</td>\n",
       "      <td>0.0004</td>\n",
       "      <td>b</td>\n",
       "      <td>-1.11097</td>\n",
       "      <td>-5.55484</td>\n",
       "      <td>...</td>\n",
       "      <td>12.4155</td>\n",
       "      <td>-0.00634</td>\n",
       "      <td>265</td>\n",
       "      <td>0</td>\n",
       "      <td>0</td>\n",
       "      <td>12.4155</td>\n",
       "      <td>-0.00634</td>\n",
       "      <td>265</td>\n",
       "      <td>OK</td>\n",
       "      <td>3.0</td>\n",
       "    </tr>\n",
       "    <tr>\n",
       "      <th>...</th>\n",
       "      <td>...</td>\n",
       "      <td>...</td>\n",
       "      <td>...</td>\n",
       "      <td>...</td>\n",
       "      <td>...</td>\n",
       "      <td>...</td>\n",
       "      <td>...</td>\n",
       "      <td>...</td>\n",
       "      <td>...</td>\n",
       "      <td>...</td>\n",
       "      <td>...</td>\n",
       "      <td>...</td>\n",
       "      <td>...</td>\n",
       "      <td>...</td>\n",
       "      <td>...</td>\n",
       "      <td>...</td>\n",
       "      <td>...</td>\n",
       "      <td>...</td>\n",
       "      <td>...</td>\n",
       "      <td>...</td>\n",
       "      <td>...</td>\n",
       "    </tr>\n",
       "    <tr>\n",
       "      <th>480</th>\n",
       "      <td>1.47203</td>\n",
       "      <td>7.36016</td>\n",
       "      <td>0</td>\n",
       "      <td>-0.0055526</td>\n",
       "      <td>-0.0277631</td>\n",
       "      <td>0.999599</td>\n",
       "      <td>0.001</td>\n",
       "      <td>k</td>\n",
       "      <td>1.11097</td>\n",
       "      <td>5.55484</td>\n",
       "      <td>...</td>\n",
       "      <td>31.3556</td>\n",
       "      <td>-0.02496</td>\n",
       "      <td>265</td>\n",
       "      <td>0</td>\n",
       "      <td>0</td>\n",
       "      <td>31.3556</td>\n",
       "      <td>-0.02496</td>\n",
       "      <td>265</td>\n",
       "      <td>OK</td>\n",
       "      <td>3.0</td>\n",
       "    </tr>\n",
       "    <tr>\n",
       "      <th>481</th>\n",
       "      <td>2.94407</td>\n",
       "      <td>7.36016</td>\n",
       "      <td>0</td>\n",
       "      <td>-0.0111047</td>\n",
       "      <td>-0.0277618</td>\n",
       "      <td>0.999553</td>\n",
       "      <td>0.001</td>\n",
       "      <td>k</td>\n",
       "      <td>2.22194</td>\n",
       "      <td>5.55484</td>\n",
       "      <td>...</td>\n",
       "      <td>31.3406</td>\n",
       "      <td>-0.02489</td>\n",
       "      <td>265</td>\n",
       "      <td>0</td>\n",
       "      <td>0</td>\n",
       "      <td>31.3406</td>\n",
       "      <td>-0.02489</td>\n",
       "      <td>265</td>\n",
       "      <td>OK</td>\n",
       "      <td>3.0</td>\n",
       "    </tr>\n",
       "    <tr>\n",
       "      <th>482</th>\n",
       "      <td>4.4161</td>\n",
       "      <td>7.36016</td>\n",
       "      <td>0</td>\n",
       "      <td>-0.0166558</td>\n",
       "      <td>-0.0277596</td>\n",
       "      <td>0.999476</td>\n",
       "      <td>0.001</td>\n",
       "      <td>k</td>\n",
       "      <td>3.3329</td>\n",
       "      <td>5.55484</td>\n",
       "      <td>...</td>\n",
       "      <td>31.3257</td>\n",
       "      <td>-0.0248</td>\n",
       "      <td>265</td>\n",
       "      <td>0</td>\n",
       "      <td>0</td>\n",
       "      <td>31.3257</td>\n",
       "      <td>-0.0248</td>\n",
       "      <td>265</td>\n",
       "      <td>OK</td>\n",
       "      <td>3.0</td>\n",
       "    </tr>\n",
       "    <tr>\n",
       "      <th>483</th>\n",
       "      <td>5.88813</td>\n",
       "      <td>7.36016</td>\n",
       "      <td>0</td>\n",
       "      <td>-0.0222053</td>\n",
       "      <td>-0.0277567</td>\n",
       "      <td>0.999368</td>\n",
       "      <td>0.001</td>\n",
       "      <td>k</td>\n",
       "      <td>4.44387</td>\n",
       "      <td>5.55484</td>\n",
       "      <td>...</td>\n",
       "      <td>31.3108</td>\n",
       "      <td>-0.02476</td>\n",
       "      <td>265</td>\n",
       "      <td>0</td>\n",
       "      <td>0</td>\n",
       "      <td>31.3108</td>\n",
       "      <td>-0.02476</td>\n",
       "      <td>265</td>\n",
       "      <td>OK</td>\n",
       "      <td>3.0</td>\n",
       "    </tr>\n",
       "    <tr>\n",
       "      <th>484</th>\n",
       "      <td>7.36016</td>\n",
       "      <td>7.36016</td>\n",
       "      <td>0</td>\n",
       "      <td>-0.0277528</td>\n",
       "      <td>-0.0277528</td>\n",
       "      <td>0.999229</td>\n",
       "      <td>0.001</td>\n",
       "      <td>k</td>\n",
       "      <td>5.55484</td>\n",
       "      <td>5.55484</td>\n",
       "      <td>...</td>\n",
       "      <td>31.2959</td>\n",
       "      <td>-0.02468</td>\n",
       "      <td>265</td>\n",
       "      <td>0</td>\n",
       "      <td>0</td>\n",
       "      <td>31.2959</td>\n",
       "      <td>-0.02468</td>\n",
       "      <td>265</td>\n",
       "      <td>OK</td>\n",
       "      <td>3.0</td>\n",
       "    </tr>\n",
       "  </tbody>\n",
       "</table>\n",
       "<p>484 rows × 24 columns</p>\n",
       "</div>"
      ],
      "text/plain": [
       "          X0       Y0 Z0         U0         V0        W0    wave col       X1  \\\n",
       "1   -7.36016 -7.36016  0  0.0277528  0.0277528  0.999229  0.0004   b -5.55484   \n",
       "2   -5.88813 -7.36016  0  0.0222053  0.0277567  0.999368  0.0004   b -4.44387   \n",
       "3    -4.4161 -7.36016  0  0.0166558  0.0277596  0.999476  0.0004   b  -3.3329   \n",
       "4   -2.94407 -7.36016  0  0.0111047  0.0277618  0.999553  0.0004   b -2.22194   \n",
       "5   -1.47203 -7.36016  0  0.0055526  0.0277631  0.999599  0.0004   b -1.11097   \n",
       "..       ...      ... ..        ...        ...       ...     ...  ..      ...   \n",
       "480  1.47203  7.36016  0 -0.0055526 -0.0277631  0.999599   0.001   k  1.11097   \n",
       "481  2.94407  7.36016  0 -0.0111047 -0.0277618  0.999553   0.001   k  2.22194   \n",
       "482   4.4161  7.36016  0 -0.0166558 -0.0277596  0.999476   0.001   k   3.3329   \n",
       "483  5.88813  7.36016  0 -0.0222053 -0.0277567  0.999368   0.001   k  4.44387   \n",
       "484  7.36016  7.36016  0 -0.0277528 -0.0277528  0.999229   0.001   k  5.55484   \n",
       "\n",
       "          Y1  ...       X3       Y3   Z3 Xgoal Ygoal   Xfinal   Yfinal Zfinal  \\\n",
       "1   -5.55484  ...  12.4006 -0.00625  265     0     0  12.4006 -0.00625    265   \n",
       "2   -5.55484  ...  12.4043 -0.00626  265     0     0  12.4043 -0.00626    265   \n",
       "3   -5.55484  ...   12.408 -0.00631  265     0     0   12.408 -0.00631    265   \n",
       "4   -5.55484  ...  12.4118 -0.00632  265     0     0  12.4118 -0.00632    265   \n",
       "5   -5.55484  ...  12.4155 -0.00634  265     0     0  12.4155 -0.00634    265   \n",
       "..       ...  ...      ...      ...  ...   ...   ...      ...      ...    ...   \n",
       "480  5.55484  ...  31.3556 -0.02496  265     0     0  31.3556 -0.02496    265   \n",
       "481  5.55484  ...  31.3406 -0.02489  265     0     0  31.3406 -0.02489    265   \n",
       "482  5.55484  ...  31.3257  -0.0248  265     0     0  31.3257  -0.0248    265   \n",
       "483  5.55484  ...  31.3108 -0.02476  265     0     0  31.3108 -0.02476    265   \n",
       "484  5.55484  ...  31.2959 -0.02468  265     0     0  31.2959 -0.02468    265   \n",
       "\n",
       "    Notes Unnamed  \n",
       "1      OK     3.0  \n",
       "2      OK     3.0  \n",
       "3      OK     3.0  \n",
       "4      OK     3.0  \n",
       "5      OK     3.0  \n",
       "..    ...     ...  \n",
       "480    OK     3.0  \n",
       "481    OK     3.0  \n",
       "482    OK     3.0  \n",
       "483    OK     3.0  \n",
       "484    OK     3.0  \n",
       "\n",
       "[484 rows x 24 columns]"
      ]
     },
     "execution_count": 296,
     "metadata": {},
     "output_type": "execute_result"
    }
   ],
   "source": [
    "df_hoe"
   ]
  },
  {
   "cell_type": "code",
   "execution_count": 297,
   "metadata": {},
   "outputs": [],
   "source": [
    "X0C,Y0C,RMAX=GetBeamParam(df_hoe)"
   ]
  },
  {
   "cell_type": "code",
   "execution_count": 298,
   "metadata": {},
   "outputs": [],
   "source": [
    "df_filter=df_hoe.copy()\n",
    "df_filter=df_filter.loc[df_filter.apply(Select_Beam, axis=1)]\n",
    "df_filter=df_filter.reset_index()   # reset index\n",
    "df_hoe=df_filter.copy()"
   ]
  },
  {
   "cell_type": "code",
   "execution_count": 299,
   "metadata": {},
   "outputs": [
    {
     "data": {
      "text/plain": [
       "Text(0.5, 0.98, 'HOE :Filtered circular beam')"
      ]
     },
     "execution_count": 299,
     "metadata": {},
     "output_type": "execute_result"
    },
    {
     "data": {
      "image/png": "[encoded data removed]",
      "text/plain": [
       "<Figure size 1296x648 with 2 Axes>"
      ]
     },
     "metadata": {
      "needs_background": "light"
     },
     "output_type": "display_data"
    }
   ],
   "source": [
    "X0=np.array(df_filter[\"X0\"].values,dtype='float64')\n",
    "Y0=np.array(df_filter[\"Y0\"].values,dtype='float64')\n",
    "V0=np.array(df_filter[\"V0\"].values,dtype='float64')\n",
    "U0=np.array(df_filter[\"U0\"].values,dtype='float64')\n",
    "\n",
    "f, ((ax1, ax2)) = plt.subplots(1, 2,figsize=(18,9),sharex=True,sharey=True)\n",
    "df_filter.plot.scatter(x=\"X0\", y=\"Y0\",c=\"DarkBlue\",marker=\"o\",ax=ax1)\n",
    "ax1.set_aspect(\"equal\")\n",
    "ax1.grid()\n",
    "\n",
    "q = ax2.quiver(X0,Y0, U0,V0,color=\"red\")\n",
    "ax2.set_aspect(\"equal\")\n",
    "ax2.set_xlabel(\"X0 (mm)\")\n",
    "ax2.grid()\n",
    "\n",
    "plt.suptitle(\"HOE :Filtered circular beam\")"
   ]
  },
  {
   "cell_type": "markdown",
   "metadata": {},
   "source": [
    "# "
   ]
  },
  {
   "cell_type": "markdown",
   "metadata": {},
   "source": [
    "## Ronchi 150"
   ]
  },
  {
   "cell_type": "code",
   "execution_count": 300,
   "metadata": {},
   "outputs": [],
   "source": [
    "input_R150 = pd.ExcelFile(rayfile_R150)\n",
    "df_R150 = input_R150.parse(index_row=0,header=1)\n",
    "#df_R150=df_R150.iloc[0:NBTOT]"
   ]
  },
  {
   "cell_type": "code",
   "execution_count": 301,
   "metadata": {},
   "outputs": [],
   "source": [
    "df_R150=df_R150.drop(0)\n",
    "df_R150 = df_R150.reset_index()"
   ]
  },
  {
   "cell_type": "code",
   "execution_count": 302,
   "metadata": {},
   "outputs": [
    {
     "data": {
      "text/html": [
       "<div>\n",
       "<style scoped>\n",
       "    .dataframe tbody tr th:only-of-type {\n",
       "        vertical-align: middle;\n",
       "    }\n",
       "\n",
       "    .dataframe tbody tr th {\n",
       "        vertical-align: top;\n",
       "    }\n",
       "\n",
       "    .dataframe thead th {\n",
       "        text-align: right;\n",
       "    }\n",
       "</style>\n",
       "<table border=\"1\" class=\"dataframe\">\n",
       "  <thead>\n",
       "    <tr style=\"text-align: right;\">\n",
       "      <th></th>\n",
       "      <th>index</th>\n",
       "      <th>X0</th>\n",
       "      <th>Y0</th>\n",
       "      <th>Z0</th>\n",
       "      <th>U0</th>\n",
       "      <th>V0</th>\n",
       "      <th>W0</th>\n",
       "      <th>wave</th>\n",
       "      <th>col</th>\n",
       "      <th>X1</th>\n",
       "      <th>...</th>\n",
       "      <th>X3</th>\n",
       "      <th>Y3</th>\n",
       "      <th>Z3</th>\n",
       "      <th>Xgoal</th>\n",
       "      <th>Ygoal</th>\n",
       "      <th>Xfinal</th>\n",
       "      <th>Yfinal</th>\n",
       "      <th>Zfinal</th>\n",
       "      <th>Notes</th>\n",
       "      <th>Unnamed: 23</th>\n",
       "    </tr>\n",
       "  </thead>\n",
       "  <tbody>\n",
       "    <tr>\n",
       "      <th>0</th>\n",
       "      <td>1</td>\n",
       "      <td>-7.36016</td>\n",
       "      <td>-7.36016</td>\n",
       "      <td>0</td>\n",
       "      <td>0.0277528</td>\n",
       "      <td>0.0277528</td>\n",
       "      <td>0.999229</td>\n",
       "      <td>0.0004</td>\n",
       "      <td>b</td>\n",
       "      <td>-5.55484</td>\n",
       "      <td>...</td>\n",
       "      <td>12.0102</td>\n",
       "      <td>0.01928</td>\n",
       "      <td>265</td>\n",
       "      <td>0</td>\n",
       "      <td>0</td>\n",
       "      <td>12.0102</td>\n",
       "      <td>0.01928</td>\n",
       "      <td>265</td>\n",
       "      <td>OK</td>\n",
       "      <td>3.0</td>\n",
       "    </tr>\n",
       "    <tr>\n",
       "      <th>1</th>\n",
       "      <td>2</td>\n",
       "      <td>-5.88813</td>\n",
       "      <td>-7.36016</td>\n",
       "      <td>0</td>\n",
       "      <td>0.0222053</td>\n",
       "      <td>0.0277567</td>\n",
       "      <td>0.999368</td>\n",
       "      <td>0.0004</td>\n",
       "      <td>b</td>\n",
       "      <td>-4.44387</td>\n",
       "      <td>...</td>\n",
       "      <td>11.9991</td>\n",
       "      <td>0.01743</td>\n",
       "      <td>265</td>\n",
       "      <td>0</td>\n",
       "      <td>0</td>\n",
       "      <td>11.9991</td>\n",
       "      <td>0.01743</td>\n",
       "      <td>265</td>\n",
       "      <td>OK</td>\n",
       "      <td>3.0</td>\n",
       "    </tr>\n",
       "    <tr>\n",
       "      <th>2</th>\n",
       "      <td>3</td>\n",
       "      <td>-4.4161</td>\n",
       "      <td>-7.36016</td>\n",
       "      <td>0</td>\n",
       "      <td>0.0166558</td>\n",
       "      <td>0.0277596</td>\n",
       "      <td>0.999476</td>\n",
       "      <td>0.0004</td>\n",
       "      <td>b</td>\n",
       "      <td>-3.3329</td>\n",
       "      <td>...</td>\n",
       "      <td>11.9892</td>\n",
       "      <td>0.01554</td>\n",
       "      <td>265</td>\n",
       "      <td>0</td>\n",
       "      <td>0</td>\n",
       "      <td>11.9892</td>\n",
       "      <td>0.01554</td>\n",
       "      <td>265</td>\n",
       "      <td>OK</td>\n",
       "      <td>3.0</td>\n",
       "    </tr>\n",
       "    <tr>\n",
       "      <th>3</th>\n",
       "      <td>4</td>\n",
       "      <td>-2.94407</td>\n",
       "      <td>-7.36016</td>\n",
       "      <td>0</td>\n",
       "      <td>0.0111047</td>\n",
       "      <td>0.0277618</td>\n",
       "      <td>0.999553</td>\n",
       "      <td>0.0004</td>\n",
       "      <td>b</td>\n",
       "      <td>-2.22194</td>\n",
       "      <td>...</td>\n",
       "      <td>11.9804</td>\n",
       "      <td>0.0137</td>\n",
       "      <td>265</td>\n",
       "      <td>0</td>\n",
       "      <td>0</td>\n",
       "      <td>11.9804</td>\n",
       "      <td>0.0137</td>\n",
       "      <td>265</td>\n",
       "      <td>OK</td>\n",
       "      <td>3.0</td>\n",
       "    </tr>\n",
       "    <tr>\n",
       "      <th>4</th>\n",
       "      <td>5</td>\n",
       "      <td>-1.47203</td>\n",
       "      <td>-7.36016</td>\n",
       "      <td>0</td>\n",
       "      <td>0.0055526</td>\n",
       "      <td>0.0277631</td>\n",
       "      <td>0.999599</td>\n",
       "      <td>0.0004</td>\n",
       "      <td>b</td>\n",
       "      <td>-1.11097</td>\n",
       "      <td>...</td>\n",
       "      <td>11.9727</td>\n",
       "      <td>0.01185</td>\n",
       "      <td>265</td>\n",
       "      <td>0</td>\n",
       "      <td>0</td>\n",
       "      <td>11.9727</td>\n",
       "      <td>0.01185</td>\n",
       "      <td>265</td>\n",
       "      <td>OK</td>\n",
       "      <td>3.0</td>\n",
       "    </tr>\n",
       "    <tr>\n",
       "      <th>...</th>\n",
       "      <td>...</td>\n",
       "      <td>...</td>\n",
       "      <td>...</td>\n",
       "      <td>...</td>\n",
       "      <td>...</td>\n",
       "      <td>...</td>\n",
       "      <td>...</td>\n",
       "      <td>...</td>\n",
       "      <td>...</td>\n",
       "      <td>...</td>\n",
       "      <td>...</td>\n",
       "      <td>...</td>\n",
       "      <td>...</td>\n",
       "      <td>...</td>\n",
       "      <td>...</td>\n",
       "      <td>...</td>\n",
       "      <td>...</td>\n",
       "      <td>...</td>\n",
       "      <td>...</td>\n",
       "      <td>...</td>\n",
       "      <td>...</td>\n",
       "    </tr>\n",
       "    <tr>\n",
       "      <th>479</th>\n",
       "      <td>480</td>\n",
       "      <td>1.47203</td>\n",
       "      <td>7.36016</td>\n",
       "      <td>0</td>\n",
       "      <td>-0.0055526</td>\n",
       "      <td>-0.0277631</td>\n",
       "      <td>0.999599</td>\n",
       "      <td>0.001</td>\n",
       "      <td>k</td>\n",
       "      <td>1.11097</td>\n",
       "      <td>...</td>\n",
       "      <td>30.1666</td>\n",
       "      <td>-0.05855</td>\n",
       "      <td>265</td>\n",
       "      <td>0</td>\n",
       "      <td>0</td>\n",
       "      <td>30.1666</td>\n",
       "      <td>-0.05855</td>\n",
       "      <td>265</td>\n",
       "      <td>OK</td>\n",
       "      <td>3.0</td>\n",
       "    </tr>\n",
       "    <tr>\n",
       "      <th>480</th>\n",
       "      <td>481</td>\n",
       "      <td>2.94407</td>\n",
       "      <td>7.36016</td>\n",
       "      <td>0</td>\n",
       "      <td>-0.0111047</td>\n",
       "      <td>-0.0277618</td>\n",
       "      <td>0.999553</td>\n",
       "      <td>0.001</td>\n",
       "      <td>k</td>\n",
       "      <td>2.22194</td>\n",
       "      <td>...</td>\n",
       "      <td>30.1325</td>\n",
       "      <td>-0.0538</td>\n",
       "      <td>265</td>\n",
       "      <td>0</td>\n",
       "      <td>0</td>\n",
       "      <td>30.1325</td>\n",
       "      <td>-0.0538</td>\n",
       "      <td>265</td>\n",
       "      <td>OK</td>\n",
       "      <td>3.0</td>\n",
       "    </tr>\n",
       "    <tr>\n",
       "      <th>481</th>\n",
       "      <td>482</td>\n",
       "      <td>4.4161</td>\n",
       "      <td>7.36016</td>\n",
       "      <td>0</td>\n",
       "      <td>-0.0166558</td>\n",
       "      <td>-0.0277596</td>\n",
       "      <td>0.999476</td>\n",
       "      <td>0.001</td>\n",
       "      <td>k</td>\n",
       "      <td>3.3329</td>\n",
       "      <td>...</td>\n",
       "      <td>30.1014</td>\n",
       "      <td>-0.04905</td>\n",
       "      <td>265</td>\n",
       "      <td>0</td>\n",
       "      <td>0</td>\n",
       "      <td>30.1014</td>\n",
       "      <td>-0.04905</td>\n",
       "      <td>265</td>\n",
       "      <td>OK</td>\n",
       "      <td>3.0</td>\n",
       "    </tr>\n",
       "    <tr>\n",
       "      <th>482</th>\n",
       "      <td>483</td>\n",
       "      <td>5.88813</td>\n",
       "      <td>7.36016</td>\n",
       "      <td>0</td>\n",
       "      <td>-0.0222053</td>\n",
       "      <td>-0.0277567</td>\n",
       "      <td>0.999368</td>\n",
       "      <td>0.001</td>\n",
       "      <td>k</td>\n",
       "      <td>4.44387</td>\n",
       "      <td>...</td>\n",
       "      <td>30.0731</td>\n",
       "      <td>-0.04437</td>\n",
       "      <td>265</td>\n",
       "      <td>0</td>\n",
       "      <td>0</td>\n",
       "      <td>30.0731</td>\n",
       "      <td>-0.04437</td>\n",
       "      <td>265</td>\n",
       "      <td>OK</td>\n",
       "      <td>3.0</td>\n",
       "    </tr>\n",
       "    <tr>\n",
       "      <th>483</th>\n",
       "      <td>484</td>\n",
       "      <td>7.36016</td>\n",
       "      <td>7.36016</td>\n",
       "      <td>0</td>\n",
       "      <td>-0.0277528</td>\n",
       "      <td>-0.0277528</td>\n",
       "      <td>0.999229</td>\n",
       "      <td>0.001</td>\n",
       "      <td>k</td>\n",
       "      <td>5.55484</td>\n",
       "      <td>...</td>\n",
       "      <td>30.0477</td>\n",
       "      <td>-0.03965</td>\n",
       "      <td>265</td>\n",
       "      <td>0</td>\n",
       "      <td>0</td>\n",
       "      <td>30.0477</td>\n",
       "      <td>-0.03965</td>\n",
       "      <td>265</td>\n",
       "      <td>OK</td>\n",
       "      <td>3.0</td>\n",
       "    </tr>\n",
       "  </tbody>\n",
       "</table>\n",
       "<p>484 rows × 25 columns</p>\n",
       "</div>"
      ],
      "text/plain": [
       "     index       X0       Y0 Z0         U0         V0        W0    wave col  \\\n",
       "0        1 -7.36016 -7.36016  0  0.0277528  0.0277528  0.999229  0.0004   b   \n",
       "1        2 -5.88813 -7.36016  0  0.0222053  0.0277567  0.999368  0.0004   b   \n",
       "2        3  -4.4161 -7.36016  0  0.0166558  0.0277596  0.999476  0.0004   b   \n",
       "3        4 -2.94407 -7.36016  0  0.0111047  0.0277618  0.999553  0.0004   b   \n",
       "4        5 -1.47203 -7.36016  0  0.0055526  0.0277631  0.999599  0.0004   b   \n",
       "..     ...      ...      ... ..        ...        ...       ...     ...  ..   \n",
       "479    480  1.47203  7.36016  0 -0.0055526 -0.0277631  0.999599   0.001   k   \n",
       "480    481  2.94407  7.36016  0 -0.0111047 -0.0277618  0.999553   0.001   k   \n",
       "481    482   4.4161  7.36016  0 -0.0166558 -0.0277596  0.999476   0.001   k   \n",
       "482    483  5.88813  7.36016  0 -0.0222053 -0.0277567  0.999368   0.001   k   \n",
       "483    484  7.36016  7.36016  0 -0.0277528 -0.0277528  0.999229   0.001   k   \n",
       "\n",
       "          X1  ...       X3       Y3   Z3 Xgoal Ygoal   Xfinal   Yfinal Zfinal  \\\n",
       "0   -5.55484  ...  12.0102  0.01928  265     0     0  12.0102  0.01928    265   \n",
       "1   -4.44387  ...  11.9991  0.01743  265     0     0  11.9991  0.01743    265   \n",
       "2    -3.3329  ...  11.9892  0.01554  265     0     0  11.9892  0.01554    265   \n",
       "3   -2.22194  ...  11.9804   0.0137  265     0     0  11.9804   0.0137    265   \n",
       "4   -1.11097  ...  11.9727  0.01185  265     0     0  11.9727  0.01185    265   \n",
       "..       ...  ...      ...      ...  ...   ...   ...      ...      ...    ...   \n",
       "479  1.11097  ...  30.1666 -0.05855  265     0     0  30.1666 -0.05855    265   \n",
       "480  2.22194  ...  30.1325  -0.0538  265     0     0  30.1325  -0.0538    265   \n",
       "481   3.3329  ...  30.1014 -0.04905  265     0     0  30.1014 -0.04905    265   \n",
       "482  4.44387  ...  30.0731 -0.04437  265     0     0  30.0731 -0.04437    265   \n",
       "483  5.55484  ...  30.0477 -0.03965  265     0     0  30.0477 -0.03965    265   \n",
       "\n",
       "    Notes Unnamed: 23  \n",
       "0      OK         3.0  \n",
       "1      OK         3.0  \n",
       "2      OK         3.0  \n",
       "3      OK         3.0  \n",
       "4      OK         3.0  \n",
       "..    ...         ...  \n",
       "479    OK         3.0  \n",
       "480    OK         3.0  \n",
       "481    OK         3.0  \n",
       "482    OK         3.0  \n",
       "483    OK         3.0  \n",
       "\n",
       "[484 rows x 25 columns]"
      ]
     },
     "execution_count": 302,
     "metadata": {},
     "output_type": "execute_result"
    }
   ],
   "source": [
    "df_R150"
   ]
  },
  {
   "cell_type": "code",
   "execution_count": 303,
   "metadata": {},
   "outputs": [],
   "source": [
    "X0C,Y0C,RMAX=GetBeamParam(df_R150)"
   ]
  },
  {
   "cell_type": "code",
   "execution_count": 304,
   "metadata": {},
   "outputs": [],
   "source": [
    "df_filter=df_R150.copy()\n",
    "df_filter=df_filter.loc[df_filter.apply(Select_Beam, axis=1)]\n",
    "df_filter=df_filter.reset_index()   # reset index\n",
    "df_R150=df_filter.copy()"
   ]
  },
  {
   "cell_type": "code",
   "execution_count": 305,
   "metadata": {},
   "outputs": [
    {
     "data": {
      "text/plain": [
       "Text(0.5, 0.98, 'R150 :Filtered circular beam')"
      ]
     },
     "execution_count": 305,
     "metadata": {},
     "output_type": "execute_result"
    },
    {
     "data": {
      "image/png": "[encoded data removed]",
      "text/plain": [
       "<Figure size 1296x648 with 2 Axes>"
      ]
     },
     "metadata": {
      "needs_background": "light"
     },
     "output_type": "display_data"
    }
   ],
   "source": [
    "X0=np.array(df_filter[\"X0\"].values,dtype='float64')\n",
    "Y0=np.array(df_filter[\"Y0\"].values,dtype='float64')\n",
    "V0=np.array(df_filter[\"V0\"].values,dtype='float64')\n",
    "U0=np.array(df_filter[\"U0\"].values,dtype='float64')\n",
    "\n",
    "f, ((ax1, ax2)) = plt.subplots(1, 2,figsize=(18,9),sharex=True,sharey=True)\n",
    "df_filter.plot.scatter(x=\"X0\", y=\"Y0\",c=\"DarkBlue\",marker=\"o\",ax=ax1)\n",
    "ax1.set_aspect(\"equal\")\n",
    "ax1.grid()\n",
    "\n",
    "q = ax2.quiver(X0,Y0,U0,V0,color=\"red\")\n",
    "ax2.set_aspect(\"equal\")\n",
    "ax2.set_xlabel(\"X0 (mm)\")\n",
    "ax2.grid()\n",
    "\n",
    "plt.suptitle(\"R150 :Filtered circular beam\")"
   ]
  },
  {
   "cell_type": "markdown",
   "metadata": {},
   "source": [
    "# Choose disperser"
   ]
  },
  {
   "cell_type": "code",
   "execution_count": 306,
   "metadata": {},
   "outputs": [],
   "source": [
    "FLAG_R150 = False\n",
    "FLAG_HOE = True"
   ]
  },
  {
   "cell_type": "code",
   "execution_count": 307,
   "metadata": {},
   "outputs": [
    {
     "data": {
      "text/plain": [
       "'Beam4_Rayfile_484_allwl_m00_m00'"
      ]
     },
     "execution_count": 307,
     "metadata": {},
     "output_type": "execute_result"
    }
   ],
   "source": [
    "Beam4_Rayfile"
   ]
  },
  {
   "cell_type": "code",
   "execution_count": 308,
   "metadata": {},
   "outputs": [],
   "source": [
    "if FLAG_R150:\n",
    "    df=df_R150\n",
    "    outputdata_excel=\"R150_PSF_\"+ Beam4_Rayfile+\"_out.xlsx\"\n",
    "    figname1=\"R150_DISP_\"+  Beam4_Rayfile+\".pdf\"\n",
    "    figname2=\"R150_PSF_\" +   Beam4_Rayfile+\".pdf\"  \n",
    "    figname3=\"R150_PSF_\" +   Beam4_Rayfile+\"_v2.pdf\"  \n",
    "    fulltitle1=\"Ronchi 150 : Dispersion at Focal Plane for angles ({:2.2f} , {:2.2f}) arcmin, order = {}\".format(theta_x,theta_y,order_str)\n",
    "    fulltitle2=\"Ronchi 150 : PSF at Focal Plane for angles ({:2.2f} , {:2.2f}) arcmin, order = {}\".format(theta_x,theta_y,order_str)\n",
    "\n",
    "else:\n",
    "    df=df_hoe\n",
    "    outputdata_excel=\"HOE_PSF_\"+ Beam4_Rayfile+\"_out.xlsx\"\n",
    "    figname1=\"HOE_DISP_\"+  Beam4_Rayfile+\".pdf\"\n",
    "    figname2=\"HOE_PSF_\" +   Beam4_Rayfile+\".pdf\" \n",
    "    figname3=\"HOE_PSF_\" +   Beam4_Rayfile+\"_v2.pdf\"  \n",
    "    fulltitle1=\"HOE : Dispersion at Focal Plane for angles ({:2.2f} , {:2.2f}) arcmin, order = {}\".format(theta_x,theta_y,order_str)\n",
    "    fulltitle=\"HOE : PSF at Focal Plane for angles ({:2.2f} , {:2.2f}) arcmin, order = {}\".format(theta_x,theta_y,order_str)"
   ]
  },
  {
   "cell_type": "markdown",
   "metadata": {},
   "source": [
    "# Where the beam are going"
   ]
  },
  {
   "cell_type": "code",
   "execution_count": 309,
   "metadata": {},
   "outputs": [],
   "source": [
    "WL_IR=0.001"
   ]
  },
  {
   "cell_type": "code",
   "execution_count": 310,
   "metadata": {},
   "outputs": [],
   "source": [
    "df_IR=df.loc[df.wave==WL_IR]"
   ]
  },
  {
   "cell_type": "code",
   "execution_count": 311,
   "metadata": {},
   "outputs": [],
   "source": [
    "NBEAMS=len(df_IR)"
   ]
  },
  {
   "cell_type": "code",
   "execution_count": 312,
   "metadata": {},
   "outputs": [],
   "source": [
    "jet = plt.get_cmap('jet')\n",
    "cNorm = colors.Normalize(vmin=0, vmax=NBEAMS)\n",
    "scalarMap = cmx.ScalarMappable(norm=cNorm, cmap=jet)\n",
    "all_colors = scalarMap.to_rgba(np.arange(NBEAMS), alpha=1)"
   ]
  },
  {
   "cell_type": "code",
   "execution_count": 313,
   "metadata": {},
   "outputs": [
    {
     "data": {
      "image/png": "[encoded data removed]",
      "text/plain": [
       "<Figure size 1296x648 with 2 Axes>"
      ]
     },
     "metadata": {
      "needs_background": "light"
     },
     "output_type": "display_data"
    }
   ],
   "source": [
    "f, ((ax1, ax2)) = plt.subplots(1, 2,figsize=(18,9))\n",
    "df_IR.plot.scatter(x=\"X2\", y=\"Y2\",c=all_colors,marker=\"o\",ax=ax1,s=50)\n",
    "ax1.set_aspect(\"equal\")\n",
    "ax1.grid()\n",
    "if FLAG_R150 :\n",
    "    ax1.set_title(\"Rays at Ronchi 150\")\n",
    "else:\n",
    "    ax1.set_title(\"Rays at Hologram\") \n",
    "\n",
    "df_IR.plot.scatter(x=\"X3\", y=\"Y3\",c=all_colors,marker=\"o\",ax=ax2,s=50)\n",
    "ax2.set_aspect(\"equal\")\n",
    "ax2.grid()\n",
    "ax2.set_title(\"Ray at focal plane \")\n",
    "\n",
    "plt.suptitle(\"wavelength = 1 $\\mu$ m\",Y=1.1,fontsize=25)\n",
    "plt.tight_layout()"
   ]
  },
  {
   "cell_type": "markdown",
   "metadata": {},
   "source": [
    "## PSF"
   ]
  },
  {
   "cell_type": "code",
   "execution_count": 314,
   "metadata": {},
   "outputs": [
    {
     "data": {
      "text/plain": [
       "Text(0.5, 0, 'Y (mm)')"
      ]
     },
     "execution_count": 314,
     "metadata": {},
     "output_type": "execute_result"
    },
    {
     "data": {
      "image/png": "[encoded data removed]",
      "text/plain": [
       "<Figure size 1296x432 with 2 Axes>"
      ]
     },
     "metadata": {
      "needs_background": "light"
     },
     "output_type": "display_data"
    }
   ],
   "source": [
    "f, ((ax1, ax2)) = plt.subplots(1, 2,figsize=(18,6))\n",
    "Xpos=df_IR[\"X3\"].values\n",
    "Ypos=df_IR[\"Y3\"].values\n",
    "NBINS=21\n",
    "RX=Xpos.max()-Xpos.mean()\n",
    "RY=Ypos.max()-Ypos.mean()\n",
    "h1=np.histogram(Xpos,bins=NBINS)\n",
    "h2=np.histogram(Ypos,bins=NBINS)\n",
    "\n",
    "counts1, bins1 = h1\n",
    "counts2, bins2 = h2\n",
    "\n",
    "NPOINTS=50\n",
    "all_x=np.linspace(-RX,RX,NPOINTS)\n",
    "all_y=np.linspace(-RY,RY,NPOINTS)\n",
    "DX=2/NBINS*NBEAMS*(2*RX)\n",
    "DY=2/NBINS*NBEAMS*(2*RY)\n",
    "\n",
    "Yx=1/np.pi/RX*DX*np.sqrt(1-all_x**2/RX**2)\n",
    "Yy=1/np.pi/RY*DY*np.sqrt(1-all_y**2/RY**2)\n",
    "YxMax=1/np.pi/RX*DX\n",
    "YyMax=1/np.pi/RY*DY\n",
    "\n",
    "#ax1.hist(Xpos,bins=NBINS,facecolor=\"blue\",density=True)\n",
    "ax1.hist(bins1[:-1], bins1, weights=counts1,facecolor=\"blue\",density=False)\n",
    "ax1.plot(all_x+Xpos.mean(),Yx,color='green')\n",
    "ax1.grid()\n",
    "ax1.set_title(\"PSF along dispersion axis Rx={:2.2f} mm\".format(RX))\n",
    "ax1.axhline(y=YxMax/2,color=\"k\")\n",
    "ax1.axvline(x=-np.sqrt(3)*RX/2.+Xpos.mean(),color=\"k\")\n",
    "ax1.axvline(x=np.sqrt(3)*RX/2.+Xpos.mean(),color=\"k\")\n",
    "ax1.set_xlabel(\"X (mm)\")\n",
    "\n",
    "#ax2.hist(Ypos,bins=NBINS,facecolor=\"red\",density=True)\n",
    "ax2.hist(bins2[:-1], bins2, weights=counts2,facecolor=\"red\",density=False)\n",
    "ax2.plot(all_y+Ypos.mean(),Yy,color=\"green\")\n",
    "ax2.axhline(y=YyMax/2.,color=\"k\")\n",
    "ax2.axvline(x=-np.sqrt(3)*RY/2.+Ypos.mean(),color=\"k\")\n",
    "ax2.axvline(x=np.sqrt(3)*RY/2.+Ypos.mean(),color=\"k\")\n",
    "ax2.grid()\n",
    "ax2.set_title(\"PSF transverse dispersion axis Ry={:2.2f}mm\".format(RY))\n",
    "ax2.set_xlabel(\"Y (mm)\")"
   ]
  },
  {
   "cell_type": "markdown",
   "metadata": {},
   "source": [
    "## Fit transverse dispersion"
   ]
  },
  {
   "cell_type": "code",
   "execution_count": 315,
   "metadata": {},
   "outputs": [],
   "source": [
    "@custom_model\n",
    "def exponential(x, a=10., b=1., c=0.):\n",
    "    '''\n",
    "    f(x)=a*exp(b*x + c)\n",
    "    '''\n",
    "    return a*np.exp(-np.abs(b*(x-c)))"
   ]
  },
  {
   "cell_type": "code",
   "execution_count": 316,
   "metadata": {},
   "outputs": [
    {
     "name": "stdout",
     "output_type": "stream",
     "text": [
      "Model: Gaussian1D\n",
      "Inputs: ('x',)\n",
      "Outputs: ('y',)\n",
      "Model set size: 1\n",
      "Parameters:\n",
      "        amplitude                mean                stddev      \n",
      "    ------------------ ----------------------- ------------------\n",
      "    3.4761905085524543 -1.4849129075404815e-13 116.60616223938268\n",
      "Model: Lorentz1D\n",
      "Inputs: ('x',)\n",
      "Outputs: ('y',)\n",
      "Model set size: 1\n",
      "Parameters:\n",
      "        amplitude               x_0                  fwhm      \n",
      "    ----------------- ----------------------- -----------------\n",
      "    3.476190580703239 -4.2903205694673925e-12 1547.280494707908\n",
      "Model: Trapezoid1D\n",
      "Inputs: ('x',)\n",
      "Outputs: ('y',)\n",
      "Model set size: 1\n",
      "Parameters:\n",
      "        amplitude      x_0 width slope\n",
      "    ------------------ --- ----- -----\n",
      "    3.4761904761904763 0.0   1.0   1.0\n",
      "Model: exponential\n",
      "Inputs: ('x',)\n",
      "Outputs: ('y',)\n",
      "Model set size: 1\n",
      "Parameters:\n",
      "            a                  b                    c          \n",
      "    ----------------- -------------------- --------------------\n",
      "    3.477211085768553 0.005948864595322606 -0.04604850636481112\n",
      "Model: Voigt1D\n",
      "Inputs: ('x',)\n",
      "Outputs: ('y',)\n",
      "Model set size: 1\n",
      "Parameters:\n",
      "             x_0              amplitude_L     ...         fwhm_G       \n",
      "    ---------------------- ------------------ ... ---------------------\n",
      "    -3.816150235373392e-05 3.6952624829674288 ... 0.0009178982468911363\n"
     ]
    },
    {
     "name": "stderr",
     "output_type": "stream",
     "text": [
      "WARNING: The fit may be unsuccessful; check fit_info['message'] for more information. [astropy.modeling.fitting]\n"
     ]
    },
    {
     "data": {
      "text/plain": [
       "Text(0.5, 1.0, 'Fit PSF in Y axis')"
      ]
     },
     "execution_count": 316,
     "metadata": {},
     "output_type": "execute_result"
    },
    {
     "data": {
      "image/png": "[encoded data removed]",
      "text/plain": [
       "<Figure size 1008x576 with 1 Axes>"
      ]
     },
     "metadata": {
      "needs_background": "light"
     },
     "output_type": "display_data"
    }
   ],
   "source": [
    "f, ax = plt.subplots(figsize=(14,8))\n",
    "Xpos=df_IR[\"X3\"].values\n",
    "Ypos=df_IR[\"Y3\"].values\n",
    "NBINS=21\n",
    "RX=Xpos.max()-Xpos.mean()\n",
    "RY=Ypos.max()-Ypos.mean()\n",
    "# compute the histogram\n",
    "h1=np.histogram(Xpos,bins=NBINS)\n",
    "h2=np.histogram(Ypos,bins=NBINS)\n",
    "counts1, bins1 = h1\n",
    "counts2, bins2 = h2\n",
    "\n",
    "# compute bin width\n",
    "binwidths2=(np.roll(bins2,-1)-bins2)[:-1]\n",
    "binwidth2=np.mean(binwidths2)\n",
    "\n",
    "# What to fit\n",
    "theX=(bins2+binwidth2/2)[:-1]\n",
    "theY=counts2\n",
    "\n",
    "# fitter \n",
    "#fitter = fitting.LinearLSQFitter()\n",
    "fitter = fitting.LevMarLSQFitter() \n",
    "\n",
    "# gaussian fit\n",
    "model_gauss = models.Gaussian1D()\n",
    "fitter_gauss = fitting.LevMarLSQFitter()\n",
    "best_fit_gauss = fitter_gauss(model_gauss, theX,theY,weights=1)\n",
    "print(best_fit_gauss)\n",
    "\n",
    "# models in astropy\n",
    "model_lorentz = models.Lorentz1D(amplitude=10., x_0=0.)\n",
    "model_trapezoid = models.Trapezoid1D(amplitude=100., x_0=0.)\n",
    "#model_exponential = models.Exponential1D(amplitude=10.,fwhm=0.05)\n",
    "model_exponential = exponential(a=10., b=1., c=0.)\n",
    "model_voigt = models.Voigt1D()\n",
    "\n",
    "best_fit_lorentz=fitter(model_lorentz, theX,theY,weights=1)\n",
    "best_fit_trapezoid=fitter(model_trapezoid, theX,theY,weights=1)\n",
    "best_fit_exponential=fitter(model_exponential, theX,theY,weights=1)\n",
    "best_fit_voigt=fitter(model_voigt, theX,theY,weights=1)\n",
    "\n",
    "# do the fit\n",
    "#best_fit = fitter(model, log_period, k_mag, weights=1.0/k_mag_err**2)\n",
    "print(best_fit_lorentz)\n",
    "print(best_fit_trapezoid)\n",
    "print(best_fit_exponential)\n",
    "print(best_fit_voigt)\n",
    "\n",
    "ax.hist(bins2[:-1], bins2, weights=counts2,facecolor=\"red\",density=False)\n",
    "\n",
    "Xfit=np.linspace(-RY,RY,50)\n",
    "plt.plot(Xfit, best_fit_gauss(Xfit), 'g-', linewidth=3, label='astropy.modeling gaussian')\n",
    "plt.plot(Xfit, best_fit_lorentz(Xfit), 'b-', linewidth=3, label='astropy.modeling lorentz')\n",
    "plt.plot(Xfit, best_fit_exponential(Xfit), 'r-', linewidth=3, label='astropy.modeling exponential')\n",
    "plt.plot(Xfit, best_fit_trapezoid(Xfit), '-', color=\"grey\",linewidth=3, label='astropy.modeling trapezoid')\n",
    "plt.plot(Xfit, best_fit_voigt(Xfit), '-', color=\"pink\",linewidth=3, label='astropy.modeling voigt')\n",
    "\n",
    "ax.grid()\n",
    "ax.legend()\n",
    "ax.set_xlabel(\"dY (mm)\")\n",
    "ax.set_title(\"Fit PSF in Y axis\")"
   ]
  },
  {
   "cell_type": "markdown",
   "metadata": {},
   "source": [
    "# decoding by wavelength"
   ]
  },
  {
   "cell_type": "code",
   "execution_count": 317,
   "metadata": {},
   "outputs": [],
   "source": [
    "wave=df[\"wave\"]"
   ]
  },
  {
   "cell_type": "code",
   "execution_count": 318,
   "metadata": {},
   "outputs": [],
   "source": [
    "Xfinal=df[\"Xfinal\"].values\n",
    "Yfinal=df[\"Yfinal\"].values"
   ]
  },
  {
   "cell_type": "code",
   "execution_count": 319,
   "metadata": {},
   "outputs": [],
   "source": [
    "selected_indexes1=np.where(wave==0.0004)\n",
    "selected_indexes2=np.where(wave==0.0006)\n",
    "selected_indexes3=np.where(wave==0.0008)\n",
    "selected_indexes4=np.where(wave==0.0010)"
   ]
  },
  {
   "cell_type": "code",
   "execution_count": 320,
   "metadata": {},
   "outputs": [
    {
     "data": {
      "text/plain": [
       "(array([ 0,  1,  2,  3,  4,  5,  6,  7,  8,  9, 10, 11, 12, 13, 14, 15, 16,\n",
       "        17, 18, 19, 20, 21, 22, 23, 24, 25, 26, 27, 28, 29, 30, 31, 32, 33,\n",
       "        34, 35, 36, 37, 38, 39, 40, 41, 42, 43, 44, 45, 46, 47, 48, 49, 50,\n",
       "        51, 52, 53, 54, 55, 56, 57, 58, 59, 60, 61, 62, 63, 64, 65, 66, 67,\n",
       "        68, 69, 70, 71, 72]),)"
      ]
     },
     "execution_count": 320,
     "metadata": {},
     "output_type": "execute_result"
    }
   ],
   "source": [
    "selected_indexes1"
   ]
  },
  {
   "cell_type": "code",
   "execution_count": 321,
   "metadata": {},
   "outputs": [],
   "source": [
    "def GetInfo(a):\n",
    "    a_av=np.mean(a)\n",
    "    a_rms=np.std(a)\n",
    "    a_min=np.min(a)\n",
    "    a_max=np.max(a)\n",
    "    a_width=a_max-a_min\n",
    "    return a_av,a_rms,a_min,a_max,a_width"
   ]
  },
  {
   "cell_type": "code",
   "execution_count": 322,
   "metadata": {},
   "outputs": [],
   "source": [
    "def ComputeFWHM(values,nbins,thetitle=\"fwhm\",flagplot=False):\n",
    "    \"\"\"\n",
    "    ComputeFWHM(values,nbins,flagplot)\n",
    "    \n",
    "    input arg :\n",
    "       values : list of values\n",
    "       nbins. : number of bins in the histogram\n",
    "       flagplot : flag to plot the distribution\n",
    "    \"\"\"\n",
    "    \n",
    "    counts, bins =np.histogram(values,bins=nbins)\n",
    "    \n",
    "    # compute bin width\n",
    "    binwidths=(np.roll(bins,-1)-bins)[:-1]\n",
    "    binwidth=np.mean(binwidths)\n",
    "    \n",
    "    # find max\n",
    "    idx_max=np.where(counts==counts.max())[0][0]\n",
    "    count_max=counts[idx_max]\n",
    "    counts_halfmax=count_max/2.\n",
    "    \n",
    "    # bins above half max\n",
    "    topmost=np.where(counts>=counts_halfmax)[0]\n",
    "    idx_min_fwhm=topmost[0]\n",
    "    idx_max_fwhm=topmost[-1]\n",
    "    \n",
    "    # lower upper part\n",
    "    min_fwhm=bins[idx_min_fwhm]+binwidth/2.\n",
    "    max_fwhm=bins[idx_max_fwhm]+binwidth/2.\n",
    "    \n",
    "    #fwhm\n",
    "    fwhm=max_fwhm-min_fwhm\n",
    "    \n",
    "    \n",
    "    if flagplot:\n",
    "        f, ax = plt.subplots(figsize=(10,5))\n",
    "        \n",
    "        ax.hist(bins[:-1]+binwidth/2., bins+binwidth/2., weights=counts,facecolor=\"red\",density=False)\n",
    "        ax.axhline(y=counts_halfmax)\n",
    "        ax.axvline(x=min_fwhm,color=\"k\")\n",
    "        ax.axvline(x=max_fwhm,color=\"k\")\n",
    "        \n",
    "        ax.grid()\n",
    "        ax.set_title(thetitle)\n",
    "        \n",
    "    return fwhm\n",
    "            "
   ]
  },
  {
   "cell_type": "code",
   "execution_count": 323,
   "metadata": {},
   "outputs": [],
   "source": [
    "x1=Xfinal[selected_indexes1[0]]\n",
    "y1=Yfinal[selected_indexes1[0]]\n",
    "x1av,x1std,x1min,x1max,x1wdt=GetInfo(x1)\n",
    "y1av,y1std,y1min,y1max,y1wdt=GetInfo(y1)"
   ]
  },
  {
   "cell_type": "code",
   "execution_count": 324,
   "metadata": {},
   "outputs": [
    {
     "name": "stdout",
     "output_type": "stream",
     "text": [
      "fwhm_x1= = 0.02, fwhm_y1=0.0069\n"
     ]
    }
   ],
   "source": [
    "fwhmx1=ComputeFWHM(x1-x1av,nbins=11,thetitle=\"FWHM x1\",flagplot=False)\n",
    "fwhmy1=ComputeFWHM(y1-y1av,nbins=11,thetitle=\"FWHM y1\",flagplot=False)\n",
    "print(\"fwhm_x1= = {:2.2f}, fwhm_y1={:2.4f}\".format(fwhmx1,fwhmy1))"
   ]
  },
  {
   "cell_type": "code",
   "execution_count": 325,
   "metadata": {},
   "outputs": [
    {
     "name": "stdout",
     "output_type": "stream",
     "text": [
      "rmax_x1= = 0.02, rmax_y1=0.0064\n"
     ]
    }
   ],
   "source": [
    "rxmax1=np.max([x1.max()-x1av,x1av-x1.min()])\n",
    "rymax1=np.max([y1.max()-y1av,y1av-y1.min()])\n",
    "print(\"rmax_x1= = {:2.2f}, rmax_y1={:2.4f}\".format(rxmax1,rymax1))"
   ]
  },
  {
   "cell_type": "code",
   "execution_count": 326,
   "metadata": {},
   "outputs": [],
   "source": [
    "x2=Xfinal[selected_indexes2[0]]\n",
    "y2=Yfinal[selected_indexes2[0]]\n",
    "x2av,x2std,x2min,x2max,x2wdt=GetInfo(x2)\n",
    "y2av,y2std,y2min,y2max,y2wdt=GetInfo(y2)"
   ]
  },
  {
   "cell_type": "code",
   "execution_count": 327,
   "metadata": {},
   "outputs": [
    {
     "name": "stdout",
     "output_type": "stream",
     "text": [
      "fwhm_x2= = 0.00, fwhm_y2=0.0016\n"
     ]
    }
   ],
   "source": [
    "fwhmx2=ComputeFWHM(x2-x2av,nbins=11,thetitle=\"FWHM x2\",flagplot=False)\n",
    "fwhmy2=ComputeFWHM(y2-y2av,nbins=11,thetitle=\"FWHM y2\",flagplot=False)\n",
    "print(\"fwhm_x2= = {:2.2f}, fwhm_y2={:2.4f}\".format(fwhmx2,fwhmy2))"
   ]
  },
  {
   "cell_type": "code",
   "execution_count": 328,
   "metadata": {},
   "outputs": [
    {
     "name": "stdout",
     "output_type": "stream",
     "text": [
      "rmax_x2= = 0.00, rmax_y2=0.0015\n"
     ]
    }
   ],
   "source": [
    "rxmax2=np.max([x2.max()-x2av,x2av-x2.min()])\n",
    "rymax2=np.max([y2.max()-y2av,y2av-y2.min()])\n",
    "print(\"rmax_x2= = {:2.2f}, rmax_y2={:2.4f}\".format(rxmax2,rymax2))"
   ]
  },
  {
   "cell_type": "code",
   "execution_count": 329,
   "metadata": {},
   "outputs": [],
   "source": [
    "x3=Xfinal[selected_indexes3[0]]\n",
    "y3=Yfinal[selected_indexes3[0]]\n",
    "x3av,x3std,x3min,x3max,x3wdt=GetInfo(x3)\n",
    "y3av,y3std,y3min,y3max,y3wdt=GetInfo(y3)"
   ]
  },
  {
   "cell_type": "code",
   "execution_count": 330,
   "metadata": {},
   "outputs": [
    {
     "name": "stdout",
     "output_type": "stream",
     "text": [
      "fwhm_x3= = 0.03, fwhm_y3=0.0098\n"
     ]
    }
   ],
   "source": [
    "fwhmx3=ComputeFWHM(x3-x3av,nbins=11,thetitle=\"FWHM x3\",flagplot=False)\n",
    "fwhmy3=ComputeFWHM(y3-y3av,nbins=11,thetitle=\"FWHM y3\",flagplot=False)\n",
    "print(\"fwhm_x3= = {:2.2f}, fwhm_y3={:2.4f}\".format(fwhmx3,fwhmy3))"
   ]
  },
  {
   "cell_type": "code",
   "execution_count": 331,
   "metadata": {},
   "outputs": [
    {
     "name": "stdout",
     "output_type": "stream",
     "text": [
      "rmax_x3= = 0.03, rmax_y3=0.0090\n"
     ]
    }
   ],
   "source": [
    "rxmax3=np.max([x3.max()-x3av,x3av-x3.min()])\n",
    "rymax3=np.max([y3.max()-y3av,y3av-y3.min()])\n",
    "print(\"rmax_x3= = {:2.2f}, rmax_y3={:2.4f}\".format(rxmax3,rymax3))"
   ]
  },
  {
   "cell_type": "code",
   "execution_count": 332,
   "metadata": {},
   "outputs": [],
   "source": [
    "x4=Xfinal[selected_indexes4[0]]\n",
    "y4=Yfinal[selected_indexes4[0]]\n",
    "x4av,x4std,x4min,x4max,x4wdt=GetInfo(x4)\n",
    "y4av,y4std,y4min,y4max,y4wdt=GetInfo(y4)"
   ]
  },
  {
   "cell_type": "code",
   "execution_count": 333,
   "metadata": {},
   "outputs": [
    {
     "name": "stdout",
     "output_type": "stream",
     "text": [
      "fwhm_x4= = 0.08, fwhm_y4=0.0273\n"
     ]
    }
   ],
   "source": [
    "fwhmx4=ComputeFWHM(x4-x4av,nbins=11,thetitle=\"FWHM x4\",flagplot=False)\n",
    "fwhmy4=ComputeFWHM(y4-y4av,nbins=11,thetitle=\"FWHM y4\",flagplot=False)\n",
    "print(\"fwhm_x4= = {:2.2f}, fwhm_y4={:2.4f}\".format(fwhmx4,fwhmy4))"
   ]
  },
  {
   "cell_type": "code",
   "execution_count": 334,
   "metadata": {},
   "outputs": [
    {
     "name": "stdout",
     "output_type": "stream",
     "text": [
      "rmax_x4= = 0.08, rmax_y4=0.0250\n"
     ]
    }
   ],
   "source": [
    "rxmax4=np.max([x4.max()-x4av,x4av-x4.min()])\n",
    "rymax4=np.max([y4.max()-y4av,y4av-y4.min()])\n",
    "print(\"rmax_x4= = {:2.2f}, rmax_y4={:2.4f}\".format(rxmax4,rymax4))"
   ]
  },
  {
   "cell_type": "code",
   "execution_count": 335,
   "metadata": {},
   "outputs": [],
   "source": [
    "xav=np.array([x1av,x2av,x3av,x4av])\n",
    "xstd=np.array([x1std,x2std,x3std,x4std])\n",
    "xmin=np.array([x1min,x2min,x3min,x4min])\n",
    "xmax=np.array([x1max,x2max,x3max,x4max])\n",
    "xwdt=np.array([x1wdt,x2wdt,x3wdt,x4wdt])\n",
    "xfwhm=np.array([fwhmx1,fwhmx2,fwhmx3,fwhmx4])\n",
    "xrmax=np.array([rxmax1,rxmax2,rxmax3,rxmax4])\n",
    "yav=np.array([y1av,y2av,y3av,y4av])\n",
    "ystd=np.array([y1std,y2std,y3std,y4std])\n",
    "ymin=np.array([y1min,y2min,y3min,y4min])\n",
    "ymax=np.array([y1max,y2max,y3max,y4max])\n",
    "ywdt=np.array([y1wdt,y2wdt,y3wdt,y4wdt])\n",
    "yfwhm=np.array([fwhmy1,fwhmy2,fwhmy3,fwhmy4])\n",
    "yrmax=np.array([rymax1,rymax2,rymax3,rymax4])"
   ]
  },
  {
   "cell_type": "code",
   "execution_count": 336,
   "metadata": {},
   "outputs": [],
   "source": [
    "#dataout = {'xav': xav,'xstd' :xstd,'xmin' :xmin,'xmax' :xmax,'xwdt':xwdt,\n",
    "#           'yav': yav,'ystd' :ystd,'ymin' :ymin,'ymax' :ymax,'ywdt':ywdt}"
   ]
  },
  {
   "cell_type": "code",
   "execution_count": 337,
   "metadata": {},
   "outputs": [],
   "source": [
    "dataout = {'xav': xav,'xstd' :xstd,'xmin' :xmin,'xmax' :xmax,'xwdt':xwdt,'xfwhm':xfwhm,'xrmax':xrmax,\n",
    "           'yav': yav,'ystd' :ystd,'ymin' :ymin,'ymax' :ymax,'ywdt':ywdt,'yfwhm':yfwhm,'yrmax':yrmax}"
   ]
  },
  {
   "cell_type": "code",
   "execution_count": 338,
   "metadata": {},
   "outputs": [],
   "source": [
    "df_out = pd.DataFrame(dataout, index = ['400nm', '600nm', '800nm', '1000nm'])"
   ]
  },
  {
   "cell_type": "code",
   "execution_count": 339,
   "metadata": {},
   "outputs": [
    {
     "data": {
      "text/html": [
       "<div>\n",
       "<style scoped>\n",
       "    .dataframe tbody tr th:only-of-type {\n",
       "        vertical-align: middle;\n",
       "    }\n",
       "\n",
       "    .dataframe tbody tr th {\n",
       "        vertical-align: top;\n",
       "    }\n",
       "\n",
       "    .dataframe thead th {\n",
       "        text-align: right;\n",
       "    }\n",
       "</style>\n",
       "<table border=\"1\" class=\"dataframe\">\n",
       "  <thead>\n",
       "    <tr style=\"text-align: right;\">\n",
       "      <th></th>\n",
       "      <th>xav</th>\n",
       "      <th>xstd</th>\n",
       "      <th>xmin</th>\n",
       "      <th>xmax</th>\n",
       "      <th>xwdt</th>\n",
       "      <th>xfwhm</th>\n",
       "      <th>xrmax</th>\n",
       "      <th>yav</th>\n",
       "      <th>ystd</th>\n",
       "      <th>ymin</th>\n",
       "      <th>ymax</th>\n",
       "      <th>ywdt</th>\n",
       "      <th>yfwhm</th>\n",
       "      <th>yrmax</th>\n",
       "    </tr>\n",
       "  </thead>\n",
       "  <tbody>\n",
       "    <tr>\n",
       "      <th>400nm</th>\n",
       "      <td>12.419323</td>\n",
       "      <td>0.009163</td>\n",
       "      <td>12.40051</td>\n",
       "      <td>12.43843</td>\n",
       "      <td>0.03792</td>\n",
       "      <td>0.020684</td>\n",
       "      <td>0.019107</td>\n",
       "      <td>-1.425800e-19</td>\n",
       "      <td>0.003074</td>\n",
       "      <td>-0.00636</td>\n",
       "      <td>0.00636</td>\n",
       "      <td>0.01272</td>\n",
       "      <td>0.006938</td>\n",
       "      <td>0.00636</td>\n",
       "    </tr>\n",
       "    <tr>\n",
       "      <th>600nm</th>\n",
       "      <td>18.674470</td>\n",
       "      <td>0.002096</td>\n",
       "      <td>18.67029</td>\n",
       "      <td>18.67897</td>\n",
       "      <td>0.00868</td>\n",
       "      <td>0.004735</td>\n",
       "      <td>0.004500</td>\n",
       "      <td>5.049709e-20</td>\n",
       "      <td>0.000702</td>\n",
       "      <td>-0.00146</td>\n",
       "      <td>0.00146</td>\n",
       "      <td>0.00292</td>\n",
       "      <td>0.001593</td>\n",
       "      <td>0.00146</td>\n",
       "    </tr>\n",
       "    <tr>\n",
       "      <th>800nm</th>\n",
       "      <td>24.984983</td>\n",
       "      <td>0.012935</td>\n",
       "      <td>24.95839</td>\n",
       "      <td>25.01191</td>\n",
       "      <td>0.05352</td>\n",
       "      <td>0.029193</td>\n",
       "      <td>0.026927</td>\n",
       "      <td>-4.752667e-20</td>\n",
       "      <td>0.004328</td>\n",
       "      <td>-0.00896</td>\n",
       "      <td>0.00896</td>\n",
       "      <td>0.01792</td>\n",
       "      <td>0.009775</td>\n",
       "      <td>0.00896</td>\n",
       "    </tr>\n",
       "    <tr>\n",
       "      <th>1000nm</th>\n",
       "      <td>31.370606</td>\n",
       "      <td>0.036230</td>\n",
       "      <td>31.29585</td>\n",
       "      <td>31.44577</td>\n",
       "      <td>0.14992</td>\n",
       "      <td>0.081775</td>\n",
       "      <td>0.075164</td>\n",
       "      <td>-7.604267e-19</td>\n",
       "      <td>0.012086</td>\n",
       "      <td>-0.02502</td>\n",
       "      <td>0.02502</td>\n",
       "      <td>0.05004</td>\n",
       "      <td>0.027295</td>\n",
       "      <td>0.02502</td>\n",
       "    </tr>\n",
       "  </tbody>\n",
       "</table>\n",
       "</div>"
      ],
      "text/plain": [
       "              xav      xstd      xmin      xmax     xwdt     xfwhm     xrmax  \\\n",
       "400nm   12.419323  0.009163  12.40051  12.43843  0.03792  0.020684  0.019107   \n",
       "600nm   18.674470  0.002096  18.67029  18.67897  0.00868  0.004735  0.004500   \n",
       "800nm   24.984983  0.012935  24.95839  25.01191  0.05352  0.029193  0.026927   \n",
       "1000nm  31.370606  0.036230  31.29585  31.44577  0.14992  0.081775  0.075164   \n",
       "\n",
       "                 yav      ystd     ymin     ymax     ywdt     yfwhm    yrmax  \n",
       "400nm  -1.425800e-19  0.003074 -0.00636  0.00636  0.01272  0.006938  0.00636  \n",
       "600nm   5.049709e-20  0.000702 -0.00146  0.00146  0.00292  0.001593  0.00146  \n",
       "800nm  -4.752667e-20  0.004328 -0.00896  0.00896  0.01792  0.009775  0.00896  \n",
       "1000nm -7.604267e-19  0.012086 -0.02502  0.02502  0.05004  0.027295  0.02502  "
      ]
     },
     "execution_count": 339,
     "metadata": {},
     "output_type": "execute_result"
    }
   ],
   "source": [
    "df_out.head()"
   ]
  },
  {
   "cell_type": "code",
   "execution_count": 340,
   "metadata": {},
   "outputs": [],
   "source": [
    "df_out.to_excel(outputdata_excel)"
   ]
  },
  {
   "cell_type": "code",
   "execution_count": 341,
   "metadata": {},
   "outputs": [
    {
     "data": {
      "image/png": "[encoded data removed]",
      "text/plain": [
       "<Figure size 576x576 with 1 Axes>"
      ]
     },
     "metadata": {
      "needs_background": "light"
     },
     "output_type": "display_data"
    }
   ],
   "source": [
    "plt.figure(figsize=(8,8))\n",
    "plt.axhline(y=0,color=\"k\")\n",
    "plt.axvline(x=0,color=\"k\")\n",
    "plt.plot(x1,y1,\"b.\")\n",
    "plt.plot(x2,y2,\"g.\")\n",
    "plt.plot(x3,y3,\"r.\")\n",
    "plt.plot(x4,y4,\"k.\")\n",
    "\n",
    "plt.xlim(-Det_size/2,Det_size/2.)\n",
    "plt.ylim(-Det_size/2,Det_size/2)\n",
    "plt.grid(True)\n",
    "plt.xlabel(\"x (mm)\",fontweight='bold')\n",
    "plt.ylabel(\"y (mm)\",fontweight='bold')\n",
    "\n",
    "plt.title(fulltitle1,fontsize=16,fontweight='bold')\n",
    "plt.savefig(figname1)"
   ]
  },
  {
   "cell_type": "code",
   "execution_count": 342,
   "metadata": {},
   "outputs": [],
   "source": [
    "seeing_radius=1./pltscale/2. # in mm"
   ]
  },
  {
   "cell_type": "code",
   "execution_count": 343,
   "metadata": {},
   "outputs": [
    {
     "data": {
      "text/plain": [
       "0.0523598283761181"
      ]
     },
     "execution_count": 343,
     "metadata": {},
     "output_type": "execute_result"
    }
   ],
   "source": [
    "seeing_radius"
   ]
  },
  {
   "cell_type": "code",
   "execution_count": 344,
   "metadata": {},
   "outputs": [],
   "source": [
    "def Showscale(x,y,w,label,ax):\n",
    "    xmin=x-w/2\n",
    "    xmax=x+w/2\n",
    "    ymin=y-w/2\n",
    "    ymax=y+w/2\n",
    "    xscale=xmax-xmin\n",
    "    yscale=ymax-ymin\n",
    "    ax.axhline(y=y,color=\"k\")\n",
    "    ax.axvline(x=x,color=\"k\")\n",
    "    ax.plot([xmin+xscale*.1,xmin+xscale*.1+wdt/10.],[ymin+yscale*0.8,ymin+yscale*0.8],'k-',lw=2)\n",
    "    ax.text(xmin+xscale*.1, ymin+yscale*0.85, label,fontsize=16, fontweight='bold')"
   ]
  },
  {
   "cell_type": "code",
   "execution_count": 345,
   "metadata": {},
   "outputs": [],
   "source": [
    "def Showscale2(x,y,w,label,ax):\n",
    "    xmin=x-w/2\n",
    "    xmax=x+w/2\n",
    "    ymin=y-w/2\n",
    "    ymax=y+w/2\n",
    "    xscale=xmax-xmin\n",
    "    yscale=ymax-ymin\n",
    "    ax.axhline(y=y,color=\"k\")\n",
    "    ax.axvline(x=x,color=\"k\")\n",
    "    ax.plot([xmax-xscale*.3,xmax-xscale*.3+wdt/10.],[ymin+yscale*0.1,ymin+yscale*0.1],'k-',lw=2)\n",
    "    ax.text(xmax-xscale*.3, ymin+yscale*0.15, label,fontsize=20, fontweight='bold')"
   ]
  },
  {
   "cell_type": "code",
   "execution_count": 346,
   "metadata": {},
   "outputs": [],
   "source": [
    "def Showscale3(x,y,w,wd,label,ax):\n",
    "    \"\"\"\n",
    "        x,y,w : relative to the image\n",
    "        wd : length of the label\n",
    "    \"\"\"\n",
    "    xmin=x-w/2\n",
    "    xmax=x+w/2\n",
    "    ymin=y-w/2\n",
    "    ymax=y+w/2\n",
    "    xscale=xmax-xmin\n",
    "    yscale=ymax-ymin\n",
    "    #ax.axhline(y=y,color=\"k\")\n",
    "    #ax.axvline(x=x,color=\"k\")\n",
    "    ax.plot([xmax-xscale*.3,xmax-xscale*.3+wd],[ymin+yscale*0.1,ymin+yscale*0.1],'k-',lw=2)\n",
    "    ax.text(xmax-xscale*.3, ymin+yscale*0.15, label,fontsize=20, fontweight='bold')"
   ]
  },
  {
   "cell_type": "code",
   "execution_count": 347,
   "metadata": {},
   "outputs": [],
   "source": [
    "def Showstat(x,y,w,xstd,ystd,ax):\n",
    "    \n",
    "    xmin=x-w/2\n",
    "    xmax=x+w/2\n",
    "    ymin=y-w/2\n",
    "    ymax=y+w/2\n",
    "    xscale=xmax-xmin\n",
    "    yscale=ymax-ymin\n",
    "    stat_str_x=\"$\\\\sigma_x=${:2.2f} $\\\\mu$ m\".format(xstd*1000)\n",
    "    stat_str_y=\"$\\\\sigma_y=${:2.2f} $\\\\mu$ m\".format(ystd*1000)\n",
    "    print(stat_str_x)\n",
    "    ax.text(xmax-xscale*.4, ymin+yscale*0.85, stat_str_x,fontsize=16, fontweight='bold')\n",
    "    ax.text(xmax-xscale*.4, ymin+yscale*0.80, stat_str_y,fontsize=16, fontweight='bold')"
   ]
  },
  {
   "cell_type": "code",
   "execution_count": 348,
   "metadata": {},
   "outputs": [],
   "source": [
    "def Showstat2(x,y,w,xstd,ystd,ax):\n",
    "    \n",
    "    xmin=x-w/2\n",
    "    xmax=x+w/2\n",
    "    ymin=y-w/2\n",
    "    ymax=y+w/2\n",
    "    xscale=xmax-xmin\n",
    "    yscale=ymax-ymin\n",
    "    stat_str_x=\"$\\\\sigma_x=${:2.2f} $\\\\mu$ m\".format(xstd*1000)\n",
    "    stat_str_y=\"$\\\\sigma_y=${:2.2f} $\\\\mu$ m\".format(ystd*1000)\n",
    "    print(stat_str_x)\n",
    "    ax.text(xmin+xscale*.01, ymin+yscale*0.85, stat_str_x,fontsize=20, fontweight='bold')\n",
    "    ax.text(xmin+xscale*.01, ymin+yscale*0.75, stat_str_y,fontsize=20, fontweight='bold')"
   ]
  },
  {
   "cell_type": "code",
   "execution_count": 349,
   "metadata": {},
   "outputs": [],
   "source": [
    "def Showstat3(x,y,w,fwx,fwy,ax):\n",
    "    \n",
    "    xmin=x-w/2\n",
    "    xmax=x+w/2\n",
    "    ymin=y-w/2\n",
    "    ymax=y+w/2\n",
    "    xscale=xmax-xmin\n",
    "    yscale=ymax-ymin\n",
    "    stat_str_x=\"fwhm$_x=${:2.0f} $\\\\mu m$\".format(fwx*1000)\n",
    "    stat_str_y=\"fwhm$_y=${:2.0f} $\\\\mu m$\".format(fwy*1000)\n",
    "    ax.text(xmin+xscale*.01, ymin+yscale*0.85, stat_str_x,fontsize=20, fontweight='bold')\n",
    "    ax.text(xmin+xscale*.01, ymin+yscale*0.75, stat_str_y,fontsize=20, fontweight='bold')"
   ]
  },
  {
   "cell_type": "code",
   "execution_count": 350,
   "metadata": {},
   "outputs": [],
   "source": [
    "seeing_radius=1./pltscale/2. # in mm\n",
    "seeing_str=\"seeing 1\\\" fwhm ({:2.0f}  $\\mu m$) \".format(seeing_radius*2000)\n",
    "seeing_str1=\"seeing 1\\\" \"\n",
    "seeing_str2=\"fwhm = {:2.0f} $\\mu m$\".format(seeing_radius*2000)"
   ]
  },
  {
   "cell_type": "code",
   "execution_count": 351,
   "metadata": {},
   "outputs": [
    {
     "name": "stdout",
     "output_type": "stream",
     "text": [
      "$\\sigma_x=$9.16 $\\mu$ m\n",
      "$\\sigma_x=$2.10 $\\mu$ m\n",
      "$\\sigma_x=$12.94 $\\mu$ m\n",
      "$\\sigma_x=$36.23 $\\mu$ m\n"
     ]
    },
    {
     "data": {
      "image/png": "[encoded data removed]",
      "text/plain": [
       "<Figure size 936x936 with 4 Axes>"
      ]
     },
     "metadata": {
      "needs_background": "light"
     },
     "output_type": "display_data"
    }
   ],
   "source": [
    "wdt=.50  # with 100 microns\n",
    "scalelabel=\"50 $\\mu$m\"\n",
    "f, ((ax1, ax2), (ax3, ax4)) = plt.subplots(2, 2)\n",
    "ax1.plot(x1, y1,'bo')\n",
    "\n",
    "xmin=x1av-wdt/2\n",
    "xmax=x1av+wdt/2\n",
    "ymin=y1av-wdt/2\n",
    "ymax=y1av+wdt/2\n",
    "xscale=xmax-xmin\n",
    "yscale=ymax-ymin\n",
    "\n",
    "#ax1.plot([xmin+xscale*.1,xmin+xscale*.1+wdt/10.],[ymin+yscale*0.8,ymin+yscale*0.8],'k-',lw=2)\n",
    "#ax1.text(xmin+xscale*.1, ymin+yscale*0.85, scalelabel,fontsize=16, fontweight='bold')\n",
    "\n",
    "Showscale(x1av,y1av,wdt,scalelabel,ax1)\n",
    "Showstat(x1av,y1av,wdt,x1std,y1std,ax1)\n",
    "\n",
    "ax1.set_xlim(x1av-wdt/2,x1av+wdt/2)\n",
    "ax1.set_ylim(y1av-wdt/2,y1av+wdt/2)\n",
    "ax1.set_title('Focal Point Spread : $\\lambda=400$nm',fontweight='bold')\n",
    "ax1.set_xlabel('x (mm)',fontweight='bold')\n",
    "ax1.set_ylabel('y (mm)',fontweight='bold')\n",
    "ax1.grid()\n",
    "#----\n",
    "ax2.plot(x2, y2,'go')\n",
    "Showscale(x2av,y2av,wdt,scalelabel,ax2)\n",
    "Showstat(x2av,y2av,wdt,x2std,y2std,ax2)\n",
    "ax2.set_xlim(x2av-wdt/2,x2av+wdt/2)\n",
    "ax2.set_ylim(y2av-wdt/2,y2av+wdt/2)\n",
    "ax2.set_xlabel('x (mm)',fontweight='bold')\n",
    "ax2.set_ylabel('y (mm)',fontweight='bold')\n",
    "ax2.grid()\n",
    "ax2.set_title('Focal Point Spread : $\\lambda=600$nm',fontweight='bold')\n",
    "#--------\n",
    "ax3.plot(x3, y3,'ro')\n",
    "Showscale(x3av,y3av,wdt,scalelabel,ax3)\n",
    "Showstat(x3av,y3av,wdt,x3std,y3std,ax3)\n",
    "ax3.set_xlim(x3av-wdt/2,x3av+wdt/2)\n",
    "ax3.set_ylim(y3av-wdt/2,y3av+wdt/2)\n",
    "ax3.set_xlabel('x (mm)',fontweight='bold')\n",
    "ax3.set_ylabel('y (mm)',fontweight='bold')\n",
    "ax3.grid()\n",
    "ax3.set_title('Focal Point Spread : $\\lambda=800$nm',fontweight='bold')\n",
    "#-----\n",
    "ax4.plot(x4, y4,'ko')\n",
    "Showscale(x4av,y4av,wdt,scalelabel,ax4)\n",
    "Showstat(x4av,y4av,wdt,x4std,y4std,ax4)\n",
    "ax4.set_xlim(x4av-wdt/2,x4av+wdt/2)\n",
    "ax4.set_ylim(y4av-wdt/2,y4av+wdt/2)\n",
    "ax4.set_xlabel('x (mm)',fontweight='bold')\n",
    "ax4.set_ylabel('y (mm)',fontweight='bold')\n",
    "ax4.grid()\n",
    "ax4.set_title('Focal Point Spread : $\\lambda=1\\mu$m',fontweight='bold')\n",
    "\n",
    "#plt.suptitle(fulltitle2,fontsize=16,fontweight='bold',y=1.02)\n",
    "plt.tight_layout()\n",
    "plt.savefig(figname2)"
   ]
  },
  {
   "cell_type": "code",
   "execution_count": 352,
   "metadata": {},
   "outputs": [
    {
     "name": "stdout",
     "output_type": "stream",
     "text": [
      "$\\sigma_x=$9.16 $\\mu$ m\n",
      "$\\sigma_x=$2.10 $\\mu$ m\n",
      "$\\sigma_x=$12.94 $\\mu$ m\n",
      "$\\sigma_x=$36.23 $\\mu$ m\n"
     ]
    },
    {
     "data": {
      "image/png": "[encoded data removed]",
      "text/plain": [
       "<Figure size 1296x432 with 4 Axes>"
      ]
     },
     "metadata": {
      "needs_background": "light"
     },
     "output_type": "display_data"
    }
   ],
   "source": [
    "f, ((ax1, ax2, ax3, ax4)) = plt.subplots(1, 4,figsize=(18,6),sharey=True)\n",
    "#-----\n",
    "ax1.plot(x1, y1,'bo')\n",
    "Showscale2(x1av,y1av,wdt,scalelabel,ax1)\n",
    "Showstat2(x1av,y1av,wdt,x1std,y1std,ax1)\n",
    "circle1 = Circle((x1av, y1av), seeing_radius, linewidth=2,edgecolor='grey', facecolor=(0, 0, 0, .0125))\n",
    "ax1.add_artist(circle1)\n",
    "ax1.set_xlim(x1av-wdt/2,x1av+wdt/2)\n",
    "ax1.set_ylim(y1av-wdt/2,y1av+wdt/2)\n",
    "ax1.set_title('$\\lambda=400$nm',fontweight='bold',color=\"b\",fontsize=20)\n",
    "ax1.set_xlabel('x (mm)',fontweight='bold',fontsize=20)\n",
    "ax1.set_ylabel('y (mm)',fontweight='bold',fontsize=20)\n",
    "ax1.set_aspect('equal')\n",
    "ax1.grid()\n",
    "#----\n",
    "ax2.plot(x2, y2,'go')\n",
    "Showscale2(x2av,y2av,wdt,scalelabel,ax2)\n",
    "Showstat2(x2av,y2av,wdt,x2std,y2std,ax2)\n",
    "circle2 = Circle((x2av, y2av), seeing_radius, linewidth=2,edgecolor='grey', facecolor=(0, 0, 0, .0125))\n",
    "ax2.add_artist(circle2)\n",
    "ax2.set_xlim(x2av-wdt/2,x2av+wdt/2)\n",
    "ax2.set_ylim(y2av-wdt/2,y2av+wdt/2)\n",
    "ax2.set_xlabel('x (mm)',fontweight='bold',fontsize=20)\n",
    "#ax2.set_ylabel('y (mm)',fontweight='bold')\n",
    "ax2.grid()\n",
    "ax2.set_aspect('equal')\n",
    "ax2.set_title('$\\lambda=600$nm',fontweight='bold',color=\"g\",fontsize=20)\n",
    "#--------\n",
    "ax3.plot(x3, y3,'ro')\n",
    "Showscale2(x3av,y3av,wdt,scalelabel,ax3)\n",
    "Showstat2(x3av,y3av,wdt,x3std,y3std,ax3)\n",
    "circle3 = Circle((x3av, y3av), seeing_radius, linewidth=2,edgecolor='grey', facecolor=(0, 0, 0, .0125))\n",
    "ax3.add_artist(circle3)\n",
    "ax3.set_xlim(x3av-wdt/2,x3av+wdt/2)\n",
    "ax3.set_ylim(y3av-wdt/2,y3av+wdt/2)\n",
    "ax3.set_xlabel('x (mm)',fontweight='bold',fontsize=20)\n",
    "#ax3.set_ylabel('y (mm)',fontweight='bold')\n",
    "ax3.grid()\n",
    "ax3.set_aspect('equal')\n",
    "ax3.set_title('$\\lambda=800$nm',fontweight='bold',color=\"r\",fontsize=20)\n",
    "#-----\n",
    "ax4.plot(x4, y4,'ko')\n",
    "Showscale2(x4av,y4av,wdt,scalelabel,ax4)\n",
    "Showstat2(x4av,y4av,wdt,x4std,y4std,ax4)\n",
    "circle4 = Circle((x4av, y4av), seeing_radius, linewidth=2,edgecolor='grey', facecolor=(0, 0, 0, .0125))\n",
    "ax4.add_artist(circle4)\n",
    "ax4.set_xlim(x4av-wdt/2,x4av+wdt/2)\n",
    "ax4.set_ylim(y4av-wdt/2,y4av+wdt/2)\n",
    "ax4.set_xlabel('x (mm)',fontweight='bold',fontsize=20)\n",
    "ax4.set_aspect('equal')\n",
    "#ax4.set_ylabel('y (mm)',fontweight='bold')\n",
    "ax4.grid()\n",
    "ax4.set_title('$\\lambda=1\\mu$m',fontweight='bold',color=\"k\",fontsize=20)\n",
    "#plt.suptitle(fulltitle2,fontsize=16,fontweight='bold',y=1.02)\n",
    "\n",
    "\n",
    "plt.tight_layout()\n",
    "plt.subplots_adjust(wspace=0.05)\n",
    "plt.savefig(figname3)"
   ]
  },
  {
   "cell_type": "code",
   "execution_count": 353,
   "metadata": {},
   "outputs": [
    {
     "data": {
      "image/png": "[encoded data removed]",
      "text/plain": [
       "<Figure size 1296x432 with 4 Axes>"
      ]
     },
     "metadata": {
      "needs_background": "light"
     },
     "output_type": "display_data"
    }
   ],
   "source": [
    "f, ((ax1, ax2, ax3, ax4)) = plt.subplots(1, 4,figsize=(18,6),sharey=True)\n",
    "#-----\n",
    "ax1.plot(x1, y1,'bo')\n",
    "#Showscale2(x1av,y1av,wdt,scalelabel,ax1)\n",
    "Showscale3(x1av,y1av,wdt,0.1,\"$100 \\mu m$\",ax1)\n",
    "#Showstat2(x1av,y1av,wdt,x1std,y1std,ax1)\n",
    "Showstat3(x1av,y1av,wdt,fwhmx1,fwhmy1,ax1)\n",
    "circle1 = Circle((x1av-wdt/4, y1av-wdt/2*3/4*(1-1/5)), seeing_radius, linewidth=3,edgecolor='black', facecolor=(0, 0, 0, .0125))\n",
    "ax1.text(x1av-wdt/2*(1-1/5), y1av-wdt/2*3/4*(1-4/5),seeing_str1,fontsize=16, fontweight='bold')\n",
    "ax1.text(x1av-wdt/2*(1-1/5), y1av-wdt/2*3/4*(1-3/5),seeing_str2,fontsize=16, fontweight='bold')\n",
    "ax1.add_artist(circle1)\n",
    "ax1.set_xlim(x1av-wdt/2,x1av+wdt/2)\n",
    "ax1.set_ylim(y1av-wdt/2,y1av+wdt/2)\n",
    "ax1.set_title('$\\lambda=400 nm$',fontweight='bold',color=\"b\",fontsize=20)\n",
    "ax1.set_xlabel('x (mm)',fontweight='bold',fontsize=20)\n",
    "ax1.set_ylabel('y (mm)',fontweight='bold',fontsize=20)\n",
    "ax1.set_aspect('equal')\n",
    "#ax1.grid()\n",
    "#----\n",
    "ax2.plot(x2, y2,'go')\n",
    "#Showscale2(x2av,y2av,wdt,scalelabel,ax2)\n",
    "Showscale3(x2av,y2av,wdt,0.1,\"$100 \\mu m$\",ax2)\n",
    "#Showstat2(x2av,y2av,wdt,x2std,y2std,ax2)  # plot std\n",
    "Showstat3(x2av,y2av,wdt,fwhmx2,fwhmy2,ax2) # plot fwhm\n",
    "#circle2 = Circle((x2av-wdt/4, y2av-wdt/2*3/4), seeing_radius, linewidth=2,edgecolor='grey', facecolor=(0, 0, 0, .0125))\n",
    "#ax2.text(x2av-wdt/2*(1-1/5), y2av-wdt/2*3/4*(1-1/5),seeing_str,fontsize=16, fontweight='bold')\n",
    "#ax2.add_artist(circle2)\n",
    "ax2.set_xlim(x2av-wdt/2,x2av+wdt/2)\n",
    "ax2.set_ylim(y2av-wdt/2,y2av+wdt/2)\n",
    "ax2.set_xlabel('x (mm)',fontweight='bold',fontsize=20)\n",
    "#ax2.set_ylabel('y (mm)',fontweight='bold')\n",
    "#ax2.grid()\n",
    "ax2.set_aspect('equal')\n",
    "ax2.set_title('$\\lambda=600 nm$',fontweight='bold',color=\"g\",fontsize=20)\n",
    "#--------\n",
    "ax3.plot(x3, y3,'ro')\n",
    "#Showscale2(x3av,y3av,wdt,scalelabel,ax3)\n",
    "Showscale3(x3av,y3av,wdt,0.1,\"$100 \\mu m$\",ax3)\n",
    "#Showstat2(x3av,y3av,wdt,x3std,y3std,ax3) # plot sigma\n",
    "Showstat3(x3av,y3av,wdt,fwhmx3,fwhmy3,ax3) # plot fwhm\n",
    "#circle3 = Circle((x3av-wdt/4, y3av-wdt/2*3/4), seeing_radius, linewidth=2,edgecolor='grey', facecolor=(0, 0, 0, .0125))\n",
    "#ax3.text(x3av-wdt/2*(1-1/5), y3av-wdt/2*3/4*(1-1/5),seeing_str,fontsize=16, fontweight='bold')\n",
    "#ax3.add_artist(circle3)\n",
    "ax3.set_xlim(x3av-wdt/2,x3av+wdt/2)\n",
    "ax3.set_ylim(y3av-wdt/2,y3av+wdt/2)\n",
    "ax3.set_xlabel('x (mm)',fontweight='bold',fontsize=20)\n",
    "#ax3.set_ylabel('y (mm)',fontweight='bold')\n",
    "#ax3.grid()\n",
    "ax3.set_aspect('equal')\n",
    "ax3.set_title('$\\lambda=800 nm$',fontweight='bold',color=\"r\",fontsize=20)\n",
    "#-----\n",
    "ax4.plot(x4, y4,'ko')\n",
    "#Showscale2(x4av,y4av,wdt,scalelabel,ax4)\n",
    "Showscale3(x4av,y4av,wdt,0.1,\"$100 \\mu m$\",ax4)\n",
    "#Showstat2(x4av,y4av,wdt,x4std,y4std,ax4) # plt sigma\n",
    "Showstat3(x4av,y4av,wdt,fwhmx4,fwhmy4,ax4) # plot fwhm\n",
    "#circle4 = Circle((x4av-wdt/4, y4av-wdt/2*3/4), seeing_radius, linewidth=2,edgecolor='grey', facecolor=(0, 0, 0, .0125))\n",
    "#ax4.text(x4av-wdt/2*(1-1/5), y4av-wdt/2*3/4*(1-1/5),seeing_str,fontsize=16, fontweight='bold')\n",
    "#ax4.add_artist(circle4)\n",
    "ax4.set_xlim(x4av-wdt/2,x4av+wdt/2)\n",
    "ax4.set_ylim(y4av-wdt/2,y4av+wdt/2)\n",
    "ax4.set_xlabel('x (mm)',fontweight='bold',fontsize=20)\n",
    "ax4.set_aspect('equal')\n",
    "#ax4.set_ylabel('y (mm)',fontweight='bold')\n",
    "#ax4.grid()\n",
    "ax4.set_title('$\\lambda=1\\mu m$',fontweight='bold',color=\"k\",fontsize=20)\n",
    "#plt.suptitle(fulltitle2,fontsize=16,fontweight='bold',y=1.02)\n",
    "\n",
    "\n",
    "plt.tight_layout()\n",
    "plt.subplots_adjust(wspace=0.05)\n",
    "plt.savefig(figname3)"
   ]
  },
  {
   "cell_type": "markdown",
   "metadata": {},
   "source": [
    "# Interpolate"
   ]
  },
  {
   "cell_type": "code",
   "execution_count": 354,
   "metadata": {},
   "outputs": [],
   "source": [
    "def find_nearest_idx(array, value):\n",
    "    array = np.asarray(array)\n",
    "    idx = (np.abs(array - value)).argmin()\n",
    "    return idx"
   ]
  },
  {
   "cell_type": "code",
   "execution_count": 355,
   "metadata": {},
   "outputs": [],
   "source": [
    "from scipy.interpolate import interp1d"
   ]
  },
  {
   "cell_type": "code",
   "execution_count": 356,
   "metadata": {},
   "outputs": [],
   "source": [
    "X=df_out.index.values\n",
    "Y=df_out['xstd'].values*1000 # in microns units"
   ]
  },
  {
   "cell_type": "code",
   "execution_count": 357,
   "metadata": {},
   "outputs": [],
   "source": [
    "X=np.array([400.,600.,800.,1000.])"
   ]
  },
  {
   "cell_type": "code",
   "execution_count": 358,
   "metadata": {},
   "outputs": [],
   "source": [
    "f = interp1d(X, Y, kind='cubic')"
   ]
  },
  {
   "cell_type": "code",
   "execution_count": 359,
   "metadata": {},
   "outputs": [],
   "source": [
    "Xint=np.linspace(X[0],X[-1],100)\n",
    "Yint=f(Xint)"
   ]
  },
  {
   "cell_type": "code",
   "execution_count": 360,
   "metadata": {},
   "outputs": [
    {
     "data": {
      "image/png": "[encoded data removed]",
      "text/plain": [
       "<Figure size 864x576 with 1 Axes>"
      ]
     },
     "metadata": {
      "needs_background": "light"
     },
     "output_type": "display_data"
    }
   ],
   "source": [
    "plt.figure(figsize=(12,8))\n",
    "plt.plot(X,Y,'ro')\n",
    "plt.plot(Xint,Yint,\"r--\")\n",
    "plt.title(\" Beam spot RMS (dispersion axis) \")\n",
    "plt.xlabel(\"$\\lambda$\")\n",
    "plt.ylabel(\"$\\sigma_x$ ($\\mu \\, m$)\")\n",
    "plt.grid()"
   ]
  }
 ],
 "metadata": {
  "anaconda-cloud": {},
  "kernelspec": {
   "display_name": "Python 3",
   "language": "python",
   "name": "python3"
  },
  "language_info": {
   "codemirror_mode": {
    "name": "ipython",
    "version": 3
   },
   "file_extension": ".py",
   "mimetype": "text/x-python",
   "name": "python",
   "nbconvert_exporter": "python",
   "pygments_lexer": "ipython3",
   "version": "3.7.6"
  },
  "toc": {
   "nav_menu": {},
   "number_sections": true,
   "sideBar": true,
   "skip_h1_title": false,
   "toc_cell": false,
   "toc_position": {},
   "toc_section_display": "block",
   "toc_window_display": false
  }
 },
 "nbformat": 4,
 "nbformat_minor": 2
}
