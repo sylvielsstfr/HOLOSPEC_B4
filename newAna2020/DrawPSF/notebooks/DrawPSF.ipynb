{
 "cells": [
  {
   "cell_type": "markdown",
   "metadata": {},
   "source": [
    "# DrawPSF for paper for AuxTel\n",
    "\n",
    "\n",
    "- author : Sylvie Dagoret-Campagne\n",
    "- affiliation : IJCLab/IN2P3/CNRS\n",
    "\n",
    "- creation date : May 18th 2020\n"
   ]
  },
  {
   "cell_type": "code",
   "execution_count": 237,
   "metadata": {},
   "outputs": [],
   "source": [
    "%matplotlib inline\n",
    "import matplotlib.pyplot as plt\n",
    "import numpy as np\n",
    "import os\n",
    "import matplotlib as mpl\n",
    "import pandas as pd\n",
    "import itertools\n",
    "import matplotlib.gridspec as gridspec\n",
    "from matplotlib.patches import Circle,Ellipse"
   ]
  },
  {
   "cell_type": "code",
   "execution_count": 238,
   "metadata": {},
   "outputs": [],
   "source": [
    "# to enlarge the sizes\n",
    "params = {'legend.fontsize': 'x-large',\n",
    "          'figure.figsize': (13, 13),\n",
    "         'axes.labelsize': 'x-large',\n",
    "         'axes.titlesize':'x-large',\n",
    "         'xtick.labelsize':'x-large',\n",
    "         'ytick.labelsize':'x-large',\n",
    "         'font.size': 14}\n",
    "plt.rcParams.update(params)"
   ]
  },
  {
   "cell_type": "markdown",
   "metadata": {},
   "source": [
    "## Constants for conversions"
   ]
  },
  {
   "cell_type": "code",
   "execution_count": 239,
   "metadata": {},
   "outputs": [],
   "source": [
    "m_to_mm=1000.\n",
    "mm_to_m=1e-3\n",
    "inch_to_mm=25.4\n",
    "mm_to_inch=1./inch_to_mm\n",
    "micr_to_m=1e-6\n",
    "micr_to_mm=1e-3\n",
    "m_to_micr=1./micr_to_m\n",
    "m_to_cm=100.\n",
    "m_to_nm=1e9\n",
    "nm_to_m=1./m_to_nm"
   ]
  },
  {
   "cell_type": "code",
   "execution_count": 240,
   "metadata": {},
   "outputs": [],
   "source": [
    "arcdeg_to_arcmin=60.\n",
    "arcmin_to_arcdeg=1./arcdeg_to_arcmin\n",
    "arcmin_to_arcsec=60.\n",
    "arcdeg_to_arcsec=arcdeg_to_arcmin*arcmin_to_arcsec\n",
    "arcsec_to_arcdeg=1./arcdeg_to_arcsec"
   ]
  },
  {
   "cell_type": "code",
   "execution_count": 241,
   "metadata": {},
   "outputs": [],
   "source": [
    "deg_to_rad=np.pi/180."
   ]
  },
  {
   "cell_type": "code",
   "execution_count": 242,
   "metadata": {},
   "outputs": [],
   "source": [
    "rad_to_deg=1./deg_to_rad\n",
    "rad_to_arcsec=rad_to_deg*arcdeg_to_arcsec\n",
    "rad_to_arcmin=rad_to_deg*arcdeg_to_arcmin\n",
    "arcmin_to_rad=1./rad_to_arcmin"
   ]
  },
  {
   "cell_type": "markdown",
   "metadata": {},
   "source": [
    "## Configuration parameters at the telescope"
   ]
  },
  {
   "cell_type": "markdown",
   "metadata": {},
   "source": [
    "#### telescope"
   ]
  },
  {
   "cell_type": "code",
   "execution_count": 243,
   "metadata": {},
   "outputs": [],
   "source": [
    "Tel_Focal_Length=21.6 # m : Focal length of the telescope\n",
    "Tel_Diameter=1.2 # m : Diameter of the telescope    \n",
    "Tel_Fnum=Tel_Focal_Length/Tel_Diameter\n",
    "pltscale=206265/(Tel_Focal_Length*m_to_mm)  # arcsec per mm"
   ]
  },
  {
   "cell_type": "markdown",
   "metadata": {},
   "source": [
    "#### filter"
   ]
  },
  {
   "cell_type": "code",
   "execution_count": 244,
   "metadata": {},
   "outputs": [],
   "source": [
    "Filt_D=0.265 # m distance of the filter position wrt CCD plane\n",
    "Filt_size=3*inch_to_mm"
   ]
  },
  {
   "cell_type": "markdown",
   "metadata": {},
   "source": [
    "#### CCD detector"
   ]
  },
  {
   "cell_type": "code",
   "execution_count": 245,
   "metadata": {},
   "outputs": [],
   "source": [
    "Det_xpic=10.0 # microns per pixel\n",
    "#Det_NbPix=2048 # number of pixels per CCD side\n",
    "Det_NbPix=4096 # number of pixels per CCD side For 400 only\n",
    "Det_size=2*Det_xpic*Det_NbPix*micr_to_mm # CCD size in mm, 5 cm or 2 inch"
   ]
  },
  {
   "cell_type": "markdown",
   "metadata": {},
   "source": [
    "## Input file"
   ]
  },
  {
   "cell_type": "code",
   "execution_count": 246,
   "metadata": {},
   "outputs": [],
   "source": [
    "# number of rays\n",
    "NBEAM_X=11\n",
    "NBEAM_Y=11\n",
    "NBEAM=NBEAM_X*NBEAM_Y\n",
    "NWL=4\n",
    "NBTOT=NBEAM*NWL"
   ]
  },
  {
   "cell_type": "code",
   "execution_count": 247,
   "metadata": {},
   "outputs": [],
   "source": [
    "theta_x=0.  # angle in arcmin\n",
    "theta_y=0.  # angle in arcmin "
   ]
  },
  {
   "cell_type": "code",
   "execution_count": 248,
   "metadata": {},
   "outputs": [],
   "source": [
    "theta_x_num=int(theta_x*10)\n",
    "theta_y_num=int(theta_y*10)"
   ]
  },
  {
   "cell_type": "code",
   "execution_count": 249,
   "metadata": {},
   "outputs": [],
   "source": [
    "if theta_x_num>0:\n",
    "    theta_nstr='{:0>2}'.format(theta_x_num)\n",
    "    theta_x_str=\"p\"+theta_nstr\n",
    "else:\n",
    "    theta_nstr='{:0>2}'.format(-theta_x_num)\n",
    "    theta_x_str=\"m\"+theta_nstr"
   ]
  },
  {
   "cell_type": "code",
   "execution_count": 250,
   "metadata": {},
   "outputs": [],
   "source": [
    "if theta_y_num>0:\n",
    "    theta_nstr='{:0>2}'.format(theta_y_num)\n",
    "    theta_y_str=\"p\"+theta_nstr\n",
    "else:\n",
    "    theta_nstr='{:0>2}'.format(-theta_y_num)\n",
    "    theta_y_str=\"m\"+theta_nstr"
   ]
  },
  {
   "cell_type": "code",
   "execution_count": 251,
   "metadata": {},
   "outputs": [],
   "source": [
    "Beam4_Rayfile=\"Beam4_Rayfile_{:d}_allwl_{}_{}\".format(NBTOT,theta_x_str,theta_y_str)"
   ]
  },
  {
   "cell_type": "code",
   "execution_count": 252,
   "metadata": {},
   "outputs": [
    {
     "data": {
      "text/plain": [
       "'Beam4_Rayfile_484_allwl_m00_m00'"
      ]
     },
     "execution_count": 252,
     "metadata": {},
     "output_type": "execute_result"
    }
   ],
   "source": [
    "Beam4_Rayfile"
   ]
  },
  {
   "cell_type": "code",
   "execution_count": 253,
   "metadata": {},
   "outputs": [],
   "source": [
    "order=\"OP1\"\n",
    "order_str=\"+1\""
   ]
  },
  {
   "cell_type": "markdown",
   "metadata": {},
   "source": [
    "# Read input files"
   ]
  },
  {
   "cell_type": "code",
   "execution_count": 254,
   "metadata": {},
   "outputs": [],
   "source": [
    "FLAG_R350=True # show RON350 instead of R200"
   ]
  },
  {
   "cell_type": "code",
   "execution_count": 255,
   "metadata": {},
   "outputs": [],
   "source": [
    "rayfile_hoe=\"HOE_\"+Beam4_Rayfile+\"_RAY_OUT.xlsx\"\n",
    "rayfile_R150=\"R150_\"+Beam4_Rayfile+\"_RAY_OUT.xlsx\""
   ]
  },
  {
   "cell_type": "code",
   "execution_count": 256,
   "metadata": {},
   "outputs": [],
   "source": [
    "def GetBeamParam(df):\n",
    "    X0C=df[\"X0\"].mean()\n",
    "    Y0C=df[\"Y0\"].mean()\n",
    "    RXMAX=np.max(np.abs(df[\"X0\"].values-X0C))\n",
    "    RYMAX=np.max(np.abs(df[\"Y0\"].values-Y0C))   \n",
    "    RMAX=np.max(np.array([RXMAX,RYMAX]))\n",
    "    return X0C,Y0C,RMAX"
   ]
  },
  {
   "cell_type": "code",
   "execution_count": 257,
   "metadata": {},
   "outputs": [],
   "source": [
    "def Select_Beam(row):\n",
    "    return (row[\"X0\"]-X0C)**2+(row[\"Y0\"]-Y0C)**2 <= RMAX**2"
   ]
  },
  {
   "cell_type": "markdown",
   "metadata": {},
   "source": [
    "## Hologram"
   ]
  },
  {
   "cell_type": "code",
   "execution_count": 258,
   "metadata": {},
   "outputs": [],
   "source": [
    "input_hoe = pd.ExcelFile(rayfile_hoe)\n",
    "df_hoe = input_hoe.parse(index_row=0,header=1)\n",
    "#df_hoe=df_hoe.iloc[0:NBTOT]\n",
    "df_hoe=df_hoe.drop(0)"
   ]
  },
  {
   "cell_type": "code",
   "execution_count": 259,
   "metadata": {},
   "outputs": [],
   "source": [
    "# rename columns otherwise they are not recognize and swap X,Y\n",
    "df_hoe.columns = [\"X0\",\"Y0\",\"Z0\",\"U0\",\"V0\",\"W0\",\"wave\",\"col\",\"X1\",\"Y1\",\"Z1\",\"X2\",\"Y2\",\"Z2\",\"X3\",\"Y3\",\"Z3\",\"Xgoal\",\"Ygoal\",\"Xfinal\",\"Yfinal\",\"Zfinal\",\"Notes\",\"Unnamed\"]"
   ]
  },
  {
   "cell_type": "code",
   "execution_count": 260,
   "metadata": {},
   "outputs": [
    {
     "data": {
      "text/html": [
       "<div>\n",
       "<style scoped>\n",
       "    .dataframe tbody tr th:only-of-type {\n",
       "        vertical-align: middle;\n",
       "    }\n",
       "\n",
       "    .dataframe tbody tr th {\n",
       "        vertical-align: top;\n",
       "    }\n",
       "\n",
       "    .dataframe thead th {\n",
       "        text-align: right;\n",
       "    }\n",
       "</style>\n",
       "<table border=\"1\" class=\"dataframe\">\n",
       "  <thead>\n",
       "    <tr style=\"text-align: right;\">\n",
       "      <th></th>\n",
       "      <th>X0</th>\n",
       "      <th>Y0</th>\n",
       "      <th>Z0</th>\n",
       "      <th>U0</th>\n",
       "      <th>V0</th>\n",
       "      <th>W0</th>\n",
       "      <th>wave</th>\n",
       "      <th>col</th>\n",
       "      <th>X1</th>\n",
       "      <th>Y1</th>\n",
       "      <th>...</th>\n",
       "      <th>X3</th>\n",
       "      <th>Y3</th>\n",
       "      <th>Z3</th>\n",
       "      <th>Xgoal</th>\n",
       "      <th>Ygoal</th>\n",
       "      <th>Xfinal</th>\n",
       "      <th>Yfinal</th>\n",
       "      <th>Zfinal</th>\n",
       "      <th>Notes</th>\n",
       "      <th>Unnamed</th>\n",
       "    </tr>\n",
       "  </thead>\n",
       "  <tbody>\n",
       "    <tr>\n",
       "      <th>1</th>\n",
       "      <td>-7.36016</td>\n",
       "      <td>-7.36016</td>\n",
       "      <td>0</td>\n",
       "      <td>0.0277528</td>\n",
       "      <td>0.0277528</td>\n",
       "      <td>0.999229</td>\n",
       "      <td>0.0004</td>\n",
       "      <td>b</td>\n",
       "      <td>-5.55484</td>\n",
       "      <td>-5.55484</td>\n",
       "      <td>...</td>\n",
       "      <td>12.4006</td>\n",
       "      <td>-0.00625</td>\n",
       "      <td>265</td>\n",
       "      <td>0</td>\n",
       "      <td>0</td>\n",
       "      <td>12.4006</td>\n",
       "      <td>-0.00625</td>\n",
       "      <td>265</td>\n",
       "      <td>OK</td>\n",
       "      <td>3.0</td>\n",
       "    </tr>\n",
       "    <tr>\n",
       "      <th>2</th>\n",
       "      <td>-5.88813</td>\n",
       "      <td>-7.36016</td>\n",
       "      <td>0</td>\n",
       "      <td>0.0222053</td>\n",
       "      <td>0.0277567</td>\n",
       "      <td>0.999368</td>\n",
       "      <td>0.0004</td>\n",
       "      <td>b</td>\n",
       "      <td>-4.44387</td>\n",
       "      <td>-5.55484</td>\n",
       "      <td>...</td>\n",
       "      <td>12.4043</td>\n",
       "      <td>-0.00626</td>\n",
       "      <td>265</td>\n",
       "      <td>0</td>\n",
       "      <td>0</td>\n",
       "      <td>12.4043</td>\n",
       "      <td>-0.00626</td>\n",
       "      <td>265</td>\n",
       "      <td>OK</td>\n",
       "      <td>3.0</td>\n",
       "    </tr>\n",
       "    <tr>\n",
       "      <th>3</th>\n",
       "      <td>-4.4161</td>\n",
       "      <td>-7.36016</td>\n",
       "      <td>0</td>\n",
       "      <td>0.0166558</td>\n",
       "      <td>0.0277596</td>\n",
       "      <td>0.999476</td>\n",
       "      <td>0.0004</td>\n",
       "      <td>b</td>\n",
       "      <td>-3.3329</td>\n",
       "      <td>-5.55484</td>\n",
       "      <td>...</td>\n",
       "      <td>12.408</td>\n",
       "      <td>-0.00631</td>\n",
       "      <td>265</td>\n",
       "      <td>0</td>\n",
       "      <td>0</td>\n",
       "      <td>12.408</td>\n",
       "      <td>-0.00631</td>\n",
       "      <td>265</td>\n",
       "      <td>OK</td>\n",
       "      <td>3.0</td>\n",
       "    </tr>\n",
       "    <tr>\n",
       "      <th>4</th>\n",
       "      <td>-2.94407</td>\n",
       "      <td>-7.36016</td>\n",
       "      <td>0</td>\n",
       "      <td>0.0111047</td>\n",
       "      <td>0.0277618</td>\n",
       "      <td>0.999553</td>\n",
       "      <td>0.0004</td>\n",
       "      <td>b</td>\n",
       "      <td>-2.22194</td>\n",
       "      <td>-5.55484</td>\n",
       "      <td>...</td>\n",
       "      <td>12.4118</td>\n",
       "      <td>-0.00632</td>\n",
       "      <td>265</td>\n",
       "      <td>0</td>\n",
       "      <td>0</td>\n",
       "      <td>12.4118</td>\n",
       "      <td>-0.00632</td>\n",
       "      <td>265</td>\n",
       "      <td>OK</td>\n",
       "      <td>3.0</td>\n",
       "    </tr>\n",
       "    <tr>\n",
       "      <th>5</th>\n",
       "      <td>-1.47203</td>\n",
       "      <td>-7.36016</td>\n",
       "      <td>0</td>\n",
       "      <td>0.0055526</td>\n",
       "      <td>0.0277631</td>\n",
       "      <td>0.999599</td>\n",
       "      <td>0.0004</td>\n",
       "      <td>b</td>\n",
       "      <td>-1.11097</td>\n",
       "      <td>-5.55484</td>\n",
       "      <td>...</td>\n",
       "      <td>12.4155</td>\n",
       "      <td>-0.00634</td>\n",
       "      <td>265</td>\n",
       "      <td>0</td>\n",
       "      <td>0</td>\n",
       "      <td>12.4155</td>\n",
       "      <td>-0.00634</td>\n",
       "      <td>265</td>\n",
       "      <td>OK</td>\n",
       "      <td>3.0</td>\n",
       "    </tr>\n",
       "    <tr>\n",
       "      <th>...</th>\n",
       "      <td>...</td>\n",
       "      <td>...</td>\n",
       "      <td>...</td>\n",
       "      <td>...</td>\n",
       "      <td>...</td>\n",
       "      <td>...</td>\n",
       "      <td>...</td>\n",
       "      <td>...</td>\n",
       "      <td>...</td>\n",
       "      <td>...</td>\n",
       "      <td>...</td>\n",
       "      <td>...</td>\n",
       "      <td>...</td>\n",
       "      <td>...</td>\n",
       "      <td>...</td>\n",
       "      <td>...</td>\n",
       "      <td>...</td>\n",
       "      <td>...</td>\n",
       "      <td>...</td>\n",
       "      <td>...</td>\n",
       "      <td>...</td>\n",
       "    </tr>\n",
       "    <tr>\n",
       "      <th>480</th>\n",
       "      <td>1.47203</td>\n",
       "      <td>7.36016</td>\n",
       "      <td>0</td>\n",
       "      <td>-0.0055526</td>\n",
       "      <td>-0.0277631</td>\n",
       "      <td>0.999599</td>\n",
       "      <td>0.001</td>\n",
       "      <td>k</td>\n",
       "      <td>1.11097</td>\n",
       "      <td>5.55484</td>\n",
       "      <td>...</td>\n",
       "      <td>31.3556</td>\n",
       "      <td>-0.02496</td>\n",
       "      <td>265</td>\n",
       "      <td>0</td>\n",
       "      <td>0</td>\n",
       "      <td>31.3556</td>\n",
       "      <td>-0.02496</td>\n",
       "      <td>265</td>\n",
       "      <td>OK</td>\n",
       "      <td>3.0</td>\n",
       "    </tr>\n",
       "    <tr>\n",
       "      <th>481</th>\n",
       "      <td>2.94407</td>\n",
       "      <td>7.36016</td>\n",
       "      <td>0</td>\n",
       "      <td>-0.0111047</td>\n",
       "      <td>-0.0277618</td>\n",
       "      <td>0.999553</td>\n",
       "      <td>0.001</td>\n",
       "      <td>k</td>\n",
       "      <td>2.22194</td>\n",
       "      <td>5.55484</td>\n",
       "      <td>...</td>\n",
       "      <td>31.3406</td>\n",
       "      <td>-0.02489</td>\n",
       "      <td>265</td>\n",
       "      <td>0</td>\n",
       "      <td>0</td>\n",
       "      <td>31.3406</td>\n",
       "      <td>-0.02489</td>\n",
       "      <td>265</td>\n",
       "      <td>OK</td>\n",
       "      <td>3.0</td>\n",
       "    </tr>\n",
       "    <tr>\n",
       "      <th>482</th>\n",
       "      <td>4.4161</td>\n",
       "      <td>7.36016</td>\n",
       "      <td>0</td>\n",
       "      <td>-0.0166558</td>\n",
       "      <td>-0.0277596</td>\n",
       "      <td>0.999476</td>\n",
       "      <td>0.001</td>\n",
       "      <td>k</td>\n",
       "      <td>3.3329</td>\n",
       "      <td>5.55484</td>\n",
       "      <td>...</td>\n",
       "      <td>31.3257</td>\n",
       "      <td>-0.0248</td>\n",
       "      <td>265</td>\n",
       "      <td>0</td>\n",
       "      <td>0</td>\n",
       "      <td>31.3257</td>\n",
       "      <td>-0.0248</td>\n",
       "      <td>265</td>\n",
       "      <td>OK</td>\n",
       "      <td>3.0</td>\n",
       "    </tr>\n",
       "    <tr>\n",
       "      <th>483</th>\n",
       "      <td>5.88813</td>\n",
       "      <td>7.36016</td>\n",
       "      <td>0</td>\n",
       "      <td>-0.0222053</td>\n",
       "      <td>-0.0277567</td>\n",
       "      <td>0.999368</td>\n",
       "      <td>0.001</td>\n",
       "      <td>k</td>\n",
       "      <td>4.44387</td>\n",
       "      <td>5.55484</td>\n",
       "      <td>...</td>\n",
       "      <td>31.3108</td>\n",
       "      <td>-0.02476</td>\n",
       "      <td>265</td>\n",
       "      <td>0</td>\n",
       "      <td>0</td>\n",
       "      <td>31.3108</td>\n",
       "      <td>-0.02476</td>\n",
       "      <td>265</td>\n",
       "      <td>OK</td>\n",
       "      <td>3.0</td>\n",
       "    </tr>\n",
       "    <tr>\n",
       "      <th>484</th>\n",
       "      <td>7.36016</td>\n",
       "      <td>7.36016</td>\n",
       "      <td>0</td>\n",
       "      <td>-0.0277528</td>\n",
       "      <td>-0.0277528</td>\n",
       "      <td>0.999229</td>\n",
       "      <td>0.001</td>\n",
       "      <td>k</td>\n",
       "      <td>5.55484</td>\n",
       "      <td>5.55484</td>\n",
       "      <td>...</td>\n",
       "      <td>31.2959</td>\n",
       "      <td>-0.02468</td>\n",
       "      <td>265</td>\n",
       "      <td>0</td>\n",
       "      <td>0</td>\n",
       "      <td>31.2959</td>\n",
       "      <td>-0.02468</td>\n",
       "      <td>265</td>\n",
       "      <td>OK</td>\n",
       "      <td>3.0</td>\n",
       "    </tr>\n",
       "  </tbody>\n",
       "</table>\n",
       "<p>484 rows × 24 columns</p>\n",
       "</div>"
      ],
      "text/plain": [
       "          X0       Y0 Z0         U0         V0        W0    wave col       X1  \\\n",
       "1   -7.36016 -7.36016  0  0.0277528  0.0277528  0.999229  0.0004   b -5.55484   \n",
       "2   -5.88813 -7.36016  0  0.0222053  0.0277567  0.999368  0.0004   b -4.44387   \n",
       "3    -4.4161 -7.36016  0  0.0166558  0.0277596  0.999476  0.0004   b  -3.3329   \n",
       "4   -2.94407 -7.36016  0  0.0111047  0.0277618  0.999553  0.0004   b -2.22194   \n",
       "5   -1.47203 -7.36016  0  0.0055526  0.0277631  0.999599  0.0004   b -1.11097   \n",
       "..       ...      ... ..        ...        ...       ...     ...  ..      ...   \n",
       "480  1.47203  7.36016  0 -0.0055526 -0.0277631  0.999599   0.001   k  1.11097   \n",
       "481  2.94407  7.36016  0 -0.0111047 -0.0277618  0.999553   0.001   k  2.22194   \n",
       "482   4.4161  7.36016  0 -0.0166558 -0.0277596  0.999476   0.001   k   3.3329   \n",
       "483  5.88813  7.36016  0 -0.0222053 -0.0277567  0.999368   0.001   k  4.44387   \n",
       "484  7.36016  7.36016  0 -0.0277528 -0.0277528  0.999229   0.001   k  5.55484   \n",
       "\n",
       "          Y1  ...       X3       Y3   Z3 Xgoal Ygoal   Xfinal   Yfinal Zfinal  \\\n",
       "1   -5.55484  ...  12.4006 -0.00625  265     0     0  12.4006 -0.00625    265   \n",
       "2   -5.55484  ...  12.4043 -0.00626  265     0     0  12.4043 -0.00626    265   \n",
       "3   -5.55484  ...   12.408 -0.00631  265     0     0   12.408 -0.00631    265   \n",
       "4   -5.55484  ...  12.4118 -0.00632  265     0     0  12.4118 -0.00632    265   \n",
       "5   -5.55484  ...  12.4155 -0.00634  265     0     0  12.4155 -0.00634    265   \n",
       "..       ...  ...      ...      ...  ...   ...   ...      ...      ...    ...   \n",
       "480  5.55484  ...  31.3556 -0.02496  265     0     0  31.3556 -0.02496    265   \n",
       "481  5.55484  ...  31.3406 -0.02489  265     0     0  31.3406 -0.02489    265   \n",
       "482  5.55484  ...  31.3257  -0.0248  265     0     0  31.3257  -0.0248    265   \n",
       "483  5.55484  ...  31.3108 -0.02476  265     0     0  31.3108 -0.02476    265   \n",
       "484  5.55484  ...  31.2959 -0.02468  265     0     0  31.2959 -0.02468    265   \n",
       "\n",
       "    Notes Unnamed  \n",
       "1      OK     3.0  \n",
       "2      OK     3.0  \n",
       "3      OK     3.0  \n",
       "4      OK     3.0  \n",
       "5      OK     3.0  \n",
       "..    ...     ...  \n",
       "480    OK     3.0  \n",
       "481    OK     3.0  \n",
       "482    OK     3.0  \n",
       "483    OK     3.0  \n",
       "484    OK     3.0  \n",
       "\n",
       "[484 rows x 24 columns]"
      ]
     },
     "execution_count": 260,
     "metadata": {},
     "output_type": "execute_result"
    }
   ],
   "source": [
    "df_hoe"
   ]
  },
  {
   "cell_type": "code",
   "execution_count": 261,
   "metadata": {},
   "outputs": [],
   "source": [
    "X0C,Y0C,RMAX=GetBeamParam(df_hoe)"
   ]
  },
  {
   "cell_type": "code",
   "execution_count": 262,
   "metadata": {},
   "outputs": [],
   "source": [
    "df_filter=df_hoe.copy()\n",
    "df_filter=df_filter.loc[df_filter.apply(Select_Beam, axis=1)]\n",
    "df_filter=df_filter.reset_index()   # reset index\n",
    "df_hoe=df_filter.copy()"
   ]
  },
  {
   "cell_type": "code",
   "execution_count": 263,
   "metadata": {},
   "outputs": [
    {
     "data": {
      "text/plain": [
       "Text(0.5, 0.98, 'HOE :Filtered circular beam')"
      ]
     },
     "execution_count": 263,
     "metadata": {},
     "output_type": "execute_result"
    },
    {
     "data": {
      "image/png": "[encoded data removed]",
      "text/plain": [
       "<Figure size 1296x648 with 2 Axes>"
      ]
     },
     "metadata": {
      "needs_background": "light"
     },
     "output_type": "display_data"
    }
   ],
   "source": [
    "X0=np.array(df_filter[\"X0\"].values,dtype='float64')\n",
    "Y0=np.array(df_filter[\"Y0\"].values,dtype='float64')\n",
    "V0=np.array(df_filter[\"V0\"].values,dtype='float64')\n",
    "U0=np.array(df_filter[\"U0\"].values,dtype='float64')\n",
    "\n",
    "f, ((ax1, ax2)) = plt.subplots(1, 2,figsize=(18,9),sharex=True,sharey=True)\n",
    "df_filter.plot.scatter(x=\"X0\", y=\"Y0\",c=\"DarkBlue\",marker=\"o\",ax=ax1)\n",
    "ax1.set_aspect(\"equal\")\n",
    "ax1.grid()\n",
    "\n",
    "q = ax2.quiver(X0,Y0, U0,V0,color=\"red\")\n",
    "ax2.set_aspect(\"equal\")\n",
    "ax2.set_xlabel(\"X0 (mm)\")\n",
    "ax2.grid()\n",
    "\n",
    "plt.suptitle(\"HOE :Filtered circular beam\")"
   ]
  },
  {
   "cell_type": "markdown",
   "metadata": {},
   "source": [
    "## Ronchi 150"
   ]
  },
  {
   "cell_type": "code",
   "execution_count": 264,
   "metadata": {},
   "outputs": [],
   "source": [
    "input_R150 = pd.ExcelFile(rayfile_R150)\n",
    "df_R150 = input_R150.parse(index_row=0,header=1)\n",
    "#df_R150=df_R150.iloc[0:NBTOT]"
   ]
  },
  {
   "cell_type": "code",
   "execution_count": 265,
   "metadata": {},
   "outputs": [],
   "source": [
    "df_R150=df_R150.drop(0)\n",
    "df_R150 = df_R150.reset_index()"
   ]
  },
  {
   "cell_type": "code",
   "execution_count": 266,
   "metadata": {},
   "outputs": [
    {
     "data": {
      "text/html": [
       "<div>\n",
       "<style scoped>\n",
       "    .dataframe tbody tr th:only-of-type {\n",
       "        vertical-align: middle;\n",
       "    }\n",
       "\n",
       "    .dataframe tbody tr th {\n",
       "        vertical-align: top;\n",
       "    }\n",
       "\n",
       "    .dataframe thead th {\n",
       "        text-align: right;\n",
       "    }\n",
       "</style>\n",
       "<table border=\"1\" class=\"dataframe\">\n",
       "  <thead>\n",
       "    <tr style=\"text-align: right;\">\n",
       "      <th></th>\n",
       "      <th>index</th>\n",
       "      <th>X0</th>\n",
       "      <th>Y0</th>\n",
       "      <th>Z0</th>\n",
       "      <th>U0</th>\n",
       "      <th>V0</th>\n",
       "      <th>W0</th>\n",
       "      <th>wave</th>\n",
       "      <th>col</th>\n",
       "      <th>X1</th>\n",
       "      <th>...</th>\n",
       "      <th>X3</th>\n",
       "      <th>Y3</th>\n",
       "      <th>Z3</th>\n",
       "      <th>Xgoal</th>\n",
       "      <th>Ygoal</th>\n",
       "      <th>Xfinal</th>\n",
       "      <th>Yfinal</th>\n",
       "      <th>Zfinal</th>\n",
       "      <th>Notes</th>\n",
       "      <th>Unnamed: 23</th>\n",
       "    </tr>\n",
       "  </thead>\n",
       "  <tbody>\n",
       "    <tr>\n",
       "      <th>0</th>\n",
       "      <td>1</td>\n",
       "      <td>-7.36016</td>\n",
       "      <td>-7.36016</td>\n",
       "      <td>0</td>\n",
       "      <td>0.0277528</td>\n",
       "      <td>0.0277528</td>\n",
       "      <td>0.999229</td>\n",
       "      <td>0.0004</td>\n",
       "      <td>b</td>\n",
       "      <td>-5.55484</td>\n",
       "      <td>...</td>\n",
       "      <td>12.0102</td>\n",
       "      <td>0.01928</td>\n",
       "      <td>265</td>\n",
       "      <td>0</td>\n",
       "      <td>0</td>\n",
       "      <td>12.0102</td>\n",
       "      <td>0.01928</td>\n",
       "      <td>265</td>\n",
       "      <td>OK</td>\n",
       "      <td>3.0</td>\n",
       "    </tr>\n",
       "    <tr>\n",
       "      <th>1</th>\n",
       "      <td>2</td>\n",
       "      <td>-5.88813</td>\n",
       "      <td>-7.36016</td>\n",
       "      <td>0</td>\n",
       "      <td>0.0222053</td>\n",
       "      <td>0.0277567</td>\n",
       "      <td>0.999368</td>\n",
       "      <td>0.0004</td>\n",
       "      <td>b</td>\n",
       "      <td>-4.44387</td>\n",
       "      <td>...</td>\n",
       "      <td>11.9991</td>\n",
       "      <td>0.01743</td>\n",
       "      <td>265</td>\n",
       "      <td>0</td>\n",
       "      <td>0</td>\n",
       "      <td>11.9991</td>\n",
       "      <td>0.01743</td>\n",
       "      <td>265</td>\n",
       "      <td>OK</td>\n",
       "      <td>3.0</td>\n",
       "    </tr>\n",
       "    <tr>\n",
       "      <th>2</th>\n",
       "      <td>3</td>\n",
       "      <td>-4.4161</td>\n",
       "      <td>-7.36016</td>\n",
       "      <td>0</td>\n",
       "      <td>0.0166558</td>\n",
       "      <td>0.0277596</td>\n",
       "      <td>0.999476</td>\n",
       "      <td>0.0004</td>\n",
       "      <td>b</td>\n",
       "      <td>-3.3329</td>\n",
       "      <td>...</td>\n",
       "      <td>11.9892</td>\n",
       "      <td>0.01554</td>\n",
       "      <td>265</td>\n",
       "      <td>0</td>\n",
       "      <td>0</td>\n",
       "      <td>11.9892</td>\n",
       "      <td>0.01554</td>\n",
       "      <td>265</td>\n",
       "      <td>OK</td>\n",
       "      <td>3.0</td>\n",
       "    </tr>\n",
       "    <tr>\n",
       "      <th>3</th>\n",
       "      <td>4</td>\n",
       "      <td>-2.94407</td>\n",
       "      <td>-7.36016</td>\n",
       "      <td>0</td>\n",
       "      <td>0.0111047</td>\n",
       "      <td>0.0277618</td>\n",
       "      <td>0.999553</td>\n",
       "      <td>0.0004</td>\n",
       "      <td>b</td>\n",
       "      <td>-2.22194</td>\n",
       "      <td>...</td>\n",
       "      <td>11.9804</td>\n",
       "      <td>0.0137</td>\n",
       "      <td>265</td>\n",
       "      <td>0</td>\n",
       "      <td>0</td>\n",
       "      <td>11.9804</td>\n",
       "      <td>0.0137</td>\n",
       "      <td>265</td>\n",
       "      <td>OK</td>\n",
       "      <td>3.0</td>\n",
       "    </tr>\n",
       "    <tr>\n",
       "      <th>4</th>\n",
       "      <td>5</td>\n",
       "      <td>-1.47203</td>\n",
       "      <td>-7.36016</td>\n",
       "      <td>0</td>\n",
       "      <td>0.0055526</td>\n",
       "      <td>0.0277631</td>\n",
       "      <td>0.999599</td>\n",
       "      <td>0.0004</td>\n",
       "      <td>b</td>\n",
       "      <td>-1.11097</td>\n",
       "      <td>...</td>\n",
       "      <td>11.9727</td>\n",
       "      <td>0.01185</td>\n",
       "      <td>265</td>\n",
       "      <td>0</td>\n",
       "      <td>0</td>\n",
       "      <td>11.9727</td>\n",
       "      <td>0.01185</td>\n",
       "      <td>265</td>\n",
       "      <td>OK</td>\n",
       "      <td>3.0</td>\n",
       "    </tr>\n",
       "    <tr>\n",
       "      <th>...</th>\n",
       "      <td>...</td>\n",
       "      <td>...</td>\n",
       "      <td>...</td>\n",
       "      <td>...</td>\n",
       "      <td>...</td>\n",
       "      <td>...</td>\n",
       "      <td>...</td>\n",
       "      <td>...</td>\n",
       "      <td>...</td>\n",
       "      <td>...</td>\n",
       "      <td>...</td>\n",
       "      <td>...</td>\n",
       "      <td>...</td>\n",
       "      <td>...</td>\n",
       "      <td>...</td>\n",
       "      <td>...</td>\n",
       "      <td>...</td>\n",
       "      <td>...</td>\n",
       "      <td>...</td>\n",
       "      <td>...</td>\n",
       "      <td>...</td>\n",
       "    </tr>\n",
       "    <tr>\n",
       "      <th>479</th>\n",
       "      <td>480</td>\n",
       "      <td>1.47203</td>\n",
       "      <td>7.36016</td>\n",
       "      <td>0</td>\n",
       "      <td>-0.0055526</td>\n",
       "      <td>-0.0277631</td>\n",
       "      <td>0.999599</td>\n",
       "      <td>0.001</td>\n",
       "      <td>k</td>\n",
       "      <td>1.11097</td>\n",
       "      <td>...</td>\n",
       "      <td>30.1666</td>\n",
       "      <td>-0.05855</td>\n",
       "      <td>265</td>\n",
       "      <td>0</td>\n",
       "      <td>0</td>\n",
       "      <td>30.1666</td>\n",
       "      <td>-0.05855</td>\n",
       "      <td>265</td>\n",
       "      <td>OK</td>\n",
       "      <td>3.0</td>\n",
       "    </tr>\n",
       "    <tr>\n",
       "      <th>480</th>\n",
       "      <td>481</td>\n",
       "      <td>2.94407</td>\n",
       "      <td>7.36016</td>\n",
       "      <td>0</td>\n",
       "      <td>-0.0111047</td>\n",
       "      <td>-0.0277618</td>\n",
       "      <td>0.999553</td>\n",
       "      <td>0.001</td>\n",
       "      <td>k</td>\n",
       "      <td>2.22194</td>\n",
       "      <td>...</td>\n",
       "      <td>30.1325</td>\n",
       "      <td>-0.0538</td>\n",
       "      <td>265</td>\n",
       "      <td>0</td>\n",
       "      <td>0</td>\n",
       "      <td>30.1325</td>\n",
       "      <td>-0.0538</td>\n",
       "      <td>265</td>\n",
       "      <td>OK</td>\n",
       "      <td>3.0</td>\n",
       "    </tr>\n",
       "    <tr>\n",
       "      <th>481</th>\n",
       "      <td>482</td>\n",
       "      <td>4.4161</td>\n",
       "      <td>7.36016</td>\n",
       "      <td>0</td>\n",
       "      <td>-0.0166558</td>\n",
       "      <td>-0.0277596</td>\n",
       "      <td>0.999476</td>\n",
       "      <td>0.001</td>\n",
       "      <td>k</td>\n",
       "      <td>3.3329</td>\n",
       "      <td>...</td>\n",
       "      <td>30.1014</td>\n",
       "      <td>-0.04905</td>\n",
       "      <td>265</td>\n",
       "      <td>0</td>\n",
       "      <td>0</td>\n",
       "      <td>30.1014</td>\n",
       "      <td>-0.04905</td>\n",
       "      <td>265</td>\n",
       "      <td>OK</td>\n",
       "      <td>3.0</td>\n",
       "    </tr>\n",
       "    <tr>\n",
       "      <th>482</th>\n",
       "      <td>483</td>\n",
       "      <td>5.88813</td>\n",
       "      <td>7.36016</td>\n",
       "      <td>0</td>\n",
       "      <td>-0.0222053</td>\n",
       "      <td>-0.0277567</td>\n",
       "      <td>0.999368</td>\n",
       "      <td>0.001</td>\n",
       "      <td>k</td>\n",
       "      <td>4.44387</td>\n",
       "      <td>...</td>\n",
       "      <td>30.0731</td>\n",
       "      <td>-0.04437</td>\n",
       "      <td>265</td>\n",
       "      <td>0</td>\n",
       "      <td>0</td>\n",
       "      <td>30.0731</td>\n",
       "      <td>-0.04437</td>\n",
       "      <td>265</td>\n",
       "      <td>OK</td>\n",
       "      <td>3.0</td>\n",
       "    </tr>\n",
       "    <tr>\n",
       "      <th>483</th>\n",
       "      <td>484</td>\n",
       "      <td>7.36016</td>\n",
       "      <td>7.36016</td>\n",
       "      <td>0</td>\n",
       "      <td>-0.0277528</td>\n",
       "      <td>-0.0277528</td>\n",
       "      <td>0.999229</td>\n",
       "      <td>0.001</td>\n",
       "      <td>k</td>\n",
       "      <td>5.55484</td>\n",
       "      <td>...</td>\n",
       "      <td>30.0477</td>\n",
       "      <td>-0.03965</td>\n",
       "      <td>265</td>\n",
       "      <td>0</td>\n",
       "      <td>0</td>\n",
       "      <td>30.0477</td>\n",
       "      <td>-0.03965</td>\n",
       "      <td>265</td>\n",
       "      <td>OK</td>\n",
       "      <td>3.0</td>\n",
       "    </tr>\n",
       "  </tbody>\n",
       "</table>\n",
       "<p>484 rows × 25 columns</p>\n",
       "</div>"
      ],
      "text/plain": [
       "     index       X0       Y0 Z0         U0         V0        W0    wave col  \\\n",
       "0        1 -7.36016 -7.36016  0  0.0277528  0.0277528  0.999229  0.0004   b   \n",
       "1        2 -5.88813 -7.36016  0  0.0222053  0.0277567  0.999368  0.0004   b   \n",
       "2        3  -4.4161 -7.36016  0  0.0166558  0.0277596  0.999476  0.0004   b   \n",
       "3        4 -2.94407 -7.36016  0  0.0111047  0.0277618  0.999553  0.0004   b   \n",
       "4        5 -1.47203 -7.36016  0  0.0055526  0.0277631  0.999599  0.0004   b   \n",
       "..     ...      ...      ... ..        ...        ...       ...     ...  ..   \n",
       "479    480  1.47203  7.36016  0 -0.0055526 -0.0277631  0.999599   0.001   k   \n",
       "480    481  2.94407  7.36016  0 -0.0111047 -0.0277618  0.999553   0.001   k   \n",
       "481    482   4.4161  7.36016  0 -0.0166558 -0.0277596  0.999476   0.001   k   \n",
       "482    483  5.88813  7.36016  0 -0.0222053 -0.0277567  0.999368   0.001   k   \n",
       "483    484  7.36016  7.36016  0 -0.0277528 -0.0277528  0.999229   0.001   k   \n",
       "\n",
       "          X1  ...       X3       Y3   Z3 Xgoal Ygoal   Xfinal   Yfinal Zfinal  \\\n",
       "0   -5.55484  ...  12.0102  0.01928  265     0     0  12.0102  0.01928    265   \n",
       "1   -4.44387  ...  11.9991  0.01743  265     0     0  11.9991  0.01743    265   \n",
       "2    -3.3329  ...  11.9892  0.01554  265     0     0  11.9892  0.01554    265   \n",
       "3   -2.22194  ...  11.9804   0.0137  265     0     0  11.9804   0.0137    265   \n",
       "4   -1.11097  ...  11.9727  0.01185  265     0     0  11.9727  0.01185    265   \n",
       "..       ...  ...      ...      ...  ...   ...   ...      ...      ...    ...   \n",
       "479  1.11097  ...  30.1666 -0.05855  265     0     0  30.1666 -0.05855    265   \n",
       "480  2.22194  ...  30.1325  -0.0538  265     0     0  30.1325  -0.0538    265   \n",
       "481   3.3329  ...  30.1014 -0.04905  265     0     0  30.1014 -0.04905    265   \n",
       "482  4.44387  ...  30.0731 -0.04437  265     0     0  30.0731 -0.04437    265   \n",
       "483  5.55484  ...  30.0477 -0.03965  265     0     0  30.0477 -0.03965    265   \n",
       "\n",
       "    Notes Unnamed: 23  \n",
       "0      OK         3.0  \n",
       "1      OK         3.0  \n",
       "2      OK         3.0  \n",
       "3      OK         3.0  \n",
       "4      OK         3.0  \n",
       "..    ...         ...  \n",
       "479    OK         3.0  \n",
       "480    OK         3.0  \n",
       "481    OK         3.0  \n",
       "482    OK         3.0  \n",
       "483    OK         3.0  \n",
       "\n",
       "[484 rows x 25 columns]"
      ]
     },
     "execution_count": 266,
     "metadata": {},
     "output_type": "execute_result"
    }
   ],
   "source": [
    "df_R150"
   ]
  },
  {
   "cell_type": "code",
   "execution_count": 267,
   "metadata": {},
   "outputs": [],
   "source": [
    "X0C,Y0C,RMAX=GetBeamParam(df_R150)"
   ]
  },
  {
   "cell_type": "code",
   "execution_count": 268,
   "metadata": {},
   "outputs": [],
   "source": [
    "df_filter=df_R150.copy()\n",
    "df_filter=df_filter.loc[df_filter.apply(Select_Beam, axis=1)]\n",
    "df_filter=df_filter.reset_index()   # reset index\n",
    "df_R150=df_filter.copy()"
   ]
  },
  {
   "cell_type": "code",
   "execution_count": 269,
   "metadata": {},
   "outputs": [
    {
     "data": {
      "text/plain": [
       "Text(0.5, 0.98, 'R150 :Filtered circular beam')"
      ]
     },
     "execution_count": 269,
     "metadata": {},
     "output_type": "execute_result"
    },
    {
     "data": {
      "image/png": "[encoded data removed]",
      "text/plain": [
       "<Figure size 1296x648 with 2 Axes>"
      ]
     },
     "metadata": {
      "needs_background": "light"
     },
     "output_type": "display_data"
    }
   ],
   "source": [
    "X0=np.array(df_filter[\"X0\"].values,dtype='float64')\n",
    "Y0=np.array(df_filter[\"Y0\"].values,dtype='float64')\n",
    "V0=np.array(df_filter[\"V0\"].values,dtype='float64')\n",
    "U0=np.array(df_filter[\"U0\"].values,dtype='float64')\n",
    "\n",
    "f, ((ax1, ax2)) = plt.subplots(1, 2,figsize=(18,9),sharex=True,sharey=True)\n",
    "df_filter.plot.scatter(x=\"X0\", y=\"Y0\",c=\"DarkBlue\",marker=\"o\",ax=ax1)\n",
    "ax1.set_aspect(\"equal\")\n",
    "ax1.grid()\n",
    "\n",
    "q = ax2.quiver(X0,Y0,U0,V0,color=\"red\")\n",
    "ax2.set_aspect(\"equal\")\n",
    "ax2.set_xlabel(\"X0 (mm)\")\n",
    "ax2.grid()\n",
    "\n",
    "plt.suptitle(\"R150 :Filtered circular beam\")"
   ]
  },
  {
   "cell_type": "markdown",
   "metadata": {},
   "source": [
    "# Choose disperser"
   ]
  },
  {
   "cell_type": "code",
   "execution_count": 270,
   "metadata": {},
   "outputs": [],
   "source": [
    "FLAG_R150 = True\n",
    "FLAG_HOE = False"
   ]
  },
  {
   "cell_type": "code",
   "execution_count": 271,
   "metadata": {},
   "outputs": [
    {
     "data": {
      "text/plain": [
       "'Beam4_Rayfile_484_allwl_m00_m00'"
      ]
     },
     "execution_count": 271,
     "metadata": {},
     "output_type": "execute_result"
    }
   ],
   "source": [
    "Beam4_Rayfile"
   ]
  },
  {
   "cell_type": "code",
   "execution_count": 272,
   "metadata": {},
   "outputs": [],
   "source": [
    "if FLAG_R150:\n",
    "    df=df_R150\n",
    "    outputdata_excel=\"R150_PSF_\"+ Beam4_Rayfile+\"_out.xlsx\"\n",
    "    figname1=\"R150_DISP_\"+  Beam4_Rayfile+\".pdf\"\n",
    "    figname2=\"R150_PSF_\" +   Beam4_Rayfile+\".pdf\"  \n",
    "    figname3=\"R150_PSF_\" +   Beam4_Rayfile+\"_v2.pdf\"  \n",
    "    fulltitle1=\"Ronchi 150 : Dispersion at Focal Plane for angles ({:2.2f} , {:2.2f}) arcmin, order = {}\".format(theta_x,theta_y,order_str)\n",
    "    fulltitle2=\"Ronchi 150 : PSF at Focal Plane for angles ({:2.2f} , {:2.2f}) arcmin, order = {}\".format(theta_x,theta_y,order_str)\n",
    "\n",
    "else:\n",
    "    df=df_hoe\n",
    "    outputdata_excel=\"HOE_PSF_\"+ Beam4_Rayfile+\"_out.xlsx\"\n",
    "    figname1=\"HOE_DISP_\"+  Beam4_Rayfile+\".pdf\"\n",
    "    figname2=\"HOE_PSF_\" +   Beam4_Rayfile+\".pdf\" \n",
    "    figname3=\"HOE_PSF_\" +   Beam4_Rayfile+\"_v2.pdf\"  \n",
    "    fulltitle1=\"HOE : Dispersion at Focal Plane for angles ({:2.2f} , {:2.2f}) arcmin, order = {}\".format(theta_x,theta_y,order_str)\n",
    "    fulltitle=\"HOE : PSF at Focal Plane for angles ({:2.2f} , {:2.2f}) arcmin, order = {}\".format(theta_x,theta_y,order_str)"
   ]
  },
  {
   "cell_type": "markdown",
   "metadata": {},
   "source": [
    "# decoding by wavelength"
   ]
  },
  {
   "cell_type": "code",
   "execution_count": 273,
   "metadata": {},
   "outputs": [],
   "source": [
    "wave=df[\"wave\"]"
   ]
  },
  {
   "cell_type": "code",
   "execution_count": 274,
   "metadata": {},
   "outputs": [],
   "source": [
    "Xfinal=df[\"Xfinal\"].values\n",
    "Yfinal=df[\"Yfinal\"].values"
   ]
  },
  {
   "cell_type": "code",
   "execution_count": 275,
   "metadata": {},
   "outputs": [],
   "source": [
    "selected_indexes1=np.where(wave==0.0004)\n",
    "selected_indexes2=np.where(wave==0.0006)\n",
    "selected_indexes3=np.where(wave==0.0008)\n",
    "selected_indexes4=np.where(wave==0.0010)"
   ]
  },
  {
   "cell_type": "code",
   "execution_count": 276,
   "metadata": {},
   "outputs": [
    {
     "data": {
      "text/plain": [
       "(array([ 0,  1,  2,  3,  4,  5,  6,  7,  8,  9, 10, 11, 12, 13, 14, 15, 16,\n",
       "        17, 18, 19, 20, 21, 22, 23, 24, 25, 26, 27, 28, 29, 30, 31, 32, 33,\n",
       "        34, 35, 36, 37, 38, 39, 40, 41, 42, 43, 44, 45, 46, 47, 48, 49, 50,\n",
       "        51, 52, 53, 54, 55, 56, 57, 58, 59, 60, 61, 62, 63, 64, 65, 66, 67,\n",
       "        68, 69, 70, 71, 72]),)"
      ]
     },
     "execution_count": 276,
     "metadata": {},
     "output_type": "execute_result"
    }
   ],
   "source": [
    "selected_indexes1"
   ]
  },
  {
   "cell_type": "code",
   "execution_count": 277,
   "metadata": {},
   "outputs": [],
   "source": [
    "def GetInfo(a):\n",
    "    a_av=np.mean(a)\n",
    "    a_rms=np.std(a)\n",
    "    a_min=np.min(a)\n",
    "    a_max=np.max(a)\n",
    "    a_width=a_max-a_min\n",
    "    return a_av,a_rms,a_min,a_max,a_width"
   ]
  },
  {
   "cell_type": "code",
   "execution_count": 278,
   "metadata": {},
   "outputs": [],
   "source": [
    "x1=Xfinal[selected_indexes1[0]]\n",
    "y1=Yfinal[selected_indexes1[0]]\n",
    "x1av,x1std,x1min,x1max,x1wdt=GetInfo(x1)\n",
    "y1av,y1std,y1min,y1max,y1wdt=GetInfo(y1)"
   ]
  },
  {
   "cell_type": "code",
   "execution_count": 279,
   "metadata": {},
   "outputs": [],
   "source": [
    "x2=Xfinal[selected_indexes2[0]]\n",
    "y2=Yfinal[selected_indexes2[0]]\n",
    "x2av,x2std,x2min,x2max,x2wdt=GetInfo(x2)\n",
    "y2av,y2std,y2min,y2max,y2wdt=GetInfo(y2)"
   ]
  },
  {
   "cell_type": "code",
   "execution_count": 280,
   "metadata": {},
   "outputs": [],
   "source": [
    "x3=Xfinal[selected_indexes3[0]]\n",
    "y3=Yfinal[selected_indexes3[0]]\n",
    "x3av,x3std,x3min,x3max,x3wdt=GetInfo(x3)\n",
    "y3av,y3std,y3min,y3max,y3wdt=GetInfo(y3)"
   ]
  },
  {
   "cell_type": "code",
   "execution_count": 281,
   "metadata": {},
   "outputs": [],
   "source": [
    "x4=Xfinal[selected_indexes4[0]]\n",
    "y4=Yfinal[selected_indexes4[0]]\n",
    "x4av,x4std,x4min,x4max,x4wdt=GetInfo(x4)\n",
    "y4av,y4std,y4min,y4max,y4wdt=GetInfo(y4)"
   ]
  },
  {
   "cell_type": "code",
   "execution_count": 282,
   "metadata": {},
   "outputs": [],
   "source": [
    "xav=np.array([x1av,x2av,x3av,x4av])\n",
    "xstd=np.array([x1std,x2std,x3std,x4std])\n",
    "xmin=np.array([x1min,x2min,x3min,x4min])\n",
    "xmax=np.array([x1max,x2max,x3max,x4max])\n",
    "xwdt=np.array([x1wdt,x2wdt,x3wdt,x4wdt])\n",
    "yav=np.array([y1av,y2av,y3av,y4av])\n",
    "ystd=np.array([y1std,y2std,y3std,y4std])\n",
    "ymin=np.array([y1min,y2min,y3min,y4min])\n",
    "ymax=np.array([y1max,y2max,y3max,y4max])\n",
    "ywdt=np.array([y1wdt,y2wdt,y3wdt,y4wdt])"
   ]
  },
  {
   "cell_type": "code",
   "execution_count": 283,
   "metadata": {},
   "outputs": [],
   "source": [
    "dataout = {'xav': xav,'xstd' :xstd,'xmin' :xmin,'xmax' :xmax,'xwdt':xwdt,'yav': yav,'ystd' :ystd,'ymin' :ymin,'ymax' :ymax,'ywdt':ywdt}"
   ]
  },
  {
   "cell_type": "code",
   "execution_count": 284,
   "metadata": {},
   "outputs": [],
   "source": [
    "df_out = pd.DataFrame(dataout, index = ['400nm', '600nm', '800nm', '1000nm'])"
   ]
  },
  {
   "cell_type": "code",
   "execution_count": 285,
   "metadata": {},
   "outputs": [
    {
     "data": {
      "text/html": [
       "<div>\n",
       "<style scoped>\n",
       "    .dataframe tbody tr th:only-of-type {\n",
       "        vertical-align: middle;\n",
       "    }\n",
       "\n",
       "    .dataframe tbody tr th {\n",
       "        vertical-align: top;\n",
       "    }\n",
       "\n",
       "    .dataframe thead th {\n",
       "        text-align: right;\n",
       "    }\n",
       "</style>\n",
       "<table border=\"1\" class=\"dataframe\">\n",
       "  <thead>\n",
       "    <tr style=\"text-align: right;\">\n",
       "      <th></th>\n",
       "      <th>xav</th>\n",
       "      <th>xstd</th>\n",
       "      <th>xmin</th>\n",
       "      <th>xmax</th>\n",
       "      <th>xwdt</th>\n",
       "      <th>yav</th>\n",
       "      <th>ystd</th>\n",
       "      <th>ymin</th>\n",
       "      <th>ymax</th>\n",
       "      <th>ywdt</th>\n",
       "    </tr>\n",
       "  </thead>\n",
       "  <tbody>\n",
       "    <tr>\n",
       "      <th>400nm</th>\n",
       "      <td>11.965886</td>\n",
       "      <td>0.014843</td>\n",
       "      <td>11.94547</td>\n",
       "      <td>12.00552</td>\n",
       "      <td>0.06005</td>\n",
       "      <td>-2.376334e-19</td>\n",
       "      <td>0.005094</td>\n",
       "      <td>-0.01095</td>\n",
       "      <td>0.01095</td>\n",
       "      <td>0.02190</td>\n",
       "    </tr>\n",
       "    <tr>\n",
       "      <th>600nm</th>\n",
       "      <td>17.989549</td>\n",
       "      <td>0.033157</td>\n",
       "      <td>17.93619</td>\n",
       "      <td>18.07208</td>\n",
       "      <td>0.13589</td>\n",
       "      <td>1.806013e-18</td>\n",
       "      <td>0.011168</td>\n",
       "      <td>-0.02254</td>\n",
       "      <td>0.02254</td>\n",
       "      <td>0.04508</td>\n",
       "    </tr>\n",
       "    <tr>\n",
       "      <th>800nm</th>\n",
       "      <td>24.062702</td>\n",
       "      <td>0.059151</td>\n",
       "      <td>23.96071</td>\n",
       "      <td>24.20424</td>\n",
       "      <td>0.24353</td>\n",
       "      <td>-2.851600e-19</td>\n",
       "      <td>0.019736</td>\n",
       "      <td>-0.04026</td>\n",
       "      <td>0.04026</td>\n",
       "      <td>0.08052</td>\n",
       "    </tr>\n",
       "    <tr>\n",
       "      <th>1000nm</th>\n",
       "      <td>30.202904</td>\n",
       "      <td>0.093185</td>\n",
       "      <td>30.03592</td>\n",
       "      <td>30.42040</td>\n",
       "      <td>0.38448</td>\n",
       "      <td>3.802134e-19</td>\n",
       "      <td>0.030872</td>\n",
       "      <td>-0.06330</td>\n",
       "      <td>0.06330</td>\n",
       "      <td>0.12660</td>\n",
       "    </tr>\n",
       "  </tbody>\n",
       "</table>\n",
       "</div>"
      ],
      "text/plain": [
       "              xav      xstd      xmin      xmax     xwdt           yav  \\\n",
       "400nm   11.965886  0.014843  11.94547  12.00552  0.06005 -2.376334e-19   \n",
       "600nm   17.989549  0.033157  17.93619  18.07208  0.13589  1.806013e-18   \n",
       "800nm   24.062702  0.059151  23.96071  24.20424  0.24353 -2.851600e-19   \n",
       "1000nm  30.202904  0.093185  30.03592  30.42040  0.38448  3.802134e-19   \n",
       "\n",
       "            ystd     ymin     ymax     ywdt  \n",
       "400nm   0.005094 -0.01095  0.01095  0.02190  \n",
       "600nm   0.011168 -0.02254  0.02254  0.04508  \n",
       "800nm   0.019736 -0.04026  0.04026  0.08052  \n",
       "1000nm  0.030872 -0.06330  0.06330  0.12660  "
      ]
     },
     "execution_count": 285,
     "metadata": {},
     "output_type": "execute_result"
    }
   ],
   "source": [
    "df_out.head()"
   ]
  },
  {
   "cell_type": "code",
   "execution_count": 286,
   "metadata": {},
   "outputs": [],
   "source": [
    "df_out.to_excel(outputdata_excel)"
   ]
  },
  {
   "cell_type": "code",
   "execution_count": 287,
   "metadata": {},
   "outputs": [
    {
     "data": {
      "image/png": "[encoded data removed]",
      "text/plain": [
       "<Figure size 576x576 with 1 Axes>"
      ]
     },
     "metadata": {
      "needs_background": "light"
     },
     "output_type": "display_data"
    }
   ],
   "source": [
    "plt.figure(figsize=(8,8))\n",
    "plt.axhline(y=0,color=\"k\")\n",
    "plt.axvline(x=0,color=\"k\")\n",
    "plt.plot(x1,y1,\"b.\")\n",
    "plt.plot(x2,y2,\"g.\")\n",
    "plt.plot(x3,y3,\"r.\")\n",
    "plt.plot(x4,y4,\"k.\")\n",
    "\n",
    "plt.xlim(-Det_size/2,Det_size/2.)\n",
    "plt.ylim(-Det_size/2,Det_size/2)\n",
    "plt.grid(True)\n",
    "plt.xlabel(\"x (mm)\",fontweight='bold')\n",
    "plt.ylabel(\"y (mm)\",fontweight='bold')\n",
    "\n",
    "plt.title(fulltitle1,fontsize=16,fontweight='bold')\n",
    "plt.savefig(figname1)"
   ]
  },
  {
   "cell_type": "code",
   "execution_count": 288,
   "metadata": {},
   "outputs": [],
   "source": [
    "seeing_radius=1./pltscale/2. # in mm"
   ]
  },
  {
   "cell_type": "code",
   "execution_count": 289,
   "metadata": {},
   "outputs": [
    {
     "data": {
      "text/plain": [
       "0.0523598283761181"
      ]
     },
     "execution_count": 289,
     "metadata": {},
     "output_type": "execute_result"
    }
   ],
   "source": [
    "seeing_radius"
   ]
  },
  {
   "cell_type": "code",
   "execution_count": 290,
   "metadata": {},
   "outputs": [],
   "source": [
    "def Showscale(x,y,w,label,ax):\n",
    "    xmin=x-w/2\n",
    "    xmax=x+w/2\n",
    "    ymin=y-w/2\n",
    "    ymax=y+w/2\n",
    "    xscale=xmax-xmin\n",
    "    yscale=ymax-ymin\n",
    "    ax.axhline(y=y,color=\"k\")\n",
    "    ax.axvline(x=x,color=\"k\")\n",
    "    ax.plot([xmin+xscale*.1,xmin+xscale*.1+wdt/10.],[ymin+yscale*0.8,ymin+yscale*0.8],'k-',lw=2)\n",
    "    ax.text(xmin+xscale*.1, ymin+yscale*0.85, label,fontsize=16, fontweight='bold')"
   ]
  },
  {
   "cell_type": "code",
   "execution_count": 291,
   "metadata": {},
   "outputs": [],
   "source": [
    "def Showscale2(x,y,w,label,ax):\n",
    "    xmin=x-w/2\n",
    "    xmax=x+w/2\n",
    "    ymin=y-w/2\n",
    "    ymax=y+w/2\n",
    "    xscale=xmax-xmin\n",
    "    yscale=ymax-ymin\n",
    "    ax.axhline(y=y,color=\"k\")\n",
    "    ax.axvline(x=x,color=\"k\")\n",
    "    ax.plot([xmax-xscale*.3,xmax-xscale*.3+wdt/10.],[ymin+yscale*0.1,ymin+yscale*0.1],'k-',lw=2)\n",
    "    ax.text(xmax-xscale*.3, ymin+yscale*0.15, label,fontsize=20, fontweight='bold')"
   ]
  },
  {
   "cell_type": "code",
   "execution_count": 292,
   "metadata": {},
   "outputs": [],
   "source": [
    "def Showstat(x,y,w,xstd,ystd,ax):\n",
    "    \n",
    "    xmin=x-w/2\n",
    "    xmax=x+w/2\n",
    "    ymin=y-w/2\n",
    "    ymax=y+w/2\n",
    "    xscale=xmax-xmin\n",
    "    yscale=ymax-ymin\n",
    "    stat_str_x=\"$\\\\sigma_x=${:2.2f} $\\\\mu$ m\".format(xstd*1000)\n",
    "    stat_str_y=\"$\\\\sigma_y=${:2.2f} $\\\\mu$ m\".format(ystd*1000)\n",
    "    print(stat_str_x)\n",
    "    ax.text(xmax-xscale*.4, ymin+yscale*0.85, stat_str_x,fontsize=16, fontweight='bold')\n",
    "    ax.text(xmax-xscale*.4, ymin+yscale*0.80, stat_str_y,fontsize=16, fontweight='bold')"
   ]
  },
  {
   "cell_type": "code",
   "execution_count": 293,
   "metadata": {},
   "outputs": [],
   "source": [
    "def Showstat2(x,y,w,xstd,ystd,ax):\n",
    "    \n",
    "    xmin=x-w/2\n",
    "    xmax=x+w/2\n",
    "    ymin=y-w/2\n",
    "    ymax=y+w/2\n",
    "    xscale=xmax-xmin\n",
    "    yscale=ymax-ymin\n",
    "    stat_str_x=\"$\\\\sigma_x=${:2.2f} $\\\\mu$ m\".format(xstd*1000)\n",
    "    stat_str_y=\"$\\\\sigma_y=${:2.2f} $\\\\mu$ m\".format(ystd*1000)\n",
    "    print(stat_str_x)\n",
    "    ax.text(xmin+xscale*.01, ymin+yscale*0.85, stat_str_x,fontsize=20, fontweight='bold')\n",
    "    ax.text(xmin+xscale*.01, ymin+yscale*0.75, stat_str_y,fontsize=20, fontweight='bold')"
   ]
  },
  {
   "cell_type": "code",
   "execution_count": 294,
   "metadata": {},
   "outputs": [
    {
     "name": "stdout",
     "output_type": "stream",
     "text": [
      "$\\sigma_x=$14.84 $\\mu$ m\n",
      "$\\sigma_x=$33.16 $\\mu$ m\n",
      "$\\sigma_x=$59.15 $\\mu$ m\n",
      "$\\sigma_x=$93.19 $\\mu$ m\n"
     ]
    },
    {
     "data": {
      "image/png": "[encoded data removed]",
      "text/plain": [
       "<Figure size 936x936 with 4 Axes>"
      ]
     },
     "metadata": {
      "needs_background": "light"
     },
     "output_type": "display_data"
    }
   ],
   "source": [
    "wdt=1.00  # with 100 microns\n",
    "scalelabel=\"100 $\\mu$m\"\n",
    "f, ((ax1, ax2), (ax3, ax4)) = plt.subplots(2, 2)\n",
    "ax1.plot(x1, y1,'bo')\n",
    "\n",
    "xmin=x1av-wdt/2\n",
    "xmax=x1av+wdt/2\n",
    "ymin=y1av-wdt/2\n",
    "ymax=y1av+wdt/2\n",
    "xscale=xmax-xmin\n",
    "yscale=ymax-ymin\n",
    "\n",
    "#ax1.plot([xmin+xscale*.1,xmin+xscale*.1+wdt/10.],[ymin+yscale*0.8,ymin+yscale*0.8],'k-',lw=2)\n",
    "#ax1.text(xmin+xscale*.1, ymin+yscale*0.85, scalelabel,fontsize=16, fontweight='bold')\n",
    "\n",
    "Showscale(x1av,y1av,wdt,scalelabel,ax1)\n",
    "Showstat(x1av,y1av,wdt,x1std,y1std,ax1)\n",
    "\n",
    "ax1.set_xlim(x1av-wdt/2,x1av+wdt/2)\n",
    "ax1.set_ylim(y1av-wdt/2,y1av+wdt/2)\n",
    "ax1.set_title('Focal Point Spread : $\\lambda=400$nm',fontweight='bold')\n",
    "ax1.set_xlabel('x (mm)',fontweight='bold')\n",
    "ax1.set_ylabel('y (mm)',fontweight='bold')\n",
    "ax1.grid()\n",
    "#----\n",
    "ax2.plot(x2, y2,'go')\n",
    "Showscale(x2av,y2av,wdt,scalelabel,ax2)\n",
    "Showstat(x2av,y2av,wdt,x2std,y2std,ax2)\n",
    "ax2.set_xlim(x2av-wdt/2,x2av+wdt/2)\n",
    "ax2.set_ylim(y2av-wdt/2,y2av+wdt/2)\n",
    "ax2.set_xlabel('x (mm)',fontweight='bold')\n",
    "ax2.set_ylabel('y (mm)',fontweight='bold')\n",
    "ax2.grid()\n",
    "ax2.set_title('Focal Point Spread : $\\lambda=600$nm',fontweight='bold')\n",
    "#--------\n",
    "ax3.plot(x3, y3,'ro')\n",
    "Showscale(x3av,y3av,wdt,scalelabel,ax3)\n",
    "Showstat(x3av,y3av,wdt,x3std,y3std,ax3)\n",
    "ax3.set_xlim(x3av-wdt/2,x3av+wdt/2)\n",
    "ax3.set_ylim(y3av-wdt/2,y3av+wdt/2)\n",
    "ax3.set_xlabel('x (mm)',fontweight='bold')\n",
    "ax3.set_ylabel('y (mm)',fontweight='bold')\n",
    "ax3.grid()\n",
    "ax3.set_title('Focal Point Spread : $\\lambda=800$nm',fontweight='bold')\n",
    "#-----\n",
    "ax4.plot(x4, y4,'ko')\n",
    "Showscale(x4av,y4av,wdt,scalelabel,ax4)\n",
    "Showstat(x4av,y4av,wdt,x4std,y4std,ax4)\n",
    "ax4.set_xlim(x4av-wdt/2,x4av+wdt/2)\n",
    "ax4.set_ylim(y4av-wdt/2,y4av+wdt/2)\n",
    "ax4.set_xlabel('x (mm)',fontweight='bold')\n",
    "ax4.set_ylabel('y (mm)',fontweight='bold')\n",
    "ax4.grid()\n",
    "ax4.set_title('Focal Point Spread : $\\lambda=1\\mu$m',fontweight='bold')\n",
    "\n",
    "#plt.suptitle(fulltitle2,fontsize=16,fontweight='bold',y=1.02)\n",
    "plt.tight_layout()\n",
    "plt.savefig(figname2)"
   ]
  },
  {
   "cell_type": "code",
   "execution_count": 295,
   "metadata": {},
   "outputs": [
    {
     "name": "stdout",
     "output_type": "stream",
     "text": [
      "$\\sigma_x=$14.84 $\\mu$ m\n",
      "$\\sigma_x=$33.16 $\\mu$ m\n",
      "$\\sigma_x=$59.15 $\\mu$ m\n",
      "$\\sigma_x=$93.19 $\\mu$ m\n"
     ]
    },
    {
     "data": {
      "image/png": "[encoded data removed]",
      "text/plain": [
       "<Figure size 1296x432 with 4 Axes>"
      ]
     },
     "metadata": {
      "needs_background": "light"
     },
     "output_type": "display_data"
    }
   ],
   "source": [
    "f, ((ax1, ax2, ax3, ax4)) = plt.subplots(1, 4,figsize=(18,6),sharey=True)\n",
    "#-----\n",
    "ax1.plot(x1, y1,'bo')\n",
    "Showscale2(x1av,y1av,wdt,scalelabel,ax1)\n",
    "Showstat2(x1av,y1av,wdt,x1std,y1std,ax1)\n",
    "circle1 = Circle((x1av, y1av), seeing_radius, linewidth=2,edgecolor='grey', facecolor=(0, 0, 0, .0125))\n",
    "ax1.add_artist(circle1)\n",
    "ax1.set_xlim(x1av-wdt/2,x1av+wdt/2)\n",
    "ax1.set_ylim(y1av-wdt/2,y1av+wdt/2)\n",
    "ax1.set_title('$\\lambda=400$nm',fontweight='bold',color=\"b\",fontsize=20)\n",
    "ax1.set_xlabel('x (mm)',fontweight='bold',fontsize=20)\n",
    "ax1.set_ylabel('y (mm)',fontweight='bold',fontsize=20)\n",
    "ax1.set_aspect('equal')\n",
    "ax1.grid()\n",
    "#----\n",
    "ax2.plot(x2, y2,'go')\n",
    "Showscale2(x2av,y2av,wdt,scalelabel,ax2)\n",
    "Showstat2(x2av,y2av,wdt,x2std,y2std,ax2)\n",
    "circle2 = Circle((x2av, y2av), seeing_radius, linewidth=2,edgecolor='grey', facecolor=(0, 0, 0, .0125))\n",
    "ax2.add_artist(circle2)\n",
    "ax2.set_xlim(x2av-wdt/2,x2av+wdt/2)\n",
    "ax2.set_ylim(y2av-wdt/2,y2av+wdt/2)\n",
    "ax2.set_xlabel('x (mm)',fontweight='bold',fontsize=20)\n",
    "#ax2.set_ylabel('y (mm)',fontweight='bold')\n",
    "ax2.grid()\n",
    "ax2.set_aspect('equal')\n",
    "ax2.set_title('$\\lambda=600$nm',fontweight='bold',color=\"g\",fontsize=20)\n",
    "#--------\n",
    "ax3.plot(x3, y3,'ro')\n",
    "Showscale2(x3av,y3av,wdt,scalelabel,ax3)\n",
    "Showstat2(x3av,y3av,wdt,x3std,y3std,ax3)\n",
    "circle3 = Circle((x3av, y3av), seeing_radius, linewidth=2,edgecolor='grey', facecolor=(0, 0, 0, .0125))\n",
    "ax3.add_artist(circle3)\n",
    "ax3.set_xlim(x3av-wdt/2,x3av+wdt/2)\n",
    "ax3.set_ylim(y3av-wdt/2,y3av+wdt/2)\n",
    "ax3.set_xlabel('x (mm)',fontweight='bold',fontsize=20)\n",
    "#ax3.set_ylabel('y (mm)',fontweight='bold')\n",
    "ax3.grid()\n",
    "ax3.set_aspect('equal')\n",
    "ax3.set_title('$\\lambda=800$nm',fontweight='bold',color=\"r\",fontsize=20)\n",
    "#-----\n",
    "ax4.plot(x4, y4,'ko')\n",
    "Showscale2(x4av,y4av,wdt,scalelabel,ax4)\n",
    "Showstat2(x4av,y4av,wdt,x4std,y4std,ax4)\n",
    "circle4 = Circle((x4av, y4av), seeing_radius, linewidth=2,edgecolor='grey', facecolor=(0, 0, 0, .0125))\n",
    "ax4.add_artist(circle4)\n",
    "ax4.set_xlim(x4av-wdt/2,x4av+wdt/2)\n",
    "ax4.set_ylim(y4av-wdt/2,y4av+wdt/2)\n",
    "ax4.set_xlabel('x (mm)',fontweight='bold',fontsize=20)\n",
    "ax4.set_aspect('equal')\n",
    "#ax4.set_ylabel('y (mm)',fontweight='bold')\n",
    "ax4.grid()\n",
    "ax4.set_title('$\\lambda=1\\mu$m',fontweight='bold',color=\"k\",fontsize=20)\n",
    "#plt.suptitle(fulltitle2,fontsize=16,fontweight='bold',y=1.02)\n",
    "\n",
    "\n",
    "plt.tight_layout()\n",
    "plt.subplots_adjust(wspace=0.05)\n",
    "plt.savefig(figname3)"
   ]
  },
  {
   "cell_type": "markdown",
   "metadata": {},
   "source": [
    "# Interpolate"
   ]
  },
  {
   "cell_type": "code",
   "execution_count": 296,
   "metadata": {},
   "outputs": [],
   "source": [
    "def find_nearest_idx(array, value):\n",
    "    array = np.asarray(array)\n",
    "    idx = (np.abs(array - value)).argmin()\n",
    "    return idx"
   ]
  },
  {
   "cell_type": "code",
   "execution_count": 297,
   "metadata": {},
   "outputs": [],
   "source": [
    "from scipy.interpolate import interp1d"
   ]
  },
  {
   "cell_type": "code",
   "execution_count": 298,
   "metadata": {},
   "outputs": [],
   "source": [
    "X=df_out.index.values\n",
    "Y=df_out['xstd'].values*1000 # in microns units"
   ]
  },
  {
   "cell_type": "code",
   "execution_count": 299,
   "metadata": {},
   "outputs": [],
   "source": [
    "X=np.array([400.,600.,800.,1000.])"
   ]
  },
  {
   "cell_type": "code",
   "execution_count": 300,
   "metadata": {},
   "outputs": [],
   "source": [
    "f = interp1d(X, Y, kind='cubic')"
   ]
  },
  {
   "cell_type": "code",
   "execution_count": 301,
   "metadata": {},
   "outputs": [],
   "source": [
    "Xint=np.linspace(X[0],X[-1],100)\n",
    "Yint=f(Xint)"
   ]
  },
  {
   "cell_type": "code",
   "execution_count": 302,
   "metadata": {},
   "outputs": [
    {
     "data": {
      "image/png": "[encoded data removed]",
      "text/plain": [
       "<Figure size 864x576 with 1 Axes>"
      ]
     },
     "metadata": {
      "needs_background": "light"
     },
     "output_type": "display_data"
    }
   ],
   "source": [
    "plt.figure(figsize=(12,8))\n",
    "plt.plot(X,Y,'ro')\n",
    "plt.plot(Xint,Yint,\"r--\")\n",
    "plt.title(\" Beam spot RMS (dispersion axis) \")\n",
    "plt.xlabel(\"$\\lambda$\")\n",
    "plt.ylabel(\"$\\sigma_x$ ($\\mu \\, m$)\")\n",
    "plt.grid()"
   ]
  }
 ],
 "metadata": {
  "anaconda-cloud": {},
  "kernelspec": {
   "display_name": "Python 3",
   "language": "python",
   "name": "python3"
  },
  "language_info": {
   "codemirror_mode": {
    "name": "ipython",
    "version": 3
   },
   "file_extension": ".py",
   "mimetype": "text/x-python",
   "name": "python",
   "nbconvert_exporter": "python",
   "pygments_lexer": "ipython3",
   "version": "3.7.6"
  },
  "toc": {
   "nav_menu": {},
   "number_sections": true,
   "sideBar": true,
   "skip_h1_title": false,
   "toc_cell": false,
   "toc_position": {},
   "toc_section_display": "block",
   "toc_window_display": false
  }
 },
 "nbformat": 4,
 "nbformat_minor": 2
}
