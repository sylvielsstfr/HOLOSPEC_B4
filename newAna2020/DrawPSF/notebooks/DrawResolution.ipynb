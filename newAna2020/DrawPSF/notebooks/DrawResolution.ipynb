{
 "cells": [
  {
   "cell_type": "markdown",
   "metadata": {},
   "source": [
    "# DrawResolution for paper\n",
    "\n",
    "\n",
    "- author : Sylvie Dagoret-Campagne\n",
    "- affiliation : IJCLab/IN2P3/CNRS\n",
    "\n",
    "- creation date : May 20th 2020\n",
    "\n"
   ]
  },
  {
   "cell_type": "code",
   "execution_count": 1,
   "metadata": {},
   "outputs": [],
   "source": [
    "%matplotlib inline\n",
    "import matplotlib.pyplot as plt\n",
    "import numpy as np\n",
    "import os\n",
    "import matplotlib as mpl\n",
    "import pandas as pd\n",
    "import itertools\n",
    "import matplotlib.gridspec as gridspec\n",
    "from matplotlib.patches import Circle,Ellipse"
   ]
  },
  {
   "cell_type": "code",
   "execution_count": 2,
   "metadata": {},
   "outputs": [],
   "source": [
    "# to enlarge the sizes\n",
    "params = {'legend.fontsize': 'x-large',\n",
    "          'figure.figsize': (13, 13),\n",
    "         'axes.labelsize': 'x-large',\n",
    "         'axes.titlesize':'x-large',\n",
    "         'xtick.labelsize':'x-large',\n",
    "         'ytick.labelsize':'x-large',\n",
    "         'font.size': 14}\n",
    "plt.rcParams.update(params)"
   ]
  },
  {
   "cell_type": "code",
   "execution_count": 3,
   "metadata": {},
   "outputs": [],
   "source": [
    "from scipy.interpolate import interp1d"
   ]
  },
  {
   "cell_type": "markdown",
   "metadata": {},
   "source": [
    "## Constants for conversions"
   ]
  },
  {
   "cell_type": "code",
   "execution_count": 4,
   "metadata": {},
   "outputs": [],
   "source": [
    "m_to_mm=1000.\n",
    "mm_to_m=1e-3\n",
    "inch_to_mm=25.4\n",
    "mm_to_inch=1./inch_to_mm\n",
    "micr_to_m=1e-6\n",
    "micr_to_mm=1e-3\n",
    "m_to_micr=1./micr_to_m\n",
    "m_to_cm=100.\n",
    "m_to_nm=1e9\n",
    "nm_to_m=1./m_to_nm"
   ]
  },
  {
   "cell_type": "code",
   "execution_count": 5,
   "metadata": {},
   "outputs": [],
   "source": [
    "arcdeg_to_arcmin=60.\n",
    "arcmin_to_arcdeg=1./arcdeg_to_arcmin\n",
    "arcmin_to_arcsec=60.\n",
    "arcdeg_to_arcsec=arcdeg_to_arcmin*arcmin_to_arcsec\n",
    "arcsec_to_arcdeg=1./arcdeg_to_arcsec"
   ]
  },
  {
   "cell_type": "code",
   "execution_count": 6,
   "metadata": {},
   "outputs": [],
   "source": [
    "deg_to_rad=np.pi/180."
   ]
  },
  {
   "cell_type": "code",
   "execution_count": 7,
   "metadata": {},
   "outputs": [],
   "source": [
    "rad_to_deg=1./deg_to_rad\n",
    "rad_to_arcsec=rad_to_deg*arcdeg_to_arcsec\n",
    "rad_to_arcmin=rad_to_deg*arcdeg_to_arcmin\n",
    "arcmin_to_rad=1./rad_to_arcmin"
   ]
  },
  {
   "cell_type": "markdown",
   "metadata": {},
   "source": [
    "## Configuration parameters at the telescope"
   ]
  },
  {
   "cell_type": "markdown",
   "metadata": {},
   "source": [
    "#### telescope"
   ]
  },
  {
   "cell_type": "code",
   "execution_count": 8,
   "metadata": {},
   "outputs": [],
   "source": [
    "Tel_Focal_Length=20.6 # m : Focal length of the telescope\n",
    "Tel_Diameter=1.2 # m : Diameter of the telescope    \n",
    "Tel_Fnum=Tel_Focal_Length/Tel_Diameter\n",
    "plt_scale=206265/(Tel_Focal_Length*m_to_mm)  # arcsec per mm"
   ]
  },
  {
   "cell_type": "markdown",
   "metadata": {},
   "source": [
    "#### filter"
   ]
  },
  {
   "cell_type": "code",
   "execution_count": 9,
   "metadata": {},
   "outputs": [],
   "source": [
    "Filt_D=0.05769 # m distance of the filter position wrt CCD plane\n",
    "Filt_size=3*inch_to_mm"
   ]
  },
  {
   "cell_type": "markdown",
   "metadata": {},
   "source": [
    "#### CCD detector"
   ]
  },
  {
   "cell_type": "code",
   "execution_count": 10,
   "metadata": {},
   "outputs": [],
   "source": [
    "Det_xpic=24.0 # microns per pixel\n",
    "#Det_NbPix=2048 # number of pixels per CCD side\n",
    "Det_NbPix=2512 # number of pixels per CCD side For 400 only\n",
    "Det_size=Det_xpic*Det_NbPix*micr_to_mm # CCD size in mm, 5 cm or 2 inch"
   ]
  },
  {
   "cell_type": "code",
   "execution_count": 11,
   "metadata": {},
   "outputs": [],
   "source": [
    "def find_nearest_idx(array, value):\n",
    "    array = np.asarray(array)\n",
    "    idx = (np.abs(array - value)).argmin()\n",
    "    return idx"
   ]
  },
  {
   "cell_type": "code",
   "execution_count": 12,
   "metadata": {},
   "outputs": [],
   "source": [
    "def Dispersion_Rate(wl,a,D):\n",
    "    \"\"\"\n",
    "    Dispersion_Rate(wl) : number of dx per wavelength\n",
    "    input arguments:\n",
    "    - wl : wavelength\n",
    "    - a  : line pitch\n",
    "    - D  : Distance CCD-Hologram\n",
    "    \n",
    "    recommended : all input arguments should be expressed in microns.\n",
    "    \n",
    "    - output : dx/dlambda, x in microns and lambdas in microns\n",
    "    \n",
    "    \"\"\"\n",
    "    dxdlambda=D/a*(np.sqrt(1-(wl/a)**2)+ (wl/a)**2)/(1-(wl/a)**2)\n",
    "    return dxdlambda "
   ]
  },
  {
   "cell_type": "code",
   "execution_count": 13,
   "metadata": {},
   "outputs": [],
   "source": [
    "#WL=np.arange(300,1000,10)\n",
    "#dXdWL=Dispersion_Rate(WL*1e-3,LINE_PITCH,Z)\n",
    "#disp_rate_micronspermicrons=Dispersion_Rate(WL_microns,LINE_PITCH,Z)"
   ]
  },
  {
   "cell_type": "markdown",
   "metadata": {},
   "source": [
    "## Input file"
   ]
  },
  {
   "cell_type": "code",
   "execution_count": 14,
   "metadata": {},
   "outputs": [],
   "source": [
    "# number of rays\n",
    "NBEAM_X=11\n",
    "NBEAM_Y=11\n",
    "NBEAM=NBEAM_X*NBEAM_Y\n",
    "NWL=4\n",
    "NBTOT=NBEAM*NWL"
   ]
  },
  {
   "cell_type": "code",
   "execution_count": 15,
   "metadata": {},
   "outputs": [],
   "source": [
    "theta_x=0.  # angle in arcmin\n",
    "theta_y=0.  # angle in arcmin "
   ]
  },
  {
   "cell_type": "code",
   "execution_count": 16,
   "metadata": {},
   "outputs": [],
   "source": [
    "theta_x_num=int(theta_x*10)\n",
    "theta_y_num=int(theta_y*10)"
   ]
  },
  {
   "cell_type": "code",
   "execution_count": 17,
   "metadata": {},
   "outputs": [],
   "source": [
    "if theta_x_num>0:\n",
    "    theta_nstr='{:0>2}'.format(theta_x_num)\n",
    "    theta_x_str=\"p\"+theta_nstr\n",
    "else:\n",
    "    theta_nstr='{:0>2}'.format(-theta_x_num)\n",
    "    theta_x_str=\"m\"+theta_nstr"
   ]
  },
  {
   "cell_type": "code",
   "execution_count": 18,
   "metadata": {},
   "outputs": [],
   "source": [
    "if theta_y_num>0:\n",
    "    theta_nstr='{:0>2}'.format(theta_y_num)\n",
    "    theta_y_str=\"p\"+theta_nstr\n",
    "else:\n",
    "    theta_nstr='{:0>2}'.format(-theta_y_num)\n",
    "    theta_y_str=\"m\"+theta_nstr"
   ]
  },
  {
   "cell_type": "code",
   "execution_count": 19,
   "metadata": {},
   "outputs": [],
   "source": [
    "Beam4_Rayfile=\"Beam4_Rayfile_{:d}_allwl_{}_{}\".format(NBTOT,theta_x_str,theta_y_str)"
   ]
  },
  {
   "cell_type": "code",
   "execution_count": 20,
   "metadata": {},
   "outputs": [
    {
     "data": {
      "text/plain": [
       "'Beam4_Rayfile_484_allwl_m00_m00'"
      ]
     },
     "execution_count": 20,
     "metadata": {},
     "output_type": "execute_result"
    }
   ],
   "source": [
    "Beam4_Rayfile"
   ]
  },
  {
   "cell_type": "code",
   "execution_count": 21,
   "metadata": {},
   "outputs": [],
   "source": [
    "order=\"OP1\"\n",
    "order_str=\"+1\""
   ]
  },
  {
   "cell_type": "code",
   "execution_count": 22,
   "metadata": {},
   "outputs": [],
   "source": [
    "WL=np.array([400.,600.,800.,1000.])"
   ]
  },
  {
   "cell_type": "markdown",
   "metadata": {},
   "source": [
    "# Read input files"
   ]
  },
  {
   "cell_type": "code",
   "execution_count": 23,
   "metadata": {},
   "outputs": [],
   "source": [
    "disperser_name=[\"Ronchi 150\",\"Hologram\"]\n",
    "disperser_color=[\"b\",\"r\"]"
   ]
  },
  {
   "cell_type": "code",
   "execution_count": 24,
   "metadata": {},
   "outputs": [],
   "source": [
    "infileR150data_excel=\"R150_PSF_\"+ Beam4_Rayfile+\"_out.xlsx\"\n",
    "infileHOEdata_excel=\"HOE_PSF_\"+ Beam4_Rayfile+\"_out.xlsx\""
   ]
  },
  {
   "cell_type": "code",
   "execution_count": 25,
   "metadata": {},
   "outputs": [],
   "source": [
    "all_files=[infileR150data_excel,infileHOEdata_excel]"
   ]
  },
  {
   "cell_type": "code",
   "execution_count": 26,
   "metadata": {},
   "outputs": [],
   "source": [
    "all_df=[]\n",
    "for file in all_files:\n",
    "    df = pd.read_excel(file,index_col=0)\n",
    "    all_df.append(df)"
   ]
  },
  {
   "cell_type": "code",
   "execution_count": 27,
   "metadata": {},
   "outputs": [
    {
     "data": {
      "text/html": [
       "<div>\n",
       "<style scoped>\n",
       "    .dataframe tbody tr th:only-of-type {\n",
       "        vertical-align: middle;\n",
       "    }\n",
       "\n",
       "    .dataframe tbody tr th {\n",
       "        vertical-align: top;\n",
       "    }\n",
       "\n",
       "    .dataframe thead th {\n",
       "        text-align: right;\n",
       "    }\n",
       "</style>\n",
       "<table border=\"1\" class=\"dataframe\">\n",
       "  <thead>\n",
       "    <tr style=\"text-align: right;\">\n",
       "      <th></th>\n",
       "      <th>xav</th>\n",
       "      <th>xstd</th>\n",
       "      <th>xmin</th>\n",
       "      <th>xmax</th>\n",
       "      <th>xwdt</th>\n",
       "      <th>yav</th>\n",
       "      <th>ystd</th>\n",
       "      <th>ymin</th>\n",
       "      <th>ymax</th>\n",
       "      <th>ywdt</th>\n",
       "    </tr>\n",
       "  </thead>\n",
       "  <tbody>\n",
       "    <tr>\n",
       "      <th>400nm</th>\n",
       "      <td>12.419370</td>\n",
       "      <td>0.011992</td>\n",
       "      <td>12.40051</td>\n",
       "      <td>12.43849</td>\n",
       "      <td>0.03798</td>\n",
       "      <td>-3.584139e-20</td>\n",
       "      <td>0.004024</td>\n",
       "      <td>-0.00647</td>\n",
       "      <td>0.00647</td>\n",
       "      <td>0.01294</td>\n",
       "    </tr>\n",
       "    <tr>\n",
       "      <th>600nm</th>\n",
       "      <td>18.674522</td>\n",
       "      <td>0.002745</td>\n",
       "      <td>18.67029</td>\n",
       "      <td>18.67904</td>\n",
       "      <td>0.00875</td>\n",
       "      <td>4.659381e-20</td>\n",
       "      <td>0.000922</td>\n",
       "      <td>-0.00160</td>\n",
       "      <td>0.00160</td>\n",
       "      <td>0.00320</td>\n",
       "    </tr>\n",
       "    <tr>\n",
       "      <th>800nm</th>\n",
       "      <td>24.985035</td>\n",
       "      <td>0.016927</td>\n",
       "      <td>24.95838</td>\n",
       "      <td>25.01197</td>\n",
       "      <td>0.05359</td>\n",
       "      <td>1.720387e-19</td>\n",
       "      <td>0.005664</td>\n",
       "      <td>-0.00915</td>\n",
       "      <td>0.00915</td>\n",
       "      <td>0.01830</td>\n",
       "    </tr>\n",
       "    <tr>\n",
       "      <th>1000nm</th>\n",
       "      <td>31.370662</td>\n",
       "      <td>0.047413</td>\n",
       "      <td>31.29584</td>\n",
       "      <td>31.44580</td>\n",
       "      <td>0.14996</td>\n",
       "      <td>-7.168279e-19</td>\n",
       "      <td>0.015818</td>\n",
       "      <td>-0.02532</td>\n",
       "      <td>0.02532</td>\n",
       "      <td>0.05064</td>\n",
       "    </tr>\n",
       "  </tbody>\n",
       "</table>\n",
       "</div>"
      ],
      "text/plain": [
       "              xav      xstd      xmin      xmax     xwdt           yav  \\\n",
       "400nm   12.419370  0.011992  12.40051  12.43849  0.03798 -3.584139e-20   \n",
       "600nm   18.674522  0.002745  18.67029  18.67904  0.00875  4.659381e-20   \n",
       "800nm   24.985035  0.016927  24.95838  25.01197  0.05359  1.720387e-19   \n",
       "1000nm  31.370662  0.047413  31.29584  31.44580  0.14996 -7.168279e-19   \n",
       "\n",
       "            ystd     ymin     ymax     ywdt  \n",
       "400nm   0.004024 -0.00647  0.00647  0.01294  \n",
       "600nm   0.000922 -0.00160  0.00160  0.00320  \n",
       "800nm   0.005664 -0.00915  0.00915  0.01830  \n",
       "1000nm  0.015818 -0.02532  0.02532  0.05064  "
      ]
     },
     "execution_count": 27,
     "metadata": {},
     "output_type": "execute_result"
    }
   ],
   "source": [
    "df"
   ]
  },
  {
   "cell_type": "code",
   "execution_count": 28,
   "metadata": {},
   "outputs": [],
   "source": [
    "all_reso= []\n",
    "for df in all_df:\n",
    "    all_reso.append(df[\"xstd\"].values)"
   ]
  },
  {
   "cell_type": "code",
   "execution_count": 29,
   "metadata": {},
   "outputs": [
    {
     "data": {
      "text/plain": [
       "[array([0.019686  , 0.04368278, 0.07773461, 0.12232092]),\n",
       " array([0.0119922 , 0.002745  , 0.01692686, 0.04741272])]"
      ]
     },
     "execution_count": 29,
     "metadata": {},
     "output_type": "execute_result"
    }
   ],
   "source": [
    "all_reso"
   ]
  },
  {
   "cell_type": "markdown",
   "metadata": {},
   "source": [
    "# Interpolate"
   ]
  },
  {
   "cell_type": "code",
   "execution_count": 30,
   "metadata": {},
   "outputs": [],
   "source": [
    "Xint=np.linspace(WL[0],WL[-1],200)"
   ]
  },
  {
   "cell_type": "code",
   "execution_count": 31,
   "metadata": {},
   "outputs": [],
   "source": [
    "all_Yint_mm=[]\n",
    "all_Yint_arcsec=[]\n",
    "for reso in all_reso:\n",
    "    f = interp1d(WL, reso, kind='cubic')\n",
    "    Yint=f(Xint)\n",
    "    all_Yint_mm.append(Yint)\n",
    "    all_Yint_arcsec.append(Yint*plt_scale)"
   ]
  },
  {
   "cell_type": "code",
   "execution_count": 32,
   "metadata": {},
   "outputs": [],
   "source": [
    "# Tableau Colors from the 'T10' categorical palette (the default color cycle): \n",
    "#{'tab:blue', 'tab:orange', 'tab:green', 'tab:red', 'tab:purple', 'tab:brown', 'tab:pink', 'tab:gray', 'tab:olive', \n",
    "#'tab:cyan'} (case-insensitive);"
   ]
  },
  {
   "cell_type": "code",
   "execution_count": 40,
   "metadata": {},
   "outputs": [
    {
     "data": {
      "image/png": "[encoded data removed]",
      "text/plain": [
       "<Figure size 864x576 with 2 Axes>"
      ]
     },
     "metadata": {
      "needs_background": "light"
     },
     "output_type": "display_data"
    }
   ],
   "source": [
    "import numpy as np\n",
    "import matplotlib.pyplot as plt\n",
    "\n",
    "\n",
    "fig, ax1 = plt.subplots(figsize=(12,8))\n",
    "\n",
    "color = 'tab:red'\n",
    "\n",
    "idx=0\n",
    "for Yint in all_Yint_mm: \n",
    "    ax1.plot(WL,all_reso[idx],\"o\",color=disperser_color[idx])\n",
    "    ax1.plot(Xint,Yint,'-',label=disperser_name[idx],color=disperser_color[idx])\n",
    "    idx+=1\n",
    "\n",
    "ax1.set_title(\" Beam spot size (dispersion axis) \")\n",
    "ax1.set_xlabel(\"$\\lambda$\")\n",
    "ax1.set_ylabel(\"$\\sigma_x$ (mm)\",color=color)\n",
    "ax1.grid()\n",
    "ax1.legend()\n",
    "ax1.tick_params(axis='y', labelcolor=color)\n",
    "\n",
    "ax2 = ax1.twinx()  # instantiate a second axes that shares the same x-axis\n",
    "\n",
    "color = 'tab:blue'\n",
    "idx=0\n",
    "for Yint in all_Yint_arcsec: \n",
    "    ax2.plot(WL,all_reso[idx]*plt_scale,\"o\",color=disperser_color[idx])\n",
    "    ax2.plot(Xint,Yint,'-',label=disperser_name[idx],color=disperser_color[idx])\n",
    "    idx+=1\n",
    "\n",
    "\n",
    "ax2.set_ylabel('$\\sigma_x$ (arcsec)', color=color)  # we already handled the x-label with ax1\n",
    "#ax2.plot(t, data2, color=color)\n",
    "ax2.tick_params(axis='y', labelcolor=color)\n",
    "\n",
    "fig.tight_layout()  # otherwise the right y-label is slightly clipped\n",
    "plt.savefig(\"RESOLUTION_PSF_AuxTel.pdf\")\n",
    "plt.show()\n"
   ]
  },
  {
   "cell_type": "code",
   "execution_count": 34,
   "metadata": {},
   "outputs": [],
   "source": [
    "idx=find_nearest_idx(Xint,750)"
   ]
  },
  {
   "cell_type": "code",
   "execution_count": 35,
   "metadata": {},
   "outputs": [
    {
     "data": {
      "text/plain": [
       "0.11565292120958694"
      ]
     },
     "execution_count": 35,
     "metadata": {},
     "output_type": "execute_result"
    }
   ],
   "source": [
    "Yint[idx]"
   ]
  },
  {
   "cell_type": "code",
   "execution_count": 36,
   "metadata": {},
   "outputs": [
    {
     "data": {
      "text/plain": [
       "0.0018967079078372256"
      ]
     },
     "execution_count": 36,
     "metadata": {},
     "output_type": "execute_result"
    }
   ],
   "source": [
    "Yint[idx]*16.4/1000"
   ]
  },
  {
   "cell_type": "code",
   "execution_count": 37,
   "metadata": {},
   "outputs": [],
   "source": [
    "idx=find_nearest_idx(Xint,1000)"
   ]
  },
  {
   "cell_type": "code",
   "execution_count": 38,
   "metadata": {},
   "outputs": [
    {
     "data": {
      "text/plain": [
       "0.4747370780727475"
      ]
     },
     "execution_count": 38,
     "metadata": {},
     "output_type": "execute_result"
    }
   ],
   "source": [
    "Yint[idx]"
   ]
  },
  {
   "cell_type": "code",
   "execution_count": 39,
   "metadata": {},
   "outputs": [
    {
     "data": {
      "text/plain": [
       "0.007785688080393059"
      ]
     },
     "execution_count": 39,
     "metadata": {},
     "output_type": "execute_result"
    }
   ],
   "source": [
    "Yint[idx]*16.4/1000"
   ]
  },
  {
   "cell_type": "code",
   "execution_count": null,
   "metadata": {},
   "outputs": [],
   "source": []
  }
 ],
 "metadata": {
  "anaconda-cloud": {},
  "kernelspec": {
   "display_name": "Python 3",
   "language": "python",
   "name": "python3"
  },
  "language_info": {
   "codemirror_mode": {
    "name": "ipython",
    "version": 3
   },
   "file_extension": ".py",
   "mimetype": "text/x-python",
   "name": "python",
   "nbconvert_exporter": "python",
   "pygments_lexer": "ipython3",
   "version": "3.7.6"
  },
  "toc": {
   "nav_menu": {},
   "number_sections": true,
   "sideBar": true,
   "skip_h1_title": false,
   "toc_cell": false,
   "toc_position": {},
   "toc_section_display": "block",
   "toc_window_display": false
  }
 },
 "nbformat": 4,
 "nbformat_minor": 2
}
